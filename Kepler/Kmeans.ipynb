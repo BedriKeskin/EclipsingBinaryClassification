{
 "cells": [
  {
   "cell_type": "code",
   "execution_count": 1,
   "id": "49173ac3",
   "metadata": {},
   "outputs": [
    {
     "name": "stderr",
     "output_type": "stream",
     "text": [
      "2023-10-23 23:19:52.486824: I tensorflow/core/platform/cpu_feature_guard.cc:182] This TensorFlow binary is optimized to use available CPU instructions in performance-critical operations.\n",
      "To enable the following instructions: AVX2 FMA, in other operations, rebuild TensorFlow with the appropriate compiler flags.\n"
     ]
    }
   ],
   "source": [
    "from tensorflow.keras.applications.inception_v3 import InceptionV3\n",
    "from tensorflow.keras.applications.inception_v3 import preprocess_input\n",
    "from tensorflow.keras.preprocessing import image\n",
    "from tensorflow.keras.preprocessing.image import img_to_array\n",
    "from sklearn.cluster import KMeans\n",
    "import pandas as pd\n",
    "import numpy as np\n",
    "from tqdm import tqdm\n",
    "import os\n",
    "import shutil\n",
    "import matplotlib.pyplot as plt"
   ]
  },
  {
   "cell_type": "code",
   "execution_count": 2,
   "id": "7610434b",
   "metadata": {},
   "outputs": [],
   "source": [
    "def image_feature(direc):\n",
    "    model = InceptionV3(weights='imagenet', include_top=False)\n",
    "    features = []\n",
    "    img_name = []\n",
    "    for idx, i in enumerate(tqdm(direc)):\n",
    "        print(idx, \" image file: \", i)\n",
    "        fname = 'Kepler' + '/' + i\n",
    "        img = image.load_img(fname)  # , target_size=(257, 194))\n",
    "        x = img_to_array(img)\n",
    "        x = np.expand_dims(x, axis=0)\n",
    "        x = preprocess_input(x)\n",
    "        feat = model.predict(x)\n",
    "        feat = feat.flatten()\n",
    "        features.append(feat)\n",
    "        img_name.append(i)\n",
    "    return features, img_name\n"
   ]
  },
  {
   "cell_type": "code",
   "execution_count": 3,
   "id": "2a15b579",
   "metadata": {
    "scrolled": true
   },
   "outputs": [
    {
     "name": "stderr",
     "output_type": "stream",
     "text": [
      "\r",
      "  0%|                                                  | 0/2747 [00:00<?, ?it/s]"
     ]
    },
    {
     "name": "stdout",
     "output_type": "stream",
     "text": [
      "0  image file:  KIC08687088_morp0.51.png\n",
      "1/1 [==============================] - 1s 1s/step\n"
     ]
    },
    {
     "name": "stderr",
     "output_type": "stream",
     "text": [
      "\r",
      "  0%|                                          | 1/2747 [00:01<54:56,  1.20s/it]"
     ]
    },
    {
     "name": "stdout",
     "output_type": "stream",
     "text": [
      "1  image file:  KIC10355671_morp0.95.png\n",
      "1/1 [==============================] - 0s 55ms/step\n",
      "2  image file:  KIC07678434_morp0.1.png\n",
      "1/1 [==============================] - 0s 52ms/step\n"
     ]
    },
    {
     "name": "stderr",
     "output_type": "stream",
     "text": [
      "\r",
      "  0%|                                          | 3/2747 [00:01<17:20,  2.64it/s]"
     ]
    },
    {
     "name": "stdout",
     "output_type": "stream",
     "text": [
      "3  image file:  KIC05802486_morp0.36.png\n",
      "1/1 [==============================] - 0s 52ms/step\n",
      "4  image file:  KIC06531485_morp0.54.png\n",
      "1/1 [==============================] - 0s 53ms/step\n"
     ]
    },
    {
     "name": "stderr",
     "output_type": "stream",
     "text": [
      "\r",
      "  0%|                                          | 5/2747 [00:01<10:33,  4.32it/s]"
     ]
    },
    {
     "name": "stdout",
     "output_type": "stream",
     "text": [
      "5  image file:  KIC06050116_morp0.79.png\n",
      "1/1 [==============================] - 0s 55ms/step\n",
      "6  image file:  KIC06388770_morp0.43.png\n",
      "1/1 [==============================] - 0s 53ms/step\n"
     ]
    },
    {
     "name": "stderr",
     "output_type": "stream",
     "text": [
      "\r",
      "  0%|                                          | 7/2747 [00:01<07:49,  5.83it/s]"
     ]
    },
    {
     "name": "stdout",
     "output_type": "stream",
     "text": [
      "7  image file:  KIC04169521_morp0.93.png\n",
      "1/1 [==============================] - 0s 53ms/step\n",
      "8  image file:  KIC05005618_morp-1.0.png\n",
      "1/1 [==============================] - 0s 54ms/step\n"
     ]
    },
    {
     "name": "stderr",
     "output_type": "stream",
     "text": [
      "\r",
      "  0%|▏                                         | 9/2747 [00:01<06:27,  7.07it/s]"
     ]
    },
    {
     "name": "stdout",
     "output_type": "stream",
     "text": [
      "9  image file:  KIC07336754_morp0.16.png\n",
      "1/1 [==============================] - 0s 56ms/step\n",
      "10  image file:  KIC09408183_morp-1.0.png\n",
      "1/1 [==============================] - 0s 59ms/step\n"
     ]
    },
    {
     "name": "stderr",
     "output_type": "stream",
     "text": [
      "\r",
      "  0%|▏                                        | 11/2747 [00:02<05:46,  7.89it/s]"
     ]
    },
    {
     "name": "stdout",
     "output_type": "stream",
     "text": [
      "11  image file:  KIC09821151_morp0.13.png\n",
      "1/1 [==============================] - 0s 55ms/step\n",
      "12  image file:  KIC09597095_morp0.31.png\n",
      "1/1 [==============================] - 0s 52ms/step\n"
     ]
    },
    {
     "name": "stderr",
     "output_type": "stream",
     "text": [
      "\r",
      "  0%|▏                                        | 13/2747 [00:02<05:16,  8.64it/s]"
     ]
    },
    {
     "name": "stdout",
     "output_type": "stream",
     "text": [
      "13  image file:  KIC05621294_morp0.6.png\n",
      "1/1 [==============================] - 0s 54ms/step\n",
      "14  image file:  KIC04144236_morp0.03.png\n",
      "1/1 [==============================] - 0s 54ms/step\n"
     ]
    },
    {
     "name": "stderr",
     "output_type": "stream",
     "text": [
      "\r",
      "  1%|▏                                        | 15/2747 [00:02<04:54,  9.28it/s]"
     ]
    },
    {
     "name": "stdout",
     "output_type": "stream",
     "text": [
      "15  image file:  KIC09533706_morp0.78.png\n",
      "1/1 [==============================] - 0s 53ms/step\n",
      "16  image file:  KIC08043961_morp0.63.png\n",
      "1/1 [==============================] - 0s 52ms/step\n"
     ]
    },
    {
     "name": "stderr",
     "output_type": "stream",
     "text": [
      "\r",
      "  1%|▎                                        | 17/2747 [00:02<04:36,  9.87it/s]"
     ]
    },
    {
     "name": "stdout",
     "output_type": "stream",
     "text": [
      "17  image file:  KIC08565912_morp0.59.png\n",
      "1/1 [==============================] - 0s 51ms/step\n",
      "18  image file:  KIC12157987_morp0.66.png\n",
      "1/1 [==============================] - 0s 55ms/step\n"
     ]
    },
    {
     "name": "stderr",
     "output_type": "stream",
     "text": [
      "\r",
      "  1%|▎                                        | 19/2747 [00:02<04:26, 10.25it/s]"
     ]
    },
    {
     "name": "stdout",
     "output_type": "stream",
     "text": [
      "19  image file:  KIC08668810_morp0.01.png\n",
      "1/1 [==============================] - 0s 54ms/step\n",
      "20  image file:  KIC09466316_morp0.84.png\n",
      "1/1 [==============================] - 0s 53ms/step\n"
     ]
    },
    {
     "name": "stderr",
     "output_type": "stream",
     "text": [
      "\r",
      "  1%|▎                                        | 21/2747 [00:03<04:19, 10.49it/s]"
     ]
    },
    {
     "name": "stdout",
     "output_type": "stream",
     "text": [
      "21  image file:  KIC11805235_morp0.8.png\n",
      "1/1 [==============================] - 0s 54ms/step\n",
      "22  image file:  KIC06934587_morp0.48.png\n",
      "1/1 [==============================] - 0s 58ms/step\n"
     ]
    },
    {
     "name": "stderr",
     "output_type": "stream",
     "text": [
      "\r",
      "  1%|▎                                        | 23/2747 [00:03<04:17, 10.56it/s]"
     ]
    },
    {
     "name": "stdout",
     "output_type": "stream",
     "text": [
      "23  image file:  KIC04679687_morp0.44.png\n",
      "1/1 [==============================] - 0s 52ms/step\n",
      "24  image file:  KIC04843592_morp0.67.png\n",
      "1/1 [==============================] - 0s 54ms/step\n"
     ]
    },
    {
     "name": "stderr",
     "output_type": "stream",
     "text": [
      "\r",
      "  1%|▎                                        | 25/2747 [00:03<04:12, 10.77it/s]"
     ]
    },
    {
     "name": "stdout",
     "output_type": "stream",
     "text": [
      "25  image file:  KIC08504570_morp0.35.png\n",
      "1/1 [==============================] - 0s 55ms/step\n",
      "26  image file:  KIC06307083_morp0.03.png\n",
      "1/1 [==============================] - 0s 56ms/step\n"
     ]
    },
    {
     "name": "stderr",
     "output_type": "stream",
     "text": [
      "\r",
      "  1%|▍                                        | 27/2747 [00:03<04:12, 10.75it/s]"
     ]
    },
    {
     "name": "stdout",
     "output_type": "stream",
     "text": [
      "27  image file:  KIC05022908_morp0.8.png\n",
      "1/1 [==============================] - 0s 52ms/step\n",
      "28  image file:  KIC11826400_morp0.25.png\n",
      "1/1 [==============================] - 0s 54ms/step\n"
     ]
    },
    {
     "name": "stderr",
     "output_type": "stream",
     "text": [
      "\r",
      "  1%|▍                                        | 29/2747 [00:03<04:10, 10.85it/s]"
     ]
    },
    {
     "name": "stdout",
     "output_type": "stream",
     "text": [
      "29  image file:  KIC07610486_morp0.8.png\n",
      "1/1 [==============================] - 0s 54ms/step\n",
      "30  image file:  KIC10880490_morp0.75.png\n",
      "1/1 [==============================] - 0s 53ms/step\n"
     ]
    },
    {
     "name": "stderr",
     "output_type": "stream",
     "text": [
      "\r",
      "  1%|▍                                        | 31/2747 [00:03<04:18, 10.51it/s]"
     ]
    },
    {
     "name": "stdout",
     "output_type": "stream",
     "text": [
      "31  image file:  KIC04824268_morp0.03.png\n",
      "1/1 [==============================] - 0s 57ms/step\n",
      "32  image file:  KIC03970233_morp0.25.png\n",
      "1/1 [==============================] - 0s 57ms/step\n"
     ]
    },
    {
     "name": "stderr",
     "output_type": "stream",
     "text": [
      "\r",
      "  1%|▍                                        | 33/2747 [00:04<04:16, 10.57it/s]"
     ]
    },
    {
     "name": "stdout",
     "output_type": "stream",
     "text": [
      "33  image file:  KIC04857282_morp0.75.png\n",
      "1/1 [==============================] - 0s 54ms/step\n",
      "34  image file:  KIC06370558_morp-1.0.png\n",
      "1/1 [==============================] - 0s 53ms/step\n"
     ]
    },
    {
     "name": "stderr",
     "output_type": "stream",
     "text": [
      "\r",
      "  1%|▌                                        | 35/2747 [00:04<04:14, 10.66it/s]"
     ]
    },
    {
     "name": "stdout",
     "output_type": "stream",
     "text": [
      "35  image file:  KIC06863840_morp0.31.png\n",
      "1/1 [==============================] - 0s 54ms/step\n",
      "36  image file:  KIC09179531_morp0.28.png\n",
      "1/1 [==============================] - 0s 51ms/step\n"
     ]
    },
    {
     "name": "stderr",
     "output_type": "stream",
     "text": [
      "\r",
      "  1%|▌                                        | 37/2747 [00:04<04:08, 10.89it/s]"
     ]
    },
    {
     "name": "stdout",
     "output_type": "stream",
     "text": [
      "37  image file:  KIC07377422_morp0.16.png\n",
      "1/1 [==============================] - 0s 52ms/step\n",
      "38  image file:  KIC06805146_morp0.16.png\n",
      "1/1 [==============================] - 0s 53ms/step\n"
     ]
    },
    {
     "name": "stderr",
     "output_type": "stream",
     "text": [
      "\r",
      "  1%|▌                                        | 39/2747 [00:04<04:06, 10.98it/s]"
     ]
    },
    {
     "name": "stdout",
     "output_type": "stream",
     "text": [
      "39  image file:  KIC05473556_morp0.21.png\n",
      "1/1 [==============================] - 0s 58ms/step\n",
      "40  image file:  KIC10068383_morp0.19.png\n",
      "1/1 [==============================] - 0s 51ms/step\n"
     ]
    },
    {
     "name": "stderr",
     "output_type": "stream",
     "text": [
      "\r",
      "  1%|▌                                        | 41/2747 [00:04<04:07, 10.93it/s]"
     ]
    },
    {
     "name": "stdout",
     "output_type": "stream",
     "text": [
      "41  image file:  KIC09760531_morp1.0.png\n",
      "1/1 [==============================] - 0s 51ms/step\n",
      "42  image file:  KIC05302006_morp0.97.png\n",
      "1/1 [==============================] - 0s 51ms/step\n"
     ]
    },
    {
     "name": "stderr",
     "output_type": "stream",
     "text": [
      "\r",
      "  2%|▋                                        | 43/2747 [00:05<04:14, 10.64it/s]"
     ]
    },
    {
     "name": "stdout",
     "output_type": "stream",
     "text": [
      "43  image file:  KIC08190613_morp0.91.png\n",
      "1/1 [==============================] - 0s 52ms/step\n",
      "44  image file:  KIC09953894_morp0.74.png\n",
      "1/1 [==============================] - 0s 50ms/step\n"
     ]
    },
    {
     "name": "stderr",
     "output_type": "stream",
     "text": [
      "\r",
      "  2%|▋                                        | 45/2747 [00:05<04:08, 10.86it/s]"
     ]
    },
    {
     "name": "stdout",
     "output_type": "stream",
     "text": [
      "45  image file:  KIC10965963_morp0.22.png\n",
      "1/1 [==============================] - 0s 50ms/step\n",
      "46  image file:  KIC11495766_morp0.1.png\n",
      "1/1 [==============================] - 0s 52ms/step\n"
     ]
    },
    {
     "name": "stderr",
     "output_type": "stream",
     "text": [
      "\r",
      "  2%|▋                                        | 47/2747 [00:05<04:03, 11.11it/s]"
     ]
    },
    {
     "name": "stdout",
     "output_type": "stream",
     "text": [
      "47  image file:  KIC04761060_morp-1.0.png\n",
      "1/1 [==============================] - 0s 52ms/step\n",
      "48  image file:  KIC09551200_morp0.56.png\n",
      "1/1 [==============================] - 0s 52ms/step\n"
     ]
    },
    {
     "name": "stderr",
     "output_type": "stream",
     "text": [
      "\r",
      "  2%|▋                                        | 49/2747 [00:05<04:02, 11.13it/s]"
     ]
    },
    {
     "name": "stdout",
     "output_type": "stream",
     "text": [
      "49  image file:  KIC06362386_morp0.32.png\n",
      "1/1 [==============================] - 0s 54ms/step\n",
      "50  image file:  KIC07831363_morp0.25.png\n",
      "1/1 [==============================] - 0s 52ms/step\n"
     ]
    },
    {
     "name": "stderr",
     "output_type": "stream",
     "text": [
      "\r",
      "  2%|▊                                        | 51/2747 [00:05<03:59, 11.26it/s]"
     ]
    },
    {
     "name": "stdout",
     "output_type": "stream",
     "text": [
      "51  image file:  KIC07765894_morp0.88.png\n",
      "1/1 [==============================] - 0s 52ms/step\n",
      "52  image file:  KIC03834322_morp0.43.png\n",
      "1/1 [==============================] - 0s 52ms/step\n"
     ]
    },
    {
     "name": "stderr",
     "output_type": "stream",
     "text": [
      "\r",
      "  2%|▊                                        | 53/2747 [00:05<03:56, 11.41it/s]"
     ]
    },
    {
     "name": "stdout",
     "output_type": "stream",
     "text": [
      "53  image file:  KIC06197319_morp0.93.png\n",
      "1/1 [==============================] - 0s 53ms/step\n",
      "54  image file:  KIC08958670_morp0.92.png\n",
      "1/1 [==============================] - 0s 52ms/step\n"
     ]
    },
    {
     "name": "stderr",
     "output_type": "stream",
     "text": [
      "\r",
      "  2%|▊                                        | 55/2747 [00:06<03:54, 11.48it/s]"
     ]
    },
    {
     "name": "stdout",
     "output_type": "stream",
     "text": [
      "55  image file:  KIC04253860_morp-1.0.png\n",
      "1/1 [==============================] - 0s 52ms/step\n",
      "56  image file:  KIC03662635_morp0.57.png\n",
      "1/1 [==============================] - 0s 51ms/step\n"
     ]
    },
    {
     "name": "stderr",
     "output_type": "stream",
     "text": [
      "\r",
      "  2%|▊                                        | 57/2747 [00:06<03:56, 11.39it/s]"
     ]
    },
    {
     "name": "stdout",
     "output_type": "stream",
     "text": [
      "57  image file:  KIC06048024_morp0.0.png\n",
      "1/1 [==============================] - 0s 54ms/step\n",
      "58  image file:  KIC04940438_morp0.08.png\n",
      "1/1 [==============================] - 0s 54ms/step\n"
     ]
    },
    {
     "name": "stderr",
     "output_type": "stream",
     "text": [
      "\r",
      "  2%|▉                                        | 59/2747 [00:06<03:56, 11.37it/s]"
     ]
    },
    {
     "name": "stdout",
     "output_type": "stream",
     "text": [
      "59  image file:  KIC05872506_morp0.78.png\n",
      "1/1 [==============================] - 0s 54ms/step\n",
      "60  image file:  KIC08111381_morp0.36.png\n",
      "1/1 [==============================] - 0s 56ms/step\n"
     ]
    },
    {
     "name": "stderr",
     "output_type": "stream",
     "text": [
      "\r",
      "  2%|▉                                        | 61/2747 [00:06<04:01, 11.13it/s]"
     ]
    },
    {
     "name": "stdout",
     "output_type": "stream",
     "text": [
      "61  image file:  KIC08108785_morp0.76.png\n",
      "1/1 [==============================] - 0s 54ms/step\n",
      "62  image file:  KIC07680593_morp0.97.png\n",
      "1/1 [==============================] - 0s 51ms/step\n"
     ]
    },
    {
     "name": "stderr",
     "output_type": "stream",
     "text": [
      "\r",
      "  2%|▉                                        | 63/2747 [00:06<03:59, 11.22it/s]"
     ]
    },
    {
     "name": "stdout",
     "output_type": "stream",
     "text": [
      "63  image file:  KIC09991887_morp0.88.png\n",
      "1/1 [==============================] - 0s 52ms/step\n",
      "64  image file:  KIC02860788_morp0.37.png\n",
      "1/1 [==============================] - 0s 52ms/step\n"
     ]
    },
    {
     "name": "stderr",
     "output_type": "stream",
     "text": [
      "\r",
      "  2%|▉                                        | 65/2747 [00:07<04:11, 10.67it/s]"
     ]
    },
    {
     "name": "stdout",
     "output_type": "stream",
     "text": [
      "65  image file:  KIC10905804_morp0.68.png\n",
      "1/1 [==============================] - 0s 51ms/step\n",
      "66  image file:  KIC08059303_morp0.86.png\n",
      "1/1 [==============================] - 0s 53ms/step\n"
     ]
    },
    {
     "name": "stderr",
     "output_type": "stream",
     "text": [
      "\r",
      "  2%|█                                        | 67/2747 [00:07<04:07, 10.84it/s]"
     ]
    },
    {
     "name": "stdout",
     "output_type": "stream",
     "text": [
      "67  image file:  KIC09886224_morp0.23.png\n",
      "1/1 [==============================] - 0s 53ms/step\n",
      "68  image file:  KIC08106973_morp0.0.png\n",
      "1/1 [==============================] - 0s 58ms/step\n"
     ]
    },
    {
     "name": "stderr",
     "output_type": "stream",
     "text": [
      "\r",
      "  3%|█                                        | 69/2747 [00:07<04:06, 10.86it/s]"
     ]
    },
    {
     "name": "stdout",
     "output_type": "stream",
     "text": [
      "69  image file:  KIC05786545_morp0.75.png\n",
      "1/1 [==============================] - 0s 56ms/step\n",
      "70  image file:  KIC08301013_morp0.38.png\n",
      "1/1 [==============================] - 0s 54ms/step\n"
     ]
    },
    {
     "name": "stderr",
     "output_type": "stream",
     "text": [
      "\r",
      "  3%|█                                        | 71/2747 [00:07<04:06, 10.85it/s]"
     ]
    },
    {
     "name": "stdout",
     "output_type": "stream",
     "text": [
      "71  image file:  KIC08244173_morp0.38.png\n",
      "1/1 [==============================] - 0s 54ms/step\n",
      "72  image file:  KIC08222813_morp0.12.png\n",
      "1/1 [==============================] - 0s 53ms/step\n"
     ]
    },
    {
     "name": "stderr",
     "output_type": "stream",
     "text": [
      "\r",
      "  3%|█                                        | 73/2747 [00:07<04:05, 10.90it/s]"
     ]
    },
    {
     "name": "stdout",
     "output_type": "stream",
     "text": [
      "73  image file:  KIC10686876_morp0.45.png\n",
      "1/1 [==============================] - 0s 54ms/step\n",
      "74  image file:  KIC03749508_morp0.52.png\n",
      "1/1 [==============================] - 0s 54ms/step\n"
     ]
    },
    {
     "name": "stderr",
     "output_type": "stream",
     "text": [
      "\r",
      "  3%|█                                        | 75/2747 [00:07<04:06, 10.86it/s]"
     ]
    },
    {
     "name": "stdout",
     "output_type": "stream",
     "text": [
      "75  image file:  KIC12251650_morp0.03.png\n",
      "1/1 [==============================] - 0s 54ms/step\n",
      "76  image file:  KIC05077994_morp0.67.png\n",
      "1/1 [==============================] - 0s 51ms/step\n"
     ]
    },
    {
     "name": "stderr",
     "output_type": "stream",
     "text": [
      "\r",
      "  3%|█▏                                       | 77/2747 [00:08<04:02, 11.00it/s]"
     ]
    },
    {
     "name": "stdout",
     "output_type": "stream",
     "text": [
      "77  image file:  KIC10338279_morp0.05.png\n",
      "1/1 [==============================] - 0s 53ms/step\n",
      "78  image file:  KIC08381592_morp0.17.png\n",
      "1/1 [==============================] - 0s 53ms/step\n"
     ]
    },
    {
     "name": "stderr",
     "output_type": "stream",
     "text": [
      "\r",
      "  3%|█▏                                       | 79/2747 [00:08<04:01, 11.06it/s]"
     ]
    },
    {
     "name": "stdout",
     "output_type": "stream",
     "text": [
      "79  image file:  KIC02719436_morp0.68.png\n",
      "1/1 [==============================] - 0s 64ms/step\n",
      "80  image file:  KIC04945035_morp0.5.png\n",
      "1/1 [==============================] - 0s 64ms/step\n"
     ]
    },
    {
     "name": "stderr",
     "output_type": "stream",
     "text": [
      "\r",
      "  3%|█▏                                       | 81/2747 [00:08<04:12, 10.54it/s]"
     ]
    },
    {
     "name": "stdout",
     "output_type": "stream",
     "text": [
      "81  image file:  KIC09970396_morp0.09.png\n",
      "1/1 [==============================] - 0s 58ms/step\n",
      "82  image file:  KIC09214712_morp0.0.png\n",
      "1/1 [==============================] - 0s 55ms/step\n"
     ]
    },
    {
     "name": "stderr",
     "output_type": "stream",
     "text": [
      "\r",
      "  3%|█▏                                       | 83/2747 [00:08<04:10, 10.63it/s]"
     ]
    },
    {
     "name": "stdout",
     "output_type": "stream",
     "text": [
      "83  image file:  KIC05703230_morp0.93.png\n",
      "1/1 [==============================] - 0s 56ms/step\n",
      "84  image file:  KIC05196301_morp0.94.png\n",
      "1/1 [==============================] - 0s 55ms/step\n"
     ]
    },
    {
     "name": "stderr",
     "output_type": "stream",
     "text": [
      "\r",
      "  3%|█▎                                       | 85/2747 [00:08<04:16, 10.36it/s]"
     ]
    },
    {
     "name": "stdout",
     "output_type": "stream",
     "text": [
      "85  image file:  KIC05956588_morp0.83.png\n",
      "1/1 [==============================] - 0s 57ms/step\n",
      "86  image file:  KIC05357882_morp0.98.png\n",
      "1/1 [==============================] - 0s 65ms/step\n"
     ]
    },
    {
     "name": "stderr",
     "output_type": "stream",
     "text": [
      "\r",
      "  3%|█▎                                       | 87/2747 [00:09<04:17, 10.34it/s]"
     ]
    },
    {
     "name": "stdout",
     "output_type": "stream",
     "text": [
      "87  image file:  KIC04037428_morp0.14.png\n",
      "1/1 [==============================] - 0s 60ms/step\n",
      "88  image file:  KIC03353233_morp0.75.png\n",
      "1/1 [==============================] - 0s 56ms/step\n"
     ]
    },
    {
     "name": "stderr",
     "output_type": "stream",
     "text": [
      "\r",
      "  3%|█▎                                       | 89/2747 [00:09<04:14, 10.45it/s]"
     ]
    },
    {
     "name": "stdout",
     "output_type": "stream",
     "text": [
      "89  image file:  KIC08912468_morp0.98.png\n",
      "1/1 [==============================] - 0s 55ms/step\n",
      "90  image file:  KIC02831097_morp0.79.png\n",
      "1/1 [==============================] - 0s 60ms/step\n"
     ]
    },
    {
     "name": "stderr",
     "output_type": "stream",
     "text": [
      "\r",
      "  3%|█▎                                       | 91/2747 [00:09<04:11, 10.56it/s]"
     ]
    },
    {
     "name": "stdout",
     "output_type": "stream",
     "text": [
      "91  image file:  KIC12602985_morp0.88.png\n",
      "1/1 [==============================] - 0s 60ms/step\n",
      "92  image file:  KIC03115480_morp0.28.png\n",
      "1/1 [==============================] - 0s 58ms/step\n"
     ]
    },
    {
     "name": "stderr",
     "output_type": "stream",
     "text": [
      "\r",
      "  3%|█▍                                       | 93/2747 [00:09<04:12, 10.49it/s]"
     ]
    },
    {
     "name": "stdout",
     "output_type": "stream",
     "text": [
      "93  image file:  KIC11819135_morp0.57.png\n",
      "1/1 [==============================] - 0s 104ms/step\n",
      "94  image file:  KIC04739194_morp0.56.png\n",
      "1/1 [==============================] - 0s 58ms/step\n"
     ]
    },
    {
     "name": "stderr",
     "output_type": "stream",
     "text": [
      "\r",
      "  3%|█▍                                       | 95/2747 [00:09<04:49,  9.15it/s]"
     ]
    },
    {
     "name": "stdout",
     "output_type": "stream",
     "text": [
      "95  image file:  KIC09016295_morp0.05.png\n",
      "1/1 [==============================] - 0s 87ms/step\n"
     ]
    },
    {
     "name": "stderr",
     "output_type": "stream",
     "text": [
      "\r",
      "  3%|█▍                                       | 96/2747 [00:10<05:02,  8.78it/s]"
     ]
    },
    {
     "name": "stdout",
     "output_type": "stream",
     "text": [
      "96  image file:  KIC08587792_morp0.77.png\n",
      "1/1 [==============================] - 0s 63ms/step\n"
     ]
    },
    {
     "name": "stderr",
     "output_type": "stream",
     "text": [
      "\r",
      "  4%|█▍                                       | 97/2747 [00:10<05:09,  8.56it/s]"
     ]
    },
    {
     "name": "stdout",
     "output_type": "stream",
     "text": [
      "97  image file:  KIC10291683_morp0.91.png\n",
      "1/1 [==============================] - 0s 61ms/step\n",
      "98  image file:  KIC08906676_morp0.95.png\n",
      "1/1 [==============================] - 0s 92ms/step\n"
     ]
    },
    {
     "name": "stderr",
     "output_type": "stream",
     "text": [
      "\r",
      "  4%|█▍                                       | 99/2747 [00:10<05:04,  8.69it/s]"
     ]
    },
    {
     "name": "stdout",
     "output_type": "stream",
     "text": [
      "99  image file:  KIC03557421_morp0.7.png\n",
      "1/1 [==============================] - 0s 57ms/step\n"
     ]
    },
    {
     "name": "stderr",
     "output_type": "stream",
     "text": [
      "\r",
      "  4%|█▍                                      | 100/2747 [00:10<05:11,  8.51it/s]"
     ]
    },
    {
     "name": "stdout",
     "output_type": "stream",
     "text": [
      "100  image file:  KIC05217586_morp0.08.png\n",
      "1/1 [==============================] - 0s 67ms/step\n"
     ]
    },
    {
     "name": "stderr",
     "output_type": "stream",
     "text": [
      "\r",
      "  4%|█▍                                      | 101/2747 [00:10<05:10,  8.51it/s]"
     ]
    },
    {
     "name": "stdout",
     "output_type": "stream",
     "text": [
      "101  image file:  KIC06044064_morp0.54.png\n",
      "1/1 [==============================] - 0s 128ms/step\n"
     ]
    },
    {
     "name": "stderr",
     "output_type": "stream",
     "text": [
      "\r",
      "  4%|█▍                                      | 102/2747 [00:10<05:56,  7.42it/s]"
     ]
    },
    {
     "name": "stdout",
     "output_type": "stream",
     "text": [
      "102  image file:  KIC10874926_morp0.04.png\n",
      "1/1 [==============================] - 0s 80ms/step\n"
     ]
    },
    {
     "name": "stderr",
     "output_type": "stream",
     "text": [
      "\r",
      "  4%|█▍                                      | 103/2747 [00:11<05:52,  7.50it/s]"
     ]
    },
    {
     "name": "stdout",
     "output_type": "stream",
     "text": [
      "103  image file:  KIC07552344_morp0.27.png\n",
      "1/1 [==============================] - 0s 100ms/step\n"
     ]
    },
    {
     "name": "stderr",
     "output_type": "stream",
     "text": [
      "\r",
      "  4%|█▌                                      | 104/2747 [00:11<06:14,  7.06it/s]"
     ]
    },
    {
     "name": "stdout",
     "output_type": "stream",
     "text": [
      "104  image file:  KIC04055765_morp0.1.png\n",
      "1/1 [==============================] - 0s 81ms/step\n"
     ]
    },
    {
     "name": "stderr",
     "output_type": "stream",
     "text": [
      "\r",
      "  4%|█▌                                      | 105/2747 [00:11<06:22,  6.91it/s]"
     ]
    },
    {
     "name": "stdout",
     "output_type": "stream",
     "text": [
      "105  image file:  KIC09761882_morp0.06.png\n",
      "1/1 [==============================] - 0s 84ms/step\n"
     ]
    },
    {
     "name": "stderr",
     "output_type": "stream",
     "text": [
      "\r",
      "  4%|█▌                                      | 106/2747 [00:11<07:21,  5.98it/s]"
     ]
    },
    {
     "name": "stdout",
     "output_type": "stream",
     "text": [
      "106  image file:  KIC10549576_morp0.2.png\n",
      "1/1 [==============================] - 0s 76ms/step\n"
     ]
    },
    {
     "name": "stderr",
     "output_type": "stream",
     "text": [
      "\r",
      "  4%|█▌                                      | 107/2747 [00:11<06:57,  6.33it/s]"
     ]
    },
    {
     "name": "stdout",
     "output_type": "stream",
     "text": [
      "107  image file:  KIC08016211_morp0.53.png\n",
      "1/1 [==============================] - 0s 62ms/step\n"
     ]
    },
    {
     "name": "stderr",
     "output_type": "stream",
     "text": [
      "\r",
      "  4%|█▌                                      | 108/2747 [00:11<06:14,  7.05it/s]"
     ]
    },
    {
     "name": "stdout",
     "output_type": "stream",
     "text": [
      "108  image file:  KIC04737267_morp0.33.png\n",
      "1/1 [==============================] - 0s 74ms/step\n"
     ]
    },
    {
     "name": "stderr",
     "output_type": "stream",
     "text": [
      "\r",
      "  4%|█▌                                      | 109/2747 [00:11<05:53,  7.47it/s]"
     ]
    },
    {
     "name": "stdout",
     "output_type": "stream",
     "text": [
      "109  image file:  KIC06634112_morp0.07.png\n",
      "1/1 [==============================] - 0s 209ms/step\n"
     ]
    },
    {
     "name": "stderr",
     "output_type": "stream",
     "text": [
      "\r",
      "  4%|█▌                                      | 110/2747 [00:12<07:27,  5.89it/s]"
     ]
    },
    {
     "name": "stdout",
     "output_type": "stream",
     "text": [
      "110  image file:  KIC11303811_morp0.85.png\n",
      "1/1 [==============================] - 0s 103ms/step\n"
     ]
    },
    {
     "name": "stderr",
     "output_type": "stream",
     "text": [
      "\r",
      "  4%|█▌                                      | 111/2747 [00:12<07:30,  5.85it/s]"
     ]
    },
    {
     "name": "stdout",
     "output_type": "stream",
     "text": [
      "111  image file:  KIC09032900_morp0.22.png\n",
      "1/1 [==============================] - 0s 92ms/step\n"
     ]
    },
    {
     "name": "stderr",
     "output_type": "stream",
     "text": [
      "\r",
      "  4%|█▋                                      | 112/2747 [00:12<07:39,  5.74it/s]"
     ]
    },
    {
     "name": "stdout",
     "output_type": "stream",
     "text": [
      "112  image file:  KIC10322582_morp0.88.png\n",
      "1/1 [==============================] - 0s 96ms/step\n"
     ]
    },
    {
     "name": "stderr",
     "output_type": "stream",
     "text": [
      "\r",
      "  4%|█▋                                      | 113/2747 [00:12<08:15,  5.32it/s]"
     ]
    },
    {
     "name": "stdout",
     "output_type": "stream",
     "text": [
      "113  image file:  KIC02719873_morp0.07.png\n",
      "1/1 [==============================] - 0s 81ms/step\n"
     ]
    },
    {
     "name": "stderr",
     "output_type": "stream",
     "text": [
      "\r",
      "  4%|█▋                                      | 114/2747 [00:12<08:25,  5.21it/s]"
     ]
    },
    {
     "name": "stdout",
     "output_type": "stream",
     "text": [
      "114  image file:  KIC12305537_morp0.77.png\n",
      "1/1 [==============================] - 0s 113ms/step\n"
     ]
    },
    {
     "name": "stderr",
     "output_type": "stream",
     "text": [
      "\r",
      "  4%|█▋                                      | 115/2747 [00:13<09:06,  4.81it/s]"
     ]
    },
    {
     "name": "stdout",
     "output_type": "stream",
     "text": [
      "115  image file:  KIC09344623_morp0.15.png\n",
      "1/1 [==============================] - 0s 69ms/step\n"
     ]
    },
    {
     "name": "stderr",
     "output_type": "stream",
     "text": [
      "\r",
      "  4%|█▋                                      | 116/2747 [00:13<08:00,  5.48it/s]"
     ]
    },
    {
     "name": "stdout",
     "output_type": "stream",
     "text": [
      "116  image file:  KIC08760135_morp0.01.png\n",
      "1/1 [==============================] - 0s 100ms/step\n"
     ]
    },
    {
     "name": "stderr",
     "output_type": "stream",
     "text": [
      "\r",
      "  4%|█▋                                      | 117/2747 [00:13<08:26,  5.19it/s]"
     ]
    },
    {
     "name": "stdout",
     "output_type": "stream",
     "text": [
      "117  image file:  KIC08129189_morp0.09.png\n",
      "1/1 [==============================] - 0s 160ms/step\n"
     ]
    },
    {
     "name": "stderr",
     "output_type": "stream",
     "text": [
      "\r",
      "  4%|█▋                                      | 118/2747 [00:13<08:56,  4.90it/s]"
     ]
    },
    {
     "name": "stdout",
     "output_type": "stream",
     "text": [
      "118  image file:  KIC10877703_morp0.8.png\n",
      "1/1 [==============================] - 0s 57ms/step\n"
     ]
    },
    {
     "name": "stderr",
     "output_type": "stream",
     "text": [
      "\r",
      "  4%|█▋                                      | 119/2747 [00:13<07:41,  5.70it/s]"
     ]
    },
    {
     "name": "stdout",
     "output_type": "stream",
     "text": [
      "119  image file:  KIC10798838_morp0.01.png\n",
      "1/1 [==============================] - 0s 75ms/step\n"
     ]
    },
    {
     "name": "stderr",
     "output_type": "stream",
     "text": [
      "\r",
      "  4%|█▋                                      | 120/2747 [00:13<06:56,  6.31it/s]"
     ]
    },
    {
     "name": "stdout",
     "output_type": "stream",
     "text": [
      "120  image file:  KIC08211824_morp0.59.png\n",
      "1/1 [==============================] - 0s 70ms/step\n"
     ]
    },
    {
     "name": "stderr",
     "output_type": "stream",
     "text": [
      "\r",
      "  4%|█▊                                      | 121/2747 [00:14<06:34,  6.65it/s]"
     ]
    },
    {
     "name": "stdout",
     "output_type": "stream",
     "text": [
      "121  image file:  KIC05211385_morp0.9.png\n",
      "1/1 [==============================] - 0s 73ms/step\n"
     ]
    },
    {
     "name": "stderr",
     "output_type": "stream",
     "text": [
      "\r",
      "  4%|█▊                                      | 122/2747 [00:14<06:15,  6.98it/s]"
     ]
    },
    {
     "name": "stdout",
     "output_type": "stream",
     "text": [
      "122  image file:  KIC04459068_morp-1.0.png\n",
      "1/1 [==============================] - 0s 68ms/step\n"
     ]
    },
    {
     "name": "stderr",
     "output_type": "stream",
     "text": [
      "\r",
      "  4%|█▊                                      | 123/2747 [00:14<05:53,  7.42it/s]"
     ]
    },
    {
     "name": "stdout",
     "output_type": "stream",
     "text": [
      "123  image file:  KIC06058875_morp0.51.png\n",
      "1/1 [==============================] - 0s 60ms/step\n",
      "124  image file:  KIC07289157_morp0.37.png\n",
      "1/1 [==============================] - 0s 76ms/step\n"
     ]
    },
    {
     "name": "stderr",
     "output_type": "stream",
     "text": [
      "\r",
      "  5%|█▊                                      | 125/2747 [00:14<05:20,  8.19it/s]"
     ]
    },
    {
     "name": "stdout",
     "output_type": "stream",
     "text": [
      "125  image file:  KIC05199489_morp0.84.png\n",
      "1/1 [==============================] - 0s 67ms/step\n"
     ]
    },
    {
     "name": "stderr",
     "output_type": "stream",
     "text": [
      "\r",
      "  5%|█▊                                      | 126/2747 [00:14<05:09,  8.47it/s]"
     ]
    },
    {
     "name": "stdout",
     "output_type": "stream",
     "text": [
      "126  image file:  KIC08190491_morp0.95.png\n",
      "1/1 [==============================] - 0s 80ms/step\n"
     ]
    },
    {
     "name": "stderr",
     "output_type": "stream",
     "text": [
      "\r",
      "  5%|█▊                                      | 127/2747 [00:14<05:11,  8.40it/s]"
     ]
    },
    {
     "name": "stdout",
     "output_type": "stream",
     "text": [
      "127  image file:  KIC07919653_morp0.38.png\n",
      "1/1 [==============================] - 0s 93ms/step\n"
     ]
    },
    {
     "name": "stderr",
     "output_type": "stream",
     "text": [
      "\r",
      "  5%|█▊                                      | 128/2747 [00:14<05:24,  8.06it/s]"
     ]
    },
    {
     "name": "stdout",
     "output_type": "stream",
     "text": [
      "128  image file:  KIC10345862_morp0.09.png\n",
      "1/1 [==============================] - 0s 60ms/step\n"
     ]
    },
    {
     "name": "stderr",
     "output_type": "stream",
     "text": [
      "\r",
      "  5%|█▉                                      | 129/2747 [00:15<05:16,  8.27it/s]"
     ]
    },
    {
     "name": "stdout",
     "output_type": "stream",
     "text": [
      "129  image file:  KIC04736208_morp0.08.png\n",
      "1/1 [==============================] - 0s 57ms/step\n",
      "130  image file:  KIC09833806_morp0.66.png\n",
      "1/1 [==============================] - 0s 65ms/step\n"
     ]
    },
    {
     "name": "stderr",
     "output_type": "stream",
     "text": [
      "\r",
      "  5%|█▉                                      | 131/2747 [00:15<04:51,  8.96it/s]"
     ]
    },
    {
     "name": "stdout",
     "output_type": "stream",
     "text": [
      "131  image file:  KIC10611450_morp-1.0.png\n",
      "1/1 [==============================] - 0s 76ms/step\n"
     ]
    },
    {
     "name": "stderr",
     "output_type": "stream",
     "text": [
      "\r",
      "  5%|█▉                                      | 132/2747 [00:15<04:55,  8.84it/s]"
     ]
    },
    {
     "name": "stdout",
     "output_type": "stream",
     "text": [
      "132  image file:  KIC08027591_morp-1.0.png\n",
      "1/1 [==============================] - 0s 111ms/step\n"
     ]
    },
    {
     "name": "stderr",
     "output_type": "stream",
     "text": [
      "\r",
      "  5%|█▉                                      | 133/2747 [00:15<05:43,  7.61it/s]"
     ]
    },
    {
     "name": "stdout",
     "output_type": "stream",
     "text": [
      "133  image file:  KIC01161345_morp0.24.png\n",
      "1/1 [==============================] - 0s 59ms/step\n"
     ]
    },
    {
     "name": "stderr",
     "output_type": "stream",
     "text": [
      "\r",
      "  5%|█▉                                      | 134/2747 [00:15<05:28,  7.96it/s]"
     ]
    },
    {
     "name": "stdout",
     "output_type": "stream",
     "text": [
      "134  image file:  KIC03534118_morp0.0.png\n",
      "1/1 [==============================] - 0s 58ms/step\n",
      "135  image file:  KIC09108058_morp0.56.png\n",
      "1/1 [==============================] - 0s 60ms/step\n"
     ]
    },
    {
     "name": "stderr",
     "output_type": "stream",
     "text": [
      "\r",
      "  5%|█▉                                      | 136/2747 [00:15<04:58,  8.74it/s]"
     ]
    },
    {
     "name": "stdout",
     "output_type": "stream",
     "text": [
      "136  image file:  KIC05014753_morp0.24.png\n",
      "1/1 [==============================] - 0s 56ms/step\n"
     ]
    },
    {
     "name": "stderr",
     "output_type": "stream",
     "text": [
      "\r",
      "  5%|█▉                                      | 137/2747 [00:15<04:49,  9.00it/s]"
     ]
    },
    {
     "name": "stdout",
     "output_type": "stream",
     "text": [
      "137  image file:  KIC06694186_morp0.24.png\n",
      "1/1 [==============================] - 0s 57ms/step\n"
     ]
    },
    {
     "name": "stderr",
     "output_type": "stream",
     "text": [
      "\r",
      "  5%|██                                      | 138/2747 [00:16<04:42,  9.22it/s]"
     ]
    },
    {
     "name": "stdout",
     "output_type": "stream",
     "text": [
      "138  image file:  KIC05310435_morp0.53.png\n",
      "1/1 [==============================] - 0s 56ms/step\n",
      "139  image file:  KIC05623774_morp0.53.png\n",
      "1/1 [==============================] - 0s 56ms/step\n"
     ]
    },
    {
     "name": "stderr",
     "output_type": "stream",
     "text": [
      "\r",
      "  5%|██                                      | 140/2747 [00:16<04:25,  9.82it/s]"
     ]
    },
    {
     "name": "stdout",
     "output_type": "stream",
     "text": [
      "140  image file:  KIC08428136_morp0.85.png\n",
      "1/1 [==============================] - 0s 52ms/step\n",
      "141  image file:  KIC11820830_morp0.08.png\n",
      "1/1 [==============================] - 0s 55ms/step\n"
     ]
    },
    {
     "name": "stderr",
     "output_type": "stream",
     "text": [
      "\r",
      "  5%|██                                      | 142/2747 [00:16<04:14, 10.25it/s]"
     ]
    },
    {
     "name": "stdout",
     "output_type": "stream",
     "text": [
      "142  image file:  KIC12645761_morp0.36.png\n",
      "1/1 [==============================] - 0s 54ms/step\n",
      "143  image file:  KIC06964796_morp0.97.png\n",
      "1/1 [==============================] - 0s 79ms/step\n"
     ]
    },
    {
     "name": "stderr",
     "output_type": "stream",
     "text": [
      "\r",
      "  5%|██                                      | 144/2747 [00:16<04:17, 10.10it/s]"
     ]
    },
    {
     "name": "stdout",
     "output_type": "stream",
     "text": [
      "144  image file:  KIC05444392_morp0.58.png\n",
      "1/1 [==============================] - 0s 60ms/step\n",
      "145  image file:  KIC07622059_morp-1.0.png\n",
      "1/1 [==============================] - 0s 56ms/step\n"
     ]
    },
    {
     "name": "stderr",
     "output_type": "stream",
     "text": [
      "\r",
      "  5%|██▏                                     | 146/2747 [00:16<04:13, 10.27it/s]"
     ]
    },
    {
     "name": "stdout",
     "output_type": "stream",
     "text": [
      "146  image file:  KIC08360184_morp0.81.png\n",
      "1/1 [==============================] - 0s 54ms/step\n",
      "147  image file:  KIC07748113_morp0.82.png\n",
      "1/1 [==============================] - 0s 54ms/step\n"
     ]
    },
    {
     "name": "stderr",
     "output_type": "stream",
     "text": [
      "\r",
      "  5%|██▏                                     | 148/2747 [00:16<04:10, 10.39it/s]"
     ]
    },
    {
     "name": "stdout",
     "output_type": "stream",
     "text": [
      "148  image file:  KIC10342041_morp0.6.png\n",
      "1/1 [==============================] - 0s 53ms/step\n",
      "149  image file:  KIC11774013_morp-1.0.png\n",
      "1/1 [==============================] - 0s 55ms/step\n"
     ]
    },
    {
     "name": "stderr",
     "output_type": "stream",
     "text": [
      "\r",
      "  5%|██▏                                     | 150/2747 [00:17<04:04, 10.63it/s]"
     ]
    },
    {
     "name": "stdout",
     "output_type": "stream",
     "text": [
      "150  image file:  KIC06131659_morp0.09.png\n",
      "1/1 [==============================] - 0s 56ms/step\n",
      "151  image file:  KIC07118621_morp0.74.png\n",
      "1/1 [==============================] - 0s 53ms/step\n"
     ]
    },
    {
     "name": "stderr",
     "output_type": "stream",
     "text": [
      "\r",
      "  6%|██▏                                     | 152/2747 [00:17<04:04, 10.61it/s]"
     ]
    },
    {
     "name": "stdout",
     "output_type": "stream",
     "text": [
      "152  image file:  KIC06545018_morp0.42.png\n",
      "1/1 [==============================] - 0s 51ms/step\n",
      "153  image file:  KIC08022489_morp0.01.png\n",
      "1/1 [==============================] - 0s 54ms/step\n"
     ]
    },
    {
     "name": "stderr",
     "output_type": "stream",
     "text": [
      "\r",
      "  6%|██▏                                     | 154/2747 [00:17<04:09, 10.38it/s]"
     ]
    },
    {
     "name": "stdout",
     "output_type": "stream",
     "text": [
      "154  image file:  KIC02854752_morp0.79.png\n",
      "1/1 [==============================] - 0s 54ms/step\n",
      "155  image file:  KIC07884842_morp0.78.png\n",
      "1/1 [==============================] - 0s 55ms/step\n"
     ]
    },
    {
     "name": "stderr",
     "output_type": "stream",
     "text": [
      "\r",
      "  6%|██▎                                     | 156/2747 [00:17<04:05, 10.57it/s]"
     ]
    },
    {
     "name": "stdout",
     "output_type": "stream",
     "text": [
      "156  image file:  KIC04276114_morp0.17.png\n",
      "1/1 [==============================] - 0s 55ms/step\n",
      "157  image file:  KIC11703960_morp0.93.png\n",
      "1/1 [==============================] - 0s 55ms/step\n"
     ]
    },
    {
     "name": "stderr",
     "output_type": "stream",
     "text": [
      "\r",
      "  6%|██▎                                     | 158/2747 [00:17<04:01, 10.73it/s]"
     ]
    },
    {
     "name": "stdout",
     "output_type": "stream",
     "text": [
      "158  image file:  KIC06775985_morp0.03.png\n",
      "1/1 [==============================] - 0s 54ms/step\n",
      "159  image file:  KIC08044608_morp0.01.png\n",
      "1/1 [==============================] - 0s 53ms/step\n"
     ]
    },
    {
     "name": "stderr",
     "output_type": "stream",
     "text": [
      "\r",
      "  6%|██▎                                     | 160/2747 [00:18<03:57, 10.89it/s]"
     ]
    },
    {
     "name": "stdout",
     "output_type": "stream",
     "text": [
      "160  image file:  KIC11147276_morp0.31.png\n",
      "1/1 [==============================] - 0s 57ms/step\n",
      "161  image file:  KIC09711751_morp0.49.png\n",
      "1/1 [==============================] - 0s 51ms/step\n"
     ]
    },
    {
     "name": "stderr",
     "output_type": "stream",
     "text": [
      "\r",
      "  6%|██▎                                     | 162/2747 [00:18<03:57, 10.87it/s]"
     ]
    },
    {
     "name": "stdout",
     "output_type": "stream",
     "text": [
      "162  image file:  KIC11923819_morp0.07.png\n",
      "1/1 [==============================] - 0s 50ms/step\n",
      "163  image file:  KIC11649962_morp-1.0.png\n",
      "1/1 [==============================] - 0s 50ms/step\n"
     ]
    },
    {
     "name": "stderr",
     "output_type": "stream",
     "text": [
      "\r",
      "  6%|██▍                                     | 164/2747 [00:18<03:51, 11.16it/s]"
     ]
    },
    {
     "name": "stdout",
     "output_type": "stream",
     "text": [
      "164  image file:  KIC10987439_morp0.1.png\n",
      "1/1 [==============================] - 0s 51ms/step\n",
      "165  image file:  KIC11175495_morp0.66.png\n",
      "1/1 [==============================] - 0s 50ms/step\n"
     ]
    },
    {
     "name": "stderr",
     "output_type": "stream",
     "text": [
      "\r",
      "  6%|██▍                                     | 166/2747 [00:18<03:48, 11.30it/s]"
     ]
    },
    {
     "name": "stdout",
     "output_type": "stream",
     "text": [
      "166  image file:  KIC09418994_morp0.03.png\n",
      "1/1 [==============================] - 0s 50ms/step\n",
      "167  image file:  KIC04751083_morp0.22.png\n",
      "1/1 [==============================] - 0s 53ms/step\n"
     ]
    },
    {
     "name": "stderr",
     "output_type": "stream",
     "text": [
      "\r",
      "  6%|██▍                                     | 168/2747 [00:18<03:45, 11.43it/s]"
     ]
    },
    {
     "name": "stdout",
     "output_type": "stream",
     "text": [
      "168  image file:  KIC07270230_morp0.07.png\n",
      "1/1 [==============================] - 0s 50ms/step\n",
      "169  image file:  KIC06365321_morp0.44.png\n",
      "1/1 [==============================] - 0s 56ms/step\n"
     ]
    },
    {
     "name": "stderr",
     "output_type": "stream",
     "text": [
      "\r",
      "  6%|██▍                                     | 170/2747 [00:18<03:46, 11.36it/s]"
     ]
    },
    {
     "name": "stdout",
     "output_type": "stream",
     "text": [
      "170  image file:  KIC10489539_morp0.28.png\n",
      "1/1 [==============================] - 0s 55ms/step\n",
      "171  image file:  KIC06756669_morp0.16.png\n",
      "1/1 [==============================] - 0s 62ms/step\n"
     ]
    },
    {
     "name": "stderr",
     "output_type": "stream",
     "text": [
      "\r",
      "  6%|██▌                                     | 172/2747 [00:19<04:28,  9.58it/s]"
     ]
    },
    {
     "name": "stdout",
     "output_type": "stream",
     "text": [
      "172  image file:  KIC04852055_morp0.96.png\n",
      "1/1 [==============================] - 0s 106ms/step\n",
      "173  image file:  KIC02446623_morp0.0.png\n",
      "1/1 [==============================] - 0s 66ms/step\n"
     ]
    },
    {
     "name": "stderr",
     "output_type": "stream",
     "text": [
      "\r",
      "  6%|██▌                                     | 174/2747 [00:19<04:55,  8.71it/s]"
     ]
    },
    {
     "name": "stdout",
     "output_type": "stream",
     "text": [
      "174  image file:  KIC08912308_morp-1.0.png\n",
      "1/1 [==============================] - 0s 51ms/step\n",
      "175  image file:  KIC10735331_morp0.0.png\n",
      "1/1 [==============================] - 0s 55ms/step\n"
     ]
    },
    {
     "name": "stderr",
     "output_type": "stream",
     "text": [
      "\r",
      "  6%|██▌                                     | 176/2747 [00:19<04:35,  9.33it/s]"
     ]
    },
    {
     "name": "stdout",
     "output_type": "stream",
     "text": [
      "176  image file:  KIC08479107_morp0.53.png\n",
      "1/1 [==============================] - 0s 49ms/step\n",
      "177  image file:  KIC03241344_morp0.24.png\n",
      "1/1 [==============================] - 0s 50ms/step\n"
     ]
    },
    {
     "name": "stderr",
     "output_type": "stream",
     "text": [
      "\r",
      "  6%|██▌                                     | 178/2747 [00:19<04:30,  9.51it/s]"
     ]
    },
    {
     "name": "stdout",
     "output_type": "stream",
     "text": [
      "178  image file:  KIC10255110_morp0.88.png\n",
      "1/1 [==============================] - 0s 50ms/step\n",
      "179  image file:  KIC10198097_morp0.82.png\n",
      "1/1 [==============================] - 0s 50ms/step\n"
     ]
    },
    {
     "name": "stderr",
     "output_type": "stream",
     "text": [
      "\r",
      "  7%|██▌                                     | 180/2747 [00:20<04:14, 10.08it/s]"
     ]
    },
    {
     "name": "stdout",
     "output_type": "stream",
     "text": [
      "180  image file:  KIC08364969_morp0.03.png\n",
      "1/1 [==============================] - 0s 52ms/step\n",
      "181  image file:  KIC11341950_morp0.74.png\n",
      "1/1 [==============================] - 0s 52ms/step\n"
     ]
    },
    {
     "name": "stderr",
     "output_type": "stream",
     "text": [
      "\r",
      "  7%|██▋                                     | 182/2747 [00:20<04:02, 10.59it/s]"
     ]
    },
    {
     "name": "stdout",
     "output_type": "stream",
     "text": [
      "182  image file:  KIC04737302_morp0.26.png\n",
      "1/1 [==============================] - 0s 51ms/step\n",
      "183  image file:  KIC05080652_morp0.31.png\n",
      "1/1 [==============================] - 0s 53ms/step\n"
     ]
    },
    {
     "name": "stderr",
     "output_type": "stream",
     "text": [
      "\r",
      "  7%|██▋                                     | 184/2747 [00:20<04:06, 10.41it/s]"
     ]
    },
    {
     "name": "stdout",
     "output_type": "stream",
     "text": [
      "184  image file:  KIC04248941_morp-1.0.png\n",
      "1/1 [==============================] - 0s 58ms/step\n",
      "185  image file:  KIC06292398_morp-1.0.png\n",
      "1/1 [==============================] - 0s 59ms/step\n"
     ]
    },
    {
     "name": "stderr",
     "output_type": "stream",
     "text": [
      "\r",
      "  7%|██▋                                     | 186/2747 [00:20<04:02, 10.55it/s]"
     ]
    },
    {
     "name": "stdout",
     "output_type": "stream",
     "text": [
      "186  image file:  KIC11455795_morp0.47.png\n",
      "1/1 [==============================] - 0s 48ms/step\n",
      "187  image file:  KIC03757588_morp0.12.png\n",
      "1/1 [==============================] - 0s 49ms/step\n"
     ]
    },
    {
     "name": "stderr",
     "output_type": "stream",
     "text": [
      "\r",
      "  7%|██▋                                     | 188/2747 [00:20<03:51, 11.06it/s]"
     ]
    },
    {
     "name": "stdout",
     "output_type": "stream",
     "text": [
      "188  image file:  KIC08523194_morp0.94.png\n",
      "1/1 [==============================] - 0s 48ms/step\n",
      "189  image file:  KIC11559864_morp0.94.png\n",
      "1/1 [==============================] - 0s 54ms/step\n"
     ]
    },
    {
     "name": "stderr",
     "output_type": "stream",
     "text": [
      "\r",
      "  7%|██▊                                     | 190/2747 [00:20<03:46, 11.27it/s]"
     ]
    },
    {
     "name": "stdout",
     "output_type": "stream",
     "text": [
      "190  image file:  KIC05199426_morp0.0.png\n",
      "1/1 [==============================] - 0s 50ms/step\n",
      "191  image file:  KIC07128918_morp0.16.png\n",
      "1/1 [==============================] - 0s 50ms/step\n"
     ]
    },
    {
     "name": "stderr",
     "output_type": "stream",
     "text": [
      "\r",
      "  7%|██▊                                     | 192/2747 [00:21<03:42, 11.47it/s]"
     ]
    },
    {
     "name": "stdout",
     "output_type": "stream",
     "text": [
      "192  image file:  KIC07375612_morp0.97.png\n",
      "1/1 [==============================] - 0s 49ms/step\n",
      "193  image file:  KIC09948201_morp0.89.png\n",
      "1/1 [==============================] - 0s 49ms/step\n"
     ]
    },
    {
     "name": "stderr",
     "output_type": "stream",
     "text": [
      "\r",
      "  7%|██▊                                     | 194/2747 [00:21<03:37, 11.72it/s]"
     ]
    },
    {
     "name": "stdout",
     "output_type": "stream",
     "text": [
      "194  image file:  KIC09850387_morp0.47.png\n",
      "1/1 [==============================] - 0s 50ms/step\n",
      "195  image file:  KIC04937143_morp0.16.png\n",
      "1/1 [==============================] - 0s 52ms/step\n"
     ]
    },
    {
     "name": "stderr",
     "output_type": "stream",
     "text": [
      "\r",
      "  7%|██▊                                     | 196/2747 [00:21<03:39, 11.64it/s]"
     ]
    },
    {
     "name": "stdout",
     "output_type": "stream",
     "text": [
      "196  image file:  KIC04670267_morp0.6.png\n",
      "1/1 [==============================] - 0s 54ms/step\n",
      "197  image file:  KIC07838906_morp0.19.png\n",
      "1/1 [==============================] - 0s 51ms/step\n"
     ]
    },
    {
     "name": "stderr",
     "output_type": "stream",
     "text": [
      "\r",
      "  7%|██▉                                     | 198/2747 [00:21<03:37, 11.72it/s]"
     ]
    },
    {
     "name": "stdout",
     "output_type": "stream",
     "text": [
      "198  image file:  KIC09480516_morp0.92.png\n",
      "1/1 [==============================] - 0s 50ms/step\n",
      "199  image file:  KIC06865626_morp0.66.png\n",
      "1/1 [==============================] - 0s 50ms/step\n"
     ]
    },
    {
     "name": "stderr",
     "output_type": "stream",
     "text": [
      "\r",
      "  7%|██▉                                     | 200/2747 [00:21<03:34, 11.87it/s]"
     ]
    },
    {
     "name": "stdout",
     "output_type": "stream",
     "text": [
      "200  image file:  KIC09592145_morp0.65.png\n",
      "1/1 [==============================] - 0s 51ms/step\n",
      "201  image file:  KIC11673686_morp0.39.png\n",
      "1/1 [==============================] - 0s 51ms/step\n"
     ]
    },
    {
     "name": "stderr",
     "output_type": "stream",
     "text": [
      "\r",
      "  7%|██▉                                     | 202/2747 [00:21<03:34, 11.87it/s]"
     ]
    },
    {
     "name": "stdout",
     "output_type": "stream",
     "text": [
      "202  image file:  KIC05955731_morp0.99.png\n",
      "1/1 [==============================] - 0s 51ms/step\n",
      "203  image file:  KIC05211470_morp0.28.png\n",
      "1/1 [==============================] - 0s 51ms/step\n"
     ]
    },
    {
     "name": "stderr",
     "output_type": "stream",
     "text": [
      "\r",
      "  7%|██▉                                     | 204/2747 [00:22<03:34, 11.88it/s]"
     ]
    },
    {
     "name": "stdout",
     "output_type": "stream",
     "text": [
      "204  image file:  KIC03347485_morp0.28.png\n",
      "1/1 [==============================] - 0s 50ms/step\n",
      "205  image file:  KIC04912991_morp0.09.png\n",
      "1/1 [==============================] - 0s 50ms/step\n"
     ]
    },
    {
     "name": "stderr",
     "output_type": "stream",
     "text": [
      "\r",
      "  7%|██▉                                     | 206/2747 [00:22<03:32, 11.95it/s]"
     ]
    },
    {
     "name": "stdout",
     "output_type": "stream",
     "text": [
      "206  image file:  KIC09284741_morp0.09.png\n",
      "1/1 [==============================] - 0s 50ms/step\n",
      "207  image file:  KIC03547111_morp0.96.png\n",
      "1/1 [==============================] - 0s 51ms/step\n"
     ]
    },
    {
     "name": "stderr",
     "output_type": "stream",
     "text": [
      "\r",
      "  8%|███                                     | 208/2747 [00:22<03:31, 12.02it/s]"
     ]
    },
    {
     "name": "stdout",
     "output_type": "stream",
     "text": [
      "208  image file:  KIC08445775_morp0.04.png\n",
      "1/1 [==============================] - 0s 51ms/step\n",
      "209  image file:  KIC06301030_morp0.14.png\n",
      "1/1 [==============================] - 0s 51ms/step\n"
     ]
    },
    {
     "name": "stderr",
     "output_type": "stream",
     "text": [
      "\r",
      "  8%|███                                     | 210/2747 [00:22<03:31, 12.00it/s]"
     ]
    },
    {
     "name": "stdout",
     "output_type": "stream",
     "text": [
      "210  image file:  KIC06128248_morp0.76.png\n",
      "1/1 [==============================] - 0s 55ms/step\n",
      "211  image file:  KIC08982514_morp0.84.png\n",
      "1/1 [==============================] - 0s 51ms/step\n"
     ]
    },
    {
     "name": "stderr",
     "output_type": "stream",
     "text": [
      "\r",
      "  8%|███                                     | 212/2747 [00:22<03:32, 11.91it/s]"
     ]
    },
    {
     "name": "stdout",
     "output_type": "stream",
     "text": [
      "212  image file:  KIC07886329_morp0.53.png\n",
      "1/1 [==============================] - 0s 56ms/step\n",
      "213  image file:  KIC09528430_morp0.06.png\n",
      "1/1 [==============================] - 0s 52ms/step\n"
     ]
    },
    {
     "name": "stderr",
     "output_type": "stream",
     "text": [
      "\r",
      "  8%|███                                     | 214/2747 [00:22<03:33, 11.87it/s]"
     ]
    },
    {
     "name": "stdout",
     "output_type": "stream",
     "text": [
      "214  image file:  KIC04660997_morp0.62.png\n",
      "1/1 [==============================] - 0s 51ms/step\n",
      "215  image file:  KIC08587078_morp0.88.png\n",
      "1/1 [==============================] - 0s 50ms/step\n"
     ]
    },
    {
     "name": "stderr",
     "output_type": "stream",
     "text": [
      "\r",
      "  8%|███▏                                    | 216/2747 [00:23<03:30, 12.00it/s]"
     ]
    },
    {
     "name": "stdout",
     "output_type": "stream",
     "text": [
      "216  image file:  KIC09786821_morp0.36.png\n",
      "1/1 [==============================] - 0s 67ms/step\n",
      "217  image file:  KIC02305543_morp0.5.png\n",
      "1/1 [==============================] - 0s 54ms/step\n"
     ]
    },
    {
     "name": "stderr",
     "output_type": "stream",
     "text": [
      "\r",
      "  8%|███▏                                    | 218/2747 [00:23<03:49, 11.02it/s]"
     ]
    },
    {
     "name": "stdout",
     "output_type": "stream",
     "text": [
      "218  image file:  KIC07943535_morp0.15.png\n",
      "1/1 [==============================] - 0s 89ms/step\n",
      "219  image file:  KIC09832227_morp0.95.png\n",
      "1/1 [==============================] - 0s 62ms/step\n"
     ]
    },
    {
     "name": "stderr",
     "output_type": "stream",
     "text": [
      "\r",
      "  8%|███▏                                    | 220/2747 [00:23<04:21,  9.68it/s]"
     ]
    },
    {
     "name": "stdout",
     "output_type": "stream",
     "text": [
      "220  image file:  KIC07541502_morp0.03.png\n",
      "1/1 [==============================] - 0s 60ms/step\n",
      "221  image file:  KIC04149684_morp0.25.png\n",
      "1/1 [==============================] - 0s 58ms/step\n"
     ]
    },
    {
     "name": "stderr",
     "output_type": "stream",
     "text": [
      "\r",
      "  8%|███▏                                    | 222/2747 [00:23<04:19,  9.71it/s]"
     ]
    },
    {
     "name": "stdout",
     "output_type": "stream",
     "text": [
      "222  image file:  KIC03743834_morp0.76.png\n",
      "1/1 [==============================] - 0s 64ms/step\n"
     ]
    },
    {
     "name": "stderr",
     "output_type": "stream",
     "text": [
      "\r",
      "  8%|███▏                                    | 223/2747 [00:23<04:18,  9.75it/s]"
     ]
    },
    {
     "name": "stdout",
     "output_type": "stream",
     "text": [
      "223  image file:  KIC10275074_morp0.33.png\n",
      "1/1 [==============================] - 0s 86ms/step\n"
     ]
    },
    {
     "name": "stderr",
     "output_type": "stream",
     "text": [
      "\r",
      "  8%|███▎                                    | 224/2747 [00:24<04:33,  9.21it/s]"
     ]
    },
    {
     "name": "stdout",
     "output_type": "stream",
     "text": [
      "224  image file:  KIC04380283_morp0.49.png\n",
      "1/1 [==============================] - 0s 65ms/step\n"
     ]
    },
    {
     "name": "stderr",
     "output_type": "stream",
     "text": [
      "\r",
      "  8%|███▎                                    | 225/2747 [00:24<04:30,  9.34it/s]"
     ]
    },
    {
     "name": "stdout",
     "output_type": "stream",
     "text": [
      "225  image file:  KIC09004380_morp0.97.png\n",
      "1/1 [==============================] - 0s 70ms/step\n"
     ]
    },
    {
     "name": "stderr",
     "output_type": "stream",
     "text": [
      "\r",
      "  8%|███▎                                    | 226/2747 [00:24<04:36,  9.12it/s]"
     ]
    },
    {
     "name": "stdout",
     "output_type": "stream",
     "text": [
      "226  image file:  KIC11304987_morp0.35.png\n",
      "1/1 [==============================] - 0s 57ms/step\n",
      "227  image file:  KIC06468938_morp0.16.png\n",
      "1/1 [==============================] - 0s 60ms/step\n"
     ]
    },
    {
     "name": "stderr",
     "output_type": "stream",
     "text": [
      "\r",
      "  8%|███▎                                    | 228/2747 [00:24<04:24,  9.53it/s]"
     ]
    },
    {
     "name": "stdout",
     "output_type": "stream",
     "text": [
      "228  image file:  KIC05630212_morp0.36.png\n",
      "1/1 [==============================] - 0s 73ms/step\n"
     ]
    },
    {
     "name": "stderr",
     "output_type": "stream",
     "text": [
      "\r",
      "  8%|███▎                                    | 229/2747 [00:24<04:28,  9.38it/s]"
     ]
    },
    {
     "name": "stdout",
     "output_type": "stream",
     "text": [
      "229  image file:  KIC06187341_morp0.42.png\n",
      "1/1 [==============================] - 0s 60ms/step\n"
     ]
    },
    {
     "name": "stderr",
     "output_type": "stream",
     "text": [
      "\r",
      "  8%|███▎                                    | 230/2747 [00:24<04:25,  9.47it/s]"
     ]
    },
    {
     "name": "stdout",
     "output_type": "stream",
     "text": [
      "230  image file:  KIC10753734_morp0.07.png\n",
      "1/1 [==============================] - 0s 66ms/step\n"
     ]
    },
    {
     "name": "stderr",
     "output_type": "stream",
     "text": [
      "\r",
      "  8%|███▎                                    | 231/2747 [00:24<04:24,  9.50it/s]"
     ]
    },
    {
     "name": "stdout",
     "output_type": "stream",
     "text": [
      "231  image file:  KIC04066203_morp0.93.png\n",
      "1/1 [==============================] - 0s 64ms/step\n"
     ]
    },
    {
     "name": "stderr",
     "output_type": "stream",
     "text": [
      "\r",
      "  8%|███▍                                    | 232/2747 [00:24<04:33,  9.19it/s]"
     ]
    },
    {
     "name": "stdout",
     "output_type": "stream",
     "text": [
      "232  image file:  KIC09839081_morp0.2.png\n",
      "1/1 [==============================] - 0s 59ms/step\n",
      "233  image file:  KIC08545456_morp0.77.png\n",
      "1/1 [==============================] - 0s 59ms/step\n"
     ]
    },
    {
     "name": "stderr",
     "output_type": "stream",
     "text": [
      "\r",
      "  9%|███▍                                    | 234/2747 [00:25<04:27,  9.39it/s]"
     ]
    },
    {
     "name": "stdout",
     "output_type": "stream",
     "text": [
      "234  image file:  KIC09164694_morp0.75.png\n",
      "1/1 [==============================] - 0s 56ms/step\n",
      "235  image file:  KIC11769146_morp0.01.png\n",
      "1/1 [==============================] - 0s 62ms/step\n"
     ]
    },
    {
     "name": "stderr",
     "output_type": "stream",
     "text": [
      "\r",
      "  9%|███▍                                    | 236/2747 [00:25<04:17,  9.77it/s]"
     ]
    },
    {
     "name": "stdout",
     "output_type": "stream",
     "text": [
      "236  image file:  KIC07591456_morp-1.0.png\n",
      "1/1 [==============================] - 0s 63ms/step\n"
     ]
    },
    {
     "name": "stderr",
     "output_type": "stream",
     "text": [
      "\r",
      "  9%|███▍                                    | 237/2747 [00:25<04:19,  9.67it/s]"
     ]
    },
    {
     "name": "stdout",
     "output_type": "stream",
     "text": [
      "237  image file:  KIC03113266_morp0.39.png\n",
      "1/1 [==============================] - 0s 62ms/step\n"
     ]
    },
    {
     "name": "stderr",
     "output_type": "stream",
     "text": [
      "\r",
      "  9%|███▍                                    | 238/2747 [00:25<04:29,  9.31it/s]"
     ]
    },
    {
     "name": "stdout",
     "output_type": "stream",
     "text": [
      "238  image file:  KIC09639265_morp0.63.png\n",
      "1/1 [==============================] - 0s 57ms/step\n",
      "239  image file:  KIC03766353_morp-1.0.png\n",
      "1/1 [==============================] - 0s 55ms/step\n"
     ]
    },
    {
     "name": "stderr",
     "output_type": "stream",
     "text": [
      "\r",
      "  9%|███▍                                    | 240/2747 [00:25<04:16,  9.78it/s]"
     ]
    },
    {
     "name": "stdout",
     "output_type": "stream",
     "text": [
      "240  image file:  KIC04758092_morp0.9.png\n",
      "1/1 [==============================] - 0s 53ms/step\n",
      "241  image file:  KIC10268809_morp0.05.png\n",
      "1/1 [==============================] - 0s 50ms/step\n"
     ]
    },
    {
     "name": "stderr",
     "output_type": "stream",
     "text": [
      "\r",
      "  9%|███▌                                    | 242/2747 [00:25<04:01, 10.38it/s]"
     ]
    },
    {
     "name": "stdout",
     "output_type": "stream",
     "text": [
      "242  image file:  KIC08972908_morp0.99.png\n",
      "1/1 [==============================] - 0s 51ms/step\n",
      "243  image file:  KIC10030778_morp0.07.png\n",
      "1/1 [==============================] - 0s 50ms/step\n"
     ]
    },
    {
     "name": "stderr",
     "output_type": "stream",
     "text": [
      "\r",
      "  9%|███▌                                    | 244/2747 [00:26<03:47, 10.98it/s]"
     ]
    },
    {
     "name": "stdout",
     "output_type": "stream",
     "text": [
      "244  image file:  KIC03342425_morp0.94.png\n",
      "1/1 [==============================] - 0s 64ms/step\n",
      "245  image file:  KIC09474485_morp0.53.png\n",
      "1/1 [==============================] - 0s 51ms/step\n"
     ]
    },
    {
     "name": "stderr",
     "output_type": "stream",
     "text": [
      "\r",
      "  9%|███▌                                    | 246/2747 [00:26<03:49, 10.89it/s]"
     ]
    },
    {
     "name": "stdout",
     "output_type": "stream",
     "text": [
      "246  image file:  KIC02973509_morp0.24.png\n",
      "1/1 [==============================] - 0s 50ms/step\n",
      "247  image file:  KIC08029708_morp0.75.png\n",
      "1/1 [==============================] - 0s 52ms/step\n"
     ]
    },
    {
     "name": "stderr",
     "output_type": "stream",
     "text": [
      "\r",
      "  9%|███▌                                    | 248/2747 [00:26<03:42, 11.23it/s]"
     ]
    },
    {
     "name": "stdout",
     "output_type": "stream",
     "text": [
      "248  image file:  KIC09838060_morp0.03.png\n",
      "1/1 [==============================] - 0s 51ms/step\n",
      "249  image file:  KIC10904857_morp0.2.png\n",
      "1/1 [==============================] - 0s 52ms/step\n"
     ]
    },
    {
     "name": "stderr",
     "output_type": "stream",
     "text": [
      "\r",
      "  9%|███▋                                    | 250/2747 [00:26<03:36, 11.52it/s]"
     ]
    },
    {
     "name": "stdout",
     "output_type": "stream",
     "text": [
      "250  image file:  KIC12066630_morp0.98.png\n",
      "1/1 [==============================] - 0s 51ms/step\n",
      "251  image file:  KIC04367544_morp0.52.png\n",
      "1/1 [==============================] - 0s 51ms/step\n"
     ]
    },
    {
     "name": "stderr",
     "output_type": "stream",
     "text": [
      "\r",
      "  9%|███▋                                    | 252/2747 [00:26<03:32, 11.75it/s]"
     ]
    },
    {
     "name": "stdout",
     "output_type": "stream",
     "text": [
      "252  image file:  KIC09239684_morp0.99.png\n",
      "1/1 [==============================] - 0s 51ms/step\n",
      "253  image file:  KIC04358206_morp0.57.png\n",
      "1/1 [==============================] - 0s 53ms/step\n"
     ]
    },
    {
     "name": "stderr",
     "output_type": "stream",
     "text": [
      "\r",
      "  9%|███▋                                    | 254/2747 [00:26<03:31, 11.80it/s]"
     ]
    },
    {
     "name": "stdout",
     "output_type": "stream",
     "text": [
      "254  image file:  KIC10154189_morp0.87.png\n",
      "1/1 [==============================] - 0s 56ms/step\n",
      "255  image file:  KIC09602595_morp0.55.png\n",
      "1/1 [==============================] - 0s 56ms/step\n"
     ]
    },
    {
     "name": "stderr",
     "output_type": "stream",
     "text": [
      "\r",
      "  9%|███▋                                    | 256/2747 [00:27<03:38, 11.40it/s]"
     ]
    },
    {
     "name": "stdout",
     "output_type": "stream",
     "text": [
      "256  image file:  KIC06791604_morp0.7.png\n",
      "1/1 [==============================] - 0s 57ms/step\n",
      "257  image file:  KIC05024292_morp0.37.png\n",
      "1/1 [==============================] - 0s 55ms/step\n"
     ]
    },
    {
     "name": "stderr",
     "output_type": "stream",
     "text": [
      "\r",
      "  9%|███▊                                    | 258/2747 [00:27<03:41, 11.22it/s]"
     ]
    },
    {
     "name": "stdout",
     "output_type": "stream",
     "text": [
      "258  image file:  KIC06061139_morp0.76.png\n",
      "1/1 [==============================] - 0s 52ms/step\n",
      "259  image file:  KIC10556578_morp0.47.png\n",
      "1/1 [==============================] - 0s 54ms/step\n"
     ]
    },
    {
     "name": "stderr",
     "output_type": "stream",
     "text": [
      "\r",
      "  9%|███▊                                    | 260/2747 [00:27<03:40, 11.28it/s]"
     ]
    },
    {
     "name": "stdout",
     "output_type": "stream",
     "text": [
      "260  image file:  KIC11447953_morp0.94.png\n",
      "1/1 [==============================] - 0s 52ms/step\n",
      "261  image file:  KIC10794878_morp0.86.png\n",
      "1/1 [==============================] - 0s 55ms/step\n"
     ]
    },
    {
     "name": "stderr",
     "output_type": "stream",
     "text": [
      "\r",
      " 10%|███▊                                    | 262/2747 [00:27<03:40, 11.28it/s]"
     ]
    },
    {
     "name": "stdout",
     "output_type": "stream",
     "text": [
      "262  image file:  KIC12023089_morp0.52.png\n",
      "1/1 [==============================] - 0s 54ms/step\n",
      "263  image file:  KIC09957668_morp0.04.png\n",
      "1/1 [==============================] - 0s 51ms/step\n"
     ]
    },
    {
     "name": "stderr",
     "output_type": "stream",
     "text": [
      "\r",
      " 10%|███▊                                    | 264/2747 [00:27<03:40, 11.25it/s]"
     ]
    },
    {
     "name": "stdout",
     "output_type": "stream",
     "text": [
      "264  image file:  KIC05820209_morp0.81.png\n",
      "1/1 [==============================] - 0s 52ms/step\n",
      "265  image file:  KIC03969362_morp0.8.png\n",
      "1/1 [==============================] - 0s 51ms/step\n"
     ]
    },
    {
     "name": "stderr",
     "output_type": "stream",
     "text": [
      "\r",
      " 10%|███▊                                    | 266/2747 [00:27<03:36, 11.44it/s]"
     ]
    },
    {
     "name": "stdout",
     "output_type": "stream",
     "text": [
      "266  image file:  KIC07866921_morp0.05.png\n",
      "1/1 [==============================] - 0s 53ms/step\n",
      "267  image file:  KIC05006817_morp-1.0.png\n",
      "1/1 [==============================] - 0s 67ms/step\n"
     ]
    },
    {
     "name": "stderr",
     "output_type": "stream",
     "text": [
      "\r",
      " 10%|███▉                                    | 268/2747 [00:28<03:44, 11.04it/s]"
     ]
    },
    {
     "name": "stdout",
     "output_type": "stream",
     "text": [
      "268  image file:  KIC05377349_morp0.62.png\n",
      "1/1 [==============================] - 0s 50ms/step\n",
      "269  image file:  KIC09159301_morp0.55.png\n",
      "1/1 [==============================] - 0s 55ms/step\n"
     ]
    },
    {
     "name": "stderr",
     "output_type": "stream",
     "text": [
      "\r",
      " 10%|███▉                                    | 270/2747 [00:28<03:42, 11.13it/s]"
     ]
    },
    {
     "name": "stdout",
     "output_type": "stream",
     "text": [
      "270  image file:  KIC04563150_morp0.8.png\n",
      "1/1 [==============================] - 0s 71ms/step\n",
      "271  image file:  KIC11198068_morp0.71.png\n",
      "1/1 [==============================] - 0s 64ms/step\n"
     ]
    },
    {
     "name": "stderr",
     "output_type": "stream",
     "text": [
      "\r",
      " 10%|███▉                                    | 272/2747 [00:28<03:56, 10.48it/s]"
     ]
    },
    {
     "name": "stdout",
     "output_type": "stream",
     "text": [
      "272  image file:  KIC05259926_morp0.91.png\n",
      "1/1 [==============================] - 0s 74ms/step\n",
      "273  image file:  KIC08183389_morp0.02.png\n",
      "1/1 [==============================] - 0s 71ms/step\n"
     ]
    },
    {
     "name": "stderr",
     "output_type": "stream",
     "text": [
      "\r",
      " 10%|███▉                                    | 274/2747 [00:28<04:16,  9.66it/s]"
     ]
    },
    {
     "name": "stdout",
     "output_type": "stream",
     "text": [
      "274  image file:  KIC02697935_morp-1.0.png\n",
      "1/1 [==============================] - 0s 92ms/step\n"
     ]
    },
    {
     "name": "stderr",
     "output_type": "stream",
     "text": [
      "\r",
      " 10%|████                                    | 275/2747 [00:28<04:38,  8.87it/s]"
     ]
    },
    {
     "name": "stdout",
     "output_type": "stream",
     "text": [
      "275  image file:  KIC07697065_morp0.7.png\n",
      "1/1 [==============================] - 0s 100ms/step\n"
     ]
    },
    {
     "name": "stderr",
     "output_type": "stream",
     "text": [
      "\r",
      " 10%|████                                    | 276/2747 [00:29<05:04,  8.10it/s]"
     ]
    },
    {
     "name": "stdout",
     "output_type": "stream",
     "text": [
      "276  image file:  KIC10068030_morp0.25.png\n",
      "1/1 [==============================] - 0s 66ms/step\n"
     ]
    },
    {
     "name": "stderr",
     "output_type": "stream",
     "text": [
      "\r",
      " 10%|████                                    | 277/2747 [00:29<05:09,  7.99it/s]"
     ]
    },
    {
     "name": "stdout",
     "output_type": "stream",
     "text": [
      "277  image file:  KIC08977179_morp0.97.png\n",
      "1/1 [==============================] - 0s 59ms/step\n"
     ]
    },
    {
     "name": "stderr",
     "output_type": "stream",
     "text": [
      "\r",
      " 10%|████                                    | 278/2747 [00:29<04:59,  8.24it/s]"
     ]
    },
    {
     "name": "stdout",
     "output_type": "stream",
     "text": [
      "278  image file:  KIC09210828_morp0.44.png\n",
      "1/1 [==============================] - 0s 64ms/step\n"
     ]
    },
    {
     "name": "stderr",
     "output_type": "stream",
     "text": [
      "\r",
      " 10%|████                                    | 279/2747 [00:29<04:49,  8.53it/s]"
     ]
    },
    {
     "name": "stdout",
     "output_type": "stream",
     "text": [
      "279  image file:  KIC07839027_morp0.88.png\n",
      "1/1 [==============================] - 0s 75ms/step\n"
     ]
    },
    {
     "name": "stderr",
     "output_type": "stream",
     "text": [
      "\r",
      " 10%|████                                    | 280/2747 [00:29<05:11,  7.93it/s]"
     ]
    },
    {
     "name": "stdout",
     "output_type": "stream",
     "text": [
      "280  image file:  KIC07203179_morp0.56.png\n",
      "1/1 [==============================] - 0s 80ms/step\n"
     ]
    },
    {
     "name": "stderr",
     "output_type": "stream",
     "text": [
      "\r",
      " 10%|████                                    | 281/2747 [00:29<05:19,  7.71it/s]"
     ]
    },
    {
     "name": "stdout",
     "output_type": "stream",
     "text": [
      "281  image file:  KIC06137885_morp-1.0.png\n",
      "1/1 [==============================] - 0s 65ms/step\n"
     ]
    },
    {
     "name": "stderr",
     "output_type": "stream",
     "text": [
      "\r",
      " 10%|████                                    | 282/2747 [00:29<05:28,  7.50it/s]"
     ]
    },
    {
     "name": "stdout",
     "output_type": "stream",
     "text": [
      "282  image file:  KIC11853130_morp0.0.png\n",
      "1/1 [==============================] - 0s 59ms/step\n"
     ]
    },
    {
     "name": "stderr",
     "output_type": "stream",
     "text": [
      "\r",
      " 10%|████                                    | 283/2747 [00:30<05:09,  7.97it/s]"
     ]
    },
    {
     "name": "stdout",
     "output_type": "stream",
     "text": [
      "283  image file:  KIC11197126_morp0.25.png\n",
      "1/1 [==============================] - 0s 73ms/step\n"
     ]
    },
    {
     "name": "stderr",
     "output_type": "stream",
     "text": [
      "\r",
      " 10%|████▏                                   | 284/2747 [00:30<04:59,  8.23it/s]"
     ]
    },
    {
     "name": "stdout",
     "output_type": "stream",
     "text": [
      "284  image file:  KIC07021177_morp0.06.png\n",
      "1/1 [==============================] - 0s 64ms/step\n"
     ]
    },
    {
     "name": "stderr",
     "output_type": "stream",
     "text": [
      "\r",
      " 10%|████▏                                   | 285/2747 [00:30<04:47,  8.55it/s]"
     ]
    },
    {
     "name": "stdout",
     "output_type": "stream",
     "text": [
      "285  image file:  KIC09661869_morp0.04.png\n",
      "1/1 [==============================] - 0s 58ms/step\n",
      "286  image file:  KIC07686918_morp0.99.png\n",
      "1/1 [==============================] - 0s 88ms/step\n"
     ]
    },
    {
     "name": "stderr",
     "output_type": "stream",
     "text": [
      "\r",
      " 10%|████▏                                   | 287/2747 [00:30<04:50,  8.48it/s]"
     ]
    },
    {
     "name": "stdout",
     "output_type": "stream",
     "text": [
      "287  image file:  KIC08167978_morp0.06.png\n",
      "1/1 [==============================] - 0s 105ms/step\n"
     ]
    },
    {
     "name": "stderr",
     "output_type": "stream",
     "text": [
      "\r",
      " 10%|████▏                                   | 288/2747 [00:30<06:00,  6.83it/s]"
     ]
    },
    {
     "name": "stdout",
     "output_type": "stream",
     "text": [
      "288  image file:  KIC04138301_morp0.9.png\n",
      "1/1 [==============================] - 0s 78ms/step\n"
     ]
    },
    {
     "name": "stderr",
     "output_type": "stream",
     "text": [
      "\r",
      " 11%|████▏                                   | 289/2747 [00:30<06:02,  6.77it/s]"
     ]
    },
    {
     "name": "stdout",
     "output_type": "stream",
     "text": [
      "289  image file:  KIC09453192_morp0.83.png\n",
      "1/1 [==============================] - 0s 73ms/step\n"
     ]
    },
    {
     "name": "stderr",
     "output_type": "stream",
     "text": [
      "\r",
      " 11%|████▏                                   | 290/2747 [00:31<06:03,  6.75it/s]"
     ]
    },
    {
     "name": "stdout",
     "output_type": "stream",
     "text": [
      "290  image file:  KIC11084782_morp0.93.png\n",
      "1/1 [==============================] - 0s 82ms/step\n"
     ]
    },
    {
     "name": "stderr",
     "output_type": "stream",
     "text": [
      "\r",
      " 11%|████▏                                   | 291/2747 [00:31<06:08,  6.67it/s]"
     ]
    },
    {
     "name": "stdout",
     "output_type": "stream",
     "text": [
      "291  image file:  KIC05283266_morp0.8.png\n",
      "1/1 [==============================] - 0s 74ms/step\n"
     ]
    },
    {
     "name": "stderr",
     "output_type": "stream",
     "text": [
      "\r",
      " 11%|████▎                                   | 292/2747 [00:31<05:57,  6.88it/s]"
     ]
    },
    {
     "name": "stdout",
     "output_type": "stream",
     "text": [
      "292  image file:  KIC01433410_morp0.74.png\n",
      "1/1 [==============================] - 0s 85ms/step\n"
     ]
    },
    {
     "name": "stderr",
     "output_type": "stream",
     "text": [
      "\r",
      " 11%|████▎                                   | 293/2747 [00:31<06:10,  6.62it/s]"
     ]
    },
    {
     "name": "stdout",
     "output_type": "stream",
     "text": [
      "293  image file:  KIC05005570_morp0.86.png\n",
      "1/1 [==============================] - 0s 63ms/step\n"
     ]
    },
    {
     "name": "stderr",
     "output_type": "stream",
     "text": [
      "\r",
      " 11%|████▎                                   | 294/2747 [00:31<05:39,  7.22it/s]"
     ]
    },
    {
     "name": "stdout",
     "output_type": "stream",
     "text": [
      "294  image file:  KIC09481674_morp0.78.png\n",
      "1/1 [==============================] - 0s 59ms/step\n",
      "295  image file:  KIC02570289_morp0.9.png\n",
      "1/1 [==============================] - 0s 62ms/step\n"
     ]
    },
    {
     "name": "stderr",
     "output_type": "stream",
     "text": [
      "\r",
      " 11%|████▎                                   | 296/2747 [00:31<04:54,  8.32it/s]"
     ]
    },
    {
     "name": "stdout",
     "output_type": "stream",
     "text": [
      "296  image file:  KIC11494583_morp0.94.png\n",
      "1/1 [==============================] - 0s 59ms/step\n"
     ]
    },
    {
     "name": "stderr",
     "output_type": "stream",
     "text": [
      "\r",
      " 11%|████▎                                   | 297/2747 [00:31<04:44,  8.62it/s]"
     ]
    },
    {
     "name": "stdout",
     "output_type": "stream",
     "text": [
      "297  image file:  KIC08019043_morp0.34.png\n",
      "1/1 [==============================] - 0s 59ms/step\n",
      "298  image file:  KIC05201619_morp0.74.png\n",
      "1/1 [==============================] - 0s 60ms/step\n"
     ]
    },
    {
     "name": "stderr",
     "output_type": "stream",
     "text": [
      "\r",
      " 11%|████▎                                   | 299/2747 [00:32<04:26,  9.20it/s]"
     ]
    },
    {
     "name": "stdout",
     "output_type": "stream",
     "text": [
      "299  image file:  KIC09278553_morp0.07.png\n",
      "1/1 [==============================] - 0s 70ms/step\n"
     ]
    },
    {
     "name": "stderr",
     "output_type": "stream",
     "text": [
      "\r",
      " 11%|████▎                                   | 300/2747 [00:32<04:32,  8.97it/s]"
     ]
    },
    {
     "name": "stdout",
     "output_type": "stream",
     "text": [
      "300  image file:  KIC06603756_morp0.38.png\n",
      "1/1 [==============================] - 0s 61ms/step\n"
     ]
    },
    {
     "name": "stderr",
     "output_type": "stream",
     "text": [
      "\r",
      " 11%|████▍                                   | 301/2747 [00:32<04:27,  9.14it/s]"
     ]
    },
    {
     "name": "stdout",
     "output_type": "stream",
     "text": [
      "301  image file:  KIC06805779_morp0.95.png\n",
      "1/1 [==============================] - 0s 59ms/step\n",
      "302  image file:  KIC06866228_morp0.12.png\n",
      "1/1 [==============================] - 0s 57ms/step\n"
     ]
    },
    {
     "name": "stderr",
     "output_type": "stream",
     "text": [
      "\r",
      " 11%|████▍                                   | 303/2747 [00:32<04:14,  9.61it/s]"
     ]
    },
    {
     "name": "stdout",
     "output_type": "stream",
     "text": [
      "303  image file:  KIC07885570_morp0.58.png\n",
      "1/1 [==============================] - 0s 60ms/step\n"
     ]
    },
    {
     "name": "stderr",
     "output_type": "stream",
     "text": [
      "\r",
      " 11%|████▍                                   | 304/2747 [00:32<04:14,  9.60it/s]"
     ]
    },
    {
     "name": "stdout",
     "output_type": "stream",
     "text": [
      "304  image file:  KIC10799735_morp0.02.png\n",
      "1/1 [==============================] - 0s 58ms/step\n",
      "305  image file:  KIC05643492_morp0.03.png\n",
      "1/1 [==============================] - 0s 54ms/step\n"
     ]
    },
    {
     "name": "stderr",
     "output_type": "stream",
     "text": [
      "\r",
      " 11%|████▍                                   | 306/2747 [00:32<04:16,  9.52it/s]"
     ]
    },
    {
     "name": "stdout",
     "output_type": "stream",
     "text": [
      "306  image file:  KIC05347537_morp0.0.png\n",
      "1/1 [==============================] - 0s 57ms/step\n"
     ]
    },
    {
     "name": "stderr",
     "output_type": "stream",
     "text": [
      "\r",
      " 11%|████▍                                   | 307/2747 [00:32<04:14,  9.60it/s]"
     ]
    },
    {
     "name": "stdout",
     "output_type": "stream",
     "text": [
      "307  image file:  KIC10419211_morp0.08.png\n",
      "1/1 [==============================] - 0s 63ms/step\n"
     ]
    },
    {
     "name": "stderr",
     "output_type": "stream",
     "text": [
      "\r",
      " 11%|████▍                                   | 308/2747 [00:33<04:12,  9.67it/s]"
     ]
    },
    {
     "name": "stdout",
     "output_type": "stream",
     "text": [
      "308  image file:  KIC06267702_morp0.9.png\n",
      "1/1 [==============================] - 0s 56ms/step\n",
      "309  image file:  KIC02717141_morp0.78.png\n",
      "1/1 [==============================] - 0s 62ms/step\n"
     ]
    },
    {
     "name": "stderr",
     "output_type": "stream",
     "text": [
      "\r",
      " 11%|████▌                                   | 310/2747 [00:33<04:07,  9.85it/s]"
     ]
    },
    {
     "name": "stdout",
     "output_type": "stream",
     "text": [
      "310  image file:  KIC08296467_morp0.16.png\n",
      "1/1 [==============================] - 0s 56ms/step\n",
      "311  image file:  KIC06153672_morp0.11.png\n",
      "1/1 [==============================] - 0s 52ms/step\n"
     ]
    },
    {
     "name": "stderr",
     "output_type": "stream",
     "text": [
      "\r",
      " 11%|████▌                                   | 312/2747 [00:33<03:57, 10.26it/s]"
     ]
    },
    {
     "name": "stdout",
     "output_type": "stream",
     "text": [
      "312  image file:  KIC08574270_morp0.06.png\n",
      "1/1 [==============================] - 0s 63ms/step\n",
      "313  image file:  KIC07039026_morp-1.0.png\n",
      "1/1 [==============================] - 0s 59ms/step\n"
     ]
    },
    {
     "name": "stderr",
     "output_type": "stream",
     "text": [
      "\r",
      " 11%|████▌                                   | 314/2747 [00:33<04:00, 10.10it/s]"
     ]
    },
    {
     "name": "stdout",
     "output_type": "stream",
     "text": [
      "314  image file:  KIC04357272_morp0.64.png\n",
      "1/1 [==============================] - 0s 62ms/step\n",
      "315  image file:  KIC09655187_morp0.81.png\n",
      "1/1 [==============================] - 0s 58ms/step\n"
     ]
    },
    {
     "name": "stderr",
     "output_type": "stream",
     "text": [
      "\r",
      " 12%|████▌                                   | 316/2747 [00:33<03:58, 10.19it/s]"
     ]
    },
    {
     "name": "stdout",
     "output_type": "stream",
     "text": [
      "316  image file:  KIC11564013_morp0.45.png\n",
      "1/1 [==============================] - 0s 65ms/step\n",
      "317  image file:  KIC11966557_morp0.06.png\n",
      "1/1 [==============================] - 0s 53ms/step\n"
     ]
    },
    {
     "name": "stderr",
     "output_type": "stream",
     "text": [
      "\r",
      " 12%|████▋                                   | 318/2747 [00:33<03:58, 10.17it/s]"
     ]
    },
    {
     "name": "stdout",
     "output_type": "stream",
     "text": [
      "318  image file:  KIC05353653_morp0.91.png\n",
      "1/1 [==============================] - 0s 64ms/step\n",
      "319  image file:  KIC03439180_morp0.76.png\n",
      "1/1 [==============================] - 0s 92ms/step\n"
     ]
    },
    {
     "name": "stderr",
     "output_type": "stream",
     "text": [
      "\r",
      " 12%|████▋                                   | 320/2747 [00:34<04:15,  9.50it/s]"
     ]
    },
    {
     "name": "stdout",
     "output_type": "stream",
     "text": [
      "320  image file:  KIC07769072_morp0.52.png\n",
      "1/1 [==============================] - 0s 64ms/step\n"
     ]
    },
    {
     "name": "stderr",
     "output_type": "stream",
     "text": [
      "\r",
      " 12%|████▋                                   | 321/2747 [00:34<04:14,  9.53it/s]"
     ]
    },
    {
     "name": "stdout",
     "output_type": "stream",
     "text": [
      "321  image file:  KIC07691527_morp0.18.png\n",
      "1/1 [==============================] - 0s 56ms/step\n",
      "322  image file:  KIC05801571_morp0.35.png\n",
      "1/1 [==============================] - 0s 92ms/step\n"
     ]
    },
    {
     "name": "stderr",
     "output_type": "stream",
     "text": [
      "\r",
      " 12%|████▋                                   | 323/2747 [00:34<04:55,  8.20it/s]"
     ]
    },
    {
     "name": "stdout",
     "output_type": "stream",
     "text": [
      "323  image file:  KIC08841616_morp0.59.png\n",
      "1/1 [==============================] - 0s 66ms/step\n"
     ]
    },
    {
     "name": "stderr",
     "output_type": "stream",
     "text": [
      "\r",
      " 12%|████▋                                   | 324/2747 [00:34<04:46,  8.46it/s]"
     ]
    },
    {
     "name": "stdout",
     "output_type": "stream",
     "text": [
      "324  image file:  KIC10592163_morp0.11.png\n",
      "1/1 [==============================] - 0s 56ms/step\n",
      "325  image file:  KIC02557430_morp0.51.png\n",
      "1/1 [==============================] - 0s 59ms/step\n"
     ]
    },
    {
     "name": "stderr",
     "output_type": "stream",
     "text": [
      "\r",
      " 12%|████▋                                   | 326/2747 [00:34<04:25,  9.11it/s]"
     ]
    },
    {
     "name": "stdout",
     "output_type": "stream",
     "text": [
      "326  image file:  KIC12019674_morp0.77.png\n",
      "1/1 [==============================] - 0s 55ms/step\n",
      "327  image file:  KIC03644542_morp0.06.png\n",
      "1/1 [==============================] - 0s 71ms/step\n"
     ]
    },
    {
     "name": "stderr",
     "output_type": "stream",
     "text": [
      "\r",
      " 12%|████▊                                   | 328/2747 [00:35<04:20,  9.28it/s]"
     ]
    },
    {
     "name": "stdout",
     "output_type": "stream",
     "text": [
      "328  image file:  KIC09837083_morp0.52.png\n",
      "1/1 [==============================] - 0s 82ms/step\n"
     ]
    },
    {
     "name": "stderr",
     "output_type": "stream",
     "text": [
      "\r",
      " 12%|████▊                                   | 329/2747 [00:35<05:22,  7.50it/s]"
     ]
    },
    {
     "name": "stdout",
     "output_type": "stream",
     "text": [
      "329  image file:  KIC11961695_morp0.02.png\n",
      "1/1 [==============================] - 0s 81ms/step\n"
     ]
    },
    {
     "name": "stderr",
     "output_type": "stream",
     "text": [
      "\r",
      " 12%|████▊                                   | 330/2747 [00:35<05:15,  7.65it/s]"
     ]
    },
    {
     "name": "stdout",
     "output_type": "stream",
     "text": [
      "330  image file:  KIC08294484_morp0.58.png\n",
      "1/1 [==============================] - 0s 73ms/step\n"
     ]
    },
    {
     "name": "stderr",
     "output_type": "stream",
     "text": [
      "\r",
      " 12%|████▊                                   | 331/2747 [00:35<05:14,  7.68it/s]"
     ]
    },
    {
     "name": "stdout",
     "output_type": "stream",
     "text": [
      "331  image file:  KIC11825198_morp0.8.png\n",
      "1/1 [==============================] - 0s 65ms/step\n"
     ]
    },
    {
     "name": "stderr",
     "output_type": "stream",
     "text": [
      "\r",
      " 12%|████▊                                   | 332/2747 [00:35<05:06,  7.89it/s]"
     ]
    },
    {
     "name": "stdout",
     "output_type": "stream",
     "text": [
      "332  image file:  KIC08491745_morp0.06.png\n",
      "1/1 [==============================] - 0s 62ms/step\n",
      "333  image file:  KIC12302391_morp0.03.png\n",
      "1/1 [==============================] - 0s 66ms/step\n"
     ]
    },
    {
     "name": "stderr",
     "output_type": "stream",
     "text": [
      "\r",
      " 12%|████▊                                   | 334/2747 [00:35<04:41,  8.57it/s]"
     ]
    },
    {
     "name": "stdout",
     "output_type": "stream",
     "text": [
      "334  image file:  KIC08616873_morp0.54.png\n",
      "1/1 [==============================] - 0s 60ms/step\n",
      "335  image file:  KIC10925104_morp0.13.png\n",
      "1/1 [==============================] - 0s 59ms/step\n"
     ]
    },
    {
     "name": "stderr",
     "output_type": "stream",
     "text": [
      "\r",
      " 12%|████▉                                   | 336/2747 [00:36<04:26,  9.03it/s]"
     ]
    },
    {
     "name": "stdout",
     "output_type": "stream",
     "text": [
      "336  image file:  KIC09838975_morp0.06.png\n",
      "1/1 [==============================] - 0s 63ms/step\n"
     ]
    },
    {
     "name": "stderr",
     "output_type": "stream",
     "text": [
      "\r",
      " 12%|████▉                                   | 337/2747 [00:36<04:30,  8.90it/s]"
     ]
    },
    {
     "name": "stdout",
     "output_type": "stream",
     "text": [
      "337  image file:  KIC11405559_morp0.75.png\n",
      "1/1 [==============================] - 0s 60ms/step\n",
      "338  image file:  KIC09632895_morp0.06.png\n",
      "1/1 [==============================] - 0s 59ms/step\n"
     ]
    },
    {
     "name": "stderr",
     "output_type": "stream",
     "text": [
      "\r",
      " 12%|████▉                                   | 339/2747 [00:36<04:16,  9.40it/s]"
     ]
    },
    {
     "name": "stdout",
     "output_type": "stream",
     "text": [
      "339  image file:  KIC07051984_morp0.54.png\n",
      "1/1 [==============================] - 0s 57ms/step\n",
      "340  image file:  KIC07671594_morp0.34.png\n",
      "1/1 [==============================] - 0s 55ms/step\n"
     ]
    },
    {
     "name": "stderr",
     "output_type": "stream",
     "text": [
      "\r",
      " 12%|████▉                                   | 341/2747 [00:36<04:04,  9.85it/s]"
     ]
    },
    {
     "name": "stdout",
     "output_type": "stream",
     "text": [
      "341  image file:  KIC07936219_morp0.95.png\n",
      "1/1 [==============================] - 0s 56ms/step\n",
      "342  image file:  KIC07821010_morp0.03.png\n",
      "1/1 [==============================] - 0s 53ms/step\n"
     ]
    },
    {
     "name": "stderr",
     "output_type": "stream",
     "text": [
      "\r",
      " 12%|████▉                                   | 343/2747 [00:36<03:55, 10.22it/s]"
     ]
    },
    {
     "name": "stdout",
     "output_type": "stream",
     "text": [
      "343  image file:  KIC05283839_morp0.93.png\n",
      "1/1 [==============================] - 0s 55ms/step\n",
      "344  image file:  KIC04385109_morp0.9.png\n",
      "1/1 [==============================] - 0s 52ms/step\n"
     ]
    },
    {
     "name": "stderr",
     "output_type": "stream",
     "text": [
      "\r",
      " 13%|█████                                   | 345/2747 [00:37<03:50, 10.44it/s]"
     ]
    },
    {
     "name": "stdout",
     "output_type": "stream",
     "text": [
      "345  image file:  KIC05652983_morp0.0.png\n",
      "1/1 [==============================] - 0s 53ms/step\n",
      "346  image file:  KIC06106771_morp0.77.png\n",
      "1/1 [==============================] - 0s 52ms/step\n"
     ]
    },
    {
     "name": "stderr",
     "output_type": "stream",
     "text": [
      "\r",
      " 13%|█████                                   | 347/2747 [00:37<03:44, 10.71it/s]"
     ]
    },
    {
     "name": "stdout",
     "output_type": "stream",
     "text": [
      "347  image file:  KIC10274244_morp0.08.png\n",
      "1/1 [==============================] - 0s 52ms/step\n",
      "348  image file:  KIC11724091_morp0.55.png\n",
      "1/1 [==============================] - 0s 54ms/step\n"
     ]
    },
    {
     "name": "stderr",
     "output_type": "stream",
     "text": [
      "\r",
      " 13%|█████                                   | 349/2747 [00:37<03:39, 10.91it/s]"
     ]
    },
    {
     "name": "stdout",
     "output_type": "stream",
     "text": [
      "349  image file:  KIC08455359_morp0.79.png\n",
      "1/1 [==============================] - 0s 52ms/step\n",
      "350  image file:  KIC10253375_morp0.89.png\n",
      "1/1 [==============================] - 0s 52ms/step\n"
     ]
    },
    {
     "name": "stderr",
     "output_type": "stream",
     "text": [
      "\r",
      " 13%|█████                                   | 351/2747 [00:37<03:35, 11.10it/s]"
     ]
    },
    {
     "name": "stdout",
     "output_type": "stream",
     "text": [
      "351  image file:  KIC04847343_morp-1.0.png\n",
      "1/1 [==============================] - 0s 60ms/step\n",
      "352  image file:  KIC07373555_morp0.96.png\n",
      "1/1 [==============================] - 0s 51ms/step\n"
     ]
    },
    {
     "name": "stderr",
     "output_type": "stream",
     "text": [
      "\r",
      " 13%|█████▏                                  | 353/2747 [00:37<03:34, 11.15it/s]"
     ]
    },
    {
     "name": "stdout",
     "output_type": "stream",
     "text": [
      "353  image file:  KIC07953796_morp0.94.png\n",
      "1/1 [==============================] - 0s 64ms/step\n",
      "354  image file:  KIC03342592_morp0.13.png\n",
      "1/1 [==============================] - 0s 51ms/step\n"
     ]
    },
    {
     "name": "stderr",
     "output_type": "stream",
     "text": [
      "\r",
      " 13%|█████▏                                  | 355/2747 [00:37<03:36, 11.03it/s]"
     ]
    },
    {
     "name": "stdout",
     "output_type": "stream",
     "text": [
      "355  image file:  KIC11246163_morp0.79.png\n",
      "1/1 [==============================] - 0s 53ms/step\n",
      "356  image file:  KIC03945892_morp1.0.png\n",
      "1/1 [==============================] - 0s 53ms/step\n"
     ]
    },
    {
     "name": "stderr",
     "output_type": "stream",
     "text": [
      "\r",
      " 13%|█████▏                                  | 357/2747 [00:38<03:33, 11.17it/s]"
     ]
    },
    {
     "name": "stdout",
     "output_type": "stream",
     "text": [
      "357  image file:  KIC10816107_morp0.46.png\n",
      "1/1 [==============================] - 0s 56ms/step\n",
      "358  image file:  KIC07009828_morp0.23.png\n",
      "1/1 [==============================] - 0s 50ms/step\n"
     ]
    },
    {
     "name": "stderr",
     "output_type": "stream",
     "text": [
      "\r",
      " 13%|█████▏                                  | 359/2747 [00:38<03:33, 11.20it/s]"
     ]
    },
    {
     "name": "stdout",
     "output_type": "stream",
     "text": [
      "359  image file:  KIC10601579_morp0.2.png\n",
      "1/1 [==============================] - 0s 51ms/step\n",
      "360  image file:  KIC09181877_morp0.75.png\n",
      "1/1 [==============================] - 0s 51ms/step\n"
     ]
    },
    {
     "name": "stderr",
     "output_type": "stream",
     "text": [
      "\r",
      " 13%|█████▎                                  | 361/2747 [00:38<03:30, 11.36it/s]"
     ]
    },
    {
     "name": "stdout",
     "output_type": "stream",
     "text": [
      "361  image file:  KIC05343976_morp0.22.png\n",
      "1/1 [==============================] - 0s 53ms/step\n",
      "362  image file:  KIC09071104_morp0.82.png\n",
      "1/1 [==============================] - 0s 53ms/step\n"
     ]
    },
    {
     "name": "stderr",
     "output_type": "stream",
     "text": [
      "\r",
      " 13%|█████▎                                  | 363/2747 [00:38<03:31, 11.25it/s]"
     ]
    },
    {
     "name": "stdout",
     "output_type": "stream",
     "text": [
      "363  image file:  KIC07518816_morp0.65.png\n",
      "1/1 [==============================] - 0s 53ms/step\n",
      "364  image file:  KIC06947666_morp0.02.png\n",
      "1/1 [==============================] - 0s 50ms/step\n"
     ]
    },
    {
     "name": "stderr",
     "output_type": "stream",
     "text": [
      "\r",
      " 13%|█████▎                                  | 365/2747 [00:38<03:29, 11.35it/s]"
     ]
    },
    {
     "name": "stdout",
     "output_type": "stream",
     "text": [
      "365  image file:  KIC06302051_morp0.75.png\n",
      "1/1 [==============================] - 0s 52ms/step\n",
      "366  image file:  KIC10420279_morp0.03.png\n",
      "1/1 [==============================] - 0s 54ms/step\n"
     ]
    },
    {
     "name": "stderr",
     "output_type": "stream",
     "text": [
      "\r",
      " 13%|█████▎                                  | 367/2747 [00:38<03:29, 11.38it/s]"
     ]
    },
    {
     "name": "stdout",
     "output_type": "stream",
     "text": [
      "367  image file:  KIC10491031_morp0.42.png\n",
      "1/1 [==============================] - 0s 54ms/step\n",
      "368  image file:  KIC06611330_morp0.02.png\n",
      "1/1 [==============================] - 0s 53ms/step\n"
     ]
    },
    {
     "name": "stderr",
     "output_type": "stream",
     "text": [
      "\r",
      " 13%|█████▎                                  | 369/2747 [00:39<03:29, 11.35it/s]"
     ]
    },
    {
     "name": "stdout",
     "output_type": "stream",
     "text": [
      "369  image file:  KIC09024857_morp0.01.png\n",
      "1/1 [==============================] - 0s 54ms/step\n",
      "370  image file:  KIC09163796_morp-1.0.png\n",
      "1/1 [==============================] - 0s 54ms/step\n"
     ]
    },
    {
     "name": "stderr",
     "output_type": "stream",
     "text": [
      "\r",
      " 14%|█████▍                                  | 371/2747 [00:39<03:30, 11.31it/s]"
     ]
    },
    {
     "name": "stdout",
     "output_type": "stream",
     "text": [
      "371  image file:  KIC08480642_morp0.01.png\n",
      "1/1 [==============================] - 0s 53ms/step\n",
      "372  image file:  KIC10618253_morp0.9.png\n",
      "1/1 [==============================] - 0s 53ms/step\n"
     ]
    },
    {
     "name": "stderr",
     "output_type": "stream",
     "text": [
      "\r",
      " 14%|█████▍                                  | 373/2747 [00:39<03:30, 11.30it/s]"
     ]
    },
    {
     "name": "stdout",
     "output_type": "stream",
     "text": [
      "373  image file:  KIC07970629_morp0.47.png\n",
      "1/1 [==============================] - 0s 53ms/step\n",
      "374  image file:  KIC09426071_morp0.05.png\n",
      "1/1 [==============================] - 0s 53ms/step\n"
     ]
    },
    {
     "name": "stderr",
     "output_type": "stream",
     "text": [
      "\r",
      " 14%|█████▍                                  | 375/2747 [00:39<03:29, 11.32it/s]"
     ]
    },
    {
     "name": "stdout",
     "output_type": "stream",
     "text": [
      "375  image file:  KIC07906882_morp0.01.png\n",
      "1/1 [==============================] - 0s 53ms/step\n",
      "376  image file:  KIC09715925_morp0.11.png\n",
      "1/1 [==============================] - 0s 52ms/step\n"
     ]
    },
    {
     "name": "stderr",
     "output_type": "stream",
     "text": [
      "\r",
      " 14%|█████▍                                  | 377/2747 [00:39<03:28, 11.39it/s]"
     ]
    },
    {
     "name": "stdout",
     "output_type": "stream",
     "text": [
      "377  image file:  KIC06504534_morp0.02.png\n",
      "1/1 [==============================] - 0s 51ms/step\n",
      "378  image file:  KIC07118545_morp0.13.png\n",
      "1/1 [==============================] - 0s 49ms/step\n"
     ]
    },
    {
     "name": "stderr",
     "output_type": "stream",
     "text": [
      "\r",
      " 14%|█████▌                                  | 379/2747 [00:39<03:26, 11.49it/s]"
     ]
    },
    {
     "name": "stdout",
     "output_type": "stream",
     "text": [
      "379  image file:  KIC09657096_morp0.94.png\n",
      "1/1 [==============================] - 0s 52ms/step\n",
      "380  image file:  KIC11144556_morp0.84.png\n",
      "1/1 [==============================] - 0s 51ms/step\n"
     ]
    },
    {
     "name": "stderr",
     "output_type": "stream",
     "text": [
      "\r",
      " 14%|█████▌                                  | 381/2747 [00:40<03:25, 11.52it/s]"
     ]
    },
    {
     "name": "stdout",
     "output_type": "stream",
     "text": [
      "381  image file:  KIC04848423_morp0.48.png\n",
      "1/1 [==============================] - 0s 54ms/step\n",
      "382  image file:  KIC07269843_morp0.81.png\n",
      "1/1 [==============================] - 0s 52ms/step\n"
     ]
    },
    {
     "name": "stderr",
     "output_type": "stream",
     "text": [
      "\r",
      " 14%|█████▌                                  | 383/2747 [00:40<05:16,  7.47it/s]"
     ]
    },
    {
     "name": "stdout",
     "output_type": "stream",
     "text": [
      "383  image file:  KIC05090937_morp-1.0.png\n",
      "1/1 [==============================] - 0s 52ms/step\n",
      "384  image file:  KIC08488876_morp0.18.png\n",
      "1/1 [==============================] - 0s 52ms/step\n"
     ]
    },
    {
     "name": "stderr",
     "output_type": "stream",
     "text": [
      "\r",
      " 14%|█████▌                                  | 385/2747 [00:40<04:40,  8.42it/s]"
     ]
    },
    {
     "name": "stdout",
     "output_type": "stream",
     "text": [
      "385  image file:  KIC11494130_morp-1.0.png\n",
      "1/1 [==============================] - 0s 51ms/step\n",
      "386  image file:  KIC08098728_morp0.35.png\n",
      "1/1 [==============================] - 0s 52ms/step\n"
     ]
    },
    {
     "name": "stderr",
     "output_type": "stream",
     "text": [
      "\r",
      " 14%|█████▋                                  | 387/2747 [00:40<04:14,  9.27it/s]"
     ]
    },
    {
     "name": "stdout",
     "output_type": "stream",
     "text": [
      "387  image file:  KIC04909707_morp0.72.png\n",
      "1/1 [==============================] - 0s 51ms/step\n",
      "388  image file:  KIC10485137_morp0.72.png\n",
      "1/1 [==============================] - 0s 73ms/step\n"
     ]
    },
    {
     "name": "stderr",
     "output_type": "stream",
     "text": [
      "\r",
      " 14%|█████▋                                  | 389/2747 [00:41<04:06,  9.58it/s]"
     ]
    },
    {
     "name": "stdout",
     "output_type": "stream",
     "text": [
      "389  image file:  KIC07881722_morp-1.0.png\n",
      "1/1 [==============================] - 0s 53ms/step\n",
      "390  image file:  KIC05461570_morp0.96.png\n",
      "1/1 [==============================] - 0s 55ms/step\n"
     ]
    },
    {
     "name": "stderr",
     "output_type": "stream",
     "text": [
      "\r",
      " 14%|█████▋                                  | 391/2747 [00:41<03:54, 10.03it/s]"
     ]
    },
    {
     "name": "stdout",
     "output_type": "stream",
     "text": [
      "391  image file:  KIC12557713_morp0.09.png\n",
      "1/1 [==============================] - 0s 52ms/step\n",
      "392  image file:  KIC02450566_morp0.98.png\n",
      "1/1 [==============================] - 0s 52ms/step\n"
     ]
    },
    {
     "name": "stderr",
     "output_type": "stream",
     "text": [
      "\r",
      " 14%|█████▋                                  | 393/2747 [00:41<03:44, 10.51it/s]"
     ]
    },
    {
     "name": "stdout",
     "output_type": "stream",
     "text": [
      "393  image file:  KIC06124941_morp0.04.png\n",
      "1/1 [==============================] - 0s 52ms/step\n",
      "394  image file:  KIC03656322_morp0.59.png\n",
      "1/1 [==============================] - 0s 51ms/step\n"
     ]
    },
    {
     "name": "stderr",
     "output_type": "stream",
     "text": [
      "\r",
      " 14%|█████▊                                  | 395/2747 [00:41<03:35, 10.94it/s]"
     ]
    },
    {
     "name": "stdout",
     "output_type": "stream",
     "text": [
      "395  image file:  KIC05699617_morp0.77.png\n",
      "1/1 [==============================] - 0s 51ms/step\n",
      "396  image file:  KIC09944421_morp0.12.png\n",
      "1/1 [==============================] - 0s 50ms/step\n"
     ]
    },
    {
     "name": "stderr",
     "output_type": "stream",
     "text": [
      "\r",
      " 14%|█████▊                                  | 397/2747 [00:41<03:27, 11.31it/s]"
     ]
    },
    {
     "name": "stdout",
     "output_type": "stream",
     "text": [
      "397  image file:  KIC03964545_morp0.28.png\n",
      "1/1 [==============================] - 0s 53ms/step\n",
      "398  image file:  KIC11449844_morp0.03.png\n",
      "1/1 [==============================] - 0s 52ms/step\n"
     ]
    },
    {
     "name": "stderr",
     "output_type": "stream",
     "text": [
      "\r",
      " 15%|█████▊                                  | 399/2747 [00:42<03:24, 11.50it/s]"
     ]
    },
    {
     "name": "stdout",
     "output_type": "stream",
     "text": [
      "399  image file:  KIC09077796_morp0.72.png\n",
      "1/1 [==============================] - 0s 55ms/step\n",
      "400  image file:  KIC04850874_morp0.94.png\n",
      "1/1 [==============================] - 0s 55ms/step\n"
     ]
    },
    {
     "name": "stderr",
     "output_type": "stream",
     "text": [
      "\r",
      " 15%|█████▊                                  | 401/2747 [00:42<03:25, 11.39it/s]"
     ]
    },
    {
     "name": "stdout",
     "output_type": "stream",
     "text": [
      "401  image file:  KIC06029130_morp0.1.png\n",
      "1/1 [==============================] - 0s 54ms/step\n",
      "402  image file:  KIC09143254_morp0.38.png\n",
      "1/1 [==============================] - 0s 52ms/step\n"
     ]
    },
    {
     "name": "stderr",
     "output_type": "stream",
     "text": [
      "\r",
      " 15%|█████▊                                  | 403/2747 [00:42<03:25, 11.40it/s]"
     ]
    },
    {
     "name": "stdout",
     "output_type": "stream",
     "text": [
      "403  image file:  KIC04946584_morp0.62.png\n",
      "1/1 [==============================] - 0s 54ms/step\n",
      "404  image file:  KIC08108437_morp0.0.png\n",
      "1/1 [==============================] - 0s 54ms/step\n"
     ]
    },
    {
     "name": "stderr",
     "output_type": "stream",
     "text": [
      "\r",
      " 15%|█████▉                                  | 405/2747 [00:42<03:24, 11.45it/s]"
     ]
    },
    {
     "name": "stdout",
     "output_type": "stream",
     "text": [
      "405  image file:  KIC07259722_morp-1.0.png\n",
      "1/1 [==============================] - 0s 52ms/step\n",
      "406  image file:  KIC05736537_morp-1.0.png\n",
      "1/1 [==============================] - 0s 53ms/step\n"
     ]
    },
    {
     "name": "stderr",
     "output_type": "stream",
     "text": [
      "\r",
      " 15%|█████▉                                  | 407/2747 [00:42<03:23, 11.48it/s]"
     ]
    },
    {
     "name": "stdout",
     "output_type": "stream",
     "text": [
      "407  image file:  KIC07941635_morp0.52.png\n",
      "1/1 [==============================] - 0s 52ms/step\n",
      "408  image file:  KIC02305277_morp0.98.png\n",
      "1/1 [==============================] - 0s 55ms/step\n"
     ]
    },
    {
     "name": "stderr",
     "output_type": "stream",
     "text": [
      "\r",
      " 15%|█████▉                                  | 409/2747 [00:42<03:24, 11.41it/s]"
     ]
    },
    {
     "name": "stdout",
     "output_type": "stream",
     "text": [
      "409  image file:  KIC06591789_morp0.25.png\n",
      "1/1 [==============================] - 0s 54ms/step\n",
      "410  image file:  KIC10155563_morp0.93.png\n",
      "1/1 [==============================] - 0s 54ms/step\n"
     ]
    },
    {
     "name": "stderr",
     "output_type": "stream",
     "text": [
      "\r",
      " 15%|█████▉                                  | 411/2747 [00:43<03:25, 11.39it/s]"
     ]
    },
    {
     "name": "stdout",
     "output_type": "stream",
     "text": [
      "411  image file:  KIC09101279_morp0.58.png\n",
      "1/1 [==============================] - 0s 55ms/step\n",
      "412  image file:  KIC04550750_morp0.77.png\n",
      "1/1 [==============================] - 0s 60ms/step\n"
     ]
    },
    {
     "name": "stderr",
     "output_type": "stream",
     "text": [
      "\r",
      " 15%|██████                                  | 413/2747 [00:43<03:28, 11.19it/s]"
     ]
    },
    {
     "name": "stdout",
     "output_type": "stream",
     "text": [
      "413  image file:  KIC08195877_morp0.48.png\n",
      "1/1 [==============================] - 0s 53ms/step\n",
      "414  image file:  KIC08507080_morp0.84.png\n",
      "1/1 [==============================] - 0s 52ms/step\n"
     ]
    },
    {
     "name": "stderr",
     "output_type": "stream",
     "text": [
      "\r",
      " 15%|██████                                  | 415/2747 [00:43<03:26, 11.30it/s]"
     ]
    },
    {
     "name": "stdout",
     "output_type": "stream",
     "text": [
      "415  image file:  KIC08097902_morp0.75.png\n",
      "1/1 [==============================] - 0s 54ms/step\n",
      "416  image file:  KIC05359678_morp0.27.png\n",
      "1/1 [==============================] - 0s 54ms/step\n"
     ]
    },
    {
     "name": "stderr",
     "output_type": "stream",
     "text": [
      "\r",
      " 15%|██████                                  | 417/2747 [00:43<03:25, 11.33it/s]"
     ]
    },
    {
     "name": "stdout",
     "output_type": "stream",
     "text": [
      "417  image file:  KIC04739791_morp0.59.png\n",
      "1/1 [==============================] - 0s 57ms/step\n",
      "418  image file:  KIC11599264_morp0.06.png\n",
      "1/1 [==============================] - 0s 58ms/step\n"
     ]
    },
    {
     "name": "stderr",
     "output_type": "stream",
     "text": [
      "\r",
      " 15%|██████                                  | 419/2747 [00:43<03:39, 10.60it/s]"
     ]
    },
    {
     "name": "stdout",
     "output_type": "stream",
     "text": [
      "419  image file:  KIC06370665_morp0.96.png\n",
      "1/1 [==============================] - 0s 64ms/step\n",
      "420  image file:  KIC10935310_morp0.15.png\n",
      "1/1 [==============================] - 0s 58ms/step\n"
     ]
    },
    {
     "name": "stderr",
     "output_type": "stream",
     "text": [
      "\r",
      " 15%|██████▏                                 | 421/2747 [00:44<03:46, 10.26it/s]"
     ]
    },
    {
     "name": "stdout",
     "output_type": "stream",
     "text": [
      "421  image file:  KIC09637239_morp0.91.png\n",
      "1/1 [==============================] - 0s 57ms/step\n",
      "422  image file:  KIC06966265_morp0.76.png\n",
      "1/1 [==============================] - 0s 59ms/step\n"
     ]
    },
    {
     "name": "stderr",
     "output_type": "stream",
     "text": [
      "\r",
      " 15%|██████▏                                 | 423/2747 [00:44<03:44, 10.35it/s]"
     ]
    },
    {
     "name": "stdout",
     "output_type": "stream",
     "text": [
      "423  image file:  KIC03221207_morp0.81.png\n",
      "1/1 [==============================] - 0s 56ms/step\n",
      "424  image file:  KIC05623923_morp0.61.png\n",
      "1/1 [==============================] - 0s 54ms/step\n"
     ]
    },
    {
     "name": "stderr",
     "output_type": "stream",
     "text": [
      "\r",
      " 15%|██████▏                                 | 425/2747 [00:44<03:39, 10.56it/s]"
     ]
    },
    {
     "name": "stdout",
     "output_type": "stream",
     "text": [
      "425  image file:  KIC08177958_morp0.81.png\n",
      "1/1 [==============================] - 0s 53ms/step\n",
      "426  image file:  KIC05266937_morp0.56.png\n",
      "1/1 [==============================] - 0s 53ms/step\n"
     ]
    },
    {
     "name": "stderr",
     "output_type": "stream",
     "text": [
      "\r",
      " 16%|██████▏                                 | 427/2747 [00:44<03:35, 10.78it/s]"
     ]
    },
    {
     "name": "stdout",
     "output_type": "stream",
     "text": [
      "427  image file:  KIC08452840_morp0.84.png\n",
      "1/1 [==============================] - 0s 52ms/step\n",
      "428  image file:  KIC04079530_morp0.07.png\n",
      "1/1 [==============================] - 0s 53ms/step\n"
     ]
    },
    {
     "name": "stderr",
     "output_type": "stream",
     "text": [
      "\r",
      " 16%|██████▏                                 | 429/2747 [00:44<03:28, 11.09it/s]"
     ]
    },
    {
     "name": "stdout",
     "output_type": "stream",
     "text": [
      "429  image file:  KIC09164561_morp0.61.png\n",
      "1/1 [==============================] - 0s 51ms/step\n",
      "430  image file:  KIC10020247_morp0.83.png\n",
      "1/1 [==============================] - 0s 53ms/step\n"
     ]
    },
    {
     "name": "stderr",
     "output_type": "stream",
     "text": [
      "\r",
      " 16%|██████▎                                 | 431/2747 [00:44<03:32, 10.90it/s]"
     ]
    },
    {
     "name": "stdout",
     "output_type": "stream",
     "text": [
      "431  image file:  KIC08009500_morp0.02.png\n",
      "1/1 [==============================] - 0s 53ms/step\n",
      "432  image file:  KIC08081482_morp0.4.png\n",
      "1/1 [==============================] - 0s 55ms/step\n"
     ]
    },
    {
     "name": "stderr",
     "output_type": "stream",
     "text": [
      "\r",
      " 16%|██████▎                                 | 433/2747 [00:45<03:32, 10.89it/s]"
     ]
    },
    {
     "name": "stdout",
     "output_type": "stream",
     "text": [
      "433  image file:  KIC03345675_morp0.0.png\n",
      "1/1 [==============================] - 0s 70ms/step\n",
      "434  image file:  KIC03437800_morp0.97.png\n",
      "1/1 [==============================] - 0s 69ms/step\n"
     ]
    },
    {
     "name": "stderr",
     "output_type": "stream",
     "text": [
      "\r",
      " 16%|██████▎                                 | 435/2747 [00:45<03:49, 10.07it/s]"
     ]
    },
    {
     "name": "stdout",
     "output_type": "stream",
     "text": [
      "435  image file:  KIC05809827_morp0.67.png\n",
      "1/1 [==============================] - 0s 55ms/step\n",
      "436  image file:  KIC10583181_morp0.47.png\n",
      "1/1 [==============================] - 0s 58ms/step\n"
     ]
    },
    {
     "name": "stderr",
     "output_type": "stream",
     "text": [
      "\r",
      " 16%|██████▎                                 | 437/2747 [00:45<03:44, 10.28it/s]"
     ]
    },
    {
     "name": "stdout",
     "output_type": "stream",
     "text": [
      "437  image file:  KIC04840263_morp0.48.png\n",
      "1/1 [==============================] - 0s 59ms/step\n",
      "438  image file:  KIC07546429_morp0.92.png\n",
      "1/1 [==============================] - 0s 59ms/step\n"
     ]
    },
    {
     "name": "stderr",
     "output_type": "stream",
     "text": [
      "\r",
      " 16%|██████▍                                 | 439/2747 [00:45<03:45, 10.22it/s]"
     ]
    },
    {
     "name": "stdout",
     "output_type": "stream",
     "text": [
      "439  image file:  KIC09641018_morp0.43.png\n",
      "1/1 [==============================] - 0s 56ms/step\n",
      "440  image file:  KIC08848288_morp0.52.png\n",
      "1/1 [==============================] - 0s 56ms/step\n"
     ]
    },
    {
     "name": "stderr",
     "output_type": "stream",
     "text": [
      "\r",
      " 16%|██████▍                                 | 441/2747 [00:45<03:45, 10.24it/s]"
     ]
    },
    {
     "name": "stdout",
     "output_type": "stream",
     "text": [
      "441  image file:  KIC06949550_morp0.15.png\n",
      "1/1 [==============================] - 0s 55ms/step\n",
      "442  image file:  KIC04450976_morp-1.0.png\n",
      "1/1 [==============================] - 0s 53ms/step\n"
     ]
    },
    {
     "name": "stderr",
     "output_type": "stream",
     "text": [
      "\r",
      " 16%|██████▍                                 | 443/2747 [00:46<03:40, 10.47it/s]"
     ]
    },
    {
     "name": "stdout",
     "output_type": "stream",
     "text": [
      "443  image file:  KIC08610483_morp0.05.png\n",
      "1/1 [==============================] - 0s 56ms/step\n",
      "444  image file:  KIC12301181_morp0.16.png\n",
      "1/1 [==============================] - 0s 56ms/step\n"
     ]
    },
    {
     "name": "stderr",
     "output_type": "stream",
     "text": [
      "\r",
      " 16%|██████▍                                 | 445/2747 [00:46<03:37, 10.56it/s]"
     ]
    },
    {
     "name": "stdout",
     "output_type": "stream",
     "text": [
      "445  image file:  KIC06775034_morp-1.0.png\n",
      "1/1 [==============================] - 0s 53ms/step\n",
      "446  image file:  KIC08386982_morp-1.0.png\n",
      "1/1 [==============================] - 0s 52ms/step\n"
     ]
    },
    {
     "name": "stderr",
     "output_type": "stream",
     "text": [
      "\r",
      " 16%|██████▌                                 | 447/2747 [00:46<03:32, 10.81it/s]"
     ]
    },
    {
     "name": "stdout",
     "output_type": "stream",
     "text": [
      "447  image file:  KIC05474733_morp0.54.png\n",
      "1/1 [==============================] - 0s 57ms/step\n",
      "448  image file:  KIC06026204_morp0.98.png\n",
      "1/1 [==============================] - 0s 58ms/step\n"
     ]
    },
    {
     "name": "stderr",
     "output_type": "stream",
     "text": [
      "\r",
      " 16%|██████▌                                 | 449/2747 [00:46<03:31, 10.86it/s]"
     ]
    },
    {
     "name": "stdout",
     "output_type": "stream",
     "text": [
      "449  image file:  KIC05218014_morp0.11.png\n",
      "1/1 [==============================] - 0s 57ms/step\n",
      "450  image file:  KIC03853673_morp0.54.png\n",
      "1/1 [==============================] - 0s 50ms/step\n"
     ]
    },
    {
     "name": "stderr",
     "output_type": "stream",
     "text": [
      "\r",
      " 16%|██████▌                                 | 451/2747 [00:46<03:28, 11.01it/s]"
     ]
    },
    {
     "name": "stdout",
     "output_type": "stream",
     "text": [
      "451  image file:  KIC06631721_morp0.07.png\n",
      "1/1 [==============================] - 0s 50ms/step\n",
      "452  image file:  KIC11395117_morp0.74.png\n",
      "1/1 [==============================] - 0s 52ms/step\n"
     ]
    },
    {
     "name": "stderr",
     "output_type": "stream",
     "text": [
      "\r",
      " 16%|██████▌                                 | 453/2747 [00:47<03:25, 11.17it/s]"
     ]
    },
    {
     "name": "stdout",
     "output_type": "stream",
     "text": [
      "453  image file:  KIC08631160_morp0.02.png\n",
      "1/1 [==============================] - 0s 50ms/step\n",
      "454  image file:  KIC05818706_morp-1.0.png\n",
      "1/1 [==============================] - 0s 57ms/step\n"
     ]
    },
    {
     "name": "stderr",
     "output_type": "stream",
     "text": [
      "\r",
      " 17%|██████▋                                 | 455/2747 [00:47<03:29, 10.93it/s]"
     ]
    },
    {
     "name": "stdout",
     "output_type": "stream",
     "text": [
      "455  image file:  KIC11242721_morp0.08.png\n",
      "1/1 [==============================] - 0s 56ms/step\n",
      "456  image file:  KIC12508335_morp0.01.png\n",
      "1/1 [==============================] - 0s 50ms/step\n"
     ]
    },
    {
     "name": "stderr",
     "output_type": "stream",
     "text": [
      "\r",
      " 17%|██████▋                                 | 457/2747 [00:47<03:29, 10.95it/s]"
     ]
    },
    {
     "name": "stdout",
     "output_type": "stream",
     "text": [
      "457  image file:  KIC11499263_morp0.01.png\n",
      "1/1 [==============================] - 0s 53ms/step\n",
      "458  image file:  KIC05988465_morp0.76.png\n",
      "1/1 [==============================] - 0s 53ms/step\n"
     ]
    },
    {
     "name": "stderr",
     "output_type": "stream",
     "text": [
      "\r",
      " 17%|██████▋                                 | 459/2747 [00:47<03:24, 11.17it/s]"
     ]
    },
    {
     "name": "stdout",
     "output_type": "stream",
     "text": [
      "459  image file:  KIC12470530_morp0.13.png\n",
      "1/1 [==============================] - 0s 54ms/step\n",
      "460  image file:  KIC09895709_morp0.36.png\n",
      "1/1 [==============================] - 0s 60ms/step\n"
     ]
    },
    {
     "name": "stderr",
     "output_type": "stream",
     "text": [
      "\r",
      " 17%|██████▋                                 | 461/2747 [00:47<03:26, 11.10it/s]"
     ]
    },
    {
     "name": "stdout",
     "output_type": "stream",
     "text": [
      "461  image file:  KIC11042923_morp0.76.png\n",
      "1/1 [==============================] - 0s 54ms/step\n",
      "462  image file:  KIC09717958_morp-1.0.png\n",
      "1/1 [==============================] - 0s 53ms/step\n"
     ]
    },
    {
     "name": "stderr",
     "output_type": "stream",
     "text": [
      "\r",
      " 17%|██████▋                                 | 463/2747 [00:47<03:26, 11.04it/s]"
     ]
    },
    {
     "name": "stdout",
     "output_type": "stream",
     "text": [
      "463  image file:  KIC08111622_morp0.07.png\n",
      "1/1 [==============================] - 0s 62ms/step\n",
      "464  image file:  KIC08733497_morp0.01.png\n",
      "1/1 [==============================] - 0s 60ms/step\n"
     ]
    },
    {
     "name": "stderr",
     "output_type": "stream",
     "text": [
      "\r",
      " 17%|██████▊                                 | 465/2747 [00:48<03:30, 10.82it/s]"
     ]
    },
    {
     "name": "stdout",
     "output_type": "stream",
     "text": [
      "465  image file:  KIC03958488_morp0.95.png\n",
      "1/1 [==============================] - 0s 54ms/step\n",
      "466  image file:  KIC08242493_morp0.75.png\n",
      "1/1 [==============================] - 0s 59ms/step\n"
     ]
    },
    {
     "name": "stderr",
     "output_type": "stream",
     "text": [
      "\r",
      " 17%|██████▊                                 | 467/2747 [00:48<03:31, 10.79it/s]"
     ]
    },
    {
     "name": "stdout",
     "output_type": "stream",
     "text": [
      "467  image file:  KIC08364119_morp0.14.png\n",
      "1/1 [==============================] - 0s 55ms/step\n",
      "468  image file:  KIC05479973_morp0.58.png\n",
      "1/1 [==============================] - 0s 54ms/step\n"
     ]
    },
    {
     "name": "stderr",
     "output_type": "stream",
     "text": [
      "\r",
      " 17%|██████▊                                 | 469/2747 [00:48<03:30, 10.84it/s]"
     ]
    },
    {
     "name": "stdout",
     "output_type": "stream",
     "text": [
      "469  image file:  KIC06047498_morp0.42.png\n",
      "1/1 [==============================] - 0s 64ms/step\n",
      "470  image file:  KIC01575690_morp0.31.png\n",
      "1/1 [==============================] - 0s 53ms/step\n"
     ]
    },
    {
     "name": "stderr",
     "output_type": "stream",
     "text": [
      "\r",
      " 17%|██████▊                                 | 471/2747 [00:48<03:32, 10.72it/s]"
     ]
    },
    {
     "name": "stdout",
     "output_type": "stream",
     "text": [
      "471  image file:  KIC08230815_morp0.93.png\n",
      "1/1 [==============================] - 0s 53ms/step\n",
      "472  image file:  KIC02695740_morp0.85.png\n",
      "1/1 [==============================] - 0s 53ms/step\n"
     ]
    },
    {
     "name": "stderr",
     "output_type": "stream",
     "text": [
      "\r",
      " 17%|██████▉                                 | 473/2747 [00:48<03:28, 10.91it/s]"
     ]
    },
    {
     "name": "stdout",
     "output_type": "stream",
     "text": [
      "473  image file:  KIC10599397_morp0.51.png\n",
      "1/1 [==============================] - 0s 56ms/step\n",
      "474  image file:  KIC11859811_morp-1.0.png\n",
      "1/1 [==============================] - 0s 51ms/step\n"
     ]
    },
    {
     "name": "stderr",
     "output_type": "stream",
     "text": [
      "\r",
      " 17%|██████▉                                 | 475/2747 [00:49<03:26, 11.00it/s]"
     ]
    },
    {
     "name": "stdout",
     "output_type": "stream",
     "text": [
      "475  image file:  KIC11402381_morp0.87.png\n",
      "1/1 [==============================] - 0s 53ms/step\n",
      "476  image file:  KIC09954225_morp0.56.png\n",
      "1/1 [==============================] - 0s 56ms/step\n"
     ]
    },
    {
     "name": "stderr",
     "output_type": "stream",
     "text": [
      "\r",
      " 17%|██████▉                                 | 477/2747 [00:49<03:33, 10.61it/s]"
     ]
    },
    {
     "name": "stdout",
     "output_type": "stream",
     "text": [
      "477  image file:  KIC11127048_morp0.94.png\n",
      "1/1 [==============================] - 0s 61ms/step\n",
      "478  image file:  KIC10460629_morp0.0.png\n",
      "1/1 [==============================] - 0s 60ms/step\n"
     ]
    },
    {
     "name": "stderr",
     "output_type": "stream",
     "text": [
      "\r",
      " 17%|██████▉                                 | 479/2747 [00:49<03:34, 10.55it/s]"
     ]
    },
    {
     "name": "stdout",
     "output_type": "stream",
     "text": [
      "479  image file:  KIC05887316_morp0.55.png\n",
      "1/1 [==============================] - 0s 53ms/step\n",
      "480  image file:  KIC08328376_morp-1.0.png\n",
      "1/1 [==============================] - 0s 57ms/step\n"
     ]
    },
    {
     "name": "stderr",
     "output_type": "stream",
     "text": [
      "\r",
      " 18%|███████                                 | 481/2747 [00:49<03:32, 10.64it/s]"
     ]
    },
    {
     "name": "stdout",
     "output_type": "stream",
     "text": [
      "481  image file:  KIC09027841_morp0.48.png\n",
      "1/1 [==============================] - 0s 51ms/step\n",
      "482  image file:  KIC11289003_morp0.96.png\n",
      "1/1 [==============================] - 0s 51ms/step\n"
     ]
    },
    {
     "name": "stderr",
     "output_type": "stream",
     "text": [
      "\r",
      " 18%|███████                                 | 483/2747 [00:49<03:27, 10.89it/s]"
     ]
    },
    {
     "name": "stdout",
     "output_type": "stream",
     "text": [
      "483  image file:  KIC09451096_morp0.54.png\n",
      "1/1 [==============================] - 0s 51ms/step\n",
      "484  image file:  KIC04928119_morp0.0.png\n",
      "1/1 [==============================] - 0s 53ms/step\n"
     ]
    },
    {
     "name": "stderr",
     "output_type": "stream",
     "text": [
      "\r",
      " 18%|███████                                 | 485/2747 [00:49<03:22, 11.15it/s]"
     ]
    },
    {
     "name": "stdout",
     "output_type": "stream",
     "text": [
      "485  image file:  KIC08816790_morp0.79.png\n",
      "1/1 [==============================] - 0s 60ms/step\n",
      "486  image file:  KIC07599004_morp0.18.png\n",
      "1/1 [==============================] - 0s 60ms/step\n"
     ]
    },
    {
     "name": "stderr",
     "output_type": "stream",
     "text": [
      "\r",
      " 18%|███████                                 | 487/2747 [00:50<03:30, 10.76it/s]"
     ]
    },
    {
     "name": "stdout",
     "output_type": "stream",
     "text": [
      "487  image file:  KIC05287983_morp0.22.png\n",
      "1/1 [==============================] - 0s 52ms/step\n",
      "488  image file:  KIC05098444_morp0.14.png\n",
      "1/1 [==============================] - 0s 52ms/step\n"
     ]
    },
    {
     "name": "stderr",
     "output_type": "stream",
     "text": [
      "\r",
      " 18%|███████                                 | 489/2747 [00:50<03:26, 10.95it/s]"
     ]
    },
    {
     "name": "stdout",
     "output_type": "stream",
     "text": [
      "489  image file:  KIC01433980_morp0.62.png\n",
      "1/1 [==============================] - 0s 53ms/step\n",
      "490  image file:  KIC07833144_morp-1.0.png\n",
      "1/1 [==============================] - 0s 51ms/step\n"
     ]
    },
    {
     "name": "stderr",
     "output_type": "stream",
     "text": [
      "\r",
      " 18%|███████▏                                | 491/2747 [00:50<03:21, 11.19it/s]"
     ]
    },
    {
     "name": "stdout",
     "output_type": "stream",
     "text": [
      "491  image file:  KIC08112013_morp0.47.png\n",
      "1/1 [==============================] - 0s 52ms/step\n",
      "492  image file:  KIC07897952_morp-1.0.png\n",
      "1/1 [==============================] - 0s 51ms/step\n"
     ]
    },
    {
     "name": "stderr",
     "output_type": "stream",
     "text": [
      "\r",
      " 18%|███████▏                                | 493/2747 [00:50<03:18, 11.36it/s]"
     ]
    },
    {
     "name": "stdout",
     "output_type": "stream",
     "text": [
      "493  image file:  KIC11125936_morp0.25.png\n",
      "1/1 [==============================] - 0s 55ms/step\n",
      "494  image file:  KIC10158418_morp0.13.png\n",
      "1/1 [==============================] - 0s 50ms/step\n"
     ]
    },
    {
     "name": "stderr",
     "output_type": "stream",
     "text": [
      "\r",
      " 18%|███████▏                                | 495/2747 [00:50<03:17, 11.42it/s]"
     ]
    },
    {
     "name": "stdout",
     "output_type": "stream",
     "text": [
      "495  image file:  KIC10341913_morp0.6.png\n",
      "1/1 [==============================] - 0s 51ms/step\n",
      "496  image file:  KIC07117153_morp0.78.png\n",
      "1/1 [==============================] - 0s 53ms/step\n"
     ]
    },
    {
     "name": "stderr",
     "output_type": "stream",
     "text": [
      "\r",
      " 18%|███████▏                                | 497/2747 [00:51<03:14, 11.54it/s]"
     ]
    },
    {
     "name": "stdout",
     "output_type": "stream",
     "text": [
      "497  image file:  KIC09664215_morp0.27.png\n",
      "1/1 [==============================] - 0s 52ms/step\n",
      "498  image file:  KIC06850665_morp-1.0.png\n",
      "1/1 [==============================] - 0s 53ms/step\n"
     ]
    },
    {
     "name": "stderr",
     "output_type": "stream",
     "text": [
      "\r",
      " 18%|███████▎                                | 499/2747 [00:51<03:23, 11.05it/s]"
     ]
    },
    {
     "name": "stdout",
     "output_type": "stream",
     "text": [
      "499  image file:  KIC11234677_morp0.43.png\n",
      "1/1 [==============================] - 0s 55ms/step\n",
      "500  image file:  KIC11706658_morp0.4.png\n",
      "1/1 [==============================] - 0s 61ms/step\n"
     ]
    },
    {
     "name": "stderr",
     "output_type": "stream",
     "text": [
      "\r",
      " 18%|███████▎                                | 501/2747 [00:51<03:26, 10.89it/s]"
     ]
    },
    {
     "name": "stdout",
     "output_type": "stream",
     "text": [
      "501  image file:  KIC06421188_morp0.09.png\n",
      "1/1 [==============================] - 0s 55ms/step\n",
      "502  image file:  KIC09767437_morp0.67.png\n",
      "1/1 [==============================] - 0s 52ms/step\n"
     ]
    },
    {
     "name": "stderr",
     "output_type": "stream",
     "text": [
      "\r",
      " 18%|███████▎                                | 503/2747 [00:51<03:23, 11.04it/s]"
     ]
    },
    {
     "name": "stdout",
     "output_type": "stream",
     "text": [
      "503  image file:  KIC09412462_morp0.28.png\n",
      "1/1 [==============================] - 0s 52ms/step\n",
      "504  image file:  KIC10141087_morp0.8.png\n",
      "1/1 [==============================] - 0s 54ms/step\n"
     ]
    },
    {
     "name": "stderr",
     "output_type": "stream",
     "text": [
      "\r",
      " 18%|███████▎                                | 505/2747 [00:51<03:20, 11.20it/s]"
     ]
    },
    {
     "name": "stdout",
     "output_type": "stream",
     "text": [
      "505  image file:  KIC08429817_morp0.04.png\n",
      "1/1 [==============================] - 0s 52ms/step\n",
      "506  image file:  KIC07373255_morp-1.0.png\n",
      "1/1 [==============================] - 0s 53ms/step\n"
     ]
    },
    {
     "name": "stderr",
     "output_type": "stream",
     "text": [
      "\r",
      " 18%|███████▍                                | 507/2747 [00:51<03:18, 11.28it/s]"
     ]
    },
    {
     "name": "stdout",
     "output_type": "stream",
     "text": [
      "507  image file:  KIC07023960_morp0.05.png\n",
      "1/1 [==============================] - 0s 62ms/step\n",
      "508  image file:  KIC11305087_morp0.79.png\n",
      "1/1 [==============================] - 0s 56ms/step\n"
     ]
    },
    {
     "name": "stderr",
     "output_type": "stream",
     "text": [
      "\r",
      " 19%|███████▍                                | 509/2747 [00:52<03:29, 10.70it/s]"
     ]
    },
    {
     "name": "stdout",
     "output_type": "stream",
     "text": [
      "509  image file:  KIC07733540_morp0.78.png\n",
      "1/1 [==============================] - 0s 53ms/step\n",
      "510  image file:  KIC09030447_morp0.9.png\n",
      "1/1 [==============================] - 0s 57ms/step\n"
     ]
    },
    {
     "name": "stderr",
     "output_type": "stream",
     "text": [
      "\r",
      " 19%|███████▍                                | 511/2747 [00:52<03:38, 10.25it/s]"
     ]
    },
    {
     "name": "stdout",
     "output_type": "stream",
     "text": [
      "511  image file:  KIC05984000_morp0.82.png\n",
      "1/1 [==============================] - 0s 56ms/step\n",
      "512  image file:  KIC12105785_morp0.06.png\n",
      "1/1 [==============================] - 0s 59ms/step\n"
     ]
    },
    {
     "name": "stderr",
     "output_type": "stream",
     "text": [
      "\r",
      " 19%|███████▍                                | 513/2747 [00:52<03:38, 10.21it/s]"
     ]
    },
    {
     "name": "stdout",
     "output_type": "stream",
     "text": [
      "513  image file:  KIC09899345_morp0.6.png\n",
      "1/1 [==============================] - 0s 52ms/step\n",
      "514  image file:  KIC10074700_morp0.02.png\n",
      "1/1 [==============================] - 0s 59ms/step\n"
     ]
    },
    {
     "name": "stderr",
     "output_type": "stream",
     "text": [
      "\r",
      " 19%|███████▍                                | 515/2747 [00:52<03:44,  9.94it/s]"
     ]
    },
    {
     "name": "stdout",
     "output_type": "stream",
     "text": [
      "515  image file:  KIC09835416_morp-1.0.png\n",
      "1/1 [==============================] - 0s 56ms/step\n",
      "516  image file:  KIC09117416_morp0.17.png\n",
      "1/1 [==============================] - 0s 57ms/step\n"
     ]
    },
    {
     "name": "stderr",
     "output_type": "stream",
     "text": [
      "\r",
      " 19%|███████▌                                | 517/2747 [00:52<03:43, 10.00it/s]"
     ]
    },
    {
     "name": "stdout",
     "output_type": "stream",
     "text": [
      "517  image file:  KIC11457191_morp0.52.png\n",
      "1/1 [==============================] - 0s 58ms/step\n",
      "518  image file:  KIC11867071_morp0.21.png\n",
      "1/1 [==============================] - 0s 59ms/step\n"
     ]
    },
    {
     "name": "stderr",
     "output_type": "stream",
     "text": [
      "\r",
      " 19%|███████▌                                | 519/2747 [00:53<03:42, 10.01it/s]"
     ]
    },
    {
     "name": "stdout",
     "output_type": "stream",
     "text": [
      "519  image file:  KIC11198723_morp0.17.png\n",
      "1/1 [==============================] - 0s 56ms/step\n",
      "520  image file:  KIC09774400_morp0.45.png\n",
      "1/1 [==============================] - 0s 54ms/step\n"
     ]
    },
    {
     "name": "stderr",
     "output_type": "stream",
     "text": [
      "\r",
      " 19%|███████▌                                | 521/2747 [00:53<03:37, 10.24it/s]"
     ]
    },
    {
     "name": "stdout",
     "output_type": "stream",
     "text": [
      "521  image file:  KIC08581658_morp0.36.png\n",
      "1/1 [==============================] - 0s 52ms/step\n",
      "522  image file:  KIC07375795_morp0.12.png\n",
      "1/1 [==============================] - 0s 58ms/step\n"
     ]
    },
    {
     "name": "stderr",
     "output_type": "stream",
     "text": [
      "\r",
      " 19%|███████▌                                | 523/2747 [00:53<03:32, 10.45it/s]"
     ]
    },
    {
     "name": "stdout",
     "output_type": "stream",
     "text": [
      "523  image file:  KIC10123627_morp0.96.png\n",
      "1/1 [==============================] - 0s 65ms/step\n",
      "524  image file:  KIC07941050_morp0.86.png\n",
      "1/1 [==============================] - 0s 60ms/step\n"
     ]
    },
    {
     "name": "stderr",
     "output_type": "stream",
     "text": [
      "\r",
      " 19%|███████▋                                | 525/2747 [00:53<03:38, 10.15it/s]"
     ]
    },
    {
     "name": "stdout",
     "output_type": "stream",
     "text": [
      "525  image file:  KIC07369523_morp0.4.png\n",
      "1/1 [==============================] - 0s 57ms/step\n",
      "526  image file:  KIC09574614_morp0.4.png\n",
      "1/1 [==============================] - 0s 60ms/step\n"
     ]
    },
    {
     "name": "stderr",
     "output_type": "stream",
     "text": [
      "\r",
      " 19%|███████▋                                | 527/2747 [00:53<03:36, 10.25it/s]"
     ]
    },
    {
     "name": "stdout",
     "output_type": "stream",
     "text": [
      "527  image file:  KIC04540632_morp0.01.png\n",
      "1/1 [==============================] - 0s 63ms/step\n",
      "528  image file:  KIC09788113_morp0.99.png\n",
      "1/1 [==============================] - 0s 72ms/step\n"
     ]
    },
    {
     "name": "stderr",
     "output_type": "stream",
     "text": [
      "\r",
      " 19%|███████▋                                | 529/2747 [00:54<03:42,  9.99it/s]"
     ]
    },
    {
     "name": "stdout",
     "output_type": "stream",
     "text": [
      "529  image file:  KIC09827122_morp0.86.png\n",
      "1/1 [==============================] - 0s 83ms/step\n",
      "530  image file:  KIC04247791_morp0.26.png\n",
      "1/1 [==============================] - 0s 64ms/step\n"
     ]
    },
    {
     "name": "stderr",
     "output_type": "stream",
     "text": [
      "\r",
      " 19%|███████▋                                | 531/2747 [00:54<03:51,  9.58it/s]"
     ]
    },
    {
     "name": "stdout",
     "output_type": "stream",
     "text": [
      "531  image file:  KIC05282049_morp0.21.png\n",
      "1/1 [==============================] - 0s 69ms/step\n"
     ]
    },
    {
     "name": "stderr",
     "output_type": "stream",
     "text": [
      "\r",
      " 19%|███████▋                                | 532/2747 [00:54<03:52,  9.54it/s]"
     ]
    },
    {
     "name": "stdout",
     "output_type": "stream",
     "text": [
      "532  image file:  KIC09784371_morp0.95.png\n",
      "1/1 [==============================] - 0s 74ms/step\n"
     ]
    },
    {
     "name": "stderr",
     "output_type": "stream",
     "text": [
      "\r",
      " 19%|███████▊                                | 533/2747 [00:54<04:02,  9.12it/s]"
     ]
    },
    {
     "name": "stdout",
     "output_type": "stream",
     "text": [
      "533  image file:  KIC06603043_morp0.03.png\n",
      "1/1 [==============================] - 0s 72ms/step\n"
     ]
    },
    {
     "name": "stderr",
     "output_type": "stream",
     "text": [
      "\r",
      " 19%|███████▊                                | 534/2747 [00:54<04:10,  8.84it/s]"
     ]
    },
    {
     "name": "stdout",
     "output_type": "stream",
     "text": [
      "534  image file:  KIC11287726_morp0.35.png\n",
      "1/1 [==============================] - 0s 66ms/step\n"
     ]
    },
    {
     "name": "stderr",
     "output_type": "stream",
     "text": [
      "\r",
      " 19%|███████▊                                | 535/2747 [00:54<04:06,  8.97it/s]"
     ]
    },
    {
     "name": "stdout",
     "output_type": "stream",
     "text": [
      "535  image file:  KIC08098300_morp0.36.png\n",
      "1/1 [==============================] - 0s 72ms/step\n"
     ]
    },
    {
     "name": "stderr",
     "output_type": "stream",
     "text": [
      "\r",
      " 20%|███████▊                                | 536/2747 [00:54<04:06,  8.95it/s]"
     ]
    },
    {
     "name": "stdout",
     "output_type": "stream",
     "text": [
      "536  image file:  KIC11036692_morp0.96.png\n",
      "1/1 [==============================] - 0s 62ms/step\n"
     ]
    },
    {
     "name": "stderr",
     "output_type": "stream",
     "text": [
      "\r",
      " 20%|███████▊                                | 537/2747 [00:55<04:03,  9.07it/s]"
     ]
    },
    {
     "name": "stdout",
     "output_type": "stream",
     "text": [
      "537  image file:  KIC07533807_morp0.95.png\n",
      "1/1 [==============================] - 0s 68ms/step\n"
     ]
    },
    {
     "name": "stderr",
     "output_type": "stream",
     "text": [
      "\r",
      " 20%|███████▊                                | 538/2747 [00:55<04:01,  9.15it/s]"
     ]
    },
    {
     "name": "stdout",
     "output_type": "stream",
     "text": [
      "538  image file:  KIC09934052_morp0.99.png\n",
      "1/1 [==============================] - 0s 65ms/step\n"
     ]
    },
    {
     "name": "stderr",
     "output_type": "stream",
     "text": [
      "\r",
      " 20%|███████▊                                | 539/2747 [00:55<04:01,  9.14it/s]"
     ]
    },
    {
     "name": "stdout",
     "output_type": "stream",
     "text": [
      "539  image file:  KIC04150136_morp-1.0.png\n",
      "1/1 [==============================] - 0s 65ms/step\n"
     ]
    },
    {
     "name": "stderr",
     "output_type": "stream",
     "text": [
      "\r",
      " 20%|███████▊                                | 540/2747 [00:55<04:00,  9.18it/s]"
     ]
    },
    {
     "name": "stdout",
     "output_type": "stream",
     "text": [
      "540  image file:  KIC10581918_morp0.54.png\n",
      "1/1 [==============================] - 0s 76ms/step\n"
     ]
    },
    {
     "name": "stderr",
     "output_type": "stream",
     "text": [
      "\r",
      " 20%|███████▉                                | 541/2747 [00:55<04:08,  8.88it/s]"
     ]
    },
    {
     "name": "stdout",
     "output_type": "stream",
     "text": [
      "541  image file:  KIC07259917_morp0.7.png\n",
      "1/1 [==============================] - 0s 62ms/step\n"
     ]
    },
    {
     "name": "stderr",
     "output_type": "stream",
     "text": [
      "\r",
      " 20%|███████▉                                | 542/2747 [00:55<04:12,  8.72it/s]"
     ]
    },
    {
     "name": "stdout",
     "output_type": "stream",
     "text": [
      "542  image file:  KIC11236035_morp0.83.png\n",
      "1/1 [==============================] - 0s 71ms/step\n"
     ]
    },
    {
     "name": "stderr",
     "output_type": "stream",
     "text": [
      "\r",
      " 20%|███████▉                                | 543/2747 [00:55<04:15,  8.63it/s]"
     ]
    },
    {
     "name": "stdout",
     "output_type": "stream",
     "text": [
      "543  image file:  KIC11133313_morp-1.0.png\n",
      "1/1 [==============================] - 0s 73ms/step\n"
     ]
    },
    {
     "name": "stderr",
     "output_type": "stream",
     "text": [
      "\r",
      " 20%|███████▉                                | 544/2747 [00:55<04:15,  8.61it/s]"
     ]
    },
    {
     "name": "stdout",
     "output_type": "stream",
     "text": [
      "544  image file:  KIC12055421_morp0.96.png\n",
      "1/1 [==============================] - 0s 65ms/step\n"
     ]
    },
    {
     "name": "stderr",
     "output_type": "stream",
     "text": [
      "\r",
      " 20%|███████▉                                | 545/2747 [00:55<04:13,  8.67it/s]"
     ]
    },
    {
     "name": "stdout",
     "output_type": "stream",
     "text": [
      "545  image file:  KIC06072195_morp0.93.png\n",
      "1/1 [==============================] - 0s 70ms/step\n"
     ]
    },
    {
     "name": "stderr",
     "output_type": "stream",
     "text": [
      "\r",
      " 20%|███████▉                                | 546/2747 [00:56<04:13,  8.69it/s]"
     ]
    },
    {
     "name": "stdout",
     "output_type": "stream",
     "text": [
      "546  image file:  KIC08097825_morp0.51.png\n",
      "1/1 [==============================] - 0s 71ms/step\n"
     ]
    },
    {
     "name": "stderr",
     "output_type": "stream",
     "text": [
      "\r",
      " 20%|███████▉                                | 547/2747 [00:56<04:09,  8.82it/s]"
     ]
    },
    {
     "name": "stdout",
     "output_type": "stream",
     "text": [
      "547  image file:  KIC07601633_morp0.04.png\n",
      "1/1 [==============================] - 0s 64ms/step\n"
     ]
    },
    {
     "name": "stderr",
     "output_type": "stream",
     "text": [
      "\r",
      " 20%|███████▉                                | 548/2747 [00:56<04:05,  8.97it/s]"
     ]
    },
    {
     "name": "stdout",
     "output_type": "stream",
     "text": [
      "548  image file:  KIC10032392_morp0.96.png\n",
      "1/1 [==============================] - 0s 67ms/step\n"
     ]
    },
    {
     "name": "stderr",
     "output_type": "stream",
     "text": [
      "\r",
      " 20%|███████▉                                | 549/2747 [00:56<04:07,  8.88it/s]"
     ]
    },
    {
     "name": "stdout",
     "output_type": "stream",
     "text": [
      "549  image file:  KIC04847832_morp0.08.png\n",
      "1/1 [==============================] - 0s 62ms/step\n"
     ]
    },
    {
     "name": "stderr",
     "output_type": "stream",
     "text": [
      "\r",
      " 20%|████████                                | 550/2747 [00:56<04:02,  9.06it/s]"
     ]
    },
    {
     "name": "stdout",
     "output_type": "stream",
     "text": [
      "550  image file:  KIC03439031_morp0.33.png\n",
      "1/1 [==============================] - 0s 67ms/step\n"
     ]
    },
    {
     "name": "stderr",
     "output_type": "stream",
     "text": [
      "\r",
      " 20%|████████                                | 551/2747 [00:56<04:01,  9.09it/s]"
     ]
    },
    {
     "name": "stdout",
     "output_type": "stream",
     "text": [
      "551  image file:  KIC07293054_morp-1.0.png\n",
      "1/1 [==============================] - 0s 67ms/step\n"
     ]
    },
    {
     "name": "stderr",
     "output_type": "stream",
     "text": [
      "\r",
      " 20%|████████                                | 552/2747 [00:56<04:01,  9.10it/s]"
     ]
    },
    {
     "name": "stdout",
     "output_type": "stream",
     "text": [
      "552  image file:  KIC09651155_morp0.68.png\n",
      "1/1 [==============================] - 0s 63ms/step\n"
     ]
    },
    {
     "name": "stderr",
     "output_type": "stream",
     "text": [
      "\r",
      " 20%|████████                                | 553/2747 [00:56<03:55,  9.31it/s]"
     ]
    },
    {
     "name": "stdout",
     "output_type": "stream",
     "text": [
      "553  image file:  KIC10972830_morp0.95.png\n",
      "1/1 [==============================] - 0s 63ms/step\n"
     ]
    },
    {
     "name": "stderr",
     "output_type": "stream",
     "text": [
      "\r",
      " 20%|████████                                | 554/2747 [00:56<03:51,  9.46it/s]"
     ]
    },
    {
     "name": "stdout",
     "output_type": "stream",
     "text": [
      "554  image file:  KIC11391755_morp0.16.png\n",
      "1/1 [==============================] - 0s 60ms/step\n",
      "555  image file:  KIC09290838_morp0.92.png\n",
      "1/1 [==============================] - 0s 62ms/step\n"
     ]
    },
    {
     "name": "stderr",
     "output_type": "stream",
     "text": [
      "\r",
      " 20%|████████                                | 556/2747 [00:57<03:44,  9.76it/s]"
     ]
    },
    {
     "name": "stdout",
     "output_type": "stream",
     "text": [
      "556  image file:  KIC09007918_morp0.52.png\n",
      "1/1 [==============================] - 0s 61ms/step\n"
     ]
    },
    {
     "name": "stderr",
     "output_type": "stream",
     "text": [
      "\r",
      " 20%|████████                                | 557/2747 [00:57<03:55,  9.30it/s]"
     ]
    },
    {
     "name": "stdout",
     "output_type": "stream",
     "text": [
      "557  image file:  KIC09149789_morp0.54.png\n",
      "1/1 [==============================] - 0s 59ms/step\n"
     ]
    },
    {
     "name": "stderr",
     "output_type": "stream",
     "text": [
      "\r",
      " 20%|████████▏                               | 558/2747 [00:57<03:54,  9.33it/s]"
     ]
    },
    {
     "name": "stdout",
     "output_type": "stream",
     "text": [
      "558  image file:  KIC07802136_morp0.09.png\n",
      "1/1 [==============================] - 0s 59ms/step\n",
      "559  image file:  KIC05807579_morp0.07.png\n",
      "1/1 [==============================] - 0s 58ms/step\n"
     ]
    },
    {
     "name": "stderr",
     "output_type": "stream",
     "text": [
      "\r",
      " 20%|████████▏                               | 560/2747 [00:57<03:47,  9.63it/s]"
     ]
    },
    {
     "name": "stdout",
     "output_type": "stream",
     "text": [
      "560  image file:  KIC09899181_morp0.58.png\n",
      "1/1 [==============================] - 0s 61ms/step\n"
     ]
    },
    {
     "name": "stderr",
     "output_type": "stream",
     "text": [
      "\r",
      " 20%|████████▏                               | 561/2747 [00:57<03:49,  9.53it/s]"
     ]
    },
    {
     "name": "stdout",
     "output_type": "stream",
     "text": [
      "561  image file:  KIC08845026_morp0.09.png\n",
      "1/1 [==============================] - 0s 62ms/step\n"
     ]
    },
    {
     "name": "stderr",
     "output_type": "stream",
     "text": [
      "\r",
      " 20%|████████▏                               | 562/2747 [00:57<03:47,  9.59it/s]"
     ]
    },
    {
     "name": "stdout",
     "output_type": "stream",
     "text": [
      "562  image file:  KIC05611763_morp0.98.png\n",
      "1/1 [==============================] - 0s 65ms/step\n"
     ]
    },
    {
     "name": "stderr",
     "output_type": "stream",
     "text": [
      "\r",
      " 20%|████████▏                               | 563/2747 [00:57<03:56,  9.22it/s]"
     ]
    },
    {
     "name": "stdout",
     "output_type": "stream",
     "text": [
      "563  image file:  KIC02858322_morp0.77.png\n",
      "1/1 [==============================] - 0s 62ms/step\n"
     ]
    },
    {
     "name": "stderr",
     "output_type": "stream",
     "text": [
      "\r",
      " 21%|████████▏                               | 564/2747 [00:58<04:06,  8.84it/s]"
     ]
    },
    {
     "name": "stdout",
     "output_type": "stream",
     "text": [
      "564  image file:  KIC06387193_morp0.0.png\n",
      "1/1 [==============================] - 0s 68ms/step\n"
     ]
    },
    {
     "name": "stderr",
     "output_type": "stream",
     "text": [
      "\r",
      " 21%|████████▏                               | 565/2747 [00:58<04:05,  8.87it/s]"
     ]
    },
    {
     "name": "stdout",
     "output_type": "stream",
     "text": [
      "565  image file:  KIC09048145_morp0.15.png\n",
      "1/1 [==============================] - 0s 72ms/step\n"
     ]
    },
    {
     "name": "stderr",
     "output_type": "stream",
     "text": [
      "\r",
      " 21%|████████▏                               | 566/2747 [00:58<04:03,  8.97it/s]"
     ]
    },
    {
     "name": "stdout",
     "output_type": "stream",
     "text": [
      "566  image file:  KIC10797126_morp0.77.png\n",
      "1/1 [==============================] - 0s 64ms/step\n"
     ]
    },
    {
     "name": "stderr",
     "output_type": "stream",
     "text": [
      "\r",
      " 21%|████████▎                               | 567/2747 [00:58<04:07,  8.82it/s]"
     ]
    },
    {
     "name": "stdout",
     "output_type": "stream",
     "text": [
      "567  image file:  KIC08231877_morp0.26.png\n",
      "1/1 [==============================] - 0s 57ms/step\n",
      "568  image file:  KIC07013934_morp0.9.png\n",
      "1/1 [==============================] - 0s 58ms/step\n"
     ]
    },
    {
     "name": "stderr",
     "output_type": "stream",
     "text": [
      "\r",
      " 21%|████████▎                               | 569/2747 [00:58<03:51,  9.39it/s]"
     ]
    },
    {
     "name": "stdout",
     "output_type": "stream",
     "text": [
      "569  image file:  KIC08285254_morp0.28.png\n",
      "1/1 [==============================] - 0s 56ms/step\n"
     ]
    },
    {
     "name": "stderr",
     "output_type": "stream",
     "text": [
      "\r",
      " 21%|████████▎                               | 570/2747 [00:58<03:50,  9.44it/s]"
     ]
    },
    {
     "name": "stdout",
     "output_type": "stream",
     "text": [
      "570  image file:  KIC06841577_morp0.09.png\n",
      "1/1 [==============================] - 0s 56ms/step\n",
      "571  image file:  KIC09517991_morp0.0.png\n",
      "1/1 [==============================] - 0s 58ms/step\n"
     ]
    },
    {
     "name": "stderr",
     "output_type": "stream",
     "text": [
      "\r",
      " 21%|████████▎                               | 572/2747 [00:58<03:51,  9.38it/s]"
     ]
    },
    {
     "name": "stdout",
     "output_type": "stream",
     "text": [
      "572  image file:  KIC04458989_morp0.81.png\n",
      "1/1 [==============================] - 0s 59ms/step\n"
     ]
    },
    {
     "name": "stderr",
     "output_type": "stream",
     "text": [
      "\r",
      " 21%|████████▎                               | 573/2747 [00:58<03:49,  9.49it/s]"
     ]
    },
    {
     "name": "stdout",
     "output_type": "stream",
     "text": [
      "573  image file:  KIC10001167_morp0.27.png\n",
      "1/1 [==============================] - 0s 61ms/step\n",
      "574  image file:  KIC07362852_morp0.31.png\n",
      "1/1 [==============================] - 0s 62ms/step\n"
     ]
    },
    {
     "name": "stderr",
     "output_type": "stream",
     "text": [
      "\r",
      " 21%|████████▎                               | 575/2747 [00:59<03:43,  9.71it/s]"
     ]
    },
    {
     "name": "stdout",
     "output_type": "stream",
     "text": [
      "575  image file:  KIC12644769_morp0.03.png\n",
      "1/1 [==============================] - 0s 57ms/step\n",
      "576  image file:  KIC05197256_morp0.8.png\n",
      "1/1 [==============================] - 0s 56ms/step\n"
     ]
    },
    {
     "name": "stderr",
     "output_type": "stream",
     "text": [
      "\r",
      " 21%|████████▍                               | 577/2747 [00:59<03:36, 10.00it/s]"
     ]
    },
    {
     "name": "stdout",
     "output_type": "stream",
     "text": [
      "577  image file:  KIC09588822_morp0.14.png\n",
      "1/1 [==============================] - 0s 58ms/step\n",
      "578  image file:  KIC11560447_morp0.59.png\n",
      "1/1 [==============================] - 0s 71ms/step\n"
     ]
    },
    {
     "name": "stderr",
     "output_type": "stream",
     "text": [
      "\r",
      " 21%|████████▍                               | 579/2747 [00:59<03:42,  9.75it/s]"
     ]
    },
    {
     "name": "stdout",
     "output_type": "stream",
     "text": [
      "579  image file:  KIC04042026_morp0.09.png\n",
      "1/1 [==============================] - 0s 65ms/step\n"
     ]
    },
    {
     "name": "stderr",
     "output_type": "stream",
     "text": [
      "\r",
      " 21%|████████▍                               | 580/2747 [00:59<03:44,  9.63it/s]"
     ]
    },
    {
     "name": "stdout",
     "output_type": "stream",
     "text": [
      "580  image file:  KIC05786154_morp0.18.png\n",
      "1/1 [==============================] - 0s 70ms/step\n"
     ]
    },
    {
     "name": "stderr",
     "output_type": "stream",
     "text": [
      "\r",
      " 21%|████████▍                               | 581/2747 [00:59<03:51,  9.35it/s]"
     ]
    },
    {
     "name": "stdout",
     "output_type": "stream",
     "text": [
      "581  image file:  KIC10923260_morp0.15.png\n",
      "1/1 [==============================] - 0s 56ms/step\n"
     ]
    },
    {
     "name": "stderr",
     "output_type": "stream",
     "text": [
      "\r",
      " 21%|████████▍                               | 582/2747 [00:59<03:48,  9.46it/s]"
     ]
    },
    {
     "name": "stdout",
     "output_type": "stream",
     "text": [
      "582  image file:  KIC04947726_morp0.22.png\n",
      "1/1 [==============================] - 0s 54ms/step\n",
      "583  image file:  KIC08912911_morp0.86.png\n",
      "1/1 [==============================] - 0s 60ms/step\n"
     ]
    },
    {
     "name": "stderr",
     "output_type": "stream",
     "text": [
      "\r",
      " 21%|████████▌                               | 584/2747 [01:00<03:42,  9.74it/s]"
     ]
    },
    {
     "name": "stdout",
     "output_type": "stream",
     "text": [
      "584  image file:  KIC02997455_morp0.45.png\n",
      "1/1 [==============================] - 0s 55ms/step\n",
      "585  image file:  KIC10920314_morp0.64.png\n",
      "1/1 [==============================] - 0s 54ms/step\n"
     ]
    },
    {
     "name": "stderr",
     "output_type": "stream",
     "text": [
      "\r",
      " 21%|████████▌                               | 586/2747 [01:00<03:35, 10.01it/s]"
     ]
    },
    {
     "name": "stdout",
     "output_type": "stream",
     "text": [
      "586  image file:  KIC05871918_morp0.11.png\n",
      "1/1 [==============================] - 0s 61ms/step\n"
     ]
    },
    {
     "name": "stderr",
     "output_type": "stream",
     "text": [
      "\r",
      " 21%|████████▌                               | 587/2747 [01:00<03:36,  9.99it/s]"
     ]
    },
    {
     "name": "stdout",
     "output_type": "stream",
     "text": [
      "587  image file:  KIC05371109_morp0.89.png\n",
      "1/1 [==============================] - 0s 55ms/step\n",
      "588  image file:  KIC06268722_morp0.25.png\n",
      "1/1 [==============================] - 0s 55ms/step\n"
     ]
    },
    {
     "name": "stderr",
     "output_type": "stream",
     "text": [
      "\r",
      " 21%|████████▌                               | 589/2747 [01:00<03:31, 10.20it/s]"
     ]
    },
    {
     "name": "stdout",
     "output_type": "stream",
     "text": [
      "589  image file:  KIC06836140_morp0.73.png\n",
      "1/1 [==============================] - 0s 53ms/step\n",
      "590  image file:  KIC10485250_morp0.2.png\n",
      "1/1 [==============================] - 0s 52ms/step\n"
     ]
    },
    {
     "name": "stderr",
     "output_type": "stream",
     "text": [
      "\r",
      " 22%|████████▌                               | 591/2747 [01:00<03:23, 10.60it/s]"
     ]
    },
    {
     "name": "stdout",
     "output_type": "stream",
     "text": [
      "591  image file:  KIC05632781_morp0.23.png\n",
      "1/1 [==============================] - 0s 52ms/step\n",
      "592  image file:  KIC07610340_morp0.95.png\n",
      "1/1 [==============================] - 0s 53ms/step\n"
     ]
    },
    {
     "name": "stderr",
     "output_type": "stream",
     "text": [
      "\r",
      " 22%|████████▋                               | 593/2747 [01:00<03:18, 10.83it/s]"
     ]
    },
    {
     "name": "stdout",
     "output_type": "stream",
     "text": [
      "593  image file:  KIC12367464_morp0.28.png\n",
      "1/1 [==============================] - 0s 53ms/step\n",
      "594  image file:  KIC05193386_morp0.32.png\n",
      "1/1 [==============================] - 0s 51ms/step\n"
     ]
    },
    {
     "name": "stderr",
     "output_type": "stream",
     "text": [
      "\r",
      " 22%|████████▋                               | 595/2747 [01:01<03:13, 11.11it/s]"
     ]
    },
    {
     "name": "stdout",
     "output_type": "stream",
     "text": [
      "595  image file:  KIC03734660_morp-1.0.png\n",
      "1/1 [==============================] - 0s 52ms/step\n",
      "596  image file:  KIC05951553_morp0.95.png\n",
      "1/1 [==============================] - 0s 51ms/step\n"
     ]
    },
    {
     "name": "stderr",
     "output_type": "stream",
     "text": [
      "\r",
      " 22%|████████▋                               | 597/2747 [01:01<03:12, 11.17it/s]"
     ]
    },
    {
     "name": "stdout",
     "output_type": "stream",
     "text": [
      "597  image file:  KIC08579707_morp0.95.png\n",
      "1/1 [==============================] - 0s 51ms/step\n",
      "598  image file:  KIC07598128_morp0.04.png\n",
      "1/1 [==============================] - 0s 50ms/step\n"
     ]
    },
    {
     "name": "stderr",
     "output_type": "stream",
     "text": [
      "\r",
      " 22%|████████▋                               | 599/2747 [01:01<03:08, 11.40it/s]"
     ]
    },
    {
     "name": "stdout",
     "output_type": "stream",
     "text": [
      "599  image file:  KIC10383696_morp0.13.png\n",
      "1/1 [==============================] - 0s 56ms/step\n",
      "600  image file:  KIC10854621_morp0.81.png\n",
      "1/1 [==============================] - 0s 52ms/step\n"
     ]
    },
    {
     "name": "stderr",
     "output_type": "stream",
     "text": [
      "\r",
      " 22%|████████▊                               | 601/2747 [01:01<03:07, 11.47it/s]"
     ]
    },
    {
     "name": "stdout",
     "output_type": "stream",
     "text": [
      "601  image file:  KIC07280704_morp0.93.png\n",
      "1/1 [==============================] - 0s 50ms/step\n",
      "602  image file:  KIC07466863_morp0.06.png\n",
      "1/1 [==============================] - 0s 50ms/step\n"
     ]
    },
    {
     "name": "stderr",
     "output_type": "stream",
     "text": [
      "\r",
      " 22%|████████▊                               | 603/2747 [01:01<03:05, 11.59it/s]"
     ]
    },
    {
     "name": "stdout",
     "output_type": "stream",
     "text": [
      "603  image file:  KIC04932691_morp0.1.png\n",
      "1/1 [==============================] - 0s 52ms/step\n",
      "604  image file:  KIC09906590_morp0.63.png\n",
      "1/1 [==============================] - 0s 51ms/step\n"
     ]
    },
    {
     "name": "stderr",
     "output_type": "stream",
     "text": [
      "\r",
      " 22%|████████▊                               | 605/2747 [01:01<03:03, 11.69it/s]"
     ]
    },
    {
     "name": "stdout",
     "output_type": "stream",
     "text": [
      "605  image file:  KIC02307199_morp0.07.png\n",
      "1/1 [==============================] - 0s 51ms/step\n",
      "606  image file:  KIC07516345_morp0.75.png\n",
      "1/1 [==============================] - 0s 55ms/step\n"
     ]
    },
    {
     "name": "stderr",
     "output_type": "stream",
     "text": [
      "\r",
      " 22%|████████▊                               | 607/2747 [01:02<03:05, 11.52it/s]"
     ]
    },
    {
     "name": "stdout",
     "output_type": "stream",
     "text": [
      "607  image file:  KIC09527167_morp0.97.png\n",
      "1/1 [==============================] - 0s 53ms/step\n",
      "608  image file:  KIC10664416_morp-1.0.png\n",
      "1/1 [==============================] - 0s 51ms/step\n"
     ]
    },
    {
     "name": "stderr",
     "output_type": "stream",
     "text": [
      "\r",
      " 22%|████████▊                               | 609/2747 [01:02<03:06, 11.49it/s]"
     ]
    },
    {
     "name": "stdout",
     "output_type": "stream",
     "text": [
      "609  image file:  KIC08248812_morp0.66.png\n",
      "1/1 [==============================] - 0s 64ms/step\n",
      "610  image file:  KIC05696909_morp0.5.png\n",
      "1/1 [==============================] - 0s 63ms/step\n"
     ]
    },
    {
     "name": "stderr",
     "output_type": "stream",
     "text": [
      "\r",
      " 22%|████████▉                               | 611/2747 [01:02<03:13, 11.03it/s]"
     ]
    },
    {
     "name": "stdout",
     "output_type": "stream",
     "text": [
      "611  image file:  KIC12106934_morp0.29.png\n",
      "1/1 [==============================] - 0s 55ms/step\n",
      "612  image file:  KIC11395645_morp0.75.png\n",
      "1/1 [==============================] - 0s 52ms/step\n"
     ]
    },
    {
     "name": "stderr",
     "output_type": "stream",
     "text": [
      "\r",
      " 22%|████████▉                               | 613/2747 [01:02<03:12, 11.07it/s]"
     ]
    },
    {
     "name": "stdout",
     "output_type": "stream",
     "text": [
      "613  image file:  KIC05000179_morp0.97.png\n",
      "1/1 [==============================] - 0s 51ms/step\n",
      "614  image file:  KIC04570326_morp0.95.png\n",
      "1/1 [==============================] - 0s 52ms/step\n"
     ]
    },
    {
     "name": "stderr",
     "output_type": "stream",
     "text": [
      "\r",
      " 22%|████████▉                               | 615/2747 [01:02<03:10, 11.19it/s]"
     ]
    },
    {
     "name": "stdout",
     "output_type": "stream",
     "text": [
      "615  image file:  KIC09596089_morp0.03.png\n",
      "1/1 [==============================] - 0s 52ms/step\n",
      "616  image file:  KIC04164393_morp0.02.png\n",
      "1/1 [==============================] - 0s 52ms/step\n"
     ]
    },
    {
     "name": "stderr",
     "output_type": "stream",
     "text": [
      "\r",
      " 22%|████████▉                               | 617/2747 [01:03<03:08, 11.29it/s]"
     ]
    },
    {
     "name": "stdout",
     "output_type": "stream",
     "text": [
      "617  image file:  KIC07212066_morp0.21.png\n",
      "1/1 [==============================] - 0s 52ms/step\n",
      "618  image file:  KIC09237755_morp0.98.png\n",
      "1/1 [==============================] - 0s 52ms/step\n"
     ]
    },
    {
     "name": "stderr",
     "output_type": "stream",
     "text": [
      "\r",
      " 23%|█████████                               | 619/2747 [01:03<03:05, 11.44it/s]"
     ]
    },
    {
     "name": "stdout",
     "output_type": "stream",
     "text": [
      "619  image file:  KIC04743508_morp0.31.png\n",
      "1/1 [==============================] - 0s 51ms/step\n",
      "620  image file:  KIC09028474_morp0.0.png\n",
      "1/1 [==============================] - 0s 52ms/step\n"
     ]
    },
    {
     "name": "stderr",
     "output_type": "stream",
     "text": [
      "\r",
      " 23%|█████████                               | 621/2747 [01:03<03:04, 11.50it/s]"
     ]
    },
    {
     "name": "stdout",
     "output_type": "stream",
     "text": [
      "621  image file:  KIC03547874_morp-1.0.png\n",
      "1/1 [==============================] - 0s 52ms/step\n",
      "622  image file:  KIC11517719_morp0.45.png\n",
      "1/1 [==============================] - 0s 50ms/step\n"
     ]
    },
    {
     "name": "stderr",
     "output_type": "stream",
     "text": [
      "\r",
      " 23%|█████████                               | 623/2747 [01:03<03:02, 11.64it/s]"
     ]
    },
    {
     "name": "stdout",
     "output_type": "stream",
     "text": [
      "623  image file:  KIC08279765_morp0.27.png\n",
      "1/1 [==============================] - 0s 52ms/step\n",
      "624  image file:  KIC04647652_morp0.68.png\n",
      "1/1 [==============================] - 0s 51ms/step\n"
     ]
    },
    {
     "name": "stderr",
     "output_type": "stream",
     "text": [
      "\r",
      " 23%|█████████                               | 625/2747 [01:03<03:02, 11.65it/s]"
     ]
    },
    {
     "name": "stdout",
     "output_type": "stream",
     "text": [
      "625  image file:  KIC05957123_morp0.91.png\n",
      "1/1 [==============================] - 0s 50ms/step\n",
      "626  image file:  KIC05017127_morp-1.0.png\n",
      "1/1 [==============================] - 0s 52ms/step\n"
     ]
    },
    {
     "name": "stderr",
     "output_type": "stream",
     "text": [
      "\r",
      " 23%|█████████▏                              | 627/2747 [01:03<03:07, 11.31it/s]"
     ]
    },
    {
     "name": "stdout",
     "output_type": "stream",
     "text": [
      "627  image file:  KIC09842890_morp0.51.png\n",
      "1/1 [==============================] - 0s 54ms/step\n",
      "628  image file:  KIC02442084_morp0.03.png\n",
      "1/1 [==============================] - 0s 56ms/step\n"
     ]
    },
    {
     "name": "stderr",
     "output_type": "stream",
     "text": [
      "\r",
      " 23%|█████████▏                              | 629/2747 [01:04<03:10, 11.14it/s]"
     ]
    },
    {
     "name": "stdout",
     "output_type": "stream",
     "text": [
      "629  image file:  KIC12553806_morp0.61.png\n",
      "1/1 [==============================] - 0s 62ms/step\n",
      "630  image file:  KIC04908495_morp0.32.png\n",
      "1/1 [==============================] - 0s 53ms/step\n"
     ]
    },
    {
     "name": "stderr",
     "output_type": "stream",
     "text": [
      "\r",
      " 23%|█████████▏                              | 631/2747 [01:04<03:10, 11.08it/s]"
     ]
    },
    {
     "name": "stdout",
     "output_type": "stream",
     "text": [
      "631  image file:  KIC04174507_morp0.24.png\n",
      "1/1 [==============================] - 0s 51ms/step\n",
      "632  image file:  KIC09892471_morp0.1.png\n",
      "1/1 [==============================] - 0s 52ms/step\n"
     ]
    },
    {
     "name": "stderr",
     "output_type": "stream",
     "text": [
      "\r",
      " 23%|█████████▏                              | 633/2747 [01:04<03:09, 11.16it/s]"
     ]
    },
    {
     "name": "stdout",
     "output_type": "stream",
     "text": [
      "633  image file:  KIC07732791_morp0.34.png\n",
      "1/1 [==============================] - 0s 55ms/step\n",
      "634  image file:  KIC10619109_morp0.55.png\n",
      "1/1 [==============================] - 0s 54ms/step\n"
     ]
    },
    {
     "name": "stderr",
     "output_type": "stream",
     "text": [
      "\r",
      " 23%|█████████▏                              | 635/2747 [01:04<03:09, 11.17it/s]"
     ]
    },
    {
     "name": "stdout",
     "output_type": "stream",
     "text": [
      "635  image file:  KIC11824222_morp0.02.png\n",
      "1/1 [==============================] - 0s 54ms/step\n",
      "636  image file:  KIC05596440_morp-1.0.png\n",
      "1/1 [==============================] - 0s 53ms/step\n"
     ]
    },
    {
     "name": "stderr",
     "output_type": "stream",
     "text": [
      "\r",
      " 23%|█████████▎                              | 637/2747 [01:04<03:08, 11.20it/s]"
     ]
    },
    {
     "name": "stdout",
     "output_type": "stream",
     "text": [
      "637  image file:  KIC05768927_morp0.16.png\n",
      "1/1 [==============================] - 0s 55ms/step\n",
      "638  image file:  KIC05978521_morp0.94.png\n",
      "1/1 [==============================] - 0s 56ms/step\n"
     ]
    },
    {
     "name": "stderr",
     "output_type": "stream",
     "text": [
      "\r",
      " 23%|█████████▎                              | 639/2747 [01:04<03:09, 11.10it/s]"
     ]
    },
    {
     "name": "stdout",
     "output_type": "stream",
     "text": [
      "639  image file:  KIC09713664_morp0.89.png\n",
      "1/1 [==============================] - 0s 59ms/step\n",
      "640  image file:  KIC05376552_morp0.82.png\n",
      "1/1 [==============================] - 0s 75ms/step\n"
     ]
    },
    {
     "name": "stderr",
     "output_type": "stream",
     "text": [
      "\r",
      " 23%|█████████▎                              | 641/2747 [01:05<03:17, 10.69it/s]"
     ]
    },
    {
     "name": "stdout",
     "output_type": "stream",
     "text": [
      "641  image file:  KIC07456992_morp0.99.png\n",
      "1/1 [==============================] - 0s 63ms/step\n",
      "642  image file:  KIC09536053_morp0.98.png\n",
      "1/1 [==============================] - 0s 59ms/step\n"
     ]
    },
    {
     "name": "stderr",
     "output_type": "stream",
     "text": [
      "\r",
      " 23%|█████████▎                              | 643/2747 [01:05<03:24, 10.31it/s]"
     ]
    },
    {
     "name": "stdout",
     "output_type": "stream",
     "text": [
      "643  image file:  KIC11404758_morp0.88.png\n",
      "1/1 [==============================] - 0s 69ms/step\n",
      "644  image file:  KIC04547480_morp0.12.png\n",
      "1/1 [==============================] - 0s 65ms/step\n"
     ]
    },
    {
     "name": "stderr",
     "output_type": "stream",
     "text": [
      "\r",
      " 23%|█████████▍                              | 645/2747 [01:05<03:32,  9.88it/s]"
     ]
    },
    {
     "name": "stdout",
     "output_type": "stream",
     "text": [
      "645  image file:  KIC01432214_morp0.0.png\n",
      "1/1 [==============================] - 0s 70ms/step\n"
     ]
    },
    {
     "name": "stderr",
     "output_type": "stream",
     "text": [
      "\r",
      " 24%|█████████▍                              | 646/2747 [01:05<03:34,  9.78it/s]"
     ]
    },
    {
     "name": "stdout",
     "output_type": "stream",
     "text": [
      "646  image file:  KIC12253490_morp0.04.png\n",
      "1/1 [==============================] - 0s 58ms/step\n",
      "647  image file:  KIC09345163_morp0.77.png\n",
      "1/1 [==============================] - 0s 71ms/step\n"
     ]
    },
    {
     "name": "stderr",
     "output_type": "stream",
     "text": [
      "\r",
      " 24%|█████████▍                              | 648/2747 [01:05<03:32,  9.86it/s]"
     ]
    },
    {
     "name": "stdout",
     "output_type": "stream",
     "text": [
      "648  image file:  KIC08548416_morp0.84.png\n",
      "1/1 [==============================] - 0s 66ms/step\n"
     ]
    },
    {
     "name": "stderr",
     "output_type": "stream",
     "text": [
      "\r",
      " 24%|█████████▍                              | 649/2747 [01:06<03:32,  9.86it/s]"
     ]
    },
    {
     "name": "stdout",
     "output_type": "stream",
     "text": [
      "649  image file:  KIC07940533_morp0.44.png\n",
      "1/1 [==============================] - 0s 64ms/step\n",
      "650  image file:  KIC08435232_morp0.41.png\n",
      "1/1 [==============================] - 0s 53ms/step\n"
     ]
    },
    {
     "name": "stderr",
     "output_type": "stream",
     "text": [
      "\r",
      " 24%|█████████▍                              | 651/2747 [01:06<03:28, 10.03it/s]"
     ]
    },
    {
     "name": "stdout",
     "output_type": "stream",
     "text": [
      "651  image file:  KIC07374746_morp0.37.png\n",
      "1/1 [==============================] - 0s 64ms/step\n",
      "652  image file:  KIC10711938_morp0.95.png\n",
      "1/1 [==============================] - 0s 58ms/step\n"
     ]
    },
    {
     "name": "stderr",
     "output_type": "stream",
     "text": [
      "\r",
      " 24%|█████████▌                              | 653/2747 [01:06<03:26, 10.14it/s]"
     ]
    },
    {
     "name": "stdout",
     "output_type": "stream",
     "text": [
      "653  image file:  KIC10002261_morp0.06.png\n",
      "1/1 [==============================] - 0s 59ms/step\n",
      "654  image file:  KIC09724993_morp0.12.png\n",
      "1/1 [==============================] - 0s 60ms/step\n"
     ]
    },
    {
     "name": "stderr",
     "output_type": "stream",
     "text": [
      "\r",
      " 24%|█████████▌                              | 655/2747 [01:06<03:24, 10.24it/s]"
     ]
    },
    {
     "name": "stdout",
     "output_type": "stream",
     "text": [
      "655  image file:  KIC05115178_morp0.12.png\n",
      "1/1 [==============================] - 0s 71ms/step\n",
      "656  image file:  KIC05296877_morp0.95.png\n",
      "1/1 [==============================] - 0s 63ms/step\n"
     ]
    },
    {
     "name": "stderr",
     "output_type": "stream",
     "text": [
      "\r",
      " 24%|█████████▌                              | 657/2747 [01:06<03:27, 10.06it/s]"
     ]
    },
    {
     "name": "stdout",
     "output_type": "stream",
     "text": [
      "657  image file:  KIC10616829_morp0.59.png\n",
      "1/1 [==============================] - 0s 55ms/step\n",
      "658  image file:  KIC08453324_morp0.41.png\n",
      "1/1 [==============================] - 0s 55ms/step\n"
     ]
    },
    {
     "name": "stderr",
     "output_type": "stream",
     "text": [
      "\r",
      " 24%|█████████▌                              | 659/2747 [01:06<03:22, 10.33it/s]"
     ]
    },
    {
     "name": "stdout",
     "output_type": "stream",
     "text": [
      "659  image file:  KIC08210721_morp0.08.png\n",
      "1/1 [==============================] - 0s 52ms/step\n",
      "660  image file:  KIC05728283_morp0.36.png\n",
      "1/1 [==============================] - 0s 51ms/step\n"
     ]
    },
    {
     "name": "stderr",
     "output_type": "stream",
     "text": [
      "\r",
      " 24%|█████████▋                              | 661/2747 [01:07<03:15, 10.65it/s]"
     ]
    },
    {
     "name": "stdout",
     "output_type": "stream",
     "text": [
      "661  image file:  KIC03454864_morp0.69.png\n",
      "1/1 [==============================] - 0s 51ms/step\n",
      "662  image file:  KIC04350454_morp0.8.png\n",
      "1/1 [==============================] - 0s 52ms/step\n"
     ]
    },
    {
     "name": "stderr",
     "output_type": "stream",
     "text": [
      "\r",
      " 24%|█████████▋                              | 663/2747 [01:07<03:09, 10.98it/s]"
     ]
    },
    {
     "name": "stdout",
     "output_type": "stream",
     "text": [
      "663  image file:  KIC05015926_morp0.75.png\n",
      "1/1 [==============================] - 0s 52ms/step\n",
      "664  image file:  KIC09644680_morp0.68.png\n",
      "1/1 [==============================] - 0s 53ms/step\n"
     ]
    },
    {
     "name": "stderr",
     "output_type": "stream",
     "text": [
      "\r",
      " 24%|█████████▋                              | 665/2747 [01:07<03:06, 11.18it/s]"
     ]
    },
    {
     "name": "stdout",
     "output_type": "stream",
     "text": [
      "665  image file:  KIC05369419_morp0.87.png\n",
      "1/1 [==============================] - 0s 52ms/step\n",
      "666  image file:  KIC11975363_morp0.39.png\n",
      "1/1 [==============================] - 0s 52ms/step\n"
     ]
    },
    {
     "name": "stderr",
     "output_type": "stream",
     "text": [
      "\r",
      " 24%|█████████▋                              | 667/2747 [01:07<03:06, 11.16it/s]"
     ]
    },
    {
     "name": "stdout",
     "output_type": "stream",
     "text": [
      "667  image file:  KIC07593110_morp0.17.png\n",
      "1/1 [==============================] - 0s 52ms/step\n",
      "668  image file:  KIC07584826_morp0.62.png\n",
      "1/1 [==============================] - 0s 53ms/step\n"
     ]
    },
    {
     "name": "stderr",
     "output_type": "stream",
     "text": [
      "\r",
      " 24%|█████████▋                              | 669/2747 [01:07<03:05, 11.21it/s]"
     ]
    },
    {
     "name": "stdout",
     "output_type": "stream",
     "text": [
      "669  image file:  KIC07767559_morp0.29.png\n",
      "1/1 [==============================] - 0s 53ms/step\n",
      "670  image file:  KIC07455553_morp0.15.png\n",
      "1/1 [==============================] - 0s 52ms/step\n"
     ]
    },
    {
     "name": "stderr",
     "output_type": "stream",
     "text": [
      "\r",
      " 24%|█████████▊                              | 671/2747 [01:08<03:04, 11.23it/s]"
     ]
    },
    {
     "name": "stdout",
     "output_type": "stream",
     "text": [
      "671  image file:  KIC06758917_morp0.21.png\n",
      "1/1 [==============================] - 0s 51ms/step\n",
      "672  image file:  KIC04159347_morp0.1.png\n",
      "1/1 [==============================] - 0s 56ms/step\n"
     ]
    },
    {
     "name": "stderr",
     "output_type": "stream",
     "text": [
      "\r",
      " 24%|█████████▊                              | 673/2747 [01:08<03:13, 10.70it/s]"
     ]
    },
    {
     "name": "stdout",
     "output_type": "stream",
     "text": [
      "673  image file:  KIC09967884_morp0.09.png\n",
      "1/1 [==============================] - 0s 52ms/step\n",
      "674  image file:  KIC09021397_morp0.8.png\n",
      "1/1 [==============================] - 0s 55ms/step\n"
     ]
    },
    {
     "name": "stderr",
     "output_type": "stream",
     "text": [
      "\r",
      " 25%|█████████▊                              | 675/2747 [01:08<03:12, 10.74it/s]"
     ]
    },
    {
     "name": "stdout",
     "output_type": "stream",
     "text": [
      "675  image file:  KIC08572936_morp0.04.png\n",
      "1/1 [==============================] - 0s 53ms/step\n",
      "676  image file:  KIC08719897_morp0.5.png\n",
      "1/1 [==============================] - 0s 52ms/step\n"
     ]
    },
    {
     "name": "stderr",
     "output_type": "stream",
     "text": [
      "\r",
      " 25%|█████████▊                              | 677/2747 [01:08<03:08, 10.97it/s]"
     ]
    },
    {
     "name": "stdout",
     "output_type": "stream",
     "text": [
      "677  image file:  KIC06024572_morp0.86.png\n",
      "1/1 [==============================] - 0s 53ms/step\n",
      "678  image file:  KIC09288786_morp0.3.png\n",
      "1/1 [==============================] - 0s 51ms/step\n"
     ]
    },
    {
     "name": "stderr",
     "output_type": "stream",
     "text": [
      "\r",
      " 25%|█████████▉                              | 679/2747 [01:08<03:08, 10.98it/s]"
     ]
    },
    {
     "name": "stdout",
     "output_type": "stream",
     "text": [
      "679  image file:  KIC05983532_morp0.01.png\n",
      "1/1 [==============================] - 0s 52ms/step\n",
      "680  image file:  KIC08579812_morp0.68.png\n",
      "1/1 [==============================] - 0s 53ms/step\n"
     ]
    },
    {
     "name": "stderr",
     "output_type": "stream",
     "text": [
      "\r",
      " 25%|█████████▉                              | 681/2747 [01:08<03:06, 11.10it/s]"
     ]
    },
    {
     "name": "stdout",
     "output_type": "stream",
     "text": [
      "681  image file:  KIC05774375_morp0.6.png\n",
      "1/1 [==============================] - 0s 56ms/step\n",
      "682  image file:  KIC03861595_morp0.2.png\n",
      "1/1 [==============================] - 0s 53ms/step\n"
     ]
    },
    {
     "name": "stderr",
     "output_type": "stream",
     "text": [
      "\r",
      " 25%|█████████▉                              | 683/2747 [01:09<03:13, 10.65it/s]"
     ]
    },
    {
     "name": "stdout",
     "output_type": "stream",
     "text": [
      "683  image file:  KIC06757558_morp0.02.png\n",
      "1/1 [==============================] - 0s 52ms/step\n",
      "684  image file:  KIC12109575_morp0.64.png\n",
      "1/1 [==============================] - 0s 49ms/step\n"
     ]
    },
    {
     "name": "stderr",
     "output_type": "stream",
     "text": [
      "\r",
      " 25%|█████████▉                              | 685/2747 [01:09<03:08, 10.94it/s]"
     ]
    },
    {
     "name": "stdout",
     "output_type": "stream",
     "text": [
      "685  image file:  KIC06042191_morp-1.0.png\n",
      "1/1 [==============================] - 0s 50ms/step\n",
      "686  image file:  KIC06462057_morp0.93.png\n",
      "1/1 [==============================] - 0s 53ms/step\n"
     ]
    },
    {
     "name": "stderr",
     "output_type": "stream",
     "text": [
      "\r",
      " 25%|██████████                              | 687/2747 [01:09<03:06, 11.07it/s]"
     ]
    },
    {
     "name": "stdout",
     "output_type": "stream",
     "text": [
      "687  image file:  KIC08316503_morp0.25.png\n",
      "1/1 [==============================] - 0s 57ms/step\n",
      "688  image file:  KIC05459373_morp0.97.png\n",
      "1/1 [==============================] - 0s 53ms/step\n"
     ]
    },
    {
     "name": "stderr",
     "output_type": "stream",
     "text": [
      "\r",
      " 25%|██████████                              | 689/2747 [01:09<03:07, 10.98it/s]"
     ]
    },
    {
     "name": "stdout",
     "output_type": "stream",
     "text": [
      "689  image file:  KIC11442465_morp0.12.png\n",
      "1/1 [==============================] - 0s 54ms/step\n",
      "690  image file:  KIC06956014_morp0.4.png\n",
      "1/1 [==============================] - 0s 51ms/step\n"
     ]
    },
    {
     "name": "stderr",
     "output_type": "stream",
     "text": [
      "\r",
      " 25%|██████████                              | 691/2747 [01:09<03:05, 11.06it/s]"
     ]
    },
    {
     "name": "stdout",
     "output_type": "stream",
     "text": [
      "691  image file:  KIC10004546_morp-1.0.png\n",
      "1/1 [==============================] - 0s 51ms/step\n",
      "692  image file:  KIC06548447_morp0.3.png\n",
      "1/1 [==============================] - 0s 51ms/step\n"
     ]
    },
    {
     "name": "stderr",
     "output_type": "stream",
     "text": [
      "\r",
      " 25%|██████████                              | 693/2747 [01:10<03:01, 11.30it/s]"
     ]
    },
    {
     "name": "stdout",
     "output_type": "stream",
     "text": [
      "693  image file:  KIC07019489_morp-1.0.png\n",
      "1/1 [==============================] - 0s 50ms/step\n",
      "694  image file:  KIC02435971_morp0.94.png\n",
      "1/1 [==============================] - 0s 51ms/step\n"
     ]
    },
    {
     "name": "stderr",
     "output_type": "stream",
     "text": [
      "\r",
      " 25%|██████████                              | 695/2747 [01:10<02:59, 11.43it/s]"
     ]
    },
    {
     "name": "stdout",
     "output_type": "stream",
     "text": [
      "695  image file:  KIC06118779_morp0.9.png\n",
      "1/1 [==============================] - 0s 52ms/step\n",
      "696  image file:  KIC06695510_morp0.97.png\n",
      "1/1 [==============================] - 0s 53ms/step\n"
     ]
    },
    {
     "name": "stderr",
     "output_type": "stream",
     "text": [
      "\r",
      " 25%|██████████▏                             | 697/2747 [01:10<03:00, 11.39it/s]"
     ]
    },
    {
     "name": "stdout",
     "output_type": "stream",
     "text": [
      "697  image file:  KIC07878402_morp0.74.png\n",
      "1/1 [==============================] - 0s 52ms/step\n",
      "698  image file:  KIC07955301_morp0.33.png\n",
      "1/1 [==============================] - 0s 53ms/step\n"
     ]
    },
    {
     "name": "stderr",
     "output_type": "stream",
     "text": [
      "\r",
      " 25%|██████████▏                             | 699/2747 [01:10<03:10, 10.77it/s]"
     ]
    },
    {
     "name": "stdout",
     "output_type": "stream",
     "text": [
      "699  image file:  KIC03848042_morp0.99.png\n",
      "1/1 [==============================] - 0s 51ms/step\n",
      "700  image file:  KIC11408810_morp0.8.png\n",
      "1/1 [==============================] - 0s 51ms/step\n"
     ]
    },
    {
     "name": "stderr",
     "output_type": "stream",
     "text": [
      "\r",
      " 26%|██████████▏                             | 701/2747 [01:10<03:13, 10.56it/s]"
     ]
    },
    {
     "name": "stdout",
     "output_type": "stream",
     "text": [
      "701  image file:  KIC09706078_morp0.6.png\n",
      "1/1 [==============================] - 0s 51ms/step\n",
      "702  image file:  KIC11519226_morp0.03.png\n",
      "1/1 [==============================] - 0s 49ms/step\n"
     ]
    },
    {
     "name": "stderr",
     "output_type": "stream",
     "text": [
      "\r",
      " 26%|██████████▏                             | 703/2747 [01:10<03:09, 10.76it/s]"
     ]
    },
    {
     "name": "stdout",
     "output_type": "stream",
     "text": [
      "703  image file:  KIC08248967_morp0.83.png\n",
      "1/1 [==============================] - 0s 51ms/step\n",
      "704  image file:  KIC03442006_morp0.85.png\n",
      "1/1 [==============================] - 0s 53ms/step\n"
     ]
    },
    {
     "name": "stderr",
     "output_type": "stream",
     "text": [
      "\r",
      " 26%|██████████▎                             | 705/2747 [01:11<03:06, 10.94it/s]"
     ]
    },
    {
     "name": "stdout",
     "output_type": "stream",
     "text": [
      "705  image file:  KIC03853259_morp0.98.png\n",
      "1/1 [==============================] - 0s 57ms/step\n",
      "706  image file:  KIC02998124_morp0.08.png\n",
      "1/1 [==============================] - 0s 51ms/step\n"
     ]
    },
    {
     "name": "stderr",
     "output_type": "stream",
     "text": [
      "\r",
      " 26%|██████████▎                             | 707/2747 [01:11<03:06, 10.96it/s]"
     ]
    },
    {
     "name": "stdout",
     "output_type": "stream",
     "text": [
      "707  image file:  KIC12351927_morp0.07.png\n",
      "1/1 [==============================] - 0s 52ms/step\n",
      "708  image file:  KIC08700506_morp0.04.png\n",
      "1/1 [==============================] - 0s 51ms/step\n"
     ]
    },
    {
     "name": "stderr",
     "output_type": "stream",
     "text": [
      "\r",
      " 26%|██████████▎                             | 709/2747 [01:11<03:01, 11.20it/s]"
     ]
    },
    {
     "name": "stdout",
     "output_type": "stream",
     "text": [
      "709  image file:  KIC05963222_morp0.55.png\n",
      "1/1 [==============================] - 0s 50ms/step\n",
      "710  image file:  KIC10583225_morp0.48.png\n",
      "1/1 [==============================] - 0s 52ms/step\n"
     ]
    },
    {
     "name": "stderr",
     "output_type": "stream",
     "text": [
      "\r",
      " 26%|██████████▎                             | 711/2747 [01:11<02:58, 11.39it/s]"
     ]
    },
    {
     "name": "stdout",
     "output_type": "stream",
     "text": [
      "711  image file:  KIC12458797_morp0.94.png\n",
      "1/1 [==============================] - 0s 52ms/step\n",
      "712  image file:  KIC11409698_morp0.14.png\n",
      "1/1 [==============================] - 0s 50ms/step\n"
     ]
    },
    {
     "name": "stderr",
     "output_type": "stream",
     "text": [
      "\r",
      " 26%|██████████▍                             | 713/2747 [01:11<02:56, 11.54it/s]"
     ]
    },
    {
     "name": "stdout",
     "output_type": "stream",
     "text": [
      "713  image file:  KIC08197368_morp-1.0.png\n",
      "1/1 [==============================] - 0s 53ms/step\n",
      "714  image file:  KIC10215869_morp0.24.png\n",
      "1/1 [==============================] - 0s 54ms/step\n"
     ]
    },
    {
     "name": "stderr",
     "output_type": "stream",
     "text": [
      "\r",
      " 26%|██████████▍                             | 715/2747 [01:12<02:58, 11.38it/s]"
     ]
    },
    {
     "name": "stdout",
     "output_type": "stream",
     "text": [
      "715  image file:  KIC06613627_morp0.98.png\n",
      "1/1 [==============================] - 0s 52ms/step\n",
      "716  image file:  KIC09935311_morp0.82.png\n",
      "1/1 [==============================] - 0s 53ms/step\n"
     ]
    },
    {
     "name": "stderr",
     "output_type": "stream",
     "text": [
      "\r",
      " 26%|██████████▍                             | 717/2747 [01:12<02:59, 11.34it/s]"
     ]
    },
    {
     "name": "stdout",
     "output_type": "stream",
     "text": [
      "717  image file:  KIC11137143_morp0.91.png\n",
      "1/1 [==============================] - 0s 51ms/step\n",
      "718  image file:  KIC05770860_morp0.88.png\n",
      "1/1 [==============================] - 0s 51ms/step\n"
     ]
    },
    {
     "name": "stderr",
     "output_type": "stream",
     "text": [
      "\r",
      " 26%|██████████▍                             | 719/2747 [01:12<02:57, 11.45it/s]"
     ]
    },
    {
     "name": "stdout",
     "output_type": "stream",
     "text": [
      "719  image file:  KIC09237533_morp0.95.png\n",
      "1/1 [==============================] - 0s 51ms/step\n",
      "720  image file:  KIC02972514_morp0.74.png\n",
      "1/1 [==============================] - 0s 52ms/step\n"
     ]
    },
    {
     "name": "stderr",
     "output_type": "stream",
     "text": [
      "\r",
      " 26%|██████████▍                             | 721/2747 [01:12<02:55, 11.55it/s]"
     ]
    },
    {
     "name": "stdout",
     "output_type": "stream",
     "text": [
      "721  image file:  KIC12554536_morp0.63.png\n",
      "1/1 [==============================] - 0s 51ms/step\n",
      "722  image file:  KIC09637299_morp0.44.png\n",
      "1/1 [==============================] - 0s 53ms/step\n"
     ]
    },
    {
     "name": "stderr",
     "output_type": "stream",
     "text": [
      "\r",
      " 26%|██████████▌                             | 723/2747 [01:12<02:55, 11.52it/s]"
     ]
    },
    {
     "name": "stdout",
     "output_type": "stream",
     "text": [
      "723  image file:  KIC03865298_morp0.15.png\n",
      "1/1 [==============================] - 0s 51ms/step\n",
      "724  image file:  KIC10809970_morp0.95.png\n",
      "1/1 [==============================] - 0s 51ms/step\n"
     ]
    },
    {
     "name": "stderr",
     "output_type": "stream",
     "text": [
      "\r",
      " 26%|██████████▌                             | 725/2747 [01:12<02:54, 11.58it/s]"
     ]
    },
    {
     "name": "stdout",
     "output_type": "stream",
     "text": [
      "725  image file:  KIC08554498_morp0.12.png\n",
      "1/1 [==============================] - 0s 53ms/step\n",
      "726  image file:  KIC08700558_morp0.17.png\n",
      "1/1 [==============================] - 0s 58ms/step\n"
     ]
    },
    {
     "name": "stderr",
     "output_type": "stream",
     "text": [
      "\r",
      " 26%|██████████▌                             | 727/2747 [01:13<02:56, 11.46it/s]"
     ]
    },
    {
     "name": "stdout",
     "output_type": "stream",
     "text": [
      "727  image file:  KIC05615815_morp0.8.png\n",
      "1/1 [==============================] - 0s 53ms/step\n",
      "728  image file:  KIC10489521_morp0.38.png\n",
      "1/1 [==============================] - 0s 52ms/step\n"
     ]
    },
    {
     "name": "stderr",
     "output_type": "stream",
     "text": [
      "\r",
      " 27%|██████████▌                             | 729/2747 [01:13<02:56, 11.42it/s]"
     ]
    },
    {
     "name": "stdout",
     "output_type": "stream",
     "text": [
      "729  image file:  KIC08554005_morp0.76.png\n",
      "1/1 [==============================] - 0s 51ms/step\n",
      "730  image file:  KIC09945280_morp0.49.png\n",
      "1/1 [==============================] - 0s 54ms/step\n"
     ]
    },
    {
     "name": "stderr",
     "output_type": "stream",
     "text": [
      "\r",
      " 27%|██████████▋                             | 731/2747 [01:13<02:56, 11.44it/s]"
     ]
    },
    {
     "name": "stdout",
     "output_type": "stream",
     "text": [
      "731  image file:  KIC03848919_morp0.57.png\n",
      "1/1 [==============================] - 0s 51ms/step\n",
      "732  image file:  KIC03972629_morp0.85.png\n",
      "1/1 [==============================] - 0s 53ms/step\n"
     ]
    },
    {
     "name": "stderr",
     "output_type": "stream",
     "text": [
      "\r",
      " 27%|██████████▋                             | 733/2747 [01:13<02:57, 11.37it/s]"
     ]
    },
    {
     "name": "stdout",
     "output_type": "stream",
     "text": [
      "733  image file:  KIC06963171_morp-1.0.png\n",
      "1/1 [==============================] - 0s 51ms/step\n",
      "734  image file:  KIC05181804_morp0.16.png\n",
      "1/1 [==============================] - 0s 52ms/step\n"
     ]
    },
    {
     "name": "stderr",
     "output_type": "stream",
     "text": [
      "\r",
      " 27%|██████████▋                             | 735/2747 [01:13<02:57, 11.33it/s]"
     ]
    },
    {
     "name": "stdout",
     "output_type": "stream",
     "text": [
      "735  image file:  KIC07119876_morp0.85.png\n",
      "1/1 [==============================] - 0s 53ms/step\n",
      "736  image file:  KIC05263802_morp0.19.png\n",
      "1/1 [==============================] - 0s 58ms/step\n"
     ]
    },
    {
     "name": "stderr",
     "output_type": "stream",
     "text": [
      "\r",
      " 27%|██████████▋                             | 737/2747 [01:13<03:00, 11.15it/s]"
     ]
    },
    {
     "name": "stdout",
     "output_type": "stream",
     "text": [
      "737  image file:  KIC09071373_morp0.81.png\n",
      "1/1 [==============================] - 0s 55ms/step\n",
      "738  image file:  KIC06025466_morp0.45.png\n",
      "1/1 [==============================] - 0s 52ms/step\n"
     ]
    },
    {
     "name": "stderr",
     "output_type": "stream",
     "text": [
      "\r",
      " 27%|██████████▊                             | 739/2747 [01:14<03:01, 11.07it/s]"
     ]
    },
    {
     "name": "stdout",
     "output_type": "stream",
     "text": [
      "739  image file:  KIC05610698_morp0.54.png\n",
      "1/1 [==============================] - 0s 53ms/step\n",
      "740  image file:  KIC09240664_morp0.25.png\n",
      "1/1 [==============================] - 0s 52ms/step\n"
     ]
    },
    {
     "name": "stderr",
     "output_type": "stream",
     "text": [
      "\r",
      " 27%|██████████▊                             | 741/2747 [01:14<03:03, 10.94it/s]"
     ]
    },
    {
     "name": "stdout",
     "output_type": "stream",
     "text": [
      "741  image file:  KIC03543270_morp0.33.png\n",
      "1/1 [==============================] - 0s 53ms/step\n",
      "742  image file:  KIC05534965_morp0.0.png\n",
      "1/1 [==============================] - 0s 53ms/step\n"
     ]
    },
    {
     "name": "stderr",
     "output_type": "stream",
     "text": [
      "\r",
      " 27%|██████████▊                             | 743/2747 [01:14<03:00, 11.09it/s]"
     ]
    },
    {
     "name": "stdout",
     "output_type": "stream",
     "text": [
      "743  image file:  KIC07743464_morp0.01.png\n",
      "1/1 [==============================] - 0s 61ms/step\n",
      "744  image file:  KIC05962514_morp0.56.png\n",
      "1/1 [==============================] - 0s 92ms/step\n"
     ]
    },
    {
     "name": "stderr",
     "output_type": "stream",
     "text": [
      "\r",
      " 27%|██████████▊                             | 745/2747 [01:14<03:15, 10.23it/s]"
     ]
    },
    {
     "name": "stdout",
     "output_type": "stream",
     "text": [
      "745  image file:  KIC02306740_morp0.27.png\n",
      "1/1 [==============================] - 0s 56ms/step\n",
      "746  image file:  KIC09649222_morp0.18.png\n",
      "1/1 [==============================] - 0s 55ms/step\n"
     ]
    },
    {
     "name": "stderr",
     "output_type": "stream",
     "text": [
      "\r",
      " 27%|██████████▉                             | 747/2747 [01:14<03:24,  9.77it/s]"
     ]
    },
    {
     "name": "stdout",
     "output_type": "stream",
     "text": [
      "747  image file:  KIC11230837_morp0.61.png\n",
      "1/1 [==============================] - 0s 53ms/step\n",
      "748  image file:  KIC06690171_morp0.0.png\n",
      "1/1 [==============================] - 0s 55ms/step\n"
     ]
    },
    {
     "name": "stderr",
     "output_type": "stream",
     "text": [
      "\r",
      " 27%|██████████▉                             | 749/2747 [01:15<03:17, 10.13it/s]"
     ]
    },
    {
     "name": "stdout",
     "output_type": "stream",
     "text": [
      "749  image file:  KIC11568987_morp0.1.png\n",
      "1/1 [==============================] - 0s 52ms/step\n",
      "750  image file:  KIC03966912_morp0.02.png\n",
      "1/1 [==============================] - 0s 52ms/step\n"
     ]
    },
    {
     "name": "stderr",
     "output_type": "stream",
     "text": [
      "\r",
      " 27%|██████████▉                             | 751/2747 [01:15<03:11, 10.44it/s]"
     ]
    },
    {
     "name": "stdout",
     "output_type": "stream",
     "text": [
      "751  image file:  KIC08039225_morp0.95.png\n",
      "1/1 [==============================] - 0s 54ms/step\n",
      "752  image file:  KIC11303526_morp0.86.png\n",
      "1/1 [==============================] - 0s 51ms/step\n"
     ]
    },
    {
     "name": "stderr",
     "output_type": "stream",
     "text": [
      "\r",
      " 27%|██████████▉                             | 753/2747 [01:15<03:11, 10.41it/s]"
     ]
    },
    {
     "name": "stdout",
     "output_type": "stream",
     "text": [
      "753  image file:  KIC12170648_morp0.52.png\n",
      "1/1 [==============================] - 0s 55ms/step\n",
      "754  image file:  KIC04073678_morp0.67.png\n",
      "1/1 [==============================] - 0s 62ms/step\n"
     ]
    },
    {
     "name": "stderr",
     "output_type": "stream",
     "text": [
      "\r",
      " 27%|██████████▉                             | 755/2747 [01:15<03:10, 10.47it/s]"
     ]
    },
    {
     "name": "stdout",
     "output_type": "stream",
     "text": [
      "755  image file:  KIC07546791_morp0.94.png\n",
      "1/1 [==============================] - 0s 70ms/step\n",
      "756  image file:  KIC07368103_morp0.54.png\n",
      "1/1 [==============================] - 0s 71ms/step\n"
     ]
    },
    {
     "name": "stderr",
     "output_type": "stream",
     "text": [
      "\r",
      " 28%|███████████                             | 757/2747 [01:15<03:18, 10.00it/s]"
     ]
    },
    {
     "name": "stdout",
     "output_type": "stream",
     "text": [
      "757  image file:  KIC10259301_morp0.01.png\n",
      "1/1 [==============================] - 0s 53ms/step\n",
      "758  image file:  KIC05017058_morp0.48.png\n",
      "1/1 [==============================] - 0s 54ms/step\n"
     ]
    },
    {
     "name": "stderr",
     "output_type": "stream",
     "text": [
      "\r",
      " 28%|███████████                             | 759/2747 [01:16<03:24,  9.72it/s]"
     ]
    },
    {
     "name": "stdout",
     "output_type": "stream",
     "text": [
      "759  image file:  KIC05450814_morp0.11.png\n",
      "1/1 [==============================] - 0s 60ms/step\n",
      "760  image file:  KIC11959569_morp0.11.png\n",
      "1/1 [==============================] - 0s 61ms/step\n"
     ]
    },
    {
     "name": "stderr",
     "output_type": "stream",
     "text": [
      "\r",
      " 28%|███████████                             | 761/2747 [01:16<03:23,  9.74it/s]"
     ]
    },
    {
     "name": "stdout",
     "output_type": "stream",
     "text": [
      "761  image file:  KIC06781535_morp0.12.png\n",
      "1/1 [==============================] - 0s 59ms/step\n",
      "762  image file:  KIC09786017_morp0.55.png\n",
      "1/1 [==============================] - 0s 54ms/step\n"
     ]
    },
    {
     "name": "stderr",
     "output_type": "stream",
     "text": [
      "\r",
      " 28%|███████████                             | 763/2747 [01:16<03:23,  9.77it/s]"
     ]
    },
    {
     "name": "stdout",
     "output_type": "stream",
     "text": [
      "763  image file:  KIC06023859_morp0.01.png\n",
      "1/1 [==============================] - 0s 54ms/step\n",
      "764  image file:  KIC10874226_morp0.05.png\n",
      "1/1 [==============================] - 0s 54ms/step\n"
     ]
    },
    {
     "name": "stderr",
     "output_type": "stream",
     "text": [
      "\r",
      " 28%|███████████▏                            | 765/2747 [01:16<03:16, 10.11it/s]"
     ]
    },
    {
     "name": "stdout",
     "output_type": "stream",
     "text": [
      "765  image file:  KIC06390205_morp0.8.png\n",
      "1/1 [==============================] - 0s 56ms/step\n",
      "766  image file:  KIC07105574_morp0.08.png\n",
      "1/1 [==============================] - 0s 55ms/step\n"
     ]
    },
    {
     "name": "stderr",
     "output_type": "stream",
     "text": [
      "\r",
      " 28%|███████████▏                            | 767/2747 [01:16<03:11, 10.31it/s]"
     ]
    },
    {
     "name": "stdout",
     "output_type": "stream",
     "text": [
      "767  image file:  KIC05095269_morp0.05.png\n",
      "1/1 [==============================] - 0s 56ms/step\n",
      "768  image file:  KIC05737474_morp0.76.png\n",
      "1/1 [==============================] - 0s 57ms/step\n"
     ]
    },
    {
     "name": "stderr",
     "output_type": "stream",
     "text": [
      "\r",
      " 28%|███████████▏                            | 769/2747 [01:17<03:11, 10.35it/s]"
     ]
    },
    {
     "name": "stdout",
     "output_type": "stream",
     "text": [
      "769  image file:  KIC03120320_morp0.14.png\n",
      "1/1 [==============================] - 0s 61ms/step\n",
      "770  image file:  KIC05104097_morp0.87.png\n",
      "1/1 [==============================] - 0s 59ms/step\n"
     ]
    },
    {
     "name": "stderr",
     "output_type": "stream",
     "text": [
      "\r",
      " 28%|███████████▏                            | 771/2747 [01:17<03:12, 10.29it/s]"
     ]
    },
    {
     "name": "stdout",
     "output_type": "stream",
     "text": [
      "771  image file:  KIC06689368_morp0.96.png\n",
      "1/1 [==============================] - 0s 55ms/step\n",
      "772  image file:  KIC12356746_morp0.53.png\n",
      "1/1 [==============================] - 0s 57ms/step\n"
     ]
    },
    {
     "name": "stderr",
     "output_type": "stream",
     "text": [
      "\r",
      " 28%|███████████▎                            | 773/2747 [01:17<03:09, 10.42it/s]"
     ]
    },
    {
     "name": "stdout",
     "output_type": "stream",
     "text": [
      "773  image file:  KIC06803335_morp0.95.png\n",
      "1/1 [==============================] - 0s 54ms/step\n",
      "774  image file:  KIC06881709_morp-1.0.png\n",
      "1/1 [==============================] - 0s 54ms/step\n"
     ]
    },
    {
     "name": "stderr",
     "output_type": "stream",
     "text": [
      "\r",
      " 28%|███████████▎                            | 775/2747 [01:17<03:05, 10.61it/s]"
     ]
    },
    {
     "name": "stdout",
     "output_type": "stream",
     "text": [
      "775  image file:  KIC08045121_morp1.0.png\n",
      "1/1 [==============================] - 0s 53ms/step\n",
      "776  image file:  KIC09896435_morp0.04.png\n",
      "1/1 [==============================] - 0s 54ms/step\n"
     ]
    },
    {
     "name": "stderr",
     "output_type": "stream",
     "text": [
      "\r",
      " 28%|███████████▎                            | 777/2747 [01:17<03:03, 10.72it/s]"
     ]
    },
    {
     "name": "stdout",
     "output_type": "stream",
     "text": [
      "777  image file:  KIC04840818_morp0.12.png\n",
      "1/1 [==============================] - 0s 56ms/step\n",
      "778  image file:  KIC06307062_morp0.01.png\n",
      "1/1 [==============================] - 0s 57ms/step\n"
     ]
    },
    {
     "name": "stderr",
     "output_type": "stream",
     "text": [
      "\r",
      " 28%|███████████▎                            | 779/2747 [01:18<03:04, 10.66it/s]"
     ]
    },
    {
     "name": "stdout",
     "output_type": "stream",
     "text": [
      "779  image file:  KIC07440742_morp0.73.png\n",
      "1/1 [==============================] - 0s 56ms/step\n",
      "780  image file:  KIC06629588_morp0.55.png\n",
      "1/1 [==============================] - 0s 57ms/step\n"
     ]
    },
    {
     "name": "stderr",
     "output_type": "stream",
     "text": [
      "\r",
      " 28%|███████████▎                            | 781/2747 [01:18<03:05, 10.58it/s]"
     ]
    },
    {
     "name": "stdout",
     "output_type": "stream",
     "text": [
      "781  image file:  KIC10924853_morp0.1.png\n",
      "1/1 [==============================] - 0s 57ms/step\n",
      "782  image file:  KIC10389809_morp0.77.png\n",
      "1/1 [==============================] - 0s 57ms/step\n"
     ]
    },
    {
     "name": "stderr",
     "output_type": "stream",
     "text": [
      "\r",
      " 29%|███████████▍                            | 783/2747 [01:18<03:06, 10.55it/s]"
     ]
    },
    {
     "name": "stdout",
     "output_type": "stream",
     "text": [
      "783  image file:  KIC07287391_morp0.16.png\n",
      "1/1 [==============================] - 0s 59ms/step\n",
      "784  image file:  KIC09402652_morp0.65.png\n",
      "1/1 [==============================] - 0s 56ms/step\n"
     ]
    },
    {
     "name": "stderr",
     "output_type": "stream",
     "text": [
      "\r",
      " 29%|███████████▍                            | 785/2747 [01:18<03:07, 10.47it/s]"
     ]
    },
    {
     "name": "stdout",
     "output_type": "stream",
     "text": [
      "785  image file:  KIC07023917_morp0.71.png\n",
      "1/1 [==============================] - 0s 58ms/step\n",
      "786  image file:  KIC07768447_morp0.15.png\n",
      "1/1 [==============================] - 0s 63ms/step\n"
     ]
    },
    {
     "name": "stderr",
     "output_type": "stream",
     "text": [
      "\r",
      " 29%|███████████▍                            | 787/2747 [01:18<03:10, 10.29it/s]"
     ]
    },
    {
     "name": "stdout",
     "output_type": "stream",
     "text": [
      "787  image file:  KIC08479386_morp0.28.png\n",
      "1/1 [==============================] - 0s 69ms/step\n",
      "788  image file:  KIC05458880_morp0.82.png\n",
      "1/1 [==============================] - 0s 65ms/step\n"
     ]
    },
    {
     "name": "stderr",
     "output_type": "stream",
     "text": [
      "\r",
      " 29%|███████████▍                            | 789/2747 [01:19<03:15, 10.00it/s]"
     ]
    },
    {
     "name": "stdout",
     "output_type": "stream",
     "text": [
      "789  image file:  KIC08314801_morp0.09.png\n",
      "1/1 [==============================] - 0s 62ms/step\n",
      "790  image file:  KIC05977736_morp0.8.png\n",
      "1/1 [==============================] - 0s 63ms/step\n"
     ]
    },
    {
     "name": "stderr",
     "output_type": "stream",
     "text": [
      "\r",
      " 29%|███████████▌                            | 791/2747 [01:19<03:19,  9.82it/s]"
     ]
    },
    {
     "name": "stdout",
     "output_type": "stream",
     "text": [
      "791  image file:  KIC04551328_morp0.5.png\n",
      "1/1 [==============================] - 0s 61ms/step\n"
     ]
    },
    {
     "name": "stderr",
     "output_type": "stream",
     "text": [
      "\r",
      " 29%|███████████▌                            | 792/2747 [01:19<03:19,  9.79it/s]"
     ]
    },
    {
     "name": "stdout",
     "output_type": "stream",
     "text": [
      "792  image file:  KIC10601549_morp0.36.png\n",
      "1/1 [==============================] - 0s 63ms/step\n"
     ]
    },
    {
     "name": "stderr",
     "output_type": "stream",
     "text": [
      "\r",
      " 29%|███████████▌                            | 793/2747 [01:19<03:20,  9.76it/s]"
     ]
    },
    {
     "name": "stdout",
     "output_type": "stream",
     "text": [
      "793  image file:  KIC06209347_morp0.3.png\n",
      "1/1 [==============================] - 0s 66ms/step\n"
     ]
    },
    {
     "name": "stderr",
     "output_type": "stream",
     "text": [
      "\r",
      " 29%|███████████▌                            | 794/2747 [01:19<03:22,  9.66it/s]"
     ]
    },
    {
     "name": "stdout",
     "output_type": "stream",
     "text": [
      "794  image file:  KIC09640985_morp0.43.png\n",
      "1/1 [==============================] - 0s 66ms/step\n"
     ]
    },
    {
     "name": "stderr",
     "output_type": "stream",
     "text": [
      "\r",
      " 29%|███████████▌                            | 795/2747 [01:19<03:27,  9.42it/s]"
     ]
    },
    {
     "name": "stdout",
     "output_type": "stream",
     "text": [
      "795  image file:  KIC11076176_morp0.58.png\n",
      "1/1 [==============================] - 0s 64ms/step\n"
     ]
    },
    {
     "name": "stderr",
     "output_type": "stream",
     "text": [
      "\r",
      " 29%|███████████▌                            | 796/2747 [01:19<03:25,  9.48it/s]"
     ]
    },
    {
     "name": "stdout",
     "output_type": "stream",
     "text": [
      "796  image file:  KIC10677186_morp0.01.png\n",
      "1/1 [==============================] - 0s 66ms/step\n"
     ]
    },
    {
     "name": "stderr",
     "output_type": "stream",
     "text": [
      "\r",
      " 29%|███████████▌                            | 797/2747 [01:19<03:26,  9.42it/s]"
     ]
    },
    {
     "name": "stdout",
     "output_type": "stream",
     "text": [
      "797  image file:  KIC06290740_morp-1.0.png\n",
      "1/1 [==============================] - 0s 72ms/step\n"
     ]
    },
    {
     "name": "stderr",
     "output_type": "stream",
     "text": [
      "\r",
      " 29%|███████████▌                            | 798/2747 [01:20<03:34,  9.10it/s]"
     ]
    },
    {
     "name": "stdout",
     "output_type": "stream",
     "text": [
      "798  image file:  KIC05392897_morp0.11.png\n",
      "1/1 [==============================] - 0s 72ms/step\n"
     ]
    },
    {
     "name": "stderr",
     "output_type": "stream",
     "text": [
      "\r",
      " 29%|███████████▋                            | 799/2747 [01:20<03:38,  8.90it/s]"
     ]
    },
    {
     "name": "stdout",
     "output_type": "stream",
     "text": [
      "799  image file:  KIC07670485_morp0.14.png\n",
      "1/1 [==============================] - 0s 65ms/step\n"
     ]
    },
    {
     "name": "stderr",
     "output_type": "stream",
     "text": [
      "\r",
      " 29%|███████████▋                            | 800/2747 [01:20<03:35,  9.03it/s]"
     ]
    },
    {
     "name": "stdout",
     "output_type": "stream",
     "text": [
      "800  image file:  KIC02983113_morp0.89.png\n",
      "1/1 [==============================] - 0s 69ms/step\n"
     ]
    },
    {
     "name": "stderr",
     "output_type": "stream",
     "text": [
      "\r",
      " 29%|███████████▋                            | 801/2747 [01:20<03:39,  8.89it/s]"
     ]
    },
    {
     "name": "stdout",
     "output_type": "stream",
     "text": [
      "801  image file:  KIC08223655_morp0.0.png\n",
      "1/1 [==============================] - 0s 67ms/step\n"
     ]
    },
    {
     "name": "stderr",
     "output_type": "stream",
     "text": [
      "\r",
      " 29%|███████████▋                            | 802/2747 [01:20<03:37,  8.93it/s]"
     ]
    },
    {
     "name": "stdout",
     "output_type": "stream",
     "text": [
      "802  image file:  KIC02693092_morp0.05.png\n",
      "1/1 [==============================] - 0s 66ms/step\n"
     ]
    },
    {
     "name": "stderr",
     "output_type": "stream",
     "text": [
      "\r",
      " 29%|███████████▋                            | 803/2747 [01:20<03:43,  8.69it/s]"
     ]
    },
    {
     "name": "stdout",
     "output_type": "stream",
     "text": [
      "803  image file:  KIC07186665_morp0.3.png\n",
      "1/1 [==============================] - 0s 73ms/step\n"
     ]
    },
    {
     "name": "stderr",
     "output_type": "stream",
     "text": [
      "\r",
      " 29%|███████████▋                            | 804/2747 [01:20<03:47,  8.53it/s]"
     ]
    },
    {
     "name": "stdout",
     "output_type": "stream",
     "text": [
      "804  image file:  KIC05394544_morp0.57.png\n",
      "1/1 [==============================] - 0s 84ms/step\n"
     ]
    },
    {
     "name": "stderr",
     "output_type": "stream",
     "text": [
      "\r",
      " 29%|███████████▋                            | 805/2747 [01:20<03:54,  8.29it/s]"
     ]
    },
    {
     "name": "stdout",
     "output_type": "stream",
     "text": [
      "805  image file:  KIC08153568_morp0.56.png\n",
      "1/1 [==============================] - 0s 81ms/step\n"
     ]
    },
    {
     "name": "stderr",
     "output_type": "stream",
     "text": [
      "\r",
      " 29%|███████████▋                            | 806/2747 [01:20<04:01,  8.04it/s]"
     ]
    },
    {
     "name": "stdout",
     "output_type": "stream",
     "text": [
      "806  image file:  KIC07938468_morp0.55.png\n",
      "1/1 [==============================] - 0s 83ms/step\n"
     ]
    },
    {
     "name": "stderr",
     "output_type": "stream",
     "text": [
      "\r",
      " 29%|███████████▊                            | 807/2747 [01:21<04:05,  7.90it/s]"
     ]
    },
    {
     "name": "stdout",
     "output_type": "stream",
     "text": [
      "807  image file:  KIC12459731_morp0.08.png\n",
      "1/1 [==============================] - 0s 73ms/step\n"
     ]
    },
    {
     "name": "stderr",
     "output_type": "stream",
     "text": [
      "\r",
      " 29%|███████████▊                            | 808/2747 [01:21<04:04,  7.93it/s]"
     ]
    },
    {
     "name": "stdout",
     "output_type": "stream",
     "text": [
      "808  image file:  KIC05024450_morp0.33.png\n",
      "1/1 [==============================] - 0s 68ms/step\n"
     ]
    },
    {
     "name": "stderr",
     "output_type": "stream",
     "text": [
      "\r",
      " 29%|███████████▊                            | 809/2747 [01:21<03:55,  8.23it/s]"
     ]
    },
    {
     "name": "stdout",
     "output_type": "stream",
     "text": [
      "809  image file:  KIC07733731_morp0.44.png\n",
      "1/1 [==============================] - 0s 71ms/step\n"
     ]
    },
    {
     "name": "stderr",
     "output_type": "stream",
     "text": [
      "\r",
      " 29%|███████████▊                            | 810/2747 [01:21<03:50,  8.39it/s]"
     ]
    },
    {
     "name": "stdout",
     "output_type": "stream",
     "text": [
      "810  image file:  KIC01573836_morp-1.0.png\n",
      "1/1 [==============================] - 0s 67ms/step\n"
     ]
    },
    {
     "name": "stderr",
     "output_type": "stream",
     "text": [
      "\r",
      " 30%|███████████▊                            | 811/2747 [01:21<03:45,  8.58it/s]"
     ]
    },
    {
     "name": "stdout",
     "output_type": "stream",
     "text": [
      "811  image file:  KIC08197761_morp0.07.png\n",
      "1/1 [==============================] - 0s 64ms/step\n"
     ]
    },
    {
     "name": "stderr",
     "output_type": "stream",
     "text": [
      "\r",
      " 30%|███████████▊                            | 812/2747 [01:21<03:39,  8.80it/s]"
     ]
    },
    {
     "name": "stdout",
     "output_type": "stream",
     "text": [
      "812  image file:  KIC09347868_morp0.83.png\n",
      "1/1 [==============================] - 0s 63ms/step\n"
     ]
    },
    {
     "name": "stderr",
     "output_type": "stream",
     "text": [
      "\r",
      " 30%|███████████▊                            | 813/2747 [01:21<03:37,  8.91it/s]"
     ]
    },
    {
     "name": "stdout",
     "output_type": "stream",
     "text": [
      "813  image file:  KIC09597411_morp0.42.png\n",
      "1/1 [==============================] - 0s 74ms/step\n"
     ]
    },
    {
     "name": "stderr",
     "output_type": "stream",
     "text": [
      "\r",
      " 30%|███████████▊                            | 814/2747 [01:21<03:38,  8.84it/s]"
     ]
    },
    {
     "name": "stdout",
     "output_type": "stream",
     "text": [
      "814  image file:  KIC08701327_morp0.24.png\n",
      "1/1 [==============================] - 0s 68ms/step\n"
     ]
    },
    {
     "name": "stderr",
     "output_type": "stream",
     "text": [
      "\r",
      " 30%|███████████▊                            | 815/2747 [01:22<03:37,  8.87it/s]"
     ]
    },
    {
     "name": "stdout",
     "output_type": "stream",
     "text": [
      "815  image file:  KIC07914906_morp-1.0.png\n",
      "1/1 [==============================] - 0s 69ms/step\n"
     ]
    },
    {
     "name": "stderr",
     "output_type": "stream",
     "text": [
      "\r",
      " 30%|███████████▉                            | 816/2747 [01:22<03:38,  8.86it/s]"
     ]
    },
    {
     "name": "stdout",
     "output_type": "stream",
     "text": [
      "816  image file:  KIC11408935_morp0.15.png\n",
      "1/1 [==============================] - 0s 69ms/step\n"
     ]
    },
    {
     "name": "stderr",
     "output_type": "stream",
     "text": [
      "\r",
      " 30%|███████████▉                            | 817/2747 [01:22<03:38,  8.83it/s]"
     ]
    },
    {
     "name": "stdout",
     "output_type": "stream",
     "text": [
      "817  image file:  KIC08758716_morp1.0.png\n",
      "1/1 [==============================] - 0s 69ms/step\n"
     ]
    },
    {
     "name": "stderr",
     "output_type": "stream",
     "text": [
      "\r",
      " 30%|███████████▉                            | 818/2747 [01:22<03:38,  8.84it/s]"
     ]
    },
    {
     "name": "stdout",
     "output_type": "stream",
     "text": [
      "818  image file:  KIC11616594_morp0.67.png\n",
      "1/1 [==============================] - 0s 68ms/step\n"
     ]
    },
    {
     "name": "stderr",
     "output_type": "stream",
     "text": [
      "\r",
      " 30%|███████████▉                            | 819/2747 [01:22<03:37,  8.85it/s]"
     ]
    },
    {
     "name": "stdout",
     "output_type": "stream",
     "text": [
      "819  image file:  KIC08957887_morp0.77.png\n",
      "1/1 [==============================] - 0s 68ms/step\n"
     ]
    },
    {
     "name": "stderr",
     "output_type": "stream",
     "text": [
      "\r",
      " 30%|███████████▉                            | 820/2747 [01:22<03:36,  8.90it/s]"
     ]
    },
    {
     "name": "stdout",
     "output_type": "stream",
     "text": [
      "820  image file:  KIC12418662_morp0.42.png\n",
      "1/1 [==============================] - 0s 69ms/step\n"
     ]
    },
    {
     "name": "stderr",
     "output_type": "stream",
     "text": [
      "\r",
      " 30%|███████████▉                            | 821/2747 [01:22<03:36,  8.89it/s]"
     ]
    },
    {
     "name": "stdout",
     "output_type": "stream",
     "text": [
      "821  image file:  KIC10684673_morp1.0.png\n",
      "1/1 [==============================] - 0s 68ms/step\n"
     ]
    },
    {
     "name": "stderr",
     "output_type": "stream",
     "text": [
      "\r",
      " 30%|███████████▉                            | 822/2747 [01:22<03:40,  8.75it/s]"
     ]
    },
    {
     "name": "stdout",
     "output_type": "stream",
     "text": [
      "822  image file:  KIC03862171_morp-1.0.png\n",
      "1/1 [==============================] - 0s 69ms/step\n"
     ]
    },
    {
     "name": "stderr",
     "output_type": "stream",
     "text": [
      "\r",
      " 30%|███████████▉                            | 823/2747 [01:22<03:39,  8.75it/s]"
     ]
    },
    {
     "name": "stdout",
     "output_type": "stream",
     "text": [
      "823  image file:  KIC05310387_morp0.96.png\n",
      "1/1 [==============================] - 0s 69ms/step\n"
     ]
    },
    {
     "name": "stderr",
     "output_type": "stream",
     "text": [
      "\r",
      " 30%|███████████▉                            | 824/2747 [01:23<03:47,  8.46it/s]"
     ]
    },
    {
     "name": "stdout",
     "output_type": "stream",
     "text": [
      "824  image file:  KIC03459199_morp0.33.png\n",
      "1/1 [==============================] - 0s 67ms/step\n"
     ]
    },
    {
     "name": "stderr",
     "output_type": "stream",
     "text": [
      "\r",
      " 30%|████████████                            | 825/2747 [01:23<03:44,  8.55it/s]"
     ]
    },
    {
     "name": "stdout",
     "output_type": "stream",
     "text": [
      "825  image file:  KIC05024447_morp0.01.png\n",
      "1/1 [==============================] - 0s 69ms/step\n"
     ]
    },
    {
     "name": "stderr",
     "output_type": "stream",
     "text": [
      "\r",
      " 30%|████████████                            | 826/2747 [01:23<03:44,  8.56it/s]"
     ]
    },
    {
     "name": "stdout",
     "output_type": "stream",
     "text": [
      "826  image file:  KIC08894630_morp0.95.png\n",
      "1/1 [==============================] - 0s 68ms/step\n"
     ]
    },
    {
     "name": "stderr",
     "output_type": "stream",
     "text": [
      "\r",
      " 30%|████████████                            | 827/2747 [01:23<03:41,  8.68it/s]"
     ]
    },
    {
     "name": "stdout",
     "output_type": "stream",
     "text": [
      "827  image file:  KIC09790965_morp0.59.png\n",
      "1/1 [==============================] - 0s 68ms/step\n"
     ]
    },
    {
     "name": "stderr",
     "output_type": "stream",
     "text": [
      "\r",
      " 30%|████████████                            | 828/2747 [01:23<03:38,  8.77it/s]"
     ]
    },
    {
     "name": "stdout",
     "output_type": "stream",
     "text": [
      "828  image file:  KIC12208887_morp0.01.png\n",
      "1/1 [==============================] - 0s 67ms/step\n"
     ]
    },
    {
     "name": "stderr",
     "output_type": "stream",
     "text": [
      "\r",
      " 30%|████████████                            | 829/2747 [01:23<03:36,  8.85it/s]"
     ]
    },
    {
     "name": "stdout",
     "output_type": "stream",
     "text": [
      "829  image file:  KIC05821050_morp0.97.png\n",
      "1/1 [==============================] - 0s 69ms/step\n"
     ]
    },
    {
     "name": "stderr",
     "output_type": "stream",
     "text": [
      "\r",
      " 30%|████████████                            | 830/2747 [01:23<03:36,  8.87it/s]"
     ]
    },
    {
     "name": "stdout",
     "output_type": "stream",
     "text": [
      "830  image file:  KIC06145939_morp0.05.png\n",
      "1/1 [==============================] - 0s 69ms/step\n"
     ]
    },
    {
     "name": "stderr",
     "output_type": "stream",
     "text": [
      "\r",
      " 30%|████████████                            | 831/2747 [01:23<03:38,  8.77it/s]"
     ]
    },
    {
     "name": "stdout",
     "output_type": "stream",
     "text": [
      "831  image file:  KIC09029486_morp0.2.png\n",
      "1/1 [==============================] - 0s 69ms/step\n"
     ]
    },
    {
     "name": "stderr",
     "output_type": "stream",
     "text": [
      "\r",
      " 30%|████████████                            | 832/2747 [01:23<03:37,  8.82it/s]"
     ]
    },
    {
     "name": "stdout",
     "output_type": "stream",
     "text": [
      "832  image file:  KIC11509282_morp0.83.png\n",
      "1/1 [==============================] - 0s 72ms/step\n"
     ]
    },
    {
     "name": "stderr",
     "output_type": "stream",
     "text": [
      "\r",
      " 30%|████████████▏                           | 833/2747 [01:24<03:38,  8.77it/s]"
     ]
    },
    {
     "name": "stdout",
     "output_type": "stream",
     "text": [
      "833  image file:  KIC06523216_morp0.19.png\n",
      "1/1 [==============================] - 0s 82ms/step\n"
     ]
    },
    {
     "name": "stderr",
     "output_type": "stream",
     "text": [
      "\r",
      " 30%|████████████▏                           | 834/2747 [01:24<03:46,  8.45it/s]"
     ]
    },
    {
     "name": "stdout",
     "output_type": "stream",
     "text": [
      "834  image file:  KIC09544350_morp0.92.png\n",
      "1/1 [==============================] - 0s 77ms/step\n"
     ]
    },
    {
     "name": "stderr",
     "output_type": "stream",
     "text": [
      "\r",
      " 30%|████████████▏                           | 835/2747 [01:24<03:56,  8.09it/s]"
     ]
    },
    {
     "name": "stdout",
     "output_type": "stream",
     "text": [
      "835  image file:  KIC11403032_morp-1.0.png\n",
      "1/1 [==============================] - 0s 79ms/step\n"
     ]
    },
    {
     "name": "stderr",
     "output_type": "stream",
     "text": [
      "\r",
      " 30%|████████████▏                           | 836/2747 [01:24<03:59,  7.99it/s]"
     ]
    },
    {
     "name": "stdout",
     "output_type": "stream",
     "text": [
      "836  image file:  KIC10794242_morp0.21.png\n",
      "1/1 [==============================] - 0s 76ms/step\n"
     ]
    },
    {
     "name": "stderr",
     "output_type": "stream",
     "text": [
      "\r",
      " 30%|████████████▏                           | 837/2747 [01:24<03:59,  7.98it/s]"
     ]
    },
    {
     "name": "stdout",
     "output_type": "stream",
     "text": [
      "837  image file:  KIC06353203_morp0.64.png\n",
      "1/1 [==============================] - 0s 70ms/step\n"
     ]
    },
    {
     "name": "stderr",
     "output_type": "stream",
     "text": [
      "\r",
      " 31%|████████████▏                           | 838/2747 [01:24<03:54,  8.14it/s]"
     ]
    },
    {
     "name": "stdout",
     "output_type": "stream",
     "text": [
      "838  image file:  KIC04665989_morp0.52.png\n",
      "1/1 [==============================] - 0s 66ms/step\n"
     ]
    },
    {
     "name": "stderr",
     "output_type": "stream",
     "text": [
      "\r",
      " 31%|████████████▏                           | 839/2747 [01:24<03:47,  8.40it/s]"
     ]
    },
    {
     "name": "stdout",
     "output_type": "stream",
     "text": [
      "839  image file:  KIC05975712_morp0.87.png\n",
      "1/1 [==============================] - 0s 69ms/step\n"
     ]
    },
    {
     "name": "stderr",
     "output_type": "stream",
     "text": [
      "\r",
      " 31%|████████████▏                           | 840/2747 [01:24<03:46,  8.41it/s]"
     ]
    },
    {
     "name": "stdout",
     "output_type": "stream",
     "text": [
      "840  image file:  KIC04659476_morp-1.0.png\n",
      "1/1 [==============================] - 0s 70ms/step\n"
     ]
    },
    {
     "name": "stderr",
     "output_type": "stream",
     "text": [
      "\r",
      " 31%|████████████▏                           | 841/2747 [01:25<03:44,  8.49it/s]"
     ]
    },
    {
     "name": "stdout",
     "output_type": "stream",
     "text": [
      "841  image file:  KIC06442207_morp0.37.png\n",
      "1/1 [==============================] - 0s 72ms/step\n"
     ]
    },
    {
     "name": "stderr",
     "output_type": "stream",
     "text": [
      "\r",
      " 31%|████████████▎                           | 842/2747 [01:25<03:44,  8.50it/s]"
     ]
    },
    {
     "name": "stdout",
     "output_type": "stream",
     "text": [
      "842  image file:  KIC09569866_morp0.46.png\n",
      "1/1 [==============================] - 0s 72ms/step\n"
     ]
    },
    {
     "name": "stderr",
     "output_type": "stream",
     "text": [
      "\r",
      " 31%|████████████▎                           | 843/2747 [01:25<03:44,  8.49it/s]"
     ]
    },
    {
     "name": "stdout",
     "output_type": "stream",
     "text": [
      "843  image file:  KIC10596883_morp0.84.png\n",
      "1/1 [==============================] - 0s 71ms/step\n"
     ]
    },
    {
     "name": "stderr",
     "output_type": "stream",
     "text": [
      "\r",
      " 31%|████████████▎                           | 844/2747 [01:25<03:42,  8.56it/s]"
     ]
    },
    {
     "name": "stdout",
     "output_type": "stream",
     "text": [
      "844  image file:  KIC10295951_morp0.36.png\n",
      "1/1 [==============================] - 0s 70ms/step\n"
     ]
    },
    {
     "name": "stderr",
     "output_type": "stream",
     "text": [
      "\r",
      " 31%|████████████▎                           | 845/2747 [01:25<03:41,  8.58it/s]"
     ]
    },
    {
     "name": "stdout",
     "output_type": "stream",
     "text": [
      "845  image file:  KIC11403776_morp0.71.png\n",
      "1/1 [==============================] - 0s 68ms/step\n"
     ]
    },
    {
     "name": "stderr",
     "output_type": "stream",
     "text": [
      "\r",
      " 31%|████████████▎                           | 846/2747 [01:25<03:39,  8.67it/s]"
     ]
    },
    {
     "name": "stdout",
     "output_type": "stream",
     "text": [
      "846  image file:  KIC05617953_morp0.76.png\n",
      "1/1 [==============================] - 0s 75ms/step\n"
     ]
    },
    {
     "name": "stderr",
     "output_type": "stream",
     "text": [
      "\r",
      " 31%|████████████▎                           | 847/2747 [01:25<03:40,  8.60it/s]"
     ]
    },
    {
     "name": "stdout",
     "output_type": "stream",
     "text": [
      "847  image file:  KIC04474193_morp0.89.png\n",
      "1/1 [==============================] - 0s 80ms/step\n"
     ]
    },
    {
     "name": "stderr",
     "output_type": "stream",
     "text": [
      "\r",
      " 31%|████████████▎                           | 848/2747 [01:25<03:46,  8.38it/s]"
     ]
    },
    {
     "name": "stdout",
     "output_type": "stream",
     "text": [
      "848  image file:  KIC07047299_morp0.01.png\n",
      "1/1 [==============================] - 0s 69ms/step\n"
     ]
    },
    {
     "name": "stderr",
     "output_type": "stream",
     "text": [
      "\r",
      " 31%|████████████▎                           | 849/2747 [01:25<03:47,  8.33it/s]"
     ]
    },
    {
     "name": "stdout",
     "output_type": "stream",
     "text": [
      "849  image file:  KIC10991769_morp0.98.png\n",
      "1/1 [==============================] - 0s 70ms/step\n"
     ]
    },
    {
     "name": "stderr",
     "output_type": "stream",
     "text": [
      "\r",
      " 31%|████████████▍                           | 850/2747 [01:26<03:43,  8.47it/s]"
     ]
    },
    {
     "name": "stdout",
     "output_type": "stream",
     "text": [
      "850  image file:  KIC07304911_morp0.95.png\n",
      "1/1 [==============================] - 0s 93ms/step\n"
     ]
    },
    {
     "name": "stderr",
     "output_type": "stream",
     "text": [
      "\r",
      " 31%|████████████▍                           | 851/2747 [01:26<03:55,  8.04it/s]"
     ]
    },
    {
     "name": "stdout",
     "output_type": "stream",
     "text": [
      "851  image file:  KIC08507073_morp0.0.png\n",
      "1/1 [==============================] - 0s 113ms/step\n"
     ]
    },
    {
     "name": "stderr",
     "output_type": "stream",
     "text": [
      "\r",
      " 31%|████████████▍                           | 852/2747 [01:26<04:32,  6.96it/s]"
     ]
    },
    {
     "name": "stdout",
     "output_type": "stream",
     "text": [
      "852  image file:  KIC10844279_morp0.82.png\n",
      "1/1 [==============================] - 0s 72ms/step\n"
     ]
    },
    {
     "name": "stderr",
     "output_type": "stream",
     "text": [
      "\r",
      " 31%|████████████▍                           | 853/2747 [01:26<04:20,  7.26it/s]"
     ]
    },
    {
     "name": "stdout",
     "output_type": "stream",
     "text": [
      "853  image file:  KIC03448245_morp0.69.png\n",
      "1/1 [==============================] - 0s 67ms/step\n"
     ]
    },
    {
     "name": "stderr",
     "output_type": "stream",
     "text": [
      "\r",
      " 31%|████████████▍                           | 854/2747 [01:26<04:06,  7.69it/s]"
     ]
    },
    {
     "name": "stdout",
     "output_type": "stream",
     "text": [
      "854  image file:  KIC07987749_morp0.06.png\n",
      "1/1 [==============================] - 0s 70ms/step\n"
     ]
    },
    {
     "name": "stderr",
     "output_type": "stream",
     "text": [
      "\r",
      " 31%|████████████▍                           | 855/2747 [01:26<03:57,  7.97it/s]"
     ]
    },
    {
     "name": "stdout",
     "output_type": "stream",
     "text": [
      "855  image file:  KIC12217907_morp0.09.png\n",
      "1/1 [==============================] - 0s 78ms/step\n"
     ]
    },
    {
     "name": "stderr",
     "output_type": "stream",
     "text": [
      "\r",
      " 31%|████████████▍                           | 856/2747 [01:26<03:54,  8.05it/s]"
     ]
    },
    {
     "name": "stdout",
     "output_type": "stream",
     "text": [
      "856  image file:  KIC06281103_morp0.98.png\n",
      "1/1 [==============================] - 0s 73ms/step\n"
     ]
    },
    {
     "name": "stderr",
     "output_type": "stream",
     "text": [
      "\r",
      " 31%|████████████▍                           | 857/2747 [01:27<03:50,  8.19it/s]"
     ]
    },
    {
     "name": "stdout",
     "output_type": "stream",
     "text": [
      "857  image file:  KIC08605074_morp0.06.png\n",
      "1/1 [==============================] - 0s 77ms/step\n"
     ]
    },
    {
     "name": "stderr",
     "output_type": "stream",
     "text": [
      "\r",
      " 31%|████████████▍                           | 858/2747 [01:27<03:56,  8.00it/s]"
     ]
    },
    {
     "name": "stdout",
     "output_type": "stream",
     "text": [
      "858  image file:  KIC09711769_morp-1.0.png\n",
      "1/1 [==============================] - 0s 77ms/step\n"
     ]
    },
    {
     "name": "stderr",
     "output_type": "stream",
     "text": [
      "\r",
      " 31%|████████████▌                           | 859/2747 [01:27<03:55,  8.01it/s]"
     ]
    },
    {
     "name": "stdout",
     "output_type": "stream",
     "text": [
      "859  image file:  KIC10666230_morp0.37.png\n",
      "1/1 [==============================] - 0s 75ms/step\n"
     ]
    },
    {
     "name": "stderr",
     "output_type": "stream",
     "text": [
      "\r",
      " 31%|████████████▌                           | 860/2747 [01:27<03:56,  7.99it/s]"
     ]
    },
    {
     "name": "stdout",
     "output_type": "stream",
     "text": [
      "860  image file:  KIC08111387_morp1.0.png\n",
      "1/1 [==============================] - 0s 87ms/step\n"
     ]
    },
    {
     "name": "stderr",
     "output_type": "stream",
     "text": [
      "\r",
      " 31%|████████████▌                           | 861/2747 [01:27<04:02,  7.79it/s]"
     ]
    },
    {
     "name": "stdout",
     "output_type": "stream",
     "text": [
      "861  image file:  KIC10157573_morp0.26.png\n",
      "1/1 [==============================] - 0s 74ms/step\n"
     ]
    },
    {
     "name": "stderr",
     "output_type": "stream",
     "text": [
      "\r",
      " 31%|████████████▌                           | 862/2747 [01:27<04:00,  7.85it/s]"
     ]
    },
    {
     "name": "stdout",
     "output_type": "stream",
     "text": [
      "862  image file:  KIC11515292_morp0.94.png\n",
      "1/1 [==============================] - 0s 77ms/step\n"
     ]
    },
    {
     "name": "stderr",
     "output_type": "stream",
     "text": [
      "\r",
      " 31%|████████████▌                           | 863/2747 [01:27<03:59,  7.85it/s]"
     ]
    },
    {
     "name": "stdout",
     "output_type": "stream",
     "text": [
      "863  image file:  KIC09714123_morp0.02.png\n",
      "1/1 [==============================] - 0s 66ms/step\n"
     ]
    },
    {
     "name": "stderr",
     "output_type": "stream",
     "text": [
      "\r",
      " 31%|████████████▌                           | 864/2747 [01:27<03:51,  8.12it/s]"
     ]
    },
    {
     "name": "stdout",
     "output_type": "stream",
     "text": [
      "864  image file:  KIC02159783_morp0.87.png\n",
      "1/1 [==============================] - 0s 68ms/step\n"
     ]
    },
    {
     "name": "stderr",
     "output_type": "stream",
     "text": [
      "\r",
      " 31%|████████████▌                           | 865/2747 [01:28<03:45,  8.35it/s]"
     ]
    },
    {
     "name": "stdout",
     "output_type": "stream",
     "text": [
      "865  image file:  KIC09654476_morp0.71.png\n",
      "1/1 [==============================] - 0s 76ms/step\n"
     ]
    },
    {
     "name": "stderr",
     "output_type": "stream",
     "text": [
      "\r",
      " 32%|████████████▌                           | 866/2747 [01:28<03:45,  8.34it/s]"
     ]
    },
    {
     "name": "stdout",
     "output_type": "stream",
     "text": [
      "866  image file:  KIC04075064_morp0.0.png\n",
      "1/1 [==============================] - 0s 68ms/step\n"
     ]
    },
    {
     "name": "stderr",
     "output_type": "stream",
     "text": [
      "\r",
      " 32%|████████████▌                           | 867/2747 [01:28<03:44,  8.38it/s]"
     ]
    },
    {
     "name": "stdout",
     "output_type": "stream",
     "text": [
      "867  image file:  KIC08229048_morp0.2.png\n",
      "1/1 [==============================] - 0s 67ms/step\n"
     ]
    },
    {
     "name": "stderr",
     "output_type": "stream",
     "text": [
      "\r",
      " 32%|████████████▋                           | 868/2747 [01:28<03:38,  8.59it/s]"
     ]
    },
    {
     "name": "stdout",
     "output_type": "stream",
     "text": [
      "868  image file:  KIC12004679_morp0.24.png\n",
      "1/1 [==============================] - 0s 69ms/step\n"
     ]
    },
    {
     "name": "stderr",
     "output_type": "stream",
     "text": [
      "\r",
      " 32%|████████████▋                           | 869/2747 [01:28<03:37,  8.65it/s]"
     ]
    },
    {
     "name": "stdout",
     "output_type": "stream",
     "text": [
      "869  image file:  KIC09357030_morp0.93.png\n",
      "1/1 [==============================] - 0s 68ms/step\n"
     ]
    },
    {
     "name": "stderr",
     "output_type": "stream",
     "text": [
      "\r",
      " 32%|████████████▋                           | 870/2747 [01:28<03:35,  8.72it/s]"
     ]
    },
    {
     "name": "stdout",
     "output_type": "stream",
     "text": [
      "870  image file:  KIC08443179_morp0.0.png\n",
      "1/1 [==============================] - 0s 66ms/step\n"
     ]
    },
    {
     "name": "stderr",
     "output_type": "stream",
     "text": [
      "\r",
      " 32%|████████████▋                           | 871/2747 [01:28<03:32,  8.82it/s]"
     ]
    },
    {
     "name": "stdout",
     "output_type": "stream",
     "text": [
      "871  image file:  KIC08654097_morp0.94.png\n",
      "1/1 [==============================] - 0s 66ms/step\n"
     ]
    },
    {
     "name": "stderr",
     "output_type": "stream",
     "text": [
      "\r",
      " 32%|████████████▋                           | 872/2747 [01:28<03:29,  8.95it/s]"
     ]
    },
    {
     "name": "stdout",
     "output_type": "stream",
     "text": [
      "872  image file:  KIC10352603_morp0.07.png\n",
      "1/1 [==============================] - 0s 66ms/step\n"
     ]
    },
    {
     "name": "stderr",
     "output_type": "stream",
     "text": [
      "\r",
      " 32%|████████████▋                           | 873/2747 [01:28<03:27,  9.03it/s]"
     ]
    },
    {
     "name": "stdout",
     "output_type": "stream",
     "text": [
      "873  image file:  KIC12470041_morp0.04.png\n",
      "1/1 [==============================] - 0s 67ms/step\n"
     ]
    },
    {
     "name": "stderr",
     "output_type": "stream",
     "text": [
      "\r",
      " 32%|████████████▋                           | 874/2747 [01:29<03:26,  9.06it/s]"
     ]
    },
    {
     "name": "stdout",
     "output_type": "stream",
     "text": [
      "874  image file:  KIC10989032_morp0.53.png\n",
      "1/1 [==============================] - 0s 66ms/step\n"
     ]
    },
    {
     "name": "stderr",
     "output_type": "stream",
     "text": [
      "\r",
      " 32%|████████████▋                           | 875/2747 [01:29<03:24,  9.13it/s]"
     ]
    },
    {
     "name": "stdout",
     "output_type": "stream",
     "text": [
      "875  image file:  KIC07668648_morp0.08.png\n",
      "1/1 [==============================] - 0s 64ms/step\n"
     ]
    },
    {
     "name": "stderr",
     "output_type": "stream",
     "text": [
      "\r",
      " 32%|████████████▊                           | 876/2747 [01:29<03:29,  8.93it/s]"
     ]
    },
    {
     "name": "stdout",
     "output_type": "stream",
     "text": [
      "876  image file:  KIC03735597_morp0.67.png\n",
      "1/1 [==============================] - 0s 63ms/step\n"
     ]
    },
    {
     "name": "stderr",
     "output_type": "stream",
     "text": [
      "\r",
      " 32%|████████████▊                           | 877/2747 [01:29<03:25,  9.11it/s]"
     ]
    },
    {
     "name": "stdout",
     "output_type": "stream",
     "text": [
      "877  image file:  KIC04076952_morp0.38.png\n",
      "1/1 [==============================] - 0s 67ms/step\n"
     ]
    },
    {
     "name": "stderr",
     "output_type": "stream",
     "text": [
      "\r",
      " 32%|████████████▊                           | 878/2747 [01:29<03:25,  9.10it/s]"
     ]
    },
    {
     "name": "stdout",
     "output_type": "stream",
     "text": [
      "878  image file:  KIC06128027_morp0.13.png\n",
      "1/1 [==============================] - 0s 69ms/step\n"
     ]
    },
    {
     "name": "stderr",
     "output_type": "stream",
     "text": [
      "\r",
      " 32%|████████████▊                           | 879/2747 [01:29<03:26,  9.03it/s]"
     ]
    },
    {
     "name": "stdout",
     "output_type": "stream",
     "text": [
      "879  image file:  KIC10614012_morp-1.0.png\n",
      "1/1 [==============================] - 0s 66ms/step\n"
     ]
    },
    {
     "name": "stderr",
     "output_type": "stream",
     "text": [
      "\r",
      " 32%|████████████▊                           | 880/2747 [01:29<03:25,  9.07it/s]"
     ]
    },
    {
     "name": "stdout",
     "output_type": "stream",
     "text": [
      "880  image file:  KIC06471048_morp0.77.png\n",
      "1/1 [==============================] - 0s 63ms/step\n"
     ]
    },
    {
     "name": "stderr",
     "output_type": "stream",
     "text": [
      "\r",
      " 32%|████████████▊                           | 881/2747 [01:29<03:22,  9.23it/s]"
     ]
    },
    {
     "name": "stdout",
     "output_type": "stream",
     "text": [
      "881  image file:  KIC05023948_morp0.35.png\n",
      "1/1 [==============================] - 0s 63ms/step\n"
     ]
    },
    {
     "name": "stderr",
     "output_type": "stream",
     "text": [
      "\r",
      " 32%|████████████▊                           | 882/2747 [01:29<03:18,  9.38it/s]"
     ]
    },
    {
     "name": "stdout",
     "output_type": "stream",
     "text": [
      "882  image file:  KIC09786165_morp0.73.png\n",
      "1/1 [==============================] - 0s 62ms/step\n"
     ]
    },
    {
     "name": "stderr",
     "output_type": "stream",
     "text": [
      "\r",
      " 32%|████████████▊                           | 883/2747 [01:30<03:16,  9.49it/s]"
     ]
    },
    {
     "name": "stdout",
     "output_type": "stream",
     "text": [
      "883  image file:  KIC09389122_morp0.75.png\n",
      "1/1 [==============================] - 0s 63ms/step\n"
     ]
    },
    {
     "name": "stderr",
     "output_type": "stream",
     "text": [
      "\r",
      " 32%|████████████▊                           | 884/2747 [01:30<03:14,  9.56it/s]"
     ]
    },
    {
     "name": "stdout",
     "output_type": "stream",
     "text": [
      "884  image file:  KIC04936990_morp0.1.png\n",
      "1/1 [==============================] - 0s 66ms/step\n"
     ]
    },
    {
     "name": "stderr",
     "output_type": "stream",
     "text": [
      "\r",
      " 32%|████████████▉                           | 885/2747 [01:30<03:18,  9.38it/s]"
     ]
    },
    {
     "name": "stdout",
     "output_type": "stream",
     "text": [
      "885  image file:  KIC10026136_morp0.18.png\n",
      "1/1 [==============================] - 0s 62ms/step\n"
     ]
    },
    {
     "name": "stderr",
     "output_type": "stream",
     "text": [
      "\r",
      " 32%|████████████▉                           | 886/2747 [01:30<03:16,  9.48it/s]"
     ]
    },
    {
     "name": "stdout",
     "output_type": "stream",
     "text": [
      "886  image file:  KIC10848459_morp0.36.png\n",
      "1/1 [==============================] - 0s 61ms/step\n"
     ]
    },
    {
     "name": "stderr",
     "output_type": "stream",
     "text": [
      "\r",
      " 32%|████████████▉                           | 887/2747 [01:30<03:14,  9.58it/s]"
     ]
    },
    {
     "name": "stdout",
     "output_type": "stream",
     "text": [
      "887  image file:  KIC05534814_morp0.07.png\n",
      "1/1 [==============================] - 0s 63ms/step\n"
     ]
    },
    {
     "name": "stderr",
     "output_type": "stream",
     "text": [
      "\r",
      " 32%|████████████▉                           | 888/2747 [01:30<03:13,  9.62it/s]"
     ]
    },
    {
     "name": "stdout",
     "output_type": "stream",
     "text": [
      "888  image file:  KIC11970288_morp-1.0.png\n",
      "1/1 [==============================] - 0s 67ms/step\n"
     ]
    },
    {
     "name": "stderr",
     "output_type": "stream",
     "text": [
      "\r",
      " 32%|████████████▉                           | 889/2747 [01:30<03:15,  9.53it/s]"
     ]
    },
    {
     "name": "stdout",
     "output_type": "stream",
     "text": [
      "889  image file:  KIC08552540_morp0.57.png\n",
      "1/1 [==============================] - 0s 65ms/step\n"
     ]
    },
    {
     "name": "stderr",
     "output_type": "stream",
     "text": [
      "\r",
      " 32%|████████████▉                           | 890/2747 [01:30<03:14,  9.54it/s]"
     ]
    },
    {
     "name": "stdout",
     "output_type": "stream",
     "text": [
      "890  image file:  KIC08052474_morp0.0.png\n",
      "1/1 [==============================] - 0s 61ms/step\n",
      "891  image file:  KIC10019763_morp0.01.png\n",
      "1/1 [==============================] - 0s 62ms/step\n"
     ]
    },
    {
     "name": "stderr",
     "output_type": "stream",
     "text": [
      "\r",
      " 32%|████████████▉                           | 892/2747 [01:30<03:09,  9.79it/s]"
     ]
    },
    {
     "name": "stdout",
     "output_type": "stream",
     "text": [
      "892  image file:  KIC08264510_morp-1.0.png\n",
      "1/1 [==============================] - 0s 60ms/step\n",
      "893  image file:  KIC08494410_morp0.0.png\n",
      "1/1 [==============================] - 0s 63ms/step\n"
     ]
    },
    {
     "name": "stderr",
     "output_type": "stream",
     "text": [
      "\r",
      " 33%|█████████████                           | 894/2747 [01:31<03:09,  9.76it/s]"
     ]
    },
    {
     "name": "stdout",
     "output_type": "stream",
     "text": [
      "894  image file:  KIC10659313_morp0.06.png\n",
      "1/1 [==============================] - 0s 62ms/step\n"
     ]
    },
    {
     "name": "stderr",
     "output_type": "stream",
     "text": [
      "\r",
      " 33%|█████████████                           | 895/2747 [01:31<03:09,  9.75it/s]"
     ]
    },
    {
     "name": "stdout",
     "output_type": "stream",
     "text": [
      "895  image file:  KIC09881258_morp0.37.png\n",
      "1/1 [==============================] - 0s 60ms/step\n",
      "896  image file:  KIC04074708_morp0.74.png\n",
      "1/1 [==============================] - 0s 59ms/step\n"
     ]
    },
    {
     "name": "stderr",
     "output_type": "stream",
     "text": [
      "\r",
      " 33%|█████████████                           | 897/2747 [01:31<03:06,  9.90it/s]"
     ]
    },
    {
     "name": "stdout",
     "output_type": "stream",
     "text": [
      "897  image file:  KIC05462901_morp0.15.png\n",
      "1/1 [==============================] - 0s 60ms/step\n",
      "898  image file:  KIC09947924_morp0.72.png\n",
      "1/1 [==============================] - 0s 60ms/step\n"
     ]
    },
    {
     "name": "stderr",
     "output_type": "stream",
     "text": [
      "\r",
      " 33%|█████████████                           | 899/2747 [01:31<03:04, 10.01it/s]"
     ]
    },
    {
     "name": "stdout",
     "output_type": "stream",
     "text": [
      "899  image file:  KIC10847118_morp0.82.png\n",
      "1/1 [==============================] - 0s 62ms/step\n"
     ]
    },
    {
     "name": "stderr",
     "output_type": "stream",
     "text": [
      "\r",
      " 33%|█████████████                           | 900/2747 [01:31<03:04,  9.99it/s]"
     ]
    },
    {
     "name": "stdout",
     "output_type": "stream",
     "text": [
      "900  image file:  KIC08690104_morp0.77.png\n",
      "1/1 [==============================] - 0s 70ms/step\n"
     ]
    },
    {
     "name": "stderr",
     "output_type": "stream",
     "text": [
      "\r",
      " 33%|█████████████                           | 901/2747 [01:31<03:09,  9.73it/s]"
     ]
    },
    {
     "name": "stdout",
     "output_type": "stream",
     "text": [
      "901  image file:  KIC07879399_morp0.74.png\n",
      "1/1 [==============================] - 0s 66ms/step\n"
     ]
    },
    {
     "name": "stderr",
     "output_type": "stream",
     "text": [
      "\r",
      " 33%|█████████████▏                          | 902/2747 [01:31<03:11,  9.64it/s]"
     ]
    },
    {
     "name": "stdout",
     "output_type": "stream",
     "text": [
      "902  image file:  KIC11197853_morp0.48.png\n",
      "1/1 [==============================] - 0s 69ms/step\n"
     ]
    },
    {
     "name": "stderr",
     "output_type": "stream",
     "text": [
      "\r",
      " 33%|█████████████▏                          | 903/2747 [01:32<03:17,  9.31it/s]"
     ]
    },
    {
     "name": "stdout",
     "output_type": "stream",
     "text": [
      "903  image file:  KIC08893936_morp0.69.png\n",
      "1/1 [==============================] - 0s 63ms/step\n"
     ]
    },
    {
     "name": "stderr",
     "output_type": "stream",
     "text": [
      "\r",
      " 33%|█████████████▏                          | 904/2747 [01:32<03:19,  9.23it/s]"
     ]
    },
    {
     "name": "stdout",
     "output_type": "stream",
     "text": [
      "904  image file:  KIC08868364_morp0.0.png\n",
      "1/1 [==============================] - 0s 55ms/step\n",
      "905  image file:  KIC10858720_morp0.63.png\n",
      "1/1 [==============================] - 0s 54ms/step\n"
     ]
    },
    {
     "name": "stderr",
     "output_type": "stream",
     "text": [
      "\r",
      " 33%|█████████████▏                          | 906/2747 [01:32<03:06,  9.89it/s]"
     ]
    },
    {
     "name": "stdout",
     "output_type": "stream",
     "text": [
      "906  image file:  KIC08113154_morp0.54.png\n",
      "1/1 [==============================] - 0s 57ms/step\n",
      "907  image file:  KIC10155080_morp0.29.png\n",
      "1/1 [==============================] - 0s 58ms/step\n"
     ]
    },
    {
     "name": "stderr",
     "output_type": "stream",
     "text": [
      "\r",
      " 33%|█████████████▏                          | 908/2747 [01:32<03:01, 10.11it/s]"
     ]
    },
    {
     "name": "stdout",
     "output_type": "stream",
     "text": [
      "908  image file:  KIC10275747_morp0.62.png\n",
      "1/1 [==============================] - 0s 55ms/step\n",
      "909  image file:  KIC02447893_morp0.58.png\n",
      "1/1 [==============================] - 0s 55ms/step\n"
     ]
    },
    {
     "name": "stderr",
     "output_type": "stream",
     "text": [
      "\r",
      " 33%|█████████████▎                          | 910/2747 [01:32<02:57, 10.33it/s]"
     ]
    },
    {
     "name": "stdout",
     "output_type": "stream",
     "text": [
      "910  image file:  KIC01572353_morp0.91.png\n",
      "1/1 [==============================] - 0s 54ms/step\n",
      "911  image file:  KIC06766325_morp0.92.png\n",
      "1/1 [==============================] - 0s 55ms/step\n"
     ]
    },
    {
     "name": "stderr",
     "output_type": "stream",
     "text": [
      "\r",
      " 33%|█████████████▎                          | 912/2747 [01:32<02:56, 10.39it/s]"
     ]
    },
    {
     "name": "stdout",
     "output_type": "stream",
     "text": [
      "912  image file:  KIC10514770_morp0.26.png\n",
      "1/1 [==============================] - 0s 54ms/step\n",
      "913  image file:  KIC10285661_morp0.79.png\n",
      "1/1 [==============================] - 0s 55ms/step\n"
     ]
    },
    {
     "name": "stderr",
     "output_type": "stream",
     "text": [
      "\r",
      " 33%|█████████████▎                          | 914/2747 [01:33<02:54, 10.48it/s]"
     ]
    },
    {
     "name": "stdout",
     "output_type": "stream",
     "text": [
      "914  image file:  KIC03954227_morp0.56.png\n",
      "1/1 [==============================] - 0s 55ms/step\n",
      "915  image file:  KIC08264534_morp0.93.png\n",
      "1/1 [==============================] - 0s 56ms/step\n"
     ]
    },
    {
     "name": "stderr",
     "output_type": "stream",
     "text": [
      "\r",
      " 33%|█████████████▎                          | 916/2747 [01:33<02:53, 10.58it/s]"
     ]
    },
    {
     "name": "stdout",
     "output_type": "stream",
     "text": [
      "916  image file:  KIC08736245_morp0.29.png\n",
      "1/1 [==============================] - 0s 55ms/step\n",
      "917  image file:  KIC11359305_morp0.02.png\n",
      "1/1 [==============================] - 0s 56ms/step\n"
     ]
    },
    {
     "name": "stderr",
     "output_type": "stream",
     "text": [
      "\r",
      " 33%|█████████████▎                          | 918/2747 [01:33<02:51, 10.64it/s]"
     ]
    },
    {
     "name": "stdout",
     "output_type": "stream",
     "text": [
      "918  image file:  KIC08456998_morp-1.0.png\n",
      "1/1 [==============================] - 0s 55ms/step\n",
      "919  image file:  KIC09665503_morp0.13.png\n",
      "1/1 [==============================] - 0s 55ms/step\n"
     ]
    },
    {
     "name": "stderr",
     "output_type": "stream",
     "text": [
      "\r",
      " 33%|█████████████▍                          | 920/2747 [01:33<02:50, 10.72it/s]"
     ]
    },
    {
     "name": "stdout",
     "output_type": "stream",
     "text": [
      "920  image file:  KIC06056992_morp0.09.png\n",
      "1/1 [==============================] - 0s 54ms/step\n",
      "921  image file:  KIC09119405_morp0.11.png\n",
      "1/1 [==============================] - 0s 56ms/step\n"
     ]
    },
    {
     "name": "stderr",
     "output_type": "stream",
     "text": [
      "\r",
      " 34%|█████████████▍                          | 922/2747 [01:33<02:50, 10.70it/s]"
     ]
    },
    {
     "name": "stdout",
     "output_type": "stream",
     "text": [
      "922  image file:  KIC06044543_morp0.67.png\n",
      "1/1 [==============================] - 0s 54ms/step\n",
      "923  image file:  KIC08444552_morp0.5.png\n",
      "1/1 [==============================] - 0s 53ms/step\n"
     ]
    },
    {
     "name": "stderr",
     "output_type": "stream",
     "text": [
      "\r",
      " 34%|█████████████▍                          | 924/2747 [01:34<02:49, 10.74it/s]"
     ]
    },
    {
     "name": "stdout",
     "output_type": "stream",
     "text": [
      "924  image file:  KIC08618226_morp0.22.png\n",
      "1/1 [==============================] - 0s 53ms/step\n",
      "925  image file:  KIC11295347_morp0.97.png\n",
      "1/1 [==============================] - 0s 53ms/step\n"
     ]
    },
    {
     "name": "stderr",
     "output_type": "stream",
     "text": [
      "\r",
      " 34%|█████████████▍                          | 926/2747 [01:34<02:47, 10.88it/s]"
     ]
    },
    {
     "name": "stdout",
     "output_type": "stream",
     "text": [
      "926  image file:  KIC11671429_morp0.07.png\n",
      "1/1 [==============================] - 0s 52ms/step\n",
      "927  image file:  KIC09140402_morp0.28.png\n",
      "1/1 [==============================] - 0s 53ms/step\n"
     ]
    },
    {
     "name": "stderr",
     "output_type": "stream",
     "text": [
      "\r",
      " 34%|█████████████▌                          | 928/2747 [01:34<02:45, 11.02it/s]"
     ]
    },
    {
     "name": "stdout",
     "output_type": "stream",
     "text": [
      "928  image file:  KIC09479460_morp0.53.png\n",
      "1/1 [==============================] - 0s 53ms/step\n",
      "929  image file:  KIC09145707_morp0.75.png\n",
      "1/1 [==============================] - 0s 55ms/step\n"
     ]
    },
    {
     "name": "stderr",
     "output_type": "stream",
     "text": [
      "\r",
      " 34%|█████████████▌                          | 930/2747 [01:34<02:45, 10.96it/s]"
     ]
    },
    {
     "name": "stdout",
     "output_type": "stream",
     "text": [
      "930  image file:  KIC08906039_morp0.71.png\n",
      "1/1 [==============================] - 0s 53ms/step\n",
      "931  image file:  KIC07985167_morp0.47.png\n",
      "1/1 [==============================] - 0s 53ms/step\n"
     ]
    },
    {
     "name": "stderr",
     "output_type": "stream",
     "text": [
      "\r",
      " 34%|█████████████▌                          | 932/2747 [01:34<02:44, 11.06it/s]"
     ]
    },
    {
     "name": "stdout",
     "output_type": "stream",
     "text": [
      "932  image file:  KIC05991936_morp0.98.png\n",
      "1/1 [==============================] - 0s 53ms/step\n",
      "933  image file:  KIC08624778_morp0.81.png\n",
      "1/1 [==============================] - 0s 52ms/step\n"
     ]
    },
    {
     "name": "stderr",
     "output_type": "stream",
     "text": [
      "\r",
      " 34%|█████████████▌                          | 934/2747 [01:34<02:42, 11.14it/s]"
     ]
    },
    {
     "name": "stdout",
     "output_type": "stream",
     "text": [
      "934  image file:  KIC09639491_morp0.73.png\n",
      "1/1 [==============================] - 0s 51ms/step\n",
      "935  image file:  KIC08356054_morp0.07.png\n",
      "1/1 [==============================] - 0s 60ms/step\n"
     ]
    },
    {
     "name": "stderr",
     "output_type": "stream",
     "text": [
      "\r",
      " 34%|█████████████▋                          | 936/2747 [01:35<02:42, 11.14it/s]"
     ]
    },
    {
     "name": "stdout",
     "output_type": "stream",
     "text": [
      "936  image file:  KIC12164634_morp0.02.png\n",
      "1/1 [==============================] - 0s 57ms/step\n",
      "937  image file:  KIC07889628_morp0.93.png\n",
      "1/1 [==============================] - 0s 52ms/step\n"
     ]
    },
    {
     "name": "stderr",
     "output_type": "stream",
     "text": [
      "\r",
      " 34%|█████████████▋                          | 938/2747 [01:35<02:53, 10.43it/s]"
     ]
    },
    {
     "name": "stdout",
     "output_type": "stream",
     "text": [
      "938  image file:  KIC10857519_morp0.45.png\n",
      "1/1 [==============================] - 0s 52ms/step\n",
      "939  image file:  KIC05990753_morp0.15.png\n",
      "1/1 [==============================] - 0s 52ms/step\n"
     ]
    },
    {
     "name": "stderr",
     "output_type": "stream",
     "text": [
      "\r",
      " 34%|█████████████▋                          | 940/2747 [01:35<02:48, 10.72it/s]"
     ]
    },
    {
     "name": "stdout",
     "output_type": "stream",
     "text": [
      "940  image file:  KIC07177553_morp0.06.png\n",
      "1/1 [==============================] - 0s 52ms/step\n",
      "941  image file:  KIC04949187_morp-1.0.png\n",
      "1/1 [==============================] - 0s 52ms/step\n"
     ]
    },
    {
     "name": "stderr",
     "output_type": "stream",
     "text": [
      "\r",
      " 34%|█████████████▋                          | 942/2747 [01:35<02:44, 10.94it/s]"
     ]
    },
    {
     "name": "stdout",
     "output_type": "stream",
     "text": [
      "942  image file:  KIC02010607_morp-1.0.png\n",
      "1/1 [==============================] - 0s 51ms/step\n",
      "943  image file:  KIC11873166_morp0.47.png\n",
      "1/1 [==============================] - 0s 51ms/step\n"
     ]
    },
    {
     "name": "stderr",
     "output_type": "stream",
     "text": [
      "\r",
      " 34%|█████████████▋                          | 944/2747 [01:35<02:41, 11.17it/s]"
     ]
    },
    {
     "name": "stdout",
     "output_type": "stream",
     "text": [
      "944  image file:  KIC04909422_morp0.72.png\n",
      "1/1 [==============================] - 0s 58ms/step\n",
      "945  image file:  KIC06029214_morp0.6.png\n",
      "1/1 [==============================] - 0s 56ms/step\n"
     ]
    },
    {
     "name": "stderr",
     "output_type": "stream",
     "text": [
      "\r",
      " 34%|█████████████▊                          | 946/2747 [01:36<02:44, 10.94it/s]"
     ]
    },
    {
     "name": "stdout",
     "output_type": "stream",
     "text": [
      "946  image file:  KIC11045383_morp0.01.png\n",
      "1/1 [==============================] - 0s 51ms/step\n",
      "947  image file:  KIC05122112_morp0.15.png\n",
      "1/1 [==============================] - 0s 51ms/step\n"
     ]
    },
    {
     "name": "stderr",
     "output_type": "stream",
     "text": [
      "\r",
      " 35%|█████████████▊                          | 948/2747 [01:36<02:43, 11.01it/s]"
     ]
    },
    {
     "name": "stdout",
     "output_type": "stream",
     "text": [
      "948  image file:  KIC08892720_morp0.03.png\n",
      "1/1 [==============================] - 0s 52ms/step\n",
      "949  image file:  KIC10551346_morp0.59.png\n",
      "1/1 [==============================] - 0s 51ms/step\n"
     ]
    },
    {
     "name": "stderr",
     "output_type": "stream",
     "text": [
      "\r",
      " 35%|█████████████▊                          | 950/2747 [01:36<02:41, 11.14it/s]"
     ]
    },
    {
     "name": "stdout",
     "output_type": "stream",
     "text": [
      "950  image file:  KIC09957351_morp0.6.png\n",
      "1/1 [==============================] - 0s 52ms/step\n",
      "951  image file:  KIC05384713_morp0.0.png\n",
      "1/1 [==============================] - 0s 52ms/step\n"
     ]
    },
    {
     "name": "stderr",
     "output_type": "stream",
     "text": [
      "\r",
      " 35%|█████████████▊                          | 952/2747 [01:36<02:39, 11.26it/s]"
     ]
    },
    {
     "name": "stdout",
     "output_type": "stream",
     "text": [
      "952  image file:  KIC11231334_morp0.44.png\n",
      "1/1 [==============================] - 0s 53ms/step\n",
      "953  image file:  KIC12418319_morp0.69.png\n",
      "1/1 [==============================] - 0s 57ms/step\n"
     ]
    },
    {
     "name": "stderr",
     "output_type": "stream",
     "text": [
      "\r",
      " 35%|█████████████▉                          | 954/2747 [01:36<02:39, 11.24it/s]"
     ]
    },
    {
     "name": "stdout",
     "output_type": "stream",
     "text": [
      "954  image file:  KIC05003117_morp0.05.png\n",
      "1/1 [==============================] - 0s 52ms/step\n",
      "955  image file:  KIC08456774_morp-1.0.png\n",
      "1/1 [==============================] - 0s 51ms/step\n"
     ]
    },
    {
     "name": "stderr",
     "output_type": "stream",
     "text": [
      "\r",
      " 35%|█████████████▉                          | 956/2747 [01:36<02:38, 11.33it/s]"
     ]
    },
    {
     "name": "stdout",
     "output_type": "stream",
     "text": [
      "956  image file:  KIC06057829_morp0.75.png\n",
      "1/1 [==============================] - 0s 53ms/step\n",
      "957  image file:  KIC03729724_morp-1.0.png\n",
      "1/1 [==============================] - 0s 52ms/step\n"
     ]
    },
    {
     "name": "stderr",
     "output_type": "stream",
     "text": [
      "\r",
      " 35%|█████████████▉                          | 958/2747 [01:37<02:40, 11.17it/s]"
     ]
    },
    {
     "name": "stdout",
     "output_type": "stream",
     "text": [
      "958  image file:  KIC10091703_morp0.0.png\n",
      "1/1 [==============================] - 0s 54ms/step\n",
      "959  image file:  KIC09532421_morp0.14.png\n",
      "1/1 [==============================] - 0s 51ms/step\n"
     ]
    },
    {
     "name": "stderr",
     "output_type": "stream",
     "text": [
      "\r",
      " 35%|█████████████▉                          | 960/2747 [01:37<02:39, 11.23it/s]"
     ]
    },
    {
     "name": "stdout",
     "output_type": "stream",
     "text": [
      "960  image file:  KIC05269407_morp0.53.png\n",
      "1/1 [==============================] - 0s 51ms/step\n",
      "961  image file:  KIC06522750_morp0.09.png\n",
      "1/1 [==============================] - 0s 52ms/step\n"
     ]
    },
    {
     "name": "stderr",
     "output_type": "stream",
     "text": [
      "\r",
      " 35%|██████████████                          | 962/2747 [01:37<02:36, 11.38it/s]"
     ]
    },
    {
     "name": "stdout",
     "output_type": "stream",
     "text": [
      "962  image file:  KIC11656840_morp0.1.png\n",
      "1/1 [==============================] - 0s 52ms/step\n",
      "963  image file:  KIC01868650_morp1.0.png\n",
      "1/1 [==============================] - 0s 52ms/step\n"
     ]
    },
    {
     "name": "stderr",
     "output_type": "stream",
     "text": [
      "\r",
      " 35%|██████████████                          | 964/2747 [01:37<02:35, 11.44it/s]"
     ]
    },
    {
     "name": "stdout",
     "output_type": "stream",
     "text": [
      "964  image file:  KIC09752973_morp0.43.png\n",
      "1/1 [==============================] - 0s 51ms/step\n",
      "965  image file:  KIC07432479_morp0.71.png\n",
      "1/1 [==============================] - 0s 54ms/step\n"
     ]
    },
    {
     "name": "stderr",
     "output_type": "stream",
     "text": [
      "\r",
      " 35%|██████████████                          | 966/2747 [01:37<02:36, 11.41it/s]"
     ]
    },
    {
     "name": "stdout",
     "output_type": "stream",
     "text": [
      "966  image file:  KIC12404615_morp0.75.png\n",
      "1/1 [==============================] - 0s 50ms/step\n",
      "967  image file:  KIC07177892_morp0.5.png\n",
      "1/1 [==============================] - 0s 51ms/step\n"
     ]
    },
    {
     "name": "stderr",
     "output_type": "stream",
     "text": [
      "\r",
      " 35%|██████████████                          | 968/2747 [01:37<02:34, 11.52it/s]"
     ]
    },
    {
     "name": "stdout",
     "output_type": "stream",
     "text": [
      "968  image file:  KIC12022517_morp0.28.png\n",
      "1/1 [==============================] - 0s 53ms/step\n",
      "969  image file:  KIC11498689_morp0.77.png\n",
      "1/1 [==============================] - 0s 53ms/step\n"
     ]
    },
    {
     "name": "stderr",
     "output_type": "stream",
     "text": [
      "\r",
      " 35%|██████████████                          | 970/2747 [01:38<02:34, 11.51it/s]"
     ]
    },
    {
     "name": "stdout",
     "output_type": "stream",
     "text": [
      "970  image file:  KIC06948815_morp0.54.png\n",
      "1/1 [==============================] - 0s 53ms/step\n",
      "971  image file:  KIC10395202_morp0.81.png\n",
      "1/1 [==============================] - 0s 55ms/step\n"
     ]
    },
    {
     "name": "stderr",
     "output_type": "stream",
     "text": [
      "\r",
      " 35%|██████████████▏                         | 972/2747 [01:38<02:35, 11.40it/s]"
     ]
    },
    {
     "name": "stdout",
     "output_type": "stream",
     "text": [
      "972  image file:  KIC11071207_morp0.16.png\n",
      "1/1 [==============================] - 0s 58ms/step\n",
      "973  image file:  KIC10229723_morp0.83.png\n",
      "1/1 [==============================] - 0s 52ms/step\n"
     ]
    },
    {
     "name": "stderr",
     "output_type": "stream",
     "text": [
      "\r",
      " 35%|██████████████▏                         | 974/2747 [01:38<02:36, 11.32it/s]"
     ]
    },
    {
     "name": "stdout",
     "output_type": "stream",
     "text": [
      "974  image file:  KIC07339123_morp0.76.png\n",
      "1/1 [==============================] - 0s 52ms/step\n",
      "975  image file:  KIC06227560_morp0.13.png\n",
      "1/1 [==============================] - 0s 51ms/step\n"
     ]
    },
    {
     "name": "stderr",
     "output_type": "stream",
     "text": [
      "\r",
      " 36%|██████████████▏                         | 976/2747 [01:38<02:36, 11.32it/s]"
     ]
    },
    {
     "name": "stdout",
     "output_type": "stream",
     "text": [
      "976  image file:  KIC06265720_morp0.93.png\n",
      "1/1 [==============================] - 0s 50ms/step\n",
      "977  image file:  KIC04757331_morp0.33.png\n",
      "1/1 [==============================] - 0s 51ms/step\n"
     ]
    },
    {
     "name": "stderr",
     "output_type": "stream",
     "text": [
      "\r",
      " 36%|██████████████▏                         | 978/2747 [01:38<02:33, 11.50it/s]"
     ]
    },
    {
     "name": "stdout",
     "output_type": "stream",
     "text": [
      "978  image file:  KIC05796675_morp0.05.png\n",
      "1/1 [==============================] - 0s 53ms/step\n",
      "979  image file:  KIC08814635_morp0.84.png\n",
      "1/1 [==============================] - 0s 51ms/step\n"
     ]
    },
    {
     "name": "stderr",
     "output_type": "stream",
     "text": [
      "\r",
      " 36%|██████████████▎                         | 980/2747 [01:39<02:32, 11.60it/s]"
     ]
    },
    {
     "name": "stdout",
     "output_type": "stream",
     "text": [
      "980  image file:  KIC07622486_morp0.59.png\n",
      "1/1 [==============================] - 0s 52ms/step\n",
      "981  image file:  KIC11244501_morp0.89.png\n",
      "1/1 [==============================] - 0s 51ms/step\n"
     ]
    },
    {
     "name": "stderr",
     "output_type": "stream",
     "text": [
      "\r",
      " 36%|██████████████▎                         | 982/2747 [01:39<02:31, 11.66it/s]"
     ]
    },
    {
     "name": "stdout",
     "output_type": "stream",
     "text": [
      "982  image file:  KIC03127817_morp0.48.png\n",
      "1/1 [==============================] - 0s 52ms/step\n",
      "983  image file:  KIC04815612_morp0.33.png\n",
      "1/1 [==============================] - 0s 52ms/step\n"
     ]
    },
    {
     "name": "stderr",
     "output_type": "stream",
     "text": [
      "\r",
      " 36%|██████████████▎                         | 984/2747 [01:39<02:31, 11.64it/s]"
     ]
    },
    {
     "name": "stdout",
     "output_type": "stream",
     "text": [
      "984  image file:  KIC10815379_morp0.79.png\n",
      "1/1 [==============================] - 0s 56ms/step\n",
      "985  image file:  KIC03443790_morp0.34.png\n",
      "1/1 [==============================] - 0s 53ms/step\n"
     ]
    },
    {
     "name": "stderr",
     "output_type": "stream",
     "text": [
      "\r",
      " 36%|██████████████▎                         | 986/2747 [01:39<02:32, 11.54it/s]"
     ]
    },
    {
     "name": "stdout",
     "output_type": "stream",
     "text": [
      "986  image file:  KIC09475663_morp0.8.png\n",
      "1/1 [==============================] - 0s 50ms/step\n",
      "987  image file:  KIC08872737_morp0.96.png\n",
      "1/1 [==============================] - 0s 50ms/step\n"
     ]
    },
    {
     "name": "stderr",
     "output_type": "stream",
     "text": [
      "\r",
      " 36%|██████████████▍                         | 988/2747 [01:39<02:31, 11.64it/s]"
     ]
    },
    {
     "name": "stdout",
     "output_type": "stream",
     "text": [
      "988  image file:  KIC09833618_morp0.61.png\n",
      "1/1 [==============================] - 0s 51ms/step\n",
      "989  image file:  KIC11284547_morp0.96.png\n",
      "1/1 [==============================] - 0s 65ms/step\n"
     ]
    },
    {
     "name": "stderr",
     "output_type": "stream",
     "text": [
      "\r",
      " 36%|██████████████▍                         | 990/2747 [01:39<02:35, 11.30it/s]"
     ]
    },
    {
     "name": "stdout",
     "output_type": "stream",
     "text": [
      "990  image file:  KIC06936977_morp0.01.png\n",
      "1/1 [==============================] - 0s 53ms/step\n",
      "991  image file:  KIC10751515_morp0.07.png\n",
      "1/1 [==============================] - 0s 51ms/step\n"
     ]
    },
    {
     "name": "stderr",
     "output_type": "stream",
     "text": [
      "\r",
      " 36%|██████████████▍                         | 992/2747 [01:40<02:34, 11.33it/s]"
     ]
    },
    {
     "name": "stdout",
     "output_type": "stream",
     "text": [
      "992  image file:  KIC10206340_morp0.61.png\n",
      "1/1 [==============================] - 0s 54ms/step\n",
      "993  image file:  KIC05016163_morp0.4.png\n",
      "1/1 [==============================] - 0s 51ms/step\n"
     ]
    },
    {
     "name": "stderr",
     "output_type": "stream",
     "text": [
      "\r",
      " 36%|██████████████▍                         | 994/2747 [01:40<02:35, 11.26it/s]"
     ]
    },
    {
     "name": "stdout",
     "output_type": "stream",
     "text": [
      "994  image file:  KIC05621125_morp0.08.png\n",
      "1/1 [==============================] - 0s 53ms/step\n",
      "995  image file:  KIC10936427_morp0.25.png\n",
      "1/1 [==============================] - 0s 53ms/step\n"
     ]
    },
    {
     "name": "stderr",
     "output_type": "stream",
     "text": [
      "\r",
      " 36%|██████████████▌                         | 996/2747 [01:40<02:35, 11.27it/s]"
     ]
    },
    {
     "name": "stdout",
     "output_type": "stream",
     "text": [
      "996  image file:  KIC04948863_morp0.1.png\n",
      "1/1 [==============================] - 0s 63ms/step\n",
      "997  image file:  KIC08842170_morp0.9.png\n",
      "1/1 [==============================] - 0s 63ms/step\n"
     ]
    },
    {
     "name": "stderr",
     "output_type": "stream",
     "text": [
      "\r",
      " 36%|██████████████▌                         | 998/2747 [01:40<02:40, 10.93it/s]"
     ]
    },
    {
     "name": "stdout",
     "output_type": "stream",
     "text": [
      "998  image file:  KIC06671698_morp0.73.png\n",
      "1/1 [==============================] - 0s 52ms/step\n",
      "999  image file:  KIC06889235_morp0.43.png\n",
      "1/1 [==============================] - 0s 52ms/step\n"
     ]
    },
    {
     "name": "stderr",
     "output_type": "stream",
     "text": [
      "\r",
      " 36%|██████████████▏                        | 1000/2747 [01:40<02:38, 11.02it/s]"
     ]
    },
    {
     "name": "stdout",
     "output_type": "stream",
     "text": [
      "1000  image file:  KIC06628237_morp0.18.png\n",
      "1/1 [==============================] - 0s 54ms/step\n",
      "1001  image file:  KIC05428668_morp0.79.png\n",
      "1/1 [==============================] - 0s 54ms/step\n"
     ]
    },
    {
     "name": "stderr",
     "output_type": "stream",
     "text": [
      "\r",
      " 36%|██████████████▏                        | 1002/2747 [01:40<02:39, 10.94it/s]"
     ]
    },
    {
     "name": "stdout",
     "output_type": "stream",
     "text": [
      "1002  image file:  KIC09450883_morp0.94.png\n",
      "1/1 [==============================] - 0s 69ms/step\n",
      "1003  image file:  KIC05174677_morp0.01.png\n",
      "1/1 [==============================] - 0s 61ms/step\n"
     ]
    },
    {
     "name": "stderr",
     "output_type": "stream",
     "text": [
      "\r",
      " 37%|██████████████▎                        | 1004/2747 [01:41<02:46, 10.47it/s]"
     ]
    },
    {
     "name": "stdout",
     "output_type": "stream",
     "text": [
      "1004  image file:  KIC08243263_morp0.31.png\n",
      "1/1 [==============================] - 0s 57ms/step\n",
      "1005  image file:  KIC11084647_morp0.83.png\n",
      "1/1 [==============================] - 0s 59ms/step\n"
     ]
    },
    {
     "name": "stderr",
     "output_type": "stream",
     "text": [
      "\r",
      " 37%|██████████████▎                        | 1006/2747 [01:41<02:46, 10.44it/s]"
     ]
    },
    {
     "name": "stdout",
     "output_type": "stream",
     "text": [
      "1006  image file:  KIC02988984_morp0.82.png\n",
      "1/1 [==============================] - 0s 58ms/step\n",
      "1007  image file:  KIC05790912_morp0.78.png\n",
      "1/1 [==============================] - 0s 55ms/step\n"
     ]
    },
    {
     "name": "stderr",
     "output_type": "stream",
     "text": [
      "\r",
      " 37%|██████████████▎                        | 1008/2747 [01:41<02:46, 10.41it/s]"
     ]
    },
    {
     "name": "stdout",
     "output_type": "stream",
     "text": [
      "1008  image file:  KIC04178389_morp0.02.png\n",
      "1/1 [==============================] - 0s 57ms/step\n",
      "1009  image file:  KIC06469946_morp0.52.png\n",
      "1/1 [==============================] - 0s 55ms/step\n"
     ]
    },
    {
     "name": "stderr",
     "output_type": "stream",
     "text": [
      "\r",
      " 37%|██████████████▎                        | 1010/2747 [01:41<02:45, 10.52it/s]"
     ]
    },
    {
     "name": "stdout",
     "output_type": "stream",
     "text": [
      "1010  image file:  KIC08094140_morp0.5.png\n",
      "1/1 [==============================] - 0s 60ms/step\n",
      "1011  image file:  KIC04456622_morp0.44.png\n",
      "1/1 [==============================] - 0s 66ms/step\n"
     ]
    },
    {
     "name": "stderr",
     "output_type": "stream",
     "text": [
      "\r",
      " 37%|██████████████▎                        | 1012/2747 [01:41<02:50, 10.17it/s]"
     ]
    },
    {
     "name": "stdout",
     "output_type": "stream",
     "text": [
      "1012  image file:  KIC08848104_morp0.5.png\n",
      "1/1 [==============================] - 0s 60ms/step\n",
      "1013  image file:  KIC08128067_morp0.15.png\n",
      "1/1 [==============================] - 0s 65ms/step\n"
     ]
    },
    {
     "name": "stderr",
     "output_type": "stream",
     "text": [
      "\r",
      " 37%|██████████████▍                        | 1014/2747 [01:42<02:51, 10.11it/s]"
     ]
    },
    {
     "name": "stdout",
     "output_type": "stream",
     "text": [
      "1014  image file:  KIC08589754_morp0.26.png\n",
      "1/1 [==============================] - 0s 60ms/step\n",
      "1015  image file:  KIC07115291_morp0.02.png\n",
      "1/1 [==============================] - 0s 58ms/step\n"
     ]
    },
    {
     "name": "stderr",
     "output_type": "stream",
     "text": [
      "\r",
      " 37%|██████████████▍                        | 1016/2747 [01:42<02:50, 10.18it/s]"
     ]
    },
    {
     "name": "stdout",
     "output_type": "stream",
     "text": [
      "1016  image file:  KIC11548140_morp0.36.png\n",
      "1/1 [==============================] - 0s 62ms/step\n",
      "1017  image file:  KIC09753154_morp0.39.png\n",
      "1/1 [==============================] - 0s 74ms/step\n"
     ]
    },
    {
     "name": "stderr",
     "output_type": "stream",
     "text": [
      "\r",
      " 37%|██████████████▍                        | 1018/2747 [01:42<03:00,  9.57it/s]"
     ]
    },
    {
     "name": "stdout",
     "output_type": "stream",
     "text": [
      "1018  image file:  KIC10149845_morp0.85.png\n",
      "1/1 [==============================] - 0s 75ms/step\n"
     ]
    },
    {
     "name": "stderr",
     "output_type": "stream",
     "text": [
      "\r",
      " 37%|██████████████▍                        | 1019/2747 [01:42<03:05,  9.34it/s]"
     ]
    },
    {
     "name": "stdout",
     "output_type": "stream",
     "text": [
      "1019  image file:  KIC10007533_morp0.87.png\n",
      "1/1 [==============================] - 0s 67ms/step\n"
     ]
    },
    {
     "name": "stderr",
     "output_type": "stream",
     "text": [
      "\r",
      " 37%|██████████████▍                        | 1020/2747 [01:42<03:07,  9.19it/s]"
     ]
    },
    {
     "name": "stdout",
     "output_type": "stream",
     "text": [
      "1020  image file:  KIC07117003_morp0.01.png\n",
      "1/1 [==============================] - 0s 69ms/step\n"
     ]
    },
    {
     "name": "stderr",
     "output_type": "stream",
     "text": [
      "\r",
      " 37%|██████████████▍                        | 1021/2747 [01:42<03:07,  9.19it/s]"
     ]
    },
    {
     "name": "stdout",
     "output_type": "stream",
     "text": [
      "1021  image file:  KIC10656508_morp0.0.png\n",
      "1/1 [==============================] - 0s 60ms/step\n",
      "1022  image file:  KIC06675060_morp0.09.png\n",
      "1/1 [==============================] - 0s 57ms/step\n"
     ]
    },
    {
     "name": "stderr",
     "output_type": "stream",
     "text": [
      "\r",
      " 37%|██████████████▌                        | 1023/2747 [01:43<02:59,  9.60it/s]"
     ]
    },
    {
     "name": "stdout",
     "output_type": "stream",
     "text": [
      "1023  image file:  KIC09843435_morp0.59.png\n",
      "1/1 [==============================] - 0s 59ms/step\n",
      "1024  image file:  KIC07668283_morp0.98.png\n",
      "1/1 [==============================] - 0s 67ms/step\n"
     ]
    },
    {
     "name": "stderr",
     "output_type": "stream",
     "text": [
      "\r",
      " 37%|██████████████▌                        | 1025/2747 [01:43<02:58,  9.65it/s]"
     ]
    },
    {
     "name": "stdout",
     "output_type": "stream",
     "text": [
      "1025  image file:  KIC04255422_morp0.01.png\n",
      "1/1 [==============================] - 0s 69ms/step\n"
     ]
    },
    {
     "name": "stderr",
     "output_type": "stream",
     "text": [
      "\r",
      " 37%|██████████████▌                        | 1026/2747 [01:43<03:00,  9.53it/s]"
     ]
    },
    {
     "name": "stdout",
     "output_type": "stream",
     "text": [
      "1026  image file:  KIC06707942_morp0.08.png\n",
      "1/1 [==============================] - 0s 89ms/step\n"
     ]
    },
    {
     "name": "stderr",
     "output_type": "stream",
     "text": [
      "\r",
      " 37%|██████████████▌                        | 1027/2747 [01:43<03:10,  9.02it/s]"
     ]
    },
    {
     "name": "stdout",
     "output_type": "stream",
     "text": [
      "1027  image file:  KIC10095469_morp0.6.png\n",
      "1/1 [==============================] - 0s 63ms/step\n"
     ]
    },
    {
     "name": "stderr",
     "output_type": "stream",
     "text": [
      "\r",
      " 37%|██████████████▌                        | 1028/2747 [01:43<03:07,  9.18it/s]"
     ]
    },
    {
     "name": "stdout",
     "output_type": "stream",
     "text": [
      "1028  image file:  KIC04904304_morp0.89.png\n",
      "1/1 [==============================] - 0s 63ms/step\n"
     ]
    },
    {
     "name": "stderr",
     "output_type": "stream",
     "text": [
      "\r",
      " 37%|██████████████▌                        | 1029/2747 [01:43<03:07,  9.18it/s]"
     ]
    },
    {
     "name": "stdout",
     "output_type": "stream",
     "text": [
      "1029  image file:  KIC09834719_morp0.2.png\n",
      "1/1 [==============================] - 0s 58ms/step\n",
      "1030  image file:  KIC10919564_morp0.81.png\n",
      "1/1 [==============================] - 0s 60ms/step\n"
     ]
    },
    {
     "name": "stderr",
     "output_type": "stream",
     "text": [
      "\r",
      " 38%|██████████████▋                        | 1031/2747 [01:44<02:58,  9.63it/s]"
     ]
    },
    {
     "name": "stdout",
     "output_type": "stream",
     "text": [
      "1031  image file:  KIC08560840_morp0.18.png\n",
      "1/1 [==============================] - 0s 58ms/step\n"
     ]
    },
    {
     "name": "stderr",
     "output_type": "stream",
     "text": [
      "\r",
      " 38%|██████████████▋                        | 1032/2747 [01:44<03:04,  9.31it/s]"
     ]
    },
    {
     "name": "stdout",
     "output_type": "stream",
     "text": [
      "1032  image file:  KIC06182019_morp0.29.png\n",
      "1/1 [==============================] - 0s 60ms/step\n"
     ]
    },
    {
     "name": "stderr",
     "output_type": "stream",
     "text": [
      "\r",
      " 38%|██████████████▋                        | 1033/2747 [01:44<03:02,  9.38it/s]"
     ]
    },
    {
     "name": "stdout",
     "output_type": "stream",
     "text": [
      "1033  image file:  KIC11071278_morp-1.0.png\n",
      "1/1 [==============================] - 0s 61ms/step\n",
      "1034  image file:  KIC12255108_morp-1.0.png\n",
      "1/1 [==============================] - 0s 61ms/step\n"
     ]
    },
    {
     "name": "stderr",
     "output_type": "stream",
     "text": [
      "\r",
      " 38%|██████████████▋                        | 1035/2747 [01:44<02:57,  9.64it/s]"
     ]
    },
    {
     "name": "stdout",
     "output_type": "stream",
     "text": [
      "1035  image file:  KIC04547067_morp0.9.png\n",
      "1/1 [==============================] - 0s 59ms/step\n",
      "1036  image file:  KIC05034333_morp-1.0.png\n",
      "1/1 [==============================] - 0s 61ms/step\n"
     ]
    },
    {
     "name": "stderr",
     "output_type": "stream",
     "text": [
      "\r",
      " 38%|██████████████▋                        | 1037/2747 [01:44<02:53,  9.85it/s]"
     ]
    },
    {
     "name": "stdout",
     "output_type": "stream",
     "text": [
      "1037  image file:  KIC03836439_morp0.47.png\n",
      "1/1 [==============================] - 0s 62ms/step\n"
     ]
    },
    {
     "name": "stderr",
     "output_type": "stream",
     "text": [
      "\r",
      " 38%|██████████████▋                        | 1038/2747 [01:44<02:55,  9.75it/s]"
     ]
    },
    {
     "name": "stdout",
     "output_type": "stream",
     "text": [
      "1038  image file:  KIC11568657_morp-1.0.png\n",
      "1/1 [==============================] - 0s 61ms/step\n"
     ]
    },
    {
     "name": "stderr",
     "output_type": "stream",
     "text": [
      "\r",
      " 38%|██████████████▊                        | 1039/2747 [01:44<02:54,  9.81it/s]"
     ]
    },
    {
     "name": "stdout",
     "output_type": "stream",
     "text": [
      "1039  image file:  KIC08081389_morp0.56.png\n",
      "1/1 [==============================] - 0s 62ms/step\n",
      "1040  image file:  KIC07601767_morp0.8.png\n",
      "1/1 [==============================] - 0s 62ms/step\n"
     ]
    },
    {
     "name": "stderr",
     "output_type": "stream",
     "text": [
      "\r",
      " 38%|██████████████▊                        | 1041/2747 [01:45<02:52,  9.88it/s]"
     ]
    },
    {
     "name": "stdout",
     "output_type": "stream",
     "text": [
      "1041  image file:  KIC09512958_morp0.76.png\n",
      "1/1 [==============================] - 0s 61ms/step\n"
     ]
    },
    {
     "name": "stderr",
     "output_type": "stream",
     "text": [
      "\r",
      " 38%|██████████████▊                        | 1042/2747 [01:45<02:52,  9.89it/s]"
     ]
    },
    {
     "name": "stdout",
     "output_type": "stream",
     "text": [
      "1042  image file:  KIC05598639_morp0.58.png\n",
      "1/1 [==============================] - 0s 63ms/step\n"
     ]
    },
    {
     "name": "stderr",
     "output_type": "stream",
     "text": [
      "\r",
      " 38%|██████████████▊                        | 1043/2747 [01:45<02:55,  9.69it/s]"
     ]
    },
    {
     "name": "stdout",
     "output_type": "stream",
     "text": [
      "1043  image file:  KIC10934755_morp0.68.png\n",
      "1/1 [==============================] - 0s 59ms/step\n",
      "1044  image file:  KIC10920086_morp0.37.png\n",
      "1/1 [==============================] - 0s 61ms/step\n"
     ]
    },
    {
     "name": "stderr",
     "output_type": "stream",
     "text": [
      "\r",
      " 38%|██████████████▊                        | 1045/2747 [01:45<02:52,  9.84it/s]"
     ]
    },
    {
     "name": "stdout",
     "output_type": "stream",
     "text": [
      "1045  image file:  KIC05036966_morp0.04.png\n",
      "1/1 [==============================] - 0s 61ms/step\n",
      "1046  image file:  KIC11083888_morp0.94.png\n",
      "1/1 [==============================] - 0s 61ms/step\n"
     ]
    },
    {
     "name": "stderr",
     "output_type": "stream",
     "text": [
      "\r",
      " 38%|██████████████▊                        | 1047/2747 [01:45<02:53,  9.82it/s]"
     ]
    },
    {
     "name": "stdout",
     "output_type": "stream",
     "text": [
      "1047  image file:  KIC03339538_morp0.05.png\n",
      "1/1 [==============================] - 0s 60ms/step\n",
      "1048  image file:  KIC08868907_morp0.02.png\n",
      "1/1 [==============================] - 0s 61ms/step\n"
     ]
    },
    {
     "name": "stderr",
     "output_type": "stream",
     "text": [
      "\r",
      " 38%|██████████████▉                        | 1049/2747 [01:45<02:51,  9.90it/s]"
     ]
    },
    {
     "name": "stdout",
     "output_type": "stream",
     "text": [
      "1049  image file:  KIC03749404_morp-1.0.png\n",
      "1/1 [==============================] - 0s 63ms/step\n"
     ]
    },
    {
     "name": "stderr",
     "output_type": "stream",
     "text": [
      "\r",
      " 38%|██████████████▉                        | 1050/2747 [01:45<02:51,  9.87it/s]"
     ]
    },
    {
     "name": "stdout",
     "output_type": "stream",
     "text": [
      "1050  image file:  KIC06962018_morp0.45.png\n",
      "1/1 [==============================] - 0s 62ms/step\n"
     ]
    },
    {
     "name": "stderr",
     "output_type": "stream",
     "text": [
      "\r",
      " 38%|██████████████▉                        | 1051/2747 [01:46<02:51,  9.87it/s]"
     ]
    },
    {
     "name": "stdout",
     "output_type": "stream",
     "text": [
      "1051  image file:  KIC11250867_morp0.38.png\n",
      "1/1 [==============================] - 0s 72ms/step\n"
     ]
    },
    {
     "name": "stderr",
     "output_type": "stream",
     "text": [
      "\r",
      " 38%|██████████████▉                        | 1052/2747 [01:46<02:57,  9.55it/s]"
     ]
    },
    {
     "name": "stdout",
     "output_type": "stream",
     "text": [
      "1052  image file:  KIC08892910_morp0.11.png\n",
      "1/1 [==============================] - 0s 59ms/step\n"
     ]
    },
    {
     "name": "stderr",
     "output_type": "stream",
     "text": [
      "\r",
      " 38%|██████████████▉                        | 1053/2747 [01:46<02:55,  9.65it/s]"
     ]
    },
    {
     "name": "stdout",
     "output_type": "stream",
     "text": [
      "1053  image file:  KIC10799558_morp0.91.png\n",
      "1/1 [==============================] - 0s 61ms/step\n"
     ]
    },
    {
     "name": "stderr",
     "output_type": "stream",
     "text": [
      "\r",
      " 38%|██████████████▉                        | 1054/2747 [01:46<02:53,  9.74it/s]"
     ]
    },
    {
     "name": "stdout",
     "output_type": "stream",
     "text": [
      "1054  image file:  KIC08054233_morp0.03.png\n",
      "1/1 [==============================] - 0s 62ms/step\n"
     ]
    },
    {
     "name": "stderr",
     "output_type": "stream",
     "text": [
      "\r",
      " 38%|██████████████▉                        | 1055/2747 [01:46<02:53,  9.76it/s]"
     ]
    },
    {
     "name": "stdout",
     "output_type": "stream",
     "text": [
      "1055  image file:  KIC10186945_morp0.49.png\n",
      "1/1 [==============================] - 0s 62ms/step\n"
     ]
    },
    {
     "name": "stderr",
     "output_type": "stream",
     "text": [
      "\r",
      " 38%|██████████████▉                        | 1056/2747 [01:46<02:55,  9.64it/s]"
     ]
    },
    {
     "name": "stdout",
     "output_type": "stream",
     "text": [
      "1056  image file:  KIC04252322_morp0.02.png\n",
      "1/1 [==============================] - 0s 61ms/step\n",
      "1057  image file:  KIC06206751_morp0.56.png\n",
      "1/1 [==============================] - 0s 61ms/step\n"
     ]
    },
    {
     "name": "stderr",
     "output_type": "stream",
     "text": [
      "\r",
      " 39%|███████████████                        | 1058/2747 [01:46<02:51,  9.82it/s]"
     ]
    },
    {
     "name": "stdout",
     "output_type": "stream",
     "text": [
      "1058  image file:  KIC04242692_morp0.44.png\n",
      "1/1 [==============================] - 0s 62ms/step\n"
     ]
    },
    {
     "name": "stderr",
     "output_type": "stream",
     "text": [
      "\r",
      " 39%|███████████████                        | 1059/2747 [01:46<02:52,  9.79it/s]"
     ]
    },
    {
     "name": "stdout",
     "output_type": "stream",
     "text": [
      "1059  image file:  KIC04150611_morp0.13.png\n",
      "1/1 [==============================] - 0s 62ms/step\n"
     ]
    },
    {
     "name": "stderr",
     "output_type": "stream",
     "text": [
      "\r",
      " 39%|███████████████                        | 1060/2747 [01:46<02:51,  9.82it/s]"
     ]
    },
    {
     "name": "stdout",
     "output_type": "stream",
     "text": [
      "1060  image file:  KIC10960995_morp0.3.png\n",
      "1/1 [==============================] - 0s 62ms/step\n"
     ]
    },
    {
     "name": "stderr",
     "output_type": "stream",
     "text": [
      "\r",
      " 39%|███████████████                        | 1061/2747 [01:47<02:50,  9.86it/s]"
     ]
    },
    {
     "name": "stdout",
     "output_type": "stream",
     "text": [
      "1061  image file:  KIC09640921_morp0.02.png\n",
      "1/1 [==============================] - 0s 70ms/step\n"
     ]
    },
    {
     "name": "stderr",
     "output_type": "stream",
     "text": [
      "\r",
      " 39%|███████████████                        | 1062/2747 [01:47<02:54,  9.67it/s]"
     ]
    },
    {
     "name": "stdout",
     "output_type": "stream",
     "text": [
      "1062  image file:  KIC04860932_morp0.1.png\n",
      "1/1 [==============================] - 0s 60ms/step\n",
      "1063  image file:  KIC08553788_morp0.54.png\n",
      "1/1 [==============================] - 0s 60ms/step\n"
     ]
    },
    {
     "name": "stderr",
     "output_type": "stream",
     "text": [
      "\r",
      " 39%|███████████████                        | 1064/2747 [01:47<02:49,  9.94it/s]"
     ]
    },
    {
     "name": "stdout",
     "output_type": "stream",
     "text": [
      "1064  image file:  KIC05471619_morp0.6.png\n",
      "1/1 [==============================] - 0s 59ms/step\n"
     ]
    },
    {
     "name": "stderr",
     "output_type": "stream",
     "text": [
      "\r",
      " 39%|███████████████                        | 1065/2747 [01:47<02:50,  9.87it/s]"
     ]
    },
    {
     "name": "stdout",
     "output_type": "stream",
     "text": [
      "1065  image file:  KIC01722276_morp0.0.png\n",
      "1/1 [==============================] - 0s 62ms/step\n",
      "1066  image file:  KIC11604958_morp0.73.png\n",
      "1/1 [==============================] - 0s 60ms/step\n"
     ]
    },
    {
     "name": "stderr",
     "output_type": "stream",
     "text": [
      "\r",
      " 39%|███████████████▏                       | 1067/2747 [01:47<02:48,  9.98it/s]"
     ]
    },
    {
     "name": "stdout",
     "output_type": "stream",
     "text": [
      "1067  image file:  KIC09714358_morp0.13.png\n",
      "1/1 [==============================] - 0s 61ms/step\n"
     ]
    },
    {
     "name": "stderr",
     "output_type": "stream",
     "text": [
      "\r",
      " 39%|███████████████▏                       | 1068/2747 [01:47<02:56,  9.52it/s]"
     ]
    },
    {
     "name": "stdout",
     "output_type": "stream",
     "text": [
      "1068  image file:  KIC02449084_morp0.7.png\n",
      "1/1 [==============================] - 0s 64ms/step\n"
     ]
    },
    {
     "name": "stderr",
     "output_type": "stream",
     "text": [
      "\r",
      " 39%|███████████████▏                       | 1069/2747 [01:47<02:57,  9.46it/s]"
     ]
    },
    {
     "name": "stdout",
     "output_type": "stream",
     "text": [
      "1069  image file:  KIC05791886_morp0.77.png\n",
      "1/1 [==============================] - 0s 64ms/step\n"
     ]
    },
    {
     "name": "stderr",
     "output_type": "stream",
     "text": [
      "\r",
      " 39%|███████████████▏                       | 1070/2747 [01:48<02:57,  9.44it/s]"
     ]
    },
    {
     "name": "stdout",
     "output_type": "stream",
     "text": [
      "1070  image file:  KIC10096019_morp-1.0.png\n",
      "1/1 [==============================] - 0s 71ms/step\n"
     ]
    },
    {
     "name": "stderr",
     "output_type": "stream",
     "text": [
      "\r",
      " 39%|███████████████▏                       | 1071/2747 [01:48<03:00,  9.27it/s]"
     ]
    },
    {
     "name": "stdout",
     "output_type": "stream",
     "text": [
      "1071  image file:  KIC09838047_morp0.85.png\n",
      "1/1 [==============================] - 0s 63ms/step\n"
     ]
    },
    {
     "name": "stderr",
     "output_type": "stream",
     "text": [
      "\r",
      " 39%|███████████████▏                       | 1072/2747 [01:48<02:58,  9.36it/s]"
     ]
    },
    {
     "name": "stdout",
     "output_type": "stream",
     "text": [
      "1072  image file:  KIC09592855_morp0.6.png\n",
      "1/1 [==============================] - 0s 67ms/step\n"
     ]
    },
    {
     "name": "stderr",
     "output_type": "stream",
     "text": [
      "\r",
      " 39%|███████████████▏                       | 1073/2747 [01:48<02:59,  9.32it/s]"
     ]
    },
    {
     "name": "stdout",
     "output_type": "stream",
     "text": [
      "1073  image file:  KIC10858117_morp0.0.png\n",
      "1/1 [==============================] - 0s 80ms/step\n"
     ]
    },
    {
     "name": "stderr",
     "output_type": "stream",
     "text": [
      "\r",
      " 39%|███████████████▏                       | 1074/2747 [01:48<03:09,  8.83it/s]"
     ]
    },
    {
     "name": "stdout",
     "output_type": "stream",
     "text": [
      "1074  image file:  KIC08869680_morp0.35.png\n",
      "1/1 [==============================] - 0s 78ms/step\n"
     ]
    },
    {
     "name": "stderr",
     "output_type": "stream",
     "text": [
      "\r",
      " 39%|███████████████▎                       | 1075/2747 [01:48<03:14,  8.58it/s]"
     ]
    },
    {
     "name": "stdout",
     "output_type": "stream",
     "text": [
      "1075  image file:  KIC09895004_morp0.18.png\n",
      "1/1 [==============================] - 0s 64ms/step\n"
     ]
    },
    {
     "name": "stderr",
     "output_type": "stream",
     "text": [
      "\r",
      " 39%|███████████████▎                       | 1076/2747 [01:48<03:11,  8.73it/s]"
     ]
    },
    {
     "name": "stdout",
     "output_type": "stream",
     "text": [
      "1076  image file:  KIC05649956_morp0.43.png\n",
      "1/1 [==============================] - 0s 60ms/step\n",
      "1077  image file:  KIC09641031_morp0.44.png\n",
      "1/1 [==============================] - 0s 58ms/step\n"
     ]
    },
    {
     "name": "stderr",
     "output_type": "stream",
     "text": [
      "\r",
      " 39%|███████████████▎                       | 1078/2747 [01:48<02:58,  9.36it/s]"
     ]
    },
    {
     "name": "stdout",
     "output_type": "stream",
     "text": [
      "1078  image file:  KIC06607610_morp0.08.png\n",
      "1/1 [==============================] - 0s 60ms/step\n"
     ]
    },
    {
     "name": "stderr",
     "output_type": "stream",
     "text": [
      "\r",
      " 39%|███████████████▎                       | 1079/2747 [01:49<03:02,  9.16it/s]"
     ]
    },
    {
     "name": "stdout",
     "output_type": "stream",
     "text": [
      "1079  image file:  KIC09715939_morp0.08.png\n",
      "1/1 [==============================] - 0s 60ms/step\n"
     ]
    },
    {
     "name": "stderr",
     "output_type": "stream",
     "text": [
      "\r",
      " 39%|███████████████▎                       | 1080/2747 [01:49<02:59,  9.27it/s]"
     ]
    },
    {
     "name": "stdout",
     "output_type": "stream",
     "text": [
      "1080  image file:  KIC03558981_morp0.24.png\n",
      "1/1 [==============================] - 0s 61ms/step\n"
     ]
    },
    {
     "name": "stderr",
     "output_type": "stream",
     "text": [
      "\r",
      " 39%|███████████████▎                       | 1081/2747 [01:49<02:56,  9.45it/s]"
     ]
    },
    {
     "name": "stdout",
     "output_type": "stream",
     "text": [
      "1081  image file:  KIC05648449_morp0.24.png\n",
      "1/1 [==============================] - 0s 59ms/step\n",
      "1082  image file:  KIC12350008_morp0.71.png\n",
      "1/1 [==============================] - 0s 61ms/step\n"
     ]
    },
    {
     "name": "stderr",
     "output_type": "stream",
     "text": [
      "\r",
      " 39%|███████████████▍                       | 1083/2747 [01:49<02:52,  9.63it/s]"
     ]
    },
    {
     "name": "stdout",
     "output_type": "stream",
     "text": [
      "1083  image file:  KIC10798605_morp0.01.png\n",
      "1/1 [==============================] - 0s 62ms/step\n"
     ]
    },
    {
     "name": "stderr",
     "output_type": "stream",
     "text": [
      "\r",
      " 39%|███████████████▍                       | 1084/2747 [01:49<02:51,  9.68it/s]"
     ]
    },
    {
     "name": "stdout",
     "output_type": "stream",
     "text": [
      "1084  image file:  KIC11442793_morp0.0.png\n",
      "1/1 [==============================] - 0s 62ms/step\n"
     ]
    },
    {
     "name": "stderr",
     "output_type": "stream",
     "text": [
      "\r",
      " 39%|███████████████▍                       | 1085/2747 [01:49<02:50,  9.73it/s]"
     ]
    },
    {
     "name": "stdout",
     "output_type": "stream",
     "text": [
      "1085  image file:  KIC09533489_morp0.0.png\n",
      "1/1 [==============================] - 0s 61ms/step\n"
     ]
    },
    {
     "name": "stderr",
     "output_type": "stream",
     "text": [
      "\r",
      " 40%|███████████████▍                       | 1086/2747 [01:49<02:50,  9.73it/s]"
     ]
    },
    {
     "name": "stdout",
     "output_type": "stream",
     "text": [
      "1086  image file:  KIC05393558_morp0.12.png\n",
      "1/1 [==============================] - 0s 61ms/step\n",
      "1087  image file:  KIC11519134_morp0.01.png\n",
      "1/1 [==============================] - 0s 60ms/step\n"
     ]
    },
    {
     "name": "stderr",
     "output_type": "stream",
     "text": [
      "\r",
      " 40%|███████████████▍                       | 1088/2747 [01:49<02:46,  9.94it/s]"
     ]
    },
    {
     "name": "stdout",
     "output_type": "stream",
     "text": [
      "1088  image file:  KIC07060333_morp0.91.png\n",
      "1/1 [==============================] - 0s 60ms/step\n",
      "1089  image file:  KIC11724210_morp0.17.png\n",
      "1/1 [==============================] - 0s 60ms/step\n"
     ]
    },
    {
     "name": "stderr",
     "output_type": "stream",
     "text": [
      "\r",
      " 40%|███████████████▍                       | 1090/2747 [01:50<02:46,  9.96it/s]"
     ]
    },
    {
     "name": "stdout",
     "output_type": "stream",
     "text": [
      "1090  image file:  KIC02571439_morp0.93.png\n",
      "1/1 [==============================] - 0s 64ms/step\n"
     ]
    },
    {
     "name": "stderr",
     "output_type": "stream",
     "text": [
      "\r",
      " 40%|███████████████▍                       | 1091/2747 [01:50<02:47,  9.87it/s]"
     ]
    },
    {
     "name": "stdout",
     "output_type": "stream",
     "text": [
      "1091  image file:  KIC03765708_morp0.95.png\n",
      "1/1 [==============================] - 0s 62ms/step\n"
     ]
    },
    {
     "name": "stderr",
     "output_type": "stream",
     "text": [
      "\r",
      " 40%|███████████████▌                       | 1092/2747 [01:50<02:49,  9.76it/s]"
     ]
    },
    {
     "name": "stdout",
     "output_type": "stream",
     "text": [
      "1092  image file:  KIC08075618_morp0.04.png\n",
      "1/1 [==============================] - 0s 60ms/step\n",
      "1093  image file:  KIC10736223_morp0.56.png\n",
      "1/1 [==============================] - 0s 59ms/step\n"
     ]
    },
    {
     "name": "stderr",
     "output_type": "stream",
     "text": [
      "\r",
      " 40%|███████████████▌                       | 1094/2747 [01:50<02:46,  9.90it/s]"
     ]
    },
    {
     "name": "stdout",
     "output_type": "stream",
     "text": [
      "1094  image file:  KIC04633434_morp0.04.png\n",
      "1/1 [==============================] - 0s 61ms/step\n",
      "1095  image file:  KIC07884426_morp0.95.png\n",
      "1/1 [==============================] - 0s 64ms/step\n"
     ]
    },
    {
     "name": "stderr",
     "output_type": "stream",
     "text": [
      "\r",
      " 40%|███████████████▌                       | 1096/2747 [01:50<02:46,  9.92it/s]"
     ]
    },
    {
     "name": "stdout",
     "output_type": "stream",
     "text": [
      "1096  image file:  KIC10258558_morp0.11.png\n",
      "1/1 [==============================] - 0s 59ms/step\n",
      "1097  image file:  KIC08288404_morp0.0.png\n",
      "1/1 [==============================] - 0s 61ms/step\n"
     ]
    },
    {
     "name": "stderr",
     "output_type": "stream",
     "text": [
      "\r",
      " 40%|███████████████▌                       | 1098/2747 [01:50<02:44, 10.02it/s]"
     ]
    },
    {
     "name": "stdout",
     "output_type": "stream",
     "text": [
      "1098  image file:  KIC08099615_morp0.96.png\n",
      "1/1 [==============================] - 0s 59ms/step\n",
      "1099  image file:  KIC09674608_morp0.13.png\n",
      "1/1 [==============================] - 0s 59ms/step\n"
     ]
    },
    {
     "name": "stderr",
     "output_type": "stream",
     "text": [
      "\r",
      " 40%|███████████████▌                       | 1100/2747 [01:51<02:43, 10.09it/s]"
     ]
    },
    {
     "name": "stdout",
     "output_type": "stream",
     "text": [
      "1100  image file:  KIC08367007_morp0.81.png\n",
      "1/1 [==============================] - 0s 59ms/step\n",
      "1101  image file:  KIC11017077_morp0.68.png\n",
      "1/1 [==============================] - 0s 59ms/step\n"
     ]
    },
    {
     "name": "stderr",
     "output_type": "stream",
     "text": [
      "\r",
      " 40%|███████████████▋                       | 1102/2747 [01:51<02:43, 10.04it/s]"
     ]
    },
    {
     "name": "stdout",
     "output_type": "stream",
     "text": [
      "1102  image file:  KIC07835348_morp0.95.png\n",
      "1/1 [==============================] - 0s 59ms/step\n",
      "1103  image file:  KIC11572363_morp-1.0.png\n",
      "1/1 [==============================] - 0s 56ms/step\n"
     ]
    },
    {
     "name": "stderr",
     "output_type": "stream",
     "text": [
      "\r",
      " 40%|███████████████▋                       | 1104/2747 [01:51<02:41, 10.16it/s]"
     ]
    },
    {
     "name": "stdout",
     "output_type": "stream",
     "text": [
      "1104  image file:  KIC10485069_morp0.75.png\n",
      "1/1 [==============================] - 0s 57ms/step\n",
      "1105  image file:  KIC09995981_morp0.87.png\n",
      "1/1 [==============================] - 0s 58ms/step\n"
     ]
    },
    {
     "name": "stderr",
     "output_type": "stream",
     "text": [
      "\r",
      " 40%|███████████████▋                       | 1106/2747 [01:51<02:46,  9.85it/s]"
     ]
    },
    {
     "name": "stdout",
     "output_type": "stream",
     "text": [
      "1106  image file:  KIC05008287_morp0.94.png\n",
      "1/1 [==============================] - 0s 58ms/step\n",
      "1107  image file:  KIC10481912_morp0.96.png\n",
      "1/1 [==============================] - 0s 58ms/step\n"
     ]
    },
    {
     "name": "stderr",
     "output_type": "stream",
     "text": [
      "\r",
      " 40%|███████████████▋                       | 1108/2747 [01:51<02:42, 10.06it/s]"
     ]
    },
    {
     "name": "stdout",
     "output_type": "stream",
     "text": [
      "1108  image file:  KIC09944201_morp0.5.png\n",
      "1/1 [==============================] - 0s 68ms/step\n",
      "1109  image file:  KIC11029877_morp0.38.png\n",
      "1/1 [==============================] - 0s 59ms/step\n"
     ]
    },
    {
     "name": "stderr",
     "output_type": "stream",
     "text": [
      "\r",
      " 40%|███████████████▊                       | 1110/2747 [01:52<02:45,  9.92it/s]"
     ]
    },
    {
     "name": "stdout",
     "output_type": "stream",
     "text": [
      "1110  image file:  KIC07672068_morp-1.0.png\n",
      "1/1 [==============================] - 0s 60ms/step\n",
      "1111  image file:  KIC01295531_morp0.97.png\n",
      "1/1 [==============================] - 0s 58ms/step\n"
     ]
    },
    {
     "name": "stderr",
     "output_type": "stream",
     "text": [
      "\r",
      " 40%|███████████████▊                       | 1112/2747 [01:52<02:42, 10.08it/s]"
     ]
    },
    {
     "name": "stdout",
     "output_type": "stream",
     "text": [
      "1112  image file:  KIC09414905_morp0.92.png\n",
      "1/1 [==============================] - 0s 57ms/step\n",
      "1113  image file:  KIC08288719_morp0.41.png\n",
      "1/1 [==============================] - 0s 53ms/step\n"
     ]
    },
    {
     "name": "stderr",
     "output_type": "stream",
     "text": [
      "\r",
      " 41%|███████████████▊                       | 1114/2747 [01:52<02:38, 10.32it/s]"
     ]
    },
    {
     "name": "stdout",
     "output_type": "stream",
     "text": [
      "1114  image file:  KIC10287248_morp0.2.png\n",
      "1/1 [==============================] - 0s 57ms/step\n",
      "1115  image file:  KIC07766185_morp0.73.png\n",
      "1/1 [==============================] - 0s 57ms/step\n"
     ]
    },
    {
     "name": "stderr",
     "output_type": "stream",
     "text": [
      "\r",
      " 41%|███████████████▊                       | 1116/2747 [01:52<02:37, 10.36it/s]"
     ]
    },
    {
     "name": "stdout",
     "output_type": "stream",
     "text": [
      "1116  image file:  KIC05113053_morp0.41.png\n",
      "1/1 [==============================] - 0s 57ms/step\n",
      "1117  image file:  KIC05730394_morp0.39.png\n",
      "1/1 [==============================] - 0s 54ms/step\n"
     ]
    },
    {
     "name": "stderr",
     "output_type": "stream",
     "text": [
      "\r",
      " 41%|███████████████▊                       | 1118/2747 [01:52<02:35, 10.48it/s]"
     ]
    },
    {
     "name": "stdout",
     "output_type": "stream",
     "text": [
      "1118  image file:  KIC10418797_morp0.04.png\n",
      "1/1 [==============================] - 0s 59ms/step\n",
      "1119  image file:  KIC05296276_morp0.94.png\n",
      "1/1 [==============================] - 0s 65ms/step\n"
     ]
    },
    {
     "name": "stderr",
     "output_type": "stream",
     "text": [
      "\r",
      " 41%|███████████████▉                       | 1120/2747 [01:53<02:40, 10.15it/s]"
     ]
    },
    {
     "name": "stdout",
     "output_type": "stream",
     "text": [
      "1120  image file:  KIC09612468_morp0.99.png\n",
      "1/1 [==============================] - 0s 61ms/step\n",
      "1121  image file:  KIC08953296_morp0.6.png\n",
      "1/1 [==============================] - 0s 60ms/step\n"
     ]
    },
    {
     "name": "stderr",
     "output_type": "stream",
     "text": [
      "\r",
      " 41%|███████████████▉                       | 1122/2747 [01:53<02:40, 10.14it/s]"
     ]
    },
    {
     "name": "stdout",
     "output_type": "stream",
     "text": [
      "1122  image file:  KIC05376836_morp0.3.png\n",
      "1/1 [==============================] - 0s 54ms/step\n",
      "1123  image file:  KIC05439790_morp0.81.png\n",
      "1/1 [==============================] - 0s 58ms/step\n"
     ]
    },
    {
     "name": "stderr",
     "output_type": "stream",
     "text": [
      "\r",
      " 41%|███████████████▉                       | 1124/2747 [01:53<02:38, 10.25it/s]"
     ]
    },
    {
     "name": "stdout",
     "output_type": "stream",
     "text": [
      "1124  image file:  KIC03433668_morp0.12.png\n",
      "1/1 [==============================] - 0s 59ms/step\n",
      "1125  image file:  KIC10346522_morp0.59.png\n",
      "1/1 [==============================] - 0s 65ms/step\n"
     ]
    },
    {
     "name": "stderr",
     "output_type": "stream",
     "text": [
      "\r",
      " 41%|███████████████▉                       | 1126/2747 [01:53<02:39, 10.14it/s]"
     ]
    },
    {
     "name": "stdout",
     "output_type": "stream",
     "text": [
      "1126  image file:  KIC07975824_morp0.75.png\n",
      "1/1 [==============================] - 0s 55ms/step\n",
      "1127  image file:  KIC03956545_morp0.75.png\n",
      "1/1 [==============================] - 0s 59ms/step\n"
     ]
    },
    {
     "name": "stderr",
     "output_type": "stream",
     "text": [
      "\r",
      " 41%|████████████████                       | 1128/2747 [01:53<02:39, 10.17it/s]"
     ]
    },
    {
     "name": "stdout",
     "output_type": "stream",
     "text": [
      "1128  image file:  KIC10666242_morp0.0.png\n",
      "1/1 [==============================] - 0s 58ms/step\n",
      "1129  image file:  KIC12257908_morp0.63.png\n",
      "1/1 [==============================] - 0s 58ms/step\n"
     ]
    },
    {
     "name": "stderr",
     "output_type": "stream",
     "text": [
      "\r",
      " 41%|████████████████                       | 1130/2747 [01:54<02:37, 10.28it/s]"
     ]
    },
    {
     "name": "stdout",
     "output_type": "stream",
     "text": [
      "1130  image file:  KIC11180361_morp0.57.png\n",
      "1/1 [==============================] - 0s 55ms/step\n",
      "1131  image file:  KIC04940201_morp0.15.png\n",
      "1/1 [==============================] - 0s 53ms/step\n"
     ]
    },
    {
     "name": "stderr",
     "output_type": "stream",
     "text": [
      "\r",
      " 41%|████████████████                       | 1132/2747 [01:54<02:34, 10.47it/s]"
     ]
    },
    {
     "name": "stdout",
     "output_type": "stream",
     "text": [
      "1132  image file:  KIC08240109_morp0.56.png\n",
      "1/1 [==============================] - 0s 54ms/step\n",
      "1133  image file:  KIC12251779_morp0.13.png\n",
      "1/1 [==============================] - 0s 54ms/step\n"
     ]
    },
    {
     "name": "stderr",
     "output_type": "stream",
     "text": [
      "\r",
      " 41%|████████████████                       | 1134/2747 [01:54<02:31, 10.66it/s]"
     ]
    },
    {
     "name": "stdout",
     "output_type": "stream",
     "text": [
      "1134  image file:  KIC10030943_morp1.0.png\n",
      "1/1 [==============================] - 0s 54ms/step\n",
      "1135  image file:  KIC10723143_morp0.79.png\n",
      "1/1 [==============================] - 0s 54ms/step\n"
     ]
    },
    {
     "name": "stderr",
     "output_type": "stream",
     "text": [
      "\r",
      " 41%|████████████████▏                      | 1136/2747 [01:54<02:29, 10.81it/s]"
     ]
    },
    {
     "name": "stdout",
     "output_type": "stream",
     "text": [
      "1136  image file:  KIC03953106_morp0.2.png\n",
      "1/1 [==============================] - 0s 54ms/step\n",
      "1137  image file:  KIC09346253_morp0.09.png\n",
      "1/1 [==============================] - 0s 53ms/step\n"
     ]
    },
    {
     "name": "stderr",
     "output_type": "stream",
     "text": [
      "\r",
      " 41%|████████████████▏                      | 1138/2747 [01:54<02:28, 10.81it/s]"
     ]
    },
    {
     "name": "stdout",
     "output_type": "stream",
     "text": [
      "1138  image file:  KIC09071386_morp0.36.png\n",
      "1/1 [==============================] - 0s 52ms/step\n",
      "1139  image file:  KIC11350389_morp0.41.png\n",
      "1/1 [==============================] - 0s 57ms/step\n"
     ]
    },
    {
     "name": "stderr",
     "output_type": "stream",
     "text": [
      "\r",
      " 41%|████████████████▏                      | 1140/2747 [01:54<02:28, 10.84it/s]"
     ]
    },
    {
     "name": "stdout",
     "output_type": "stream",
     "text": [
      "1140  image file:  KIC04729553_morp0.61.png\n",
      "1/1 [==============================] - 0s 53ms/step\n",
      "1141  image file:  KIC11506235_morp0.05.png\n",
      "1/1 [==============================] - 0s 53ms/step\n"
     ]
    },
    {
     "name": "stderr",
     "output_type": "stream",
     "text": [
      "\r",
      " 42%|████████████████▏                      | 1142/2747 [01:55<02:26, 10.96it/s]"
     ]
    },
    {
     "name": "stdout",
     "output_type": "stream",
     "text": [
      "1142  image file:  KIC08454250_morp0.39.png\n",
      "1/1 [==============================] - 0s 53ms/step\n",
      "1143  image file:  KIC04669402_morp-1.0.png\n",
      "1/1 [==============================] - 0s 52ms/step\n"
     ]
    },
    {
     "name": "stderr",
     "output_type": "stream",
     "text": [
      "\r",
      " 42%|████████████████▏                      | 1144/2747 [01:55<02:25, 11.05it/s]"
     ]
    },
    {
     "name": "stdout",
     "output_type": "stream",
     "text": [
      "1144  image file:  KIC10555365_morp0.23.png\n",
      "1/1 [==============================] - 0s 53ms/step\n",
      "1145  image file:  KIC03449540_morp0.4.png\n",
      "1/1 [==============================] - 0s 54ms/step\n"
     ]
    },
    {
     "name": "stderr",
     "output_type": "stream",
     "text": [
      "\r",
      " 42%|████████████████▎                      | 1146/2747 [01:55<02:25, 11.03it/s]"
     ]
    },
    {
     "name": "stdout",
     "output_type": "stream",
     "text": [
      "1146  image file:  KIC03732732_morp0.94.png\n",
      "1/1 [==============================] - 0s 53ms/step\n",
      "1147  image file:  KIC09761573_morp0.1.png\n",
      "1/1 [==============================] - 0s 52ms/step\n"
     ]
    },
    {
     "name": "stderr",
     "output_type": "stream",
     "text": [
      "\r",
      " 42%|████████████████▎                      | 1148/2747 [01:55<02:23, 11.11it/s]"
     ]
    },
    {
     "name": "stdout",
     "output_type": "stream",
     "text": [
      "1148  image file:  KIC05622250_morp0.09.png\n",
      "1/1 [==============================] - 0s 52ms/step\n",
      "1149  image file:  KIC06695889_morp0.5.png\n",
      "1/1 [==============================] - 0s 53ms/step\n"
     ]
    },
    {
     "name": "stderr",
     "output_type": "stream",
     "text": [
      "\r",
      " 42%|████████████████▎                      | 1150/2747 [01:55<02:22, 11.19it/s]"
     ]
    },
    {
     "name": "stdout",
     "output_type": "stream",
     "text": [
      "1150  image file:  KIC10294608_morp0.37.png\n",
      "1/1 [==============================] - 0s 52ms/step\n",
      "1151  image file:  KIC12316447_morp0.09.png\n",
      "1/1 [==============================] - 0s 53ms/step\n"
     ]
    },
    {
     "name": "stderr",
     "output_type": "stream",
     "text": [
      "\r",
      " 42%|████████████████▎                      | 1152/2747 [01:56<02:22, 11.21it/s]"
     ]
    },
    {
     "name": "stdout",
     "output_type": "stream",
     "text": [
      "1152  image file:  KIC07121885_morp0.05.png\n",
      "1/1 [==============================] - 0s 52ms/step\n",
      "1153  image file:  KIC02453212_morp0.98.png\n",
      "1/1 [==============================] - 0s 58ms/step\n"
     ]
    },
    {
     "name": "stderr",
     "output_type": "stream",
     "text": [
      "\r",
      " 42%|████████████████▍                      | 1154/2747 [01:56<02:22, 11.14it/s]"
     ]
    },
    {
     "name": "stdout",
     "output_type": "stream",
     "text": [
      "1154  image file:  KIC07033748_morp0.49.png\n",
      "1/1 [==============================] - 0s 57ms/step\n",
      "1155  image file:  KIC11076279_morp0.55.png\n",
      "1/1 [==============================] - 0s 57ms/step\n"
     ]
    },
    {
     "name": "stderr",
     "output_type": "stream",
     "text": [
      "\r",
      " 42%|████████████████▍                      | 1156/2747 [01:56<02:26, 10.84it/s]"
     ]
    },
    {
     "name": "stdout",
     "output_type": "stream",
     "text": [
      "1156  image file:  KIC08144355_morp-1.0.png\n",
      "1/1 [==============================] - 0s 54ms/step\n",
      "1157  image file:  KIC08719419_morp0.07.png\n",
      "1/1 [==============================] - 0s 52ms/step\n"
     ]
    },
    {
     "name": "stderr",
     "output_type": "stream",
     "text": [
      "\r",
      " 42%|████████████████▍                      | 1158/2747 [01:56<02:25, 10.94it/s]"
     ]
    },
    {
     "name": "stdout",
     "output_type": "stream",
     "text": [
      "1158  image file:  KIC08939650_morp0.37.png\n",
      "1/1 [==============================] - 0s 52ms/step\n",
      "1159  image file:  KIC04950505_morp0.83.png\n",
      "1/1 [==============================] - 0s 53ms/step\n"
     ]
    },
    {
     "name": "stderr",
     "output_type": "stream",
     "text": [
      "\r",
      " 42%|████████████████▍                      | 1160/2747 [01:56<02:23, 11.08it/s]"
     ]
    },
    {
     "name": "stdout",
     "output_type": "stream",
     "text": [
      "1160  image file:  KIC04843222_morp0.96.png\n",
      "1/1 [==============================] - 0s 53ms/step\n",
      "1161  image file:  KIC09353234_morp0.86.png\n",
      "1/1 [==============================] - 0s 52ms/step\n"
     ]
    },
    {
     "name": "stderr",
     "output_type": "stream",
     "text": [
      "\r",
      " 42%|████████████████▍                      | 1162/2747 [01:56<02:21, 11.18it/s]"
     ]
    },
    {
     "name": "stdout",
     "output_type": "stream",
     "text": [
      "1162  image file:  KIC02438502_morp0.3.png\n",
      "1/1 [==============================] - 0s 52ms/step\n",
      "1163  image file:  KIC06025124_morp0.01.png\n",
      "1/1 [==============================] - 0s 58ms/step\n"
     ]
    },
    {
     "name": "stderr",
     "output_type": "stream",
     "text": [
      "\r",
      " 42%|████████████████▌                      | 1164/2747 [01:57<02:30, 10.51it/s]"
     ]
    },
    {
     "name": "stdout",
     "output_type": "stream",
     "text": [
      "1164  image file:  KIC05733384_morp0.98.png\n",
      "1/1 [==============================] - 0s 55ms/step\n",
      "1165  image file:  KIC11303416_morp0.94.png\n",
      "1/1 [==============================] - 0s 55ms/step\n"
     ]
    },
    {
     "name": "stderr",
     "output_type": "stream",
     "text": [
      "\r",
      " 42%|████████████████▌                      | 1166/2747 [01:57<02:28, 10.63it/s]"
     ]
    },
    {
     "name": "stdout",
     "output_type": "stream",
     "text": [
      "1166  image file:  KIC06669809_morp0.65.png\n",
      "1/1 [==============================] - 0s 55ms/step\n",
      "1167  image file:  KIC10849244_morp0.07.png\n",
      "1/1 [==============================] - 0s 56ms/step\n"
     ]
    },
    {
     "name": "stderr",
     "output_type": "stream",
     "text": [
      "\r",
      " 43%|████████████████▌                      | 1168/2747 [01:57<02:28, 10.65it/s]"
     ]
    },
    {
     "name": "stdout",
     "output_type": "stream",
     "text": [
      "1168  image file:  KIC09529733_morp0.46.png\n",
      "1/1 [==============================] - 0s 55ms/step\n",
      "1169  image file:  KIC04738426_morp0.96.png\n",
      "1/1 [==============================] - 0s 56ms/step\n"
     ]
    },
    {
     "name": "stderr",
     "output_type": "stream",
     "text": [
      "\r",
      " 43%|████████████████▌                      | 1170/2747 [01:57<02:27, 10.68it/s]"
     ]
    },
    {
     "name": "stdout",
     "output_type": "stream",
     "text": [
      "1170  image file:  KIC11913071_morp0.37.png\n",
      "1/1 [==============================] - 0s 57ms/step\n",
      "1171  image file:  KIC07137798_morp0.51.png\n",
      "1/1 [==============================] - 0s 53ms/step\n"
     ]
    },
    {
     "name": "stderr",
     "output_type": "stream",
     "text": [
      "\r",
      " 43%|████████████████▋                      | 1172/2747 [01:57<02:26, 10.78it/s]"
     ]
    },
    {
     "name": "stdout",
     "output_type": "stream",
     "text": [
      "1172  image file:  KIC08410637_morp0.03.png\n",
      "1/1 [==============================] - 0s 53ms/step\n",
      "1173  image file:  KIC05389616_morp0.98.png\n",
      "1/1 [==============================] - 0s 54ms/step\n"
     ]
    },
    {
     "name": "stderr",
     "output_type": "stream",
     "text": [
      "\r",
      " 43%|████████████████▋                      | 1174/2747 [01:58<02:25, 10.80it/s]"
     ]
    },
    {
     "name": "stdout",
     "output_type": "stream",
     "text": [
      "1174  image file:  KIC11652545_morp0.68.png\n",
      "1/1 [==============================] - 0s 53ms/step\n",
      "1175  image file:  KIC05282464_morp0.73.png\n",
      "1/1 [==============================] - 0s 52ms/step\n"
     ]
    },
    {
     "name": "stderr",
     "output_type": "stream",
     "text": [
      "\r",
      " 43%|████████████████▋                      | 1176/2747 [01:58<02:22, 10.99it/s]"
     ]
    },
    {
     "name": "stdout",
     "output_type": "stream",
     "text": [
      "1176  image file:  KIC07506446_morp0.69.png\n",
      "1/1 [==============================] - 0s 50ms/step\n",
      "1177  image file:  KIC09238207_morp0.75.png\n",
      "1/1 [==============================] - 0s 51ms/step\n"
     ]
    },
    {
     "name": "stderr",
     "output_type": "stream",
     "text": [
      "\r",
      " 43%|████████████████▋                      | 1178/2747 [01:58<02:20, 11.20it/s]"
     ]
    },
    {
     "name": "stdout",
     "output_type": "stream",
     "text": [
      "1178  image file:  KIC08246781_morp0.0.png\n",
      "1/1 [==============================] - 0s 52ms/step\n",
      "1179  image file:  KIC07037540_morp0.12.png\n",
      "1/1 [==============================] - 0s 53ms/step\n"
     ]
    },
    {
     "name": "stderr",
     "output_type": "stream",
     "text": [
      "\r",
      " 43%|████████████████▊                      | 1180/2747 [01:58<02:18, 11.30it/s]"
     ]
    },
    {
     "name": "stdout",
     "output_type": "stream",
     "text": [
      "1180  image file:  KIC12458133_morp0.77.png\n",
      "1/1 [==============================] - 0s 50ms/step\n",
      "1181  image file:  KIC09220600_morp0.64.png\n",
      "1/1 [==============================] - 0s 51ms/step\n"
     ]
    },
    {
     "name": "stderr",
     "output_type": "stream",
     "text": [
      "\r",
      " 43%|████████████████▊                      | 1182/2747 [01:58<02:17, 11.34it/s]"
     ]
    },
    {
     "name": "stdout",
     "output_type": "stream",
     "text": [
      "1182  image file:  KIC02851474_morp0.95.png\n",
      "1/1 [==============================] - 0s 53ms/step\n",
      "1183  image file:  KIC08971432_morp0.56.png\n",
      "1/1 [==============================] - 0s 51ms/step\n"
     ]
    },
    {
     "name": "stderr",
     "output_type": "stream",
     "text": [
      "\r",
      " 43%|████████████████▊                      | 1184/2747 [01:58<02:17, 11.40it/s]"
     ]
    },
    {
     "name": "stdout",
     "output_type": "stream",
     "text": [
      "1184  image file:  KIC03849155_morp0.41.png\n",
      "1/1 [==============================] - 0s 53ms/step\n",
      "1185  image file:  KIC07376983_morp0.13.png\n",
      "1/1 [==============================] - 0s 52ms/step\n"
     ]
    },
    {
     "name": "stderr",
     "output_type": "stream",
     "text": [
      "\r",
      " 43%|████████████████▊                      | 1186/2747 [01:59<02:16, 11.41it/s]"
     ]
    },
    {
     "name": "stdout",
     "output_type": "stream",
     "text": [
      "1186  image file:  KIC06665223_morp0.01.png\n",
      "1/1 [==============================] - 0s 52ms/step\n",
      "1187  image file:  KIC11255761_morp0.18.png\n",
      "1/1 [==============================] - 0s 53ms/step\n"
     ]
    },
    {
     "name": "stderr",
     "output_type": "stream",
     "text": [
      "\r",
      " 43%|████████████████▊                      | 1188/2747 [01:59<02:17, 11.34it/s]"
     ]
    },
    {
     "name": "stdout",
     "output_type": "stream",
     "text": [
      "1188  image file:  KIC09637265_morp0.88.png\n",
      "1/1 [==============================] - 0s 53ms/step\n",
      "1189  image file:  KIC04743626_morp0.95.png\n",
      "1/1 [==============================] - 0s 51ms/step\n"
     ]
    },
    {
     "name": "stderr",
     "output_type": "stream",
     "text": [
      "\r",
      " 43%|████████████████▉                      | 1190/2747 [01:59<02:17, 11.34it/s]"
     ]
    },
    {
     "name": "stdout",
     "output_type": "stream",
     "text": [
      "1190  image file:  KIC04853067_morp0.88.png\n",
      "1/1 [==============================] - 0s 53ms/step\n",
      "1191  image file:  KIC10162999_morp-1.0.png\n",
      "1/1 [==============================] - 0s 52ms/step\n"
     ]
    },
    {
     "name": "stderr",
     "output_type": "stream",
     "text": [
      "\r",
      " 43%|████████████████▉                      | 1192/2747 [01:59<02:17, 11.29it/s]"
     ]
    },
    {
     "name": "stdout",
     "output_type": "stream",
     "text": [
      "1192  image file:  KIC03340313_morp0.05.png\n",
      "1/1 [==============================] - 0s 51ms/step\n",
      "1193  image file:  KIC05286786_morp0.11.png\n",
      "1/1 [==============================] - 0s 52ms/step\n"
     ]
    },
    {
     "name": "stderr",
     "output_type": "stream",
     "text": [
      "\r",
      " 43%|████████████████▉                      | 1194/2747 [01:59<02:22, 10.93it/s]"
     ]
    },
    {
     "name": "stdout",
     "output_type": "stream",
     "text": [
      "1194  image file:  KIC07877062_morp0.82.png\n",
      "1/1 [==============================] - 0s 52ms/step\n",
      "1195  image file:  KIC08223328_morp0.01.png\n",
      "1/1 [==============================] - 0s 52ms/step\n"
     ]
    },
    {
     "name": "stderr",
     "output_type": "stream",
     "text": [
      "\r",
      " 44%|████████████████▉                      | 1196/2747 [02:00<02:20, 11.00it/s]"
     ]
    },
    {
     "name": "stdout",
     "output_type": "stream",
     "text": [
      "1196  image file:  KIC08823397_morp0.55.png\n",
      "1/1 [==============================] - 0s 51ms/step\n",
      "1197  image file:  KIC08878681_morp0.34.png\n",
      "1/1 [==============================] - 0s 59ms/step\n"
     ]
    },
    {
     "name": "stderr",
     "output_type": "stream",
     "text": [
      "\r",
      " 44%|█████████████████                      | 1198/2747 [02:00<02:21, 10.95it/s]"
     ]
    },
    {
     "name": "stdout",
     "output_type": "stream",
     "text": [
      "1198  image file:  KIC09514070_morp0.64.png\n",
      "1/1 [==============================] - 0s 55ms/step\n",
      "1199  image file:  KIC11913012_morp0.35.png\n",
      "1/1 [==============================] - 0s 69ms/step\n"
     ]
    },
    {
     "name": "stderr",
     "output_type": "stream",
     "text": [
      "\r",
      " 44%|█████████████████                      | 1200/2747 [02:00<02:25, 10.64it/s]"
     ]
    },
    {
     "name": "stdout",
     "output_type": "stream",
     "text": [
      "1200  image file:  KIC12352712_morp0.9.png\n",
      "1/1 [==============================] - 0s 53ms/step\n",
      "1201  image file:  KIC08053107_morp0.82.png\n",
      "1/1 [==============================] - 0s 59ms/step\n"
     ]
    },
    {
     "name": "stderr",
     "output_type": "stream",
     "text": [
      "\r",
      " 44%|█████████████████                      | 1202/2747 [02:00<02:23, 10.77it/s]"
     ]
    },
    {
     "name": "stdout",
     "output_type": "stream",
     "text": [
      "1202  image file:  KIC03323289_morp0.05.png\n",
      "1/1 [==============================] - 0s 59ms/step\n",
      "1203  image file:  KIC05018787_morp0.51.png\n",
      "1/1 [==============================] - 0s 54ms/step\n"
     ]
    },
    {
     "name": "stderr",
     "output_type": "stream",
     "text": [
      "\r",
      " 44%|█████████████████                      | 1204/2747 [02:00<02:22, 10.80it/s]"
     ]
    },
    {
     "name": "stdout",
     "output_type": "stream",
     "text": [
      "1204  image file:  KIC11858979_morp0.27.png\n",
      "1/1 [==============================] - 0s 57ms/step\n",
      "1205  image file:  KIC09880467_morp0.14.png\n",
      "1/1 [==============================] - 0s 57ms/step\n"
     ]
    },
    {
     "name": "stderr",
     "output_type": "stream",
     "text": [
      "\r",
      " 44%|█████████████████                      | 1206/2747 [02:00<02:22, 10.80it/s]"
     ]
    },
    {
     "name": "stdout",
     "output_type": "stream",
     "text": [
      "1206  image file:  KIC08937019_morp0.05.png\n",
      "1/1 [==============================] - 0s 68ms/step\n",
      "1207  image file:  KIC08957954_morp0.36.png\n",
      "1/1 [==============================] - 0s 60ms/step\n"
     ]
    },
    {
     "name": "stderr",
     "output_type": "stream",
     "text": [
      "\r",
      " 44%|█████████████████▏                     | 1208/2747 [02:01<02:28, 10.34it/s]"
     ]
    },
    {
     "name": "stdout",
     "output_type": "stream",
     "text": [
      "1208  image file:  KIC10486425_morp0.25.png\n",
      "1/1 [==============================] - 0s 54ms/step\n",
      "1209  image file:  KIC07174617_morp0.38.png\n",
      "1/1 [==============================] - 0s 58ms/step\n"
     ]
    },
    {
     "name": "stderr",
     "output_type": "stream",
     "text": [
      "\r",
      " 44%|█████████████████▏                     | 1210/2747 [02:01<02:26, 10.46it/s]"
     ]
    },
    {
     "name": "stdout",
     "output_type": "stream",
     "text": [
      "1210  image file:  KIC09346655_morp0.47.png\n",
      "1/1 [==============================] - 0s 51ms/step\n",
      "1211  image file:  KIC11391667_morp0.45.png\n",
      "1/1 [==============================] - 0s 53ms/step\n"
     ]
    },
    {
     "name": "stderr",
     "output_type": "stream",
     "text": [
      "\r",
      " 44%|█████████████████▏                     | 1212/2747 [02:01<02:28, 10.35it/s]"
     ]
    },
    {
     "name": "stdout",
     "output_type": "stream",
     "text": [
      "1212  image file:  KIC07584739_morp0.72.png\n",
      "1/1 [==============================] - 0s 52ms/step\n",
      "1213  image file:  KIC06606653_morp0.59.png\n",
      "1/1 [==============================] - 0s 60ms/step\n"
     ]
    },
    {
     "name": "stderr",
     "output_type": "stream",
     "text": [
      "\r",
      " 44%|█████████████████▏                     | 1214/2747 [02:01<02:26, 10.45it/s]"
     ]
    },
    {
     "name": "stdout",
     "output_type": "stream",
     "text": [
      "1214  image file:  KIC03441784_morp0.03.png\n",
      "1/1 [==============================] - 0s 52ms/step\n",
      "1215  image file:  KIC04753988_morp0.16.png\n",
      "1/1 [==============================] - 0s 56ms/step\n"
     ]
    },
    {
     "name": "stderr",
     "output_type": "stream",
     "text": [
      "\r",
      " 44%|█████████████████▎                     | 1216/2747 [02:01<02:23, 10.66it/s]"
     ]
    },
    {
     "name": "stdout",
     "output_type": "stream",
     "text": [
      "1216  image file:  KIC06546508_morp0.2.png\n",
      "1/1 [==============================] - 0s 52ms/step\n",
      "1217  image file:  KIC07038831_morp0.63.png\n",
      "1/1 [==============================] - 0s 57ms/step\n"
     ]
    },
    {
     "name": "stderr",
     "output_type": "stream",
     "text": [
      "\r",
      " 44%|█████████████████▎                     | 1218/2747 [02:02<02:22, 10.74it/s]"
     ]
    },
    {
     "name": "stdout",
     "output_type": "stream",
     "text": [
      "1218  image file:  KIC05097446_morp0.6.png\n",
      "1/1 [==============================] - 0s 53ms/step\n",
      "1219  image file:  KIC08197406_morp0.96.png\n",
      "1/1 [==============================] - 0s 51ms/step\n"
     ]
    },
    {
     "name": "stderr",
     "output_type": "stream",
     "text": [
      "\r",
      " 44%|█████████████████▎                     | 1220/2747 [02:02<02:19, 10.94it/s]"
     ]
    },
    {
     "name": "stdout",
     "output_type": "stream",
     "text": [
      "1220  image file:  KIC10586874_morp0.77.png\n",
      "1/1 [==============================] - 0s 97ms/step\n",
      "1221  image file:  KIC09419603_morp0.77.png\n",
      "1/1 [==============================] - 0s 59ms/step\n"
     ]
    },
    {
     "name": "stderr",
     "output_type": "stream",
     "text": [
      "\r",
      " 44%|█████████████████▎                     | 1222/2747 [02:02<02:29, 10.19it/s]"
     ]
    },
    {
     "name": "stdout",
     "output_type": "stream",
     "text": [
      "1222  image file:  KIC04074532_morp0.74.png\n",
      "1/1 [==============================] - 0s 55ms/step\n",
      "1223  image file:  KIC08707639_morp-1.0.png\n",
      "1/1 [==============================] - 0s 54ms/step\n"
     ]
    },
    {
     "name": "stderr",
     "output_type": "stream",
     "text": [
      "\r",
      " 45%|█████████████████▍                     | 1224/2747 [02:02<02:25, 10.47it/s]"
     ]
    },
    {
     "name": "stdout",
     "output_type": "stream",
     "text": [
      "1224  image file:  KIC09205993_morp0.56.png\n",
      "1/1 [==============================] - 0s 53ms/step\n",
      "1225  image file:  KIC11013201_morp0.98.png\n",
      "1/1 [==============================] - 0s 51ms/step\n"
     ]
    },
    {
     "name": "stderr",
     "output_type": "stream",
     "text": [
      "\r",
      " 45%|█████████████████▍                     | 1226/2747 [02:02<02:21, 10.75it/s]"
     ]
    },
    {
     "name": "stdout",
     "output_type": "stream",
     "text": [
      "1226  image file:  KIC09489947_morp0.01.png\n",
      "1/1 [==============================] - 0s 52ms/step\n",
      "1227  image file:  KIC06762829_morp0.15.png\n",
      "1/1 [==============================] - 0s 52ms/step\n"
     ]
    },
    {
     "name": "stderr",
     "output_type": "stream",
     "text": [
      "\r",
      " 45%|█████████████████▍                     | 1228/2747 [02:03<02:19, 10.88it/s]"
     ]
    },
    {
     "name": "stdout",
     "output_type": "stream",
     "text": [
      "1228  image file:  KIC09365025_morp0.94.png\n",
      "1/1 [==============================] - 0s 52ms/step\n",
      "1229  image file:  KIC09837544_morp0.02.png\n",
      "1/1 [==============================] - 0s 51ms/step\n"
     ]
    },
    {
     "name": "stderr",
     "output_type": "stream",
     "text": [
      "\r",
      " 45%|█████████████████▍                     | 1230/2747 [02:03<02:17, 11.05it/s]"
     ]
    },
    {
     "name": "stdout",
     "output_type": "stream",
     "text": [
      "1230  image file:  KIC08241079_morp0.19.png\n",
      "1/1 [==============================] - 0s 50ms/step\n",
      "1231  image file:  KIC09272276_morp0.81.png\n",
      "1/1 [==============================] - 0s 53ms/step\n"
     ]
    },
    {
     "name": "stderr",
     "output_type": "stream",
     "text": [
      "\r",
      " 45%|█████████████████▍                     | 1232/2747 [02:03<02:14, 11.23it/s]"
     ]
    },
    {
     "name": "stdout",
     "output_type": "stream",
     "text": [
      "1232  image file:  KIC11909839_morp0.19.png\n",
      "1/1 [==============================] - 0s 51ms/step\n",
      "1233  image file:  KIC02167890_morp0.29.png\n",
      "1/1 [==============================] - 0s 52ms/step\n"
     ]
    },
    {
     "name": "stderr",
     "output_type": "stream",
     "text": [
      "\r",
      " 45%|█████████████████▌                     | 1234/2747 [02:03<02:13, 11.37it/s]"
     ]
    },
    {
     "name": "stdout",
     "output_type": "stream",
     "text": [
      "1234  image file:  KIC02444348_morp-1.0.png\n",
      "1/1 [==============================] - 0s 51ms/step\n",
      "1235  image file:  KIC05460835_morp0.06.png\n",
      "1/1 [==============================] - 0s 54ms/step\n"
     ]
    },
    {
     "name": "stderr",
     "output_type": "stream",
     "text": [
      "\r",
      " 45%|█████████████████▌                     | 1236/2747 [02:03<02:22, 10.61it/s]"
     ]
    },
    {
     "name": "stdout",
     "output_type": "stream",
     "text": [
      "1236  image file:  KIC08145789_morp0.42.png\n",
      "1/1 [==============================] - 0s 58ms/step\n",
      "1237  image file:  KIC03222471_morp0.0.png\n",
      "1/1 [==============================] - 0s 56ms/step\n"
     ]
    },
    {
     "name": "stderr",
     "output_type": "stream",
     "text": [
      "\r",
      " 45%|█████████████████▌                     | 1238/2747 [02:03<02:21, 10.69it/s]"
     ]
    },
    {
     "name": "stdout",
     "output_type": "stream",
     "text": [
      "1238  image file:  KIC09468296_morp0.12.png\n",
      "1/1 [==============================] - 0s 57ms/step\n",
      "1239  image file:  KIC11410485_morp0.78.png\n",
      "1/1 [==============================] - 0s 58ms/step\n"
     ]
    },
    {
     "name": "stderr",
     "output_type": "stream",
     "text": [
      "\r",
      " 45%|█████████████████▌                     | 1240/2747 [02:04<02:21, 10.62it/s]"
     ]
    },
    {
     "name": "stdout",
     "output_type": "stream",
     "text": [
      "1240  image file:  KIC08555795_morp0.63.png\n",
      "1/1 [==============================] - 0s 55ms/step\n",
      "1241  image file:  KIC07816680_morp0.18.png\n",
      "1/1 [==============================] - 0s 53ms/step\n"
     ]
    },
    {
     "name": "stderr",
     "output_type": "stream",
     "text": [
      "\r",
      " 45%|█████████████████▋                     | 1242/2747 [02:04<02:20, 10.73it/s]"
     ]
    },
    {
     "name": "stdout",
     "output_type": "stream",
     "text": [
      "1242  image file:  KIC04372705_morp1.0.png\n",
      "1/1 [==============================] - 0s 56ms/step\n",
      "1243  image file:  KIC09761199_morp0.36.png\n",
      "1/1 [==============================] - 0s 53ms/step\n"
     ]
    },
    {
     "name": "stderr",
     "output_type": "stream",
     "text": [
      "\r",
      " 45%|█████████████████▋                     | 1244/2747 [02:04<02:19, 10.77it/s]"
     ]
    },
    {
     "name": "stdout",
     "output_type": "stream",
     "text": [
      "1244  image file:  KIC04547308_morp0.88.png\n",
      "1/1 [==============================] - 0s 54ms/step\n",
      "1245  image file:  KIC11138155_morp0.13.png\n",
      "1/1 [==============================] - 0s 54ms/step\n"
     ]
    },
    {
     "name": "stderr",
     "output_type": "stream",
     "text": [
      "\r",
      " 45%|█████████████████▋                     | 1246/2747 [02:04<02:19, 10.79it/s]"
     ]
    },
    {
     "name": "stdout",
     "output_type": "stream",
     "text": [
      "1246  image file:  KIC07200102_morp0.06.png\n",
      "1/1 [==============================] - 0s 53ms/step\n",
      "1247  image file:  KIC03730067_morp0.62.png\n",
      "1/1 [==============================] - 0s 52ms/step\n"
     ]
    },
    {
     "name": "stderr",
     "output_type": "stream",
     "text": [
      "\r",
      " 45%|█████████████████▋                     | 1248/2747 [02:04<02:17, 10.90it/s]"
     ]
    },
    {
     "name": "stdout",
     "output_type": "stream",
     "text": [
      "1248  image file:  KIC05731312_morp0.08.png\n",
      "1/1 [==============================] - 0s 53ms/step\n",
      "1249  image file:  KIC10728219_morp0.26.png\n",
      "1/1 [==============================] - 0s 54ms/step\n"
     ]
    },
    {
     "name": "stderr",
     "output_type": "stream",
     "text": [
      "\r",
      " 46%|█████████████████▋                     | 1250/2747 [02:05<02:16, 11.00it/s]"
     ]
    },
    {
     "name": "stdout",
     "output_type": "stream",
     "text": [
      "1250  image file:  KIC08696327_morp0.75.png\n",
      "1/1 [==============================] - 0s 54ms/step\n",
      "1251  image file:  KIC03544694_morp0.29.png\n",
      "1/1 [==============================] - 0s 54ms/step\n"
     ]
    },
    {
     "name": "stderr",
     "output_type": "stream",
     "text": [
      "\r",
      " 46%|█████████████████▊                     | 1252/2747 [02:05<02:15, 11.05it/s]"
     ]
    },
    {
     "name": "stdout",
     "output_type": "stream",
     "text": [
      "1252  image file:  KIC05025261_morp0.94.png\n",
      "1/1 [==============================] - 0s 52ms/step\n",
      "1253  image file:  KIC01873513_morp0.16.png\n",
      "1/1 [==============================] - 0s 54ms/step\n"
     ]
    },
    {
     "name": "stderr",
     "output_type": "stream",
     "text": [
      "\r",
      " 46%|█████████████████▊                     | 1254/2747 [02:05<02:15, 11.02it/s]"
     ]
    },
    {
     "name": "stdout",
     "output_type": "stream",
     "text": [
      "1254  image file:  KIC05529643_morp0.62.png\n",
      "1/1 [==============================] - 0s 55ms/step\n",
      "1255  image file:  KIC10083623_morp0.4.png\n",
      "1/1 [==============================] - 0s 54ms/step\n"
     ]
    },
    {
     "name": "stderr",
     "output_type": "stream",
     "text": [
      "\r",
      " 46%|█████████████████▊                     | 1256/2747 [02:05<02:15, 11.04it/s]"
     ]
    },
    {
     "name": "stdout",
     "output_type": "stream",
     "text": [
      "1256  image file:  KIC10084115_morp0.89.png\n",
      "1/1 [==============================] - 0s 54ms/step\n",
      "1257  image file:  KIC12108333_morp0.62.png\n",
      "1/1 [==============================] - 0s 52ms/step\n"
     ]
    },
    {
     "name": "stderr",
     "output_type": "stream",
     "text": [
      "\r",
      " 46%|█████████████████▊                     | 1258/2747 [02:05<02:14, 11.10it/s]"
     ]
    },
    {
     "name": "stdout",
     "output_type": "stream",
     "text": [
      "1258  image file:  KIC09278021_morp0.19.png\n",
      "1/1 [==============================] - 0s 52ms/step\n",
      "1259  image file:  KIC05636642_morp0.48.png\n",
      "1/1 [==============================] - 0s 53ms/step\n"
     ]
    },
    {
     "name": "stderr",
     "output_type": "stream",
     "text": [
      "\r",
      " 46%|█████████████████▉                     | 1260/2747 [02:05<02:13, 11.18it/s]"
     ]
    },
    {
     "name": "stdout",
     "output_type": "stream",
     "text": [
      "1260  image file:  KIC06960913_morp0.03.png\n",
      "1/1 [==============================] - 0s 53ms/step\n",
      "1261  image file:  KIC06527229_morp0.0.png\n",
      "1/1 [==============================] - 0s 53ms/step\n"
     ]
    },
    {
     "name": "stderr",
     "output_type": "stream",
     "text": [
      "\r",
      " 46%|█████████████████▉                     | 1262/2747 [02:06<02:12, 11.18it/s]"
     ]
    },
    {
     "name": "stdout",
     "output_type": "stream",
     "text": [
      "1262  image file:  KIC08265951_morp0.81.png\n",
      "1/1 [==============================] - 0s 53ms/step\n",
      "1263  image file:  KIC04445630_morp0.3.png\n",
      "1/1 [==============================] - 0s 57ms/step\n"
     ]
    },
    {
     "name": "stderr",
     "output_type": "stream",
     "text": [
      "\r",
      " 46%|█████████████████▉                     | 1264/2747 [02:06<02:14, 11.06it/s]"
     ]
    },
    {
     "name": "stdout",
     "output_type": "stream",
     "text": [
      "1264  image file:  KIC07282128_morp0.94.png\n",
      "1/1 [==============================] - 0s 58ms/step\n",
      "1265  image file:  KIC09912977_morp0.6.png\n",
      "1/1 [==============================] - 0s 56ms/step\n"
     ]
    },
    {
     "name": "stderr",
     "output_type": "stream",
     "text": [
      "\r",
      " 46%|█████████████████▉                     | 1266/2747 [02:06<02:16, 10.85it/s]"
     ]
    },
    {
     "name": "stdout",
     "output_type": "stream",
     "text": [
      "1266  image file:  KIC08379547_morp0.34.png\n",
      "1/1 [==============================] - 0s 54ms/step\n",
      "1267  image file:  KIC08938628_morp0.14.png\n",
      "1/1 [==============================] - 0s 54ms/step\n"
     ]
    },
    {
     "name": "stderr",
     "output_type": "stream",
     "text": [
      "\r",
      " 46%|██████████████████                     | 1268/2747 [02:06<02:16, 10.85it/s]"
     ]
    },
    {
     "name": "stdout",
     "output_type": "stream",
     "text": [
      "1268  image file:  KIC03098194_morp0.1.png\n",
      "1/1 [==============================] - 0s 53ms/step\n",
      "1269  image file:  KIC08087799_morp0.73.png\n",
      "1/1 [==============================] - 0s 53ms/step\n"
     ]
    },
    {
     "name": "stderr",
     "output_type": "stream",
     "text": [
      "\r",
      " 46%|██████████████████                     | 1270/2747 [02:06<02:15, 10.88it/s]"
     ]
    },
    {
     "name": "stdout",
     "output_type": "stream",
     "text": [
      "1270  image file:  KIC09703626_morp0.78.png\n",
      "1/1 [==============================] - 0s 54ms/step\n",
      "1271  image file:  KIC04377638_morp-1.0.png\n",
      "1/1 [==============================] - 0s 55ms/step\n"
     ]
    },
    {
     "name": "stderr",
     "output_type": "stream",
     "text": [
      "\r",
      " 46%|██████████████████                     | 1272/2747 [02:07<02:22, 10.36it/s]"
     ]
    },
    {
     "name": "stdout",
     "output_type": "stream",
     "text": [
      "1272  image file:  KIC04921906_morp0.96.png\n",
      "1/1 [==============================] - 0s 58ms/step\n",
      "1273  image file:  KIC09142964_morp0.73.png\n",
      "1/1 [==============================] - 0s 57ms/step\n"
     ]
    },
    {
     "name": "stderr",
     "output_type": "stream",
     "text": [
      "\r",
      " 46%|██████████████████                     | 1274/2747 [02:07<02:23, 10.29it/s]"
     ]
    },
    {
     "name": "stdout",
     "output_type": "stream",
     "text": [
      "1274  image file:  KIC05952403_morp0.53.png\n",
      "1/1 [==============================] - 0s 57ms/step\n",
      "1275  image file:  KIC05025294_morp0.18.png\n",
      "1/1 [==============================] - 0s 57ms/step\n"
     ]
    },
    {
     "name": "stderr",
     "output_type": "stream",
     "text": [
      "\r",
      " 46%|██████████████████                     | 1276/2747 [02:07<02:22, 10.36it/s]"
     ]
    },
    {
     "name": "stdout",
     "output_type": "stream",
     "text": [
      "1276  image file:  KIC10198109_morp0.07.png\n",
      "1/1 [==============================] - 0s 59ms/step\n",
      "1277  image file:  KIC03245776_morp0.96.png\n",
      "1/1 [==============================] - 0s 56ms/step\n"
     ]
    },
    {
     "name": "stderr",
     "output_type": "stream",
     "text": [
      "\r",
      " 47%|██████████████████▏                    | 1278/2747 [02:07<02:21, 10.35it/s]"
     ]
    },
    {
     "name": "stdout",
     "output_type": "stream",
     "text": [
      "1278  image file:  KIC07696778_morp0.79.png\n",
      "1/1 [==============================] - 0s 58ms/step\n",
      "1279  image file:  KIC04352168_morp0.13.png\n",
      "1/1 [==============================] - 0s 58ms/step\n"
     ]
    },
    {
     "name": "stderr",
     "output_type": "stream",
     "text": [
      "\r",
      " 47%|██████████████████▏                    | 1280/2747 [02:07<02:21, 10.37it/s]"
     ]
    },
    {
     "name": "stdout",
     "output_type": "stream",
     "text": [
      "1280  image file:  KIC09180282_morp0.74.png\n",
      "1/1 [==============================] - 0s 58ms/step\n",
      "1281  image file:  KIC07837526_morp0.03.png\n",
      "1/1 [==============================] - 0s 58ms/step\n"
     ]
    },
    {
     "name": "stderr",
     "output_type": "stream",
     "text": [
      "\r",
      " 47%|██████████████████▏                    | 1282/2747 [02:08<04:07,  5.93it/s]"
     ]
    },
    {
     "name": "stdout",
     "output_type": "stream",
     "text": [
      "1282  image file:  KIC07176440_morp0.98.png\n",
      "1/1 [==============================] - 0s 60ms/step\n",
      "1283  image file:  KIC06880727_morp0.94.png\n",
      "1/1 [==============================] - 0s 56ms/step\n"
     ]
    },
    {
     "name": "stderr",
     "output_type": "stream",
     "text": [
      "\r",
      " 47%|██████████████████▏                    | 1284/2747 [02:08<03:39,  6.65it/s]"
     ]
    },
    {
     "name": "stdout",
     "output_type": "stream",
     "text": [
      "1284  image file:  KIC03834364_morp0.23.png\n",
      "1/1 [==============================] - 0s 59ms/step\n",
      "1285  image file:  KIC07357531_morp0.0.png\n",
      "1/1 [==============================] - 0s 58ms/step\n"
     ]
    },
    {
     "name": "stderr",
     "output_type": "stream",
     "text": [
      "\r",
      " 47%|██████████████████▎                    | 1286/2747 [02:08<03:16,  7.45it/s]"
     ]
    },
    {
     "name": "stdout",
     "output_type": "stream",
     "text": [
      "1286  image file:  KIC09002237_morp0.15.png\n",
      "1/1 [==============================] - 0s 57ms/step\n",
      "1287  image file:  KIC09719636_morp0.26.png\n",
      "1/1 [==============================] - 0s 57ms/step\n"
     ]
    },
    {
     "name": "stderr",
     "output_type": "stream",
     "text": [
      "\r",
      " 47%|██████████████████▎                    | 1288/2747 [02:09<02:58,  8.19it/s]"
     ]
    },
    {
     "name": "stdout",
     "output_type": "stream",
     "text": [
      "1288  image file:  KIC08431389_morp0.84.png\n",
      "1/1 [==============================] - 0s 57ms/step\n"
     ]
    },
    {
     "name": "stderr",
     "output_type": "stream",
     "text": [
      "\r",
      " 47%|██████████████████▎                    | 1289/2747 [02:09<02:52,  8.44it/s]"
     ]
    },
    {
     "name": "stdout",
     "output_type": "stream",
     "text": [
      "1289  image file:  KIC08122124_morp1.0.png\n",
      "1/1 [==============================] - 0s 55ms/step\n",
      "1290  image file:  KIC07676610_morp0.85.png\n",
      "1/1 [==============================] - 0s 61ms/step\n"
     ]
    },
    {
     "name": "stderr",
     "output_type": "stream",
     "text": [
      "\r",
      " 47%|██████████████████▎                    | 1291/2747 [02:09<02:41,  8.99it/s]"
     ]
    },
    {
     "name": "stdout",
     "output_type": "stream",
     "text": [
      "1291  image file:  KIC04949194_morp-1.0.png\n",
      "1/1 [==============================] - 0s 61ms/step\n",
      "1292  image file:  KIC06103049_morp0.59.png\n",
      "1/1 [==============================] - 0s 63ms/step\n"
     ]
    },
    {
     "name": "stderr",
     "output_type": "stream",
     "text": [
      "\r",
      " 47%|██████████████████▎                    | 1293/2747 [02:09<02:35,  9.33it/s]"
     ]
    },
    {
     "name": "stdout",
     "output_type": "stream",
     "text": [
      "1293  image file:  KIC06205460_morp0.58.png\n",
      "1/1 [==============================] - 0s 68ms/step\n"
     ]
    },
    {
     "name": "stderr",
     "output_type": "stream",
     "text": [
      "\r",
      " 47%|██████████████████▎                    | 1294/2747 [02:09<02:38,  9.17it/s]"
     ]
    },
    {
     "name": "stdout",
     "output_type": "stream",
     "text": [
      "1294  image file:  KIC11656302_morp0.11.png\n",
      "1/1 [==============================] - 0s 76ms/step\n"
     ]
    },
    {
     "name": "stderr",
     "output_type": "stream",
     "text": [
      "\r",
      " 47%|██████████████████▍                    | 1295/2747 [02:09<02:40,  9.07it/s]"
     ]
    },
    {
     "name": "stdout",
     "output_type": "stream",
     "text": [
      "1295  image file:  KIC05297298_morp0.04.png\n",
      "1/1 [==============================] - 0s 63ms/step\n"
     ]
    },
    {
     "name": "stderr",
     "output_type": "stream",
     "text": [
      "\r",
      " 47%|██████████████████▍                    | 1296/2747 [02:09<02:37,  9.23it/s]"
     ]
    },
    {
     "name": "stdout",
     "output_type": "stream",
     "text": [
      "1296  image file:  KIC05647008_morp0.56.png\n",
      "1/1 [==============================] - 0s 59ms/step\n",
      "1297  image file:  KIC11252617_morp0.19.png\n",
      "1/1 [==============================] - 0s 56ms/step\n"
     ]
    },
    {
     "name": "stderr",
     "output_type": "stream",
     "text": [
      "\r",
      " 47%|██████████████████▍                    | 1298/2747 [02:10<02:30,  9.65it/s]"
     ]
    },
    {
     "name": "stdout",
     "output_type": "stream",
     "text": [
      "1298  image file:  KIC11247386_morp0.76.png\n",
      "1/1 [==============================] - 0s 54ms/step\n",
      "1299  image file:  KIC11672319_morp0.94.png\n",
      "1/1 [==============================] - 0s 56ms/step\n"
     ]
    },
    {
     "name": "stderr",
     "output_type": "stream",
     "text": [
      "\r",
      " 47%|██████████████████▍                    | 1300/2747 [02:10<02:24,  9.98it/s]"
     ]
    },
    {
     "name": "stdout",
     "output_type": "stream",
     "text": [
      "1300  image file:  KIC11046124_morp0.95.png\n",
      "1/1 [==============================] - 0s 54ms/step\n",
      "1301  image file:  KIC07272739_morp0.77.png\n",
      "1/1 [==============================] - 0s 54ms/step\n"
     ]
    },
    {
     "name": "stderr",
     "output_type": "stream",
     "text": [
      "\r",
      " 47%|██████████████████▍                    | 1302/2747 [02:10<02:20, 10.30it/s]"
     ]
    },
    {
     "name": "stdout",
     "output_type": "stream",
     "text": [
      "1302  image file:  KIC08560861_morp0.12.png\n",
      "1/1 [==============================] - 0s 54ms/step\n",
      "1303  image file:  KIC08309175_morp0.93.png\n",
      "1/1 [==============================] - 0s 54ms/step\n"
     ]
    },
    {
     "name": "stderr",
     "output_type": "stream",
     "text": [
      "\r",
      " 47%|██████████████████▌                    | 1304/2747 [02:10<02:17, 10.53it/s]"
     ]
    },
    {
     "name": "stdout",
     "output_type": "stream",
     "text": [
      "1304  image file:  KIC10417135_morp0.94.png\n",
      "1/1 [==============================] - 0s 54ms/step\n",
      "1305  image file:  KIC10395609_morp0.87.png\n",
      "1/1 [==============================] - 0s 54ms/step\n"
     ]
    },
    {
     "name": "stderr",
     "output_type": "stream",
     "text": [
      "\r",
      " 48%|██████████████████▌                    | 1306/2747 [02:10<02:14, 10.69it/s]"
     ]
    },
    {
     "name": "stdout",
     "output_type": "stream",
     "text": [
      "1306  image file:  KIC05781192_morp0.14.png\n",
      "1/1 [==============================] - 0s 54ms/step\n",
      "1307  image file:  KIC09656397_morp0.0.png\n",
      "1/1 [==============================] - 0s 55ms/step\n"
     ]
    },
    {
     "name": "stderr",
     "output_type": "stream",
     "text": [
      "\r",
      " 48%|██████████████████▌                    | 1308/2747 [02:11<02:13, 10.78it/s]"
     ]
    },
    {
     "name": "stdout",
     "output_type": "stream",
     "text": [
      "1308  image file:  KIC09532591_morp0.95.png\n",
      "1/1 [==============================] - 0s 58ms/step\n",
      "1309  image file:  KIC05129777_morp-1.0.png\n",
      "1/1 [==============================] - 0s 55ms/step\n"
     ]
    },
    {
     "name": "stderr",
     "output_type": "stream",
     "text": [
      "\r",
      " 48%|██████████████████▌                    | 1310/2747 [02:11<02:15, 10.64it/s]"
     ]
    },
    {
     "name": "stdout",
     "output_type": "stream",
     "text": [
      "1310  image file:  KIC11566064_morp0.04.png\n",
      "1/1 [==============================] - 0s 55ms/step\n",
      "1311  image file:  KIC04936680_morp0.67.png\n",
      "1/1 [==============================] - 0s 55ms/step\n"
     ]
    },
    {
     "name": "stderr",
     "output_type": "stream",
     "text": [
      "\r",
      " 48%|██████████████████▋                    | 1312/2747 [02:11<02:13, 10.72it/s]"
     ]
    },
    {
     "name": "stdout",
     "output_type": "stream",
     "text": [
      "1312  image file:  KIC05198315_morp0.79.png\n",
      "1/1 [==============================] - 0s 52ms/step\n",
      "1313  image file:  KIC06359798_morp0.08.png\n",
      "1/1 [==============================] - 0s 52ms/step\n"
     ]
    },
    {
     "name": "stderr",
     "output_type": "stream",
     "text": [
      "\r",
      " 48%|██████████████████▋                    | 1314/2747 [02:11<02:11, 10.92it/s]"
     ]
    },
    {
     "name": "stdout",
     "output_type": "stream",
     "text": [
      "1314  image file:  KIC12216706_morp0.54.png\n",
      "1/1 [==============================] - 0s 54ms/step\n",
      "1315  image file:  KIC04945857_morp0.75.png\n",
      "1/1 [==============================] - 0s 54ms/step\n"
     ]
    },
    {
     "name": "stderr",
     "output_type": "stream",
     "text": [
      "\r",
      " 48%|██████████████████▋                    | 1316/2747 [02:11<02:10, 10.99it/s]"
     ]
    },
    {
     "name": "stdout",
     "output_type": "stream",
     "text": [
      "1316  image file:  KIC05790807_morp-1.0.png\n",
      "1/1 [==============================] - 0s 55ms/step\n",
      "1317  image file:  KIC02694741_morp0.93.png\n",
      "1/1 [==============================] - 0s 57ms/step\n"
     ]
    },
    {
     "name": "stderr",
     "output_type": "stream",
     "text": [
      "\r",
      " 48%|██████████████████▋                    | 1318/2747 [02:12<02:11, 10.83it/s]"
     ]
    },
    {
     "name": "stdout",
     "output_type": "stream",
     "text": [
      "1318  image file:  KIC03765771_morp0.17.png\n",
      "1/1 [==============================] - 0s 56ms/step\n",
      "1319  image file:  KIC07918217_morp-1.0.png\n",
      "1/1 [==============================] - 0s 55ms/step\n"
     ]
    },
    {
     "name": "stderr",
     "output_type": "stream",
     "text": [
      "\r",
      " 48%|██████████████████▋                    | 1320/2747 [02:12<02:12, 10.78it/s]"
     ]
    },
    {
     "name": "stdout",
     "output_type": "stream",
     "text": [
      "1320  image file:  KIC10153011_morp0.02.png\n",
      "1/1 [==============================] - 0s 54ms/step\n",
      "1321  image file:  KIC08095275_morp-1.0.png\n",
      "1/1 [==============================] - 0s 53ms/step\n"
     ]
    },
    {
     "name": "stderr",
     "output_type": "stream",
     "text": [
      "\r",
      " 48%|██████████████████▊                    | 1322/2747 [02:12<02:11, 10.87it/s]"
     ]
    },
    {
     "name": "stdout",
     "output_type": "stream",
     "text": [
      "1322  image file:  KIC06849046_morp0.22.png\n",
      "1/1 [==============================] - 0s 54ms/step\n",
      "1323  image file:  KIC08009467_morp0.79.png\n",
      "1/1 [==============================] - 0s 53ms/step\n"
     ]
    },
    {
     "name": "stderr",
     "output_type": "stream",
     "text": [
      "\r",
      " 48%|██████████████████▊                    | 1324/2747 [02:12<02:09, 10.97it/s]"
     ]
    },
    {
     "name": "stdout",
     "output_type": "stream",
     "text": [
      "1324  image file:  KIC07119757_morp0.64.png\n",
      "1/1 [==============================] - 0s 52ms/step\n",
      "1325  image file:  KIC04740676_morp0.37.png\n",
      "1/1 [==============================] - 0s 56ms/step\n"
     ]
    },
    {
     "name": "stderr",
     "output_type": "stream",
     "text": [
      "\r",
      " 48%|██████████████████▊                    | 1326/2747 [02:12<02:15, 10.51it/s]"
     ]
    },
    {
     "name": "stdout",
     "output_type": "stream",
     "text": [
      "1326  image file:  KIC05979863_morp0.07.png\n",
      "1/1 [==============================] - 0s 56ms/step\n",
      "1327  image file:  KIC06387887_morp0.58.png\n",
      "1/1 [==============================] - 0s 53ms/step\n"
     ]
    },
    {
     "name": "stderr",
     "output_type": "stream",
     "text": [
      "\r",
      " 48%|██████████████████▊                    | 1328/2747 [02:12<02:14, 10.58it/s]"
     ]
    },
    {
     "name": "stdout",
     "output_type": "stream",
     "text": [
      "1328  image file:  KIC11751847_morp0.94.png\n",
      "1/1 [==============================] - 0s 53ms/step\n",
      "1329  image file:  KIC06182849_morp0.21.png\n",
      "1/1 [==============================] - 0s 53ms/step\n"
     ]
    },
    {
     "name": "stderr",
     "output_type": "stream",
     "text": [
      "\r",
      " 48%|██████████████████▉                    | 1330/2747 [02:13<02:11, 10.79it/s]"
     ]
    },
    {
     "name": "stdout",
     "output_type": "stream",
     "text": [
      "1330  image file:  KIC10727668_morp0.47.png\n",
      "1/1 [==============================] - 0s 54ms/step\n",
      "1331  image file:  KIC11135978_morp0.75.png\n",
      "1/1 [==============================] - 0s 55ms/step\n"
     ]
    },
    {
     "name": "stderr",
     "output_type": "stream",
     "text": [
      "\r",
      " 48%|██████████████████▉                    | 1332/2747 [02:13<02:10, 10.86it/s]"
     ]
    },
    {
     "name": "stdout",
     "output_type": "stream",
     "text": [
      "1332  image file:  KIC07887124_morp-1.0.png\n",
      "1/1 [==============================] - 0s 54ms/step\n",
      "1333  image file:  KIC08846978_morp0.77.png\n",
      "1/1 [==============================] - 0s 54ms/step\n"
     ]
    },
    {
     "name": "stderr",
     "output_type": "stream",
     "text": [
      "\r",
      " 49%|██████████████████▉                    | 1334/2747 [02:13<02:13, 10.56it/s]"
     ]
    },
    {
     "name": "stdout",
     "output_type": "stream",
     "text": [
      "1334  image file:  KIC10711551_morp0.18.png\n",
      "1/1 [==============================] - 0s 58ms/step\n",
      "1335  image file:  KIC10031808_morp0.28.png\n",
      "1/1 [==============================] - 0s 57ms/step\n"
     ]
    },
    {
     "name": "stderr",
     "output_type": "stream",
     "text": [
      "\r",
      " 49%|██████████████████▉                    | 1336/2747 [02:13<02:15, 10.40it/s]"
     ]
    },
    {
     "name": "stdout",
     "output_type": "stream",
     "text": [
      "1336  image file:  KIC12267718_morp0.89.png\n",
      "1/1 [==============================] - 0s 57ms/step\n",
      "1337  image file:  KIC09101400_morp0.55.png\n",
      "1/1 [==============================] - 0s 57ms/step\n"
     ]
    },
    {
     "name": "stderr",
     "output_type": "stream",
     "text": [
      "\r",
      " 49%|██████████████████▉                    | 1338/2747 [02:13<02:14, 10.47it/s]"
     ]
    },
    {
     "name": "stdout",
     "output_type": "stream",
     "text": [
      "1338  image file:  KIC09478836_morp0.71.png\n",
      "1/1 [==============================] - 0s 51ms/step\n",
      "1339  image file:  KIC03104113_morp0.85.png\n",
      "1/1 [==============================] - 0s 52ms/step\n"
     ]
    },
    {
     "name": "stderr",
     "output_type": "stream",
     "text": [
      "\r",
      " 49%|███████████████████                    | 1340/2747 [02:14<02:11, 10.71it/s]"
     ]
    },
    {
     "name": "stdout",
     "output_type": "stream",
     "text": [
      "1340  image file:  KIC07515679_morp0.85.png\n",
      "1/1 [==============================] - 0s 53ms/step\n",
      "1341  image file:  KIC08453191_morp0.22.png\n",
      "1/1 [==============================] - 0s 57ms/step\n"
     ]
    },
    {
     "name": "stderr",
     "output_type": "stream",
     "text": [
      "\r",
      " 49%|███████████████████                    | 1342/2747 [02:14<02:09, 10.82it/s]"
     ]
    },
    {
     "name": "stdout",
     "output_type": "stream",
     "text": [
      "1342  image file:  KIC10909274_morp0.03.png\n",
      "1/1 [==============================] - 0s 54ms/step\n",
      "1343  image file:  KIC11768970_morp0.03.png\n",
      "1/1 [==============================] - 0s 55ms/step\n"
     ]
    },
    {
     "name": "stderr",
     "output_type": "stream",
     "text": [
      "\r",
      " 49%|███████████████████                    | 1344/2747 [02:14<02:09, 10.87it/s]"
     ]
    },
    {
     "name": "stdout",
     "output_type": "stream",
     "text": [
      "1344  image file:  KIC09957411_morp0.86.png\n",
      "1/1 [==============================] - 0s 54ms/step\n",
      "1345  image file:  KIC07269493_morp0.34.png\n",
      "1/1 [==============================] - 0s 56ms/step\n"
     ]
    },
    {
     "name": "stderr",
     "output_type": "stream",
     "text": [
      "\r",
      " 49%|███████████████████                    | 1346/2747 [02:14<02:08, 10.92it/s]"
     ]
    },
    {
     "name": "stdout",
     "output_type": "stream",
     "text": [
      "1346  image file:  KIC09119652_morp0.43.png\n",
      "1/1 [==============================] - 0s 55ms/step\n",
      "1347  image file:  KIC11618883_morp0.84.png\n",
      "1/1 [==============================] - 0s 54ms/step\n"
     ]
    },
    {
     "name": "stderr",
     "output_type": "stream",
     "text": [
      "\r",
      " 49%|███████████████████▏                   | 1348/2747 [02:14<02:07, 10.96it/s]"
     ]
    },
    {
     "name": "stdout",
     "output_type": "stream",
     "text": [
      "1348  image file:  KIC05300878_morp0.5.png\n",
      "1/1 [==============================] - 0s 54ms/step\n",
      "1349  image file:  KIC07837302_morp0.06.png\n",
      "1/1 [==============================] - 0s 57ms/step\n"
     ]
    },
    {
     "name": "stderr",
     "output_type": "stream",
     "text": [
      "\r",
      " 49%|███████████████████▏                   | 1350/2747 [02:14<02:07, 10.97it/s]"
     ]
    },
    {
     "name": "stdout",
     "output_type": "stream",
     "text": [
      "1350  image file:  KIC09508052_morp0.91.png\n",
      "1/1 [==============================] - 0s 59ms/step\n",
      "1351  image file:  KIC09722737_morp0.79.png\n",
      "1/1 [==============================] - 0s 59ms/step\n"
     ]
    },
    {
     "name": "stderr",
     "output_type": "stream",
     "text": [
      "\r",
      " 49%|███████████████████▏                   | 1352/2747 [02:15<02:09, 10.79it/s]"
     ]
    },
    {
     "name": "stdout",
     "output_type": "stream",
     "text": [
      "1352  image file:  KIC06105491_morp-1.0.png\n",
      "1/1 [==============================] - 0s 57ms/step\n",
      "1353  image file:  KIC07335517_morp0.98.png\n",
      "1/1 [==============================] - 0s 58ms/step\n"
     ]
    },
    {
     "name": "stderr",
     "output_type": "stream",
     "text": [
      "\r",
      " 49%|███████████████████▏                   | 1354/2747 [02:15<02:10, 10.67it/s]"
     ]
    },
    {
     "name": "stdout",
     "output_type": "stream",
     "text": [
      "1354  image file:  KIC06220470_morp0.33.png\n",
      "1/1 [==============================] - 0s 55ms/step\n",
      "1355  image file:  KIC12268220_morp0.54.png\n",
      "1/1 [==============================] - 0s 55ms/step\n"
     ]
    },
    {
     "name": "stderr",
     "output_type": "stream",
     "text": [
      "\r",
      " 49%|███████████████████▎                   | 1356/2747 [02:15<02:09, 10.72it/s]"
     ]
    },
    {
     "name": "stdout",
     "output_type": "stream",
     "text": [
      "1356  image file:  KIC07295570_morp0.22.png\n",
      "1/1 [==============================] - 0s 56ms/step\n",
      "1357  image file:  KIC11069176_morp0.14.png\n",
      "1/1 [==============================] - 0s 54ms/step\n"
     ]
    },
    {
     "name": "stderr",
     "output_type": "stream",
     "text": [
      "\r",
      " 49%|███████████████████▎                   | 1358/2747 [02:15<02:08, 10.81it/s]"
     ]
    },
    {
     "name": "stdout",
     "output_type": "stream",
     "text": [
      "1358  image file:  KIC04569590_morp0.48.png\n",
      "1/1 [==============================] - 0s 55ms/step\n",
      "1359  image file:  KIC06448768_morp0.13.png\n",
      "1/1 [==============================] - 0s 56ms/step\n"
     ]
    },
    {
     "name": "stderr",
     "output_type": "stream",
     "text": [
      "\r",
      " 50%|███████████████████▎                   | 1360/2747 [02:15<02:07, 10.89it/s]"
     ]
    },
    {
     "name": "stdout",
     "output_type": "stream",
     "text": [
      "1360  image file:  KIC11403216_morp0.27.png\n",
      "1/1 [==============================] - 0s 57ms/step\n",
      "1361  image file:  KIC12470954_morp0.39.png\n",
      "1/1 [==============================] - 0s 60ms/step\n"
     ]
    },
    {
     "name": "stderr",
     "output_type": "stream",
     "text": [
      "\r",
      " 50%|███████████████████▎                   | 1362/2747 [02:16<02:09, 10.71it/s]"
     ]
    },
    {
     "name": "stdout",
     "output_type": "stream",
     "text": [
      "1362  image file:  KIC09151763_morp-1.0.png\n",
      "1/1 [==============================] - 0s 60ms/step\n",
      "1363  image file:  KIC05980800_morp0.61.png\n",
      "1/1 [==============================] - 0s 56ms/step\n"
     ]
    },
    {
     "name": "stderr",
     "output_type": "stream",
     "text": [
      "\r",
      " 50%|███████████████████▎                   | 1364/2747 [02:16<02:09, 10.66it/s]"
     ]
    },
    {
     "name": "stdout",
     "output_type": "stream",
     "text": [
      "1364  image file:  KIC11100657_morp0.06.png\n",
      "1/1 [==============================] - 0s 52ms/step\n",
      "1365  image file:  KIC04758368_morp0.57.png\n",
      "1/1 [==============================] - 0s 59ms/step\n"
     ]
    },
    {
     "name": "stderr",
     "output_type": "stream",
     "text": [
      "\r",
      " 50%|███████████████████▍                   | 1366/2747 [02:16<02:08, 10.77it/s]"
     ]
    },
    {
     "name": "stdout",
     "output_type": "stream",
     "text": [
      "1366  image file:  KIC07436177_morp0.1.png\n",
      "1/1 [==============================] - 0s 52ms/step\n",
      "1367  image file:  KIC04947528_morp0.75.png\n",
      "1/1 [==============================] - 0s 52ms/step\n"
     ]
    },
    {
     "name": "stderr",
     "output_type": "stream",
     "text": [
      "\r",
      " 50%|███████████████████▍                   | 1368/2747 [02:16<02:05, 10.96it/s]"
     ]
    },
    {
     "name": "stdout",
     "output_type": "stream",
     "text": [
      "1368  image file:  KIC10119517_morp0.95.png\n",
      "1/1 [==============================] - 0s 50ms/step\n",
      "1369  image file:  KIC08211618_morp0.74.png\n",
      "1/1 [==============================] - 0s 53ms/step\n"
     ]
    },
    {
     "name": "stderr",
     "output_type": "stream",
     "text": [
      "\r",
      " 50%|███████████████████▍                   | 1370/2747 [02:16<02:03, 11.19it/s]"
     ]
    },
    {
     "name": "stdout",
     "output_type": "stream",
     "text": [
      "1370  image file:  KIC08564672_morp0.53.png\n",
      "1/1 [==============================] - 0s 53ms/step\n",
      "1371  image file:  KIC12400729_morp0.52.png\n",
      "1/1 [==============================] - 0s 53ms/step\n"
     ]
    },
    {
     "name": "stderr",
     "output_type": "stream",
     "text": [
      "\r",
      " 50%|███████████████████▍                   | 1372/2747 [02:17<02:02, 11.20it/s]"
     ]
    },
    {
     "name": "stdout",
     "output_type": "stream",
     "text": [
      "1372  image file:  KIC04862625_morp0.06.png\n",
      "1/1 [==============================] - 0s 53ms/step\n",
      "1373  image file:  KIC03558822_morp0.71.png\n",
      "1/1 [==============================] - 0s 52ms/step\n"
     ]
    },
    {
     "name": "stderr",
     "output_type": "stream",
     "text": [
      "\r",
      " 50%|███████████████████▌                   | 1374/2747 [02:17<02:01, 11.27it/s]"
     ]
    },
    {
     "name": "stdout",
     "output_type": "stream",
     "text": [
      "1374  image file:  KIC10028352_morp0.36.png\n",
      "1/1 [==============================] - 0s 51ms/step\n",
      "1375  image file:  KIC03351945_morp0.5.png\n",
      "1/1 [==============================] - 0s 51ms/step\n"
     ]
    },
    {
     "name": "stderr",
     "output_type": "stream",
     "text": [
      "\r",
      " 50%|███████████████████▌                   | 1376/2747 [02:17<02:00, 11.42it/s]"
     ]
    },
    {
     "name": "stdout",
     "output_type": "stream",
     "text": [
      "1376  image file:  KIC06467389_morp0.79.png\n",
      "1/1 [==============================] - 0s 51ms/step\n",
      "1377  image file:  KIC09821923_morp0.95.png\n",
      "1/1 [==============================] - 0s 52ms/step\n"
     ]
    },
    {
     "name": "stderr",
     "output_type": "stream",
     "text": [
      "\r",
      " 50%|███████████████████▌                   | 1378/2747 [02:17<01:58, 11.54it/s]"
     ]
    },
    {
     "name": "stdout",
     "output_type": "stream",
     "text": [
      "1378  image file:  KIC05649325_morp0.02.png\n",
      "1/1 [==============================] - 0s 53ms/step\n",
      "1379  image file:  KIC02019076_morp0.16.png\n",
      "1/1 [==============================] - 0s 54ms/step\n"
     ]
    },
    {
     "name": "stderr",
     "output_type": "stream",
     "text": [
      "\r",
      " 50%|███████████████████▌                   | 1380/2747 [02:17<01:59, 11.40it/s]"
     ]
    },
    {
     "name": "stdout",
     "output_type": "stream",
     "text": [
      "1380  image file:  KIC09411317_morp0.08.png\n",
      "1/1 [==============================] - 0s 54ms/step\n",
      "1381  image file:  KIC08104030_morp0.02.png\n",
      "1/1 [==============================] - 0s 67ms/step\n"
     ]
    },
    {
     "name": "stderr",
     "output_type": "stream",
     "text": [
      "\r",
      " 50%|███████████████████▌                   | 1382/2747 [02:17<02:05, 10.83it/s]"
     ]
    },
    {
     "name": "stdout",
     "output_type": "stream",
     "text": [
      "1382  image file:  KIC03659940_morp0.55.png\n",
      "1/1 [==============================] - 0s 57ms/step\n",
      "1383  image file:  KIC04078693_morp0.2.png\n",
      "1/1 [==============================] - 0s 57ms/step\n"
     ]
    },
    {
     "name": "stderr",
     "output_type": "stream",
     "text": [
      "\r",
      " 50%|███████████████████▋                   | 1384/2747 [02:18<02:07, 10.70it/s]"
     ]
    },
    {
     "name": "stdout",
     "output_type": "stream",
     "text": [
      "1384  image file:  KIC09266285_morp0.25.png\n",
      "1/1 [==============================] - 0s 62ms/step\n",
      "1385  image file:  KIC06965293_morp0.18.png\n",
      "1/1 [==============================] - 0s 56ms/step\n"
     ]
    },
    {
     "name": "stderr",
     "output_type": "stream",
     "text": [
      "\r",
      " 50%|███████████████████▋                   | 1386/2747 [02:18<02:07, 10.66it/s]"
     ]
    },
    {
     "name": "stdout",
     "output_type": "stream",
     "text": [
      "1386  image file:  KIC05369827_morp0.2.png\n",
      "1/1 [==============================] - 0s 53ms/step\n",
      "1387  image file:  KIC10351767_morp0.58.png\n",
      "1/1 [==============================] - 0s 53ms/step\n"
     ]
    },
    {
     "name": "stderr",
     "output_type": "stream",
     "text": [
      "\r",
      " 51%|███████████████████▋                   | 1388/2747 [02:18<02:05, 10.86it/s]"
     ]
    },
    {
     "name": "stdout",
     "output_type": "stream",
     "text": [
      "1388  image file:  KIC08008128_morp0.09.png\n",
      "1/1 [==============================] - 0s 56ms/step\n",
      "1389  image file:  KIC09593759_morp0.28.png\n",
      "1/1 [==============================] - 0s 57ms/step\n"
     ]
    },
    {
     "name": "stderr",
     "output_type": "stream",
     "text": [
      "\r",
      " 51%|███████████████████▋                   | 1390/2747 [02:18<02:06, 10.73it/s]"
     ]
    },
    {
     "name": "stdout",
     "output_type": "stream",
     "text": [
      "1390  image file:  KIC04554004_morp0.62.png\n",
      "1/1 [==============================] - 0s 59ms/step\n",
      "1391  image file:  KIC08678664_morp0.03.png\n",
      "1/1 [==============================] - 0s 56ms/step\n"
     ]
    },
    {
     "name": "stderr",
     "output_type": "stream",
     "text": [
      "\r",
      " 51%|███████████████████▊                   | 1392/2747 [02:18<02:12, 10.26it/s]"
     ]
    },
    {
     "name": "stdout",
     "output_type": "stream",
     "text": [
      "1392  image file:  KIC07976783_morp0.99.png\n",
      "1/1 [==============================] - 0s 56ms/step\n",
      "1393  image file:  KIC10657664_morp0.36.png\n",
      "1/1 [==============================] - 0s 54ms/step\n"
     ]
    },
    {
     "name": "stderr",
     "output_type": "stream",
     "text": [
      "\r",
      " 51%|███████████████████▊                   | 1394/2747 [02:19<02:09, 10.46it/s]"
     ]
    },
    {
     "name": "stdout",
     "output_type": "stream",
     "text": [
      "1394  image file:  KIC08953059_morp0.3.png\n",
      "1/1 [==============================] - 0s 54ms/step\n",
      "1395  image file:  KIC07660607_morp-1.0.png\n",
      "1/1 [==============================] - 0s 54ms/step\n"
     ]
    },
    {
     "name": "stderr",
     "output_type": "stream",
     "text": [
      "\r",
      " 51%|███████████████████▊                   | 1396/2747 [02:19<02:07, 10.64it/s]"
     ]
    },
    {
     "name": "stdout",
     "output_type": "stream",
     "text": [
      "1396  image file:  KIC08560285_morp0.02.png\n",
      "1/1 [==============================] - 0s 53ms/step\n",
      "1397  image file:  KIC08074805_morp0.01.png\n",
      "1/1 [==============================] - 0s 55ms/step\n"
     ]
    },
    {
     "name": "stderr",
     "output_type": "stream",
     "text": [
      "\r",
      " 51%|███████████████████▊                   | 1398/2747 [02:19<02:05, 10.75it/s]"
     ]
    },
    {
     "name": "stdout",
     "output_type": "stream",
     "text": [
      "1398  image file:  KIC04454219_morp0.43.png\n",
      "1/1 [==============================] - 0s 54ms/step\n",
      "1399  image file:  KIC08177798_morp0.45.png\n",
      "1/1 [==============================] - 0s 54ms/step\n"
     ]
    },
    {
     "name": "stderr",
     "output_type": "stream",
     "text": [
      "\r",
      " 51%|███████████████████▉                   | 1400/2747 [02:19<02:03, 10.89it/s]"
     ]
    },
    {
     "name": "stdout",
     "output_type": "stream",
     "text": [
      "1400  image file:  KIC06615041_morp0.76.png\n",
      "1/1 [==============================] - 0s 54ms/step\n",
      "1401  image file:  KIC11924311_morp0.77.png\n",
      "1/1 [==============================] - 0s 53ms/step\n"
     ]
    },
    {
     "name": "stderr",
     "output_type": "stream",
     "text": [
      "\r",
      " 51%|███████████████████▉                   | 1402/2747 [02:19<02:02, 11.02it/s]"
     ]
    },
    {
     "name": "stdout",
     "output_type": "stream",
     "text": [
      "1402  image file:  KIC09020289_morp0.94.png\n",
      "1/1 [==============================] - 0s 53ms/step\n",
      "1403  image file:  KIC09480977_morp0.94.png\n",
      "1/1 [==============================] - 0s 52ms/step\n"
     ]
    },
    {
     "name": "stderr",
     "output_type": "stream",
     "text": [
      "\r",
      " 51%|███████████████████▉                   | 1404/2747 [02:19<02:00, 11.11it/s]"
     ]
    },
    {
     "name": "stdout",
     "output_type": "stream",
     "text": [
      "1404  image file:  KIC05783676_morp0.97.png\n",
      "1/1 [==============================] - 0s 54ms/step\n",
      "1405  image file:  KIC06279974_morp0.43.png\n",
      "1/1 [==============================] - 0s 54ms/step\n"
     ]
    },
    {
     "name": "stderr",
     "output_type": "stream",
     "text": [
      "\r",
      " 51%|███████████████████▉                   | 1406/2747 [02:20<02:00, 11.12it/s]"
     ]
    },
    {
     "name": "stdout",
     "output_type": "stream",
     "text": [
      "1406  image file:  KIC07107567_morp0.5.png\n",
      "1/1 [==============================] - 0s 55ms/step\n",
      "1407  image file:  KIC05961350_morp0.14.png\n",
      "1/1 [==============================] - 0s 53ms/step\n"
     ]
    },
    {
     "name": "stderr",
     "output_type": "stream",
     "text": [
      "\r",
      " 51%|███████████████████▉                   | 1408/2747 [02:20<02:01, 11.06it/s]"
     ]
    },
    {
     "name": "stdout",
     "output_type": "stream",
     "text": [
      "1408  image file:  KIC03851193_morp0.55.png\n",
      "1/1 [==============================] - 0s 55ms/step\n",
      "1409  image file:  KIC07219906_morp0.02.png\n",
      "1/1 [==============================] - 0s 53ms/step\n"
     ]
    },
    {
     "name": "stderr",
     "output_type": "stream",
     "text": [
      "\r",
      " 51%|████████████████████                   | 1410/2747 [02:20<02:00, 11.12it/s]"
     ]
    },
    {
     "name": "stdout",
     "output_type": "stream",
     "text": [
      "1410  image file:  KIC11404698_morp0.58.png\n",
      "1/1 [==============================] - 0s 53ms/step\n",
      "1411  image file:  KIC07257373_morp0.25.png\n",
      "1/1 [==============================] - 0s 52ms/step\n"
     ]
    },
    {
     "name": "stderr",
     "output_type": "stream",
     "text": [
      "\r",
      " 51%|████████████████████                   | 1412/2747 [02:20<01:59, 11.21it/s]"
     ]
    },
    {
     "name": "stdout",
     "output_type": "stream",
     "text": [
      "1412  image file:  KIC09085955_morp0.99.png\n",
      "1/1 [==============================] - 0s 52ms/step\n",
      "1413  image file:  KIC09902856_morp0.0.png\n",
      "1/1 [==============================] - 0s 53ms/step\n"
     ]
    },
    {
     "name": "stderr",
     "output_type": "stream",
     "text": [
      "\r",
      " 51%|████████████████████                   | 1414/2747 [02:20<01:58, 11.27it/s]"
     ]
    },
    {
     "name": "stdout",
     "output_type": "stream",
     "text": [
      "1414  image file:  KIC08823666_morp0.79.png\n",
      "1/1 [==============================] - 0s 53ms/step\n",
      "1415  image file:  KIC11091082_morp0.83.png\n",
      "1/1 [==============================] - 0s 55ms/step\n"
     ]
    },
    {
     "name": "stderr",
     "output_type": "stream",
     "text": [
      "\r",
      " 52%|████████████████████                   | 1416/2747 [02:21<01:58, 11.19it/s]"
     ]
    },
    {
     "name": "stdout",
     "output_type": "stream",
     "text": [
      "1416  image file:  KIC03973504_morp0.18.png\n",
      "1/1 [==============================] - 0s 57ms/step\n",
      "1417  image file:  KIC06677225_morp0.89.png\n",
      "1/1 [==============================] - 0s 58ms/step\n"
     ]
    },
    {
     "name": "stderr",
     "output_type": "stream",
     "text": [
      "\r",
      " 52%|████████████████████▏                  | 1418/2747 [02:21<02:00, 11.02it/s]"
     ]
    },
    {
     "name": "stdout",
     "output_type": "stream",
     "text": [
      "1418  image file:  KIC10845188_morp0.0.png\n",
      "1/1 [==============================] - 0s 54ms/step\n",
      "1419  image file:  KIC06431670_morp0.05.png\n",
      "1/1 [==============================] - 0s 54ms/step\n"
     ]
    },
    {
     "name": "stderr",
     "output_type": "stream",
     "text": [
      "\r",
      " 52%|████████████████████▏                  | 1420/2747 [02:21<02:01, 10.93it/s]"
     ]
    },
    {
     "name": "stdout",
     "output_type": "stream",
     "text": [
      "1420  image file:  KIC11012801_morp0.96.png\n",
      "1/1 [==============================] - 0s 53ms/step\n",
      "1421  image file:  KIC09724080_morp0.94.png\n",
      "1/1 [==============================] - 0s 54ms/step\n"
     ]
    },
    {
     "name": "stderr",
     "output_type": "stream",
     "text": [
      "\r",
      " 52%|████████████████████▏                  | 1422/2747 [02:21<02:00, 11.04it/s]"
     ]
    },
    {
     "name": "stdout",
     "output_type": "stream",
     "text": [
      "1422  image file:  KIC10873904_morp-1.0.png\n",
      "1/1 [==============================] - 0s 55ms/step\n",
      "1423  image file:  KIC06948480_morp-1.0.png\n",
      "1/1 [==============================] - 0s 54ms/step\n"
     ]
    },
    {
     "name": "stderr",
     "output_type": "stream",
     "text": [
      "\r",
      " 52%|████████████████████▏                  | 1424/2747 [02:21<02:04, 10.61it/s]"
     ]
    },
    {
     "name": "stdout",
     "output_type": "stream",
     "text": [
      "1424  image file:  KIC10020423_morp0.15.png\n",
      "1/1 [==============================] - 0s 55ms/step\n",
      "1425  image file:  KIC05511076_morp-1.0.png\n",
      "1/1 [==============================] - 0s 58ms/step\n"
     ]
    },
    {
     "name": "stderr",
     "output_type": "stream",
     "text": [
      "\r",
      " 52%|████████████████████▏                  | 1426/2747 [02:21<02:03, 10.67it/s]"
     ]
    },
    {
     "name": "stdout",
     "output_type": "stream",
     "text": [
      "1426  image file:  KIC10014536_morp0.98.png\n",
      "1/1 [==============================] - 0s 60ms/step\n",
      "1427  image file:  KIC11044779_morp0.14.png\n",
      "1/1 [==============================] - 0s 53ms/step\n"
     ]
    },
    {
     "name": "stderr",
     "output_type": "stream",
     "text": [
      "\r",
      " 52%|████████████████████▎                  | 1428/2747 [02:22<02:02, 10.74it/s]"
     ]
    },
    {
     "name": "stdout",
     "output_type": "stream",
     "text": [
      "1428  image file:  KIC04663623_morp0.05.png\n",
      "1/1 [==============================] - 0s 54ms/step\n",
      "1429  image file:  KIC10711646_morp0.51.png\n",
      "1/1 [==============================] - 0s 54ms/step\n"
     ]
    },
    {
     "name": "stderr",
     "output_type": "stream",
     "text": [
      "\r",
      " 52%|████████████████████▎                  | 1430/2747 [02:22<02:02, 10.78it/s]"
     ]
    },
    {
     "name": "stdout",
     "output_type": "stream",
     "text": [
      "1430  image file:  KIC06464285_morp0.55.png\n",
      "1/1 [==============================] - 0s 55ms/step\n",
      "1431  image file:  KIC05707897_morp-1.0.png\n",
      "1/1 [==============================] - 0s 57ms/step\n"
     ]
    },
    {
     "name": "stderr",
     "output_type": "stream",
     "text": [
      "\r",
      " 52%|████████████████████▎                  | 1432/2747 [02:22<02:02, 10.76it/s]"
     ]
    },
    {
     "name": "stdout",
     "output_type": "stream",
     "text": [
      "1432  image file:  KIC06293266_morp0.89.png\n",
      "1/1 [==============================] - 0s 57ms/step\n",
      "1433  image file:  KIC09408440_morp0.0.png\n",
      "1/1 [==============================] - 0s 56ms/step\n"
     ]
    },
    {
     "name": "stderr",
     "output_type": "stream",
     "text": [
      "\r",
      " 52%|████████████████████▎                  | 1434/2747 [02:22<02:03, 10.67it/s]"
     ]
    },
    {
     "name": "stdout",
     "output_type": "stream",
     "text": [
      "1434  image file:  KIC09552668_morp0.91.png\n",
      "1/1 [==============================] - 0s 54ms/step\n",
      "1435  image file:  KIC11601584_morp0.07.png\n",
      "1/1 [==============================] - 0s 54ms/step\n"
     ]
    },
    {
     "name": "stderr",
     "output_type": "stream",
     "text": [
      "\r",
      " 52%|████████████████████▍                  | 1436/2747 [02:22<02:01, 10.79it/s]"
     ]
    },
    {
     "name": "stdout",
     "output_type": "stream",
     "text": [
      "1436  image file:  KIC06209824_morp0.91.png\n",
      "1/1 [==============================] - 0s 59ms/step\n",
      "1437  image file:  KIC04249218_morp0.76.png\n",
      "1/1 [==============================] - 0s 56ms/step\n"
     ]
    },
    {
     "name": "stderr",
     "output_type": "stream",
     "text": [
      "\r",
      " 52%|████████████████████▍                  | 1438/2747 [02:23<02:02, 10.70it/s]"
     ]
    },
    {
     "name": "stdout",
     "output_type": "stream",
     "text": [
      "1438  image file:  KIC05033682_morp0.94.png\n",
      "1/1 [==============================] - 0s 66ms/step\n",
      "1439  image file:  KIC09725155_morp0.99.png\n",
      "1/1 [==============================] - 0s 55ms/step\n"
     ]
    },
    {
     "name": "stderr",
     "output_type": "stream",
     "text": [
      "\r",
      " 52%|████████████████████▍                  | 1440/2747 [02:23<02:03, 10.55it/s]"
     ]
    },
    {
     "name": "stdout",
     "output_type": "stream",
     "text": [
      "1440  image file:  KIC12021387_morp0.0.png\n",
      "1/1 [==============================] - 0s 59ms/step\n",
      "1441  image file:  KIC08800998_morp0.86.png\n",
      "1/1 [==============================] - 0s 60ms/step\n"
     ]
    },
    {
     "name": "stderr",
     "output_type": "stream",
     "text": [
      "\r",
      " 52%|████████████████████▍                  | 1442/2747 [02:23<02:07, 10.26it/s]"
     ]
    },
    {
     "name": "stdout",
     "output_type": "stream",
     "text": [
      "1442  image file:  KIC05290305_morp0.8.png\n",
      "1/1 [==============================] - 0s 54ms/step\n",
      "1443  image file:  KIC08508485_morp-1.0.png\n",
      "1/1 [==============================] - 0s 57ms/step\n"
     ]
    },
    {
     "name": "stderr",
     "output_type": "stream",
     "text": [
      "\r",
      " 53%|████████████████████▌                  | 1444/2747 [02:23<02:05, 10.37it/s]"
     ]
    },
    {
     "name": "stdout",
     "output_type": "stream",
     "text": [
      "1444  image file:  KIC06933781_morp0.0.png\n",
      "1/1 [==============================] - 0s 56ms/step\n",
      "1445  image file:  KIC09274472_morp0.9.png\n",
      "1/1 [==============================] - 0s 58ms/step\n"
     ]
    },
    {
     "name": "stderr",
     "output_type": "stream",
     "text": [
      "\r",
      " 53%|████████████████████▌                  | 1446/2747 [02:23<02:04, 10.45it/s]"
     ]
    },
    {
     "name": "stdout",
     "output_type": "stream",
     "text": [
      "1446  image file:  KIC05398002_morp-1.0.png\n",
      "1/1 [==============================] - 0s 55ms/step\n",
      "1447  image file:  KIC10710755_morp0.22.png\n",
      "1/1 [==============================] - 0s 53ms/step\n"
     ]
    },
    {
     "name": "stderr",
     "output_type": "stream",
     "text": [
      "\r",
      " 53%|████████████████████▌                  | 1448/2747 [02:24<02:01, 10.68it/s]"
     ]
    },
    {
     "name": "stdout",
     "output_type": "stream",
     "text": [
      "1448  image file:  KIC08112324_morp0.59.png\n",
      "1/1 [==============================] - 0s 58ms/step\n",
      "1449  image file:  KIC11401845_morp0.56.png\n",
      "1/1 [==============================] - 0s 54ms/step\n"
     ]
    },
    {
     "name": "stderr",
     "output_type": "stream",
     "text": [
      "\r",
      " 53%|████████████████████▌                  | 1450/2747 [02:24<02:00, 10.78it/s]"
     ]
    },
    {
     "name": "stdout",
     "output_type": "stream",
     "text": [
      "1450  image file:  KIC04069063_morp0.57.png\n",
      "1/1 [==============================] - 0s 65ms/step\n",
      "1451  image file:  KIC09519590_morp0.88.png\n",
      "1/1 [==============================] - 0s 75ms/step\n"
     ]
    },
    {
     "name": "stderr",
     "output_type": "stream",
     "text": [
      "\r",
      " 53%|████████████████████▌                  | 1452/2747 [02:24<02:07, 10.18it/s]"
     ]
    },
    {
     "name": "stdout",
     "output_type": "stream",
     "text": [
      "1452  image file:  KIC11147814_morp0.0.png\n",
      "1/1 [==============================] - 0s 65ms/step\n",
      "1453  image file:  KIC06593363_morp0.09.png\n",
      "1/1 [==============================] - 0s 62ms/step\n"
     ]
    },
    {
     "name": "stderr",
     "output_type": "stream",
     "text": [
      "\r",
      " 53%|████████████████████▋                  | 1454/2747 [02:24<02:07, 10.18it/s]"
     ]
    },
    {
     "name": "stdout",
     "output_type": "stream",
     "text": [
      "1454  image file:  KIC07037405_morp0.16.png\n",
      "1/1 [==============================] - 0s 74ms/step\n",
      "1455  image file:  KIC07133286_morp0.32.png\n",
      "1/1 [==============================] - 0s 69ms/step\n"
     ]
    },
    {
     "name": "stderr",
     "output_type": "stream",
     "text": [
      "\r",
      " 53%|████████████████████▋                  | 1456/2747 [02:24<02:12,  9.74it/s]"
     ]
    },
    {
     "name": "stdout",
     "output_type": "stream",
     "text": [
      "1456  image file:  KIC11973705_morp0.99.png\n",
      "1/1 [==============================] - 0s 66ms/step\n"
     ]
    },
    {
     "name": "stderr",
     "output_type": "stream",
     "text": [
      "\r",
      " 53%|████████████████████▋                  | 1457/2747 [02:24<02:14,  9.60it/s]"
     ]
    },
    {
     "name": "stdout",
     "output_type": "stream",
     "text": [
      "1457  image file:  KIC09030817_morp0.88.png\n",
      "1/1 [==============================] - 0s 66ms/step\n"
     ]
    },
    {
     "name": "stderr",
     "output_type": "stream",
     "text": [
      "\r",
      " 53%|████████████████████▋                  | 1458/2747 [02:25<02:14,  9.56it/s]"
     ]
    },
    {
     "name": "stdout",
     "output_type": "stream",
     "text": [
      "1458  image file:  KIC08742270_morp0.0.png\n",
      "1/1 [==============================] - 0s 71ms/step\n"
     ]
    },
    {
     "name": "stderr",
     "output_type": "stream",
     "text": [
      "\r",
      " 53%|████████████████████▋                  | 1459/2747 [02:25<02:17,  9.39it/s]"
     ]
    },
    {
     "name": "stdout",
     "output_type": "stream",
     "text": [
      "1459  image file:  KIC05130740_morp0.0.png\n",
      "1/1 [==============================] - 0s 55ms/step\n",
      "1460  image file:  KIC04651526_morp0.95.png\n",
      "1/1 [==============================] - 0s 58ms/step\n"
     ]
    },
    {
     "name": "stderr",
     "output_type": "stream",
     "text": [
      "\r",
      " 53%|████████████████████▋                  | 1461/2747 [02:25<02:10,  9.84it/s]"
     ]
    },
    {
     "name": "stdout",
     "output_type": "stream",
     "text": [
      "1461  image file:  KIC04990977_morp0.28.png\n",
      "1/1 [==============================] - 0s 55ms/step\n",
      "1462  image file:  KIC11179657_morp0.99.png\n",
      "1/1 [==============================] - 0s 56ms/step\n"
     ]
    },
    {
     "name": "stderr",
     "output_type": "stream",
     "text": [
      "\r",
      " 53%|████████████████████▊                  | 1463/2747 [02:25<02:06, 10.18it/s]"
     ]
    },
    {
     "name": "stdout",
     "output_type": "stream",
     "text": [
      "1463  image file:  KIC11235323_morp0.29.png\n",
      "1/1 [==============================] - 0s 60ms/step\n",
      "1464  image file:  KIC10905824_morp0.8.png\n",
      "1/1 [==============================] - 0s 58ms/step\n"
     ]
    },
    {
     "name": "stderr",
     "output_type": "stream",
     "text": [
      "\r",
      " 53%|████████████████████▊                  | 1465/2747 [02:25<02:05, 10.19it/s]"
     ]
    },
    {
     "name": "stdout",
     "output_type": "stream",
     "text": [
      "1465  image file:  KIC07367833_morp0.77.png\n",
      "1/1 [==============================] - 0s 57ms/step\n",
      "1466  image file:  KIC08685306_morp0.85.png\n",
      "1/1 [==============================] - 0s 56ms/step\n"
     ]
    },
    {
     "name": "stderr",
     "output_type": "stream",
     "text": [
      "\r",
      " 53%|████████████████████▊                  | 1467/2747 [02:25<02:04, 10.26it/s]"
     ]
    },
    {
     "name": "stdout",
     "output_type": "stream",
     "text": [
      "1467  image file:  KIC06516874_morp0.61.png\n",
      "1/1 [==============================] - 0s 53ms/step\n",
      "1468  image file:  KIC11923629_morp-1.0.png\n",
      "1/1 [==============================] - 0s 58ms/step\n"
     ]
    },
    {
     "name": "stderr",
     "output_type": "stream",
     "text": [
      "\r",
      " 53%|████████████████████▊                  | 1469/2747 [02:26<02:07, 10.01it/s]"
     ]
    },
    {
     "name": "stdout",
     "output_type": "stream",
     "text": [
      "1469  image file:  KIC10152836_morp0.0.png\n",
      "1/1 [==============================] - 0s 58ms/step\n"
     ]
    },
    {
     "name": "stderr",
     "output_type": "stream",
     "text": [
      "\r",
      " 54%|████████████████████▊                  | 1470/2747 [02:26<02:07,  9.98it/s]"
     ]
    },
    {
     "name": "stdout",
     "output_type": "stream",
     "text": [
      "1470  image file:  KIC05306862_morp0.54.png\n",
      "1/1 [==============================] - 0s 57ms/step\n",
      "1471  image file:  KIC05527172_morp0.34.png\n",
      "1/1 [==============================] - 0s 57ms/step\n"
     ]
    },
    {
     "name": "stderr",
     "output_type": "stream",
     "text": [
      "\r",
      " 54%|████████████████████▉                  | 1472/2747 [02:26<02:04, 10.21it/s]"
     ]
    },
    {
     "name": "stdout",
     "output_type": "stream",
     "text": [
      "1472  image file:  KIC09934208_morp0.13.png\n",
      "1/1 [==============================] - 0s 57ms/step\n",
      "1473  image file:  KIC07037319_morp0.84.png\n",
      "1/1 [==============================] - 0s 61ms/step\n"
     ]
    },
    {
     "name": "stderr",
     "output_type": "stream",
     "text": [
      "\r",
      " 54%|████████████████████▉                  | 1474/2747 [02:26<02:05, 10.14it/s]"
     ]
    },
    {
     "name": "stdout",
     "output_type": "stream",
     "text": [
      "1474  image file:  KIC06072578_morp0.77.png\n",
      "1/1 [==============================] - 0s 54ms/step\n",
      "1475  image file:  KIC05716244_morp0.58.png\n",
      "1/1 [==============================] - 0s 54ms/step\n"
     ]
    },
    {
     "name": "stderr",
     "output_type": "stream",
     "text": [
      "\r",
      " 54%|████████████████████▉                  | 1476/2747 [02:26<02:01, 10.44it/s]"
     ]
    },
    {
     "name": "stdout",
     "output_type": "stream",
     "text": [
      "1476  image file:  KIC03240976_morp-1.0.png\n",
      "1/1 [==============================] - 0s 53ms/step\n",
      "1477  image file:  KIC09788457_morp0.6.png\n",
      "1/1 [==============================] - 0s 53ms/step\n"
     ]
    },
    {
     "name": "stderr",
     "output_type": "stream",
     "text": [
      "\r",
      " 54%|████████████████████▉                  | 1478/2747 [02:27<01:58, 10.68it/s]"
     ]
    },
    {
     "name": "stdout",
     "output_type": "stream",
     "text": [
      "1478  image file:  KIC09083523_morp0.65.png\n",
      "1/1 [==============================] - 0s 54ms/step\n",
      "1479  image file:  KIC07024530_morp0.02.png\n",
      "1/1 [==============================] - 0s 55ms/step\n"
     ]
    },
    {
     "name": "stderr",
     "output_type": "stream",
     "text": [
      "\r",
      " 54%|█████████████████████                  | 1480/2747 [02:27<01:57, 10.76it/s]"
     ]
    },
    {
     "name": "stdout",
     "output_type": "stream",
     "text": [
      "1480  image file:  KIC11228612_morp0.33.png\n",
      "1/1 [==============================] - 0s 55ms/step\n",
      "1481  image file:  KIC09702641_morp0.9.png\n",
      "1/1 [==============================] - 0s 55ms/step\n"
     ]
    },
    {
     "name": "stderr",
     "output_type": "stream",
     "text": [
      "\r",
      " 54%|█████████████████████                  | 1482/2747 [02:27<01:57, 10.74it/s]"
     ]
    },
    {
     "name": "stdout",
     "output_type": "stream",
     "text": [
      "1482  image file:  KIC06862603_morp0.18.png\n",
      "1/1 [==============================] - 0s 56ms/step\n",
      "1483  image file:  KIC10801703_morp0.85.png\n",
      "1/1 [==============================] - 0s 56ms/step\n"
     ]
    },
    {
     "name": "stderr",
     "output_type": "stream",
     "text": [
      "\r",
      " 54%|█████████████████████                  | 1484/2747 [02:27<01:57, 10.71it/s]"
     ]
    },
    {
     "name": "stdout",
     "output_type": "stream",
     "text": [
      "1484  image file:  KIC05802470_morp0.26.png\n",
      "1/1 [==============================] - 0s 60ms/step\n",
      "1485  image file:  KIC08956957_morp0.97.png\n",
      "1/1 [==============================] - 0s 67ms/step\n"
     ]
    },
    {
     "name": "stderr",
     "output_type": "stream",
     "text": [
      "\r",
      " 54%|█████████████████████                  | 1486/2747 [02:27<02:01, 10.42it/s]"
     ]
    },
    {
     "name": "stdout",
     "output_type": "stream",
     "text": [
      "1486  image file:  KIC05809868_morp0.8.png\n",
      "1/1 [==============================] - 0s 64ms/step\n",
      "1487  image file:  KIC08012437_morp0.98.png\n",
      "1/1 [==============================] - 0s 64ms/step\n"
     ]
    },
    {
     "name": "stderr",
     "output_type": "stream",
     "text": [
      "\r",
      " 54%|█████████████████████▏                 | 1488/2747 [02:27<02:04, 10.11it/s]"
     ]
    },
    {
     "name": "stdout",
     "output_type": "stream",
     "text": [
      "1488  image file:  KIC09472174_morp0.78.png\n",
      "1/1 [==============================] - 0s 60ms/step\n",
      "1489  image file:  KIC08559589_morp0.0.png\n",
      "1/1 [==============================] - 0s 55ms/step\n"
     ]
    },
    {
     "name": "stderr",
     "output_type": "stream",
     "text": [
      "\r",
      " 54%|█████████████████████▏                 | 1490/2747 [02:28<02:02, 10.26it/s]"
     ]
    },
    {
     "name": "stdout",
     "output_type": "stream",
     "text": [
      "1490  image file:  KIC07597095_morp0.76.png\n",
      "1/1 [==============================] - 0s 54ms/step\n",
      "1491  image file:  KIC10232123_morp0.44.png\n",
      "1/1 [==============================] - 0s 54ms/step\n"
     ]
    },
    {
     "name": "stderr",
     "output_type": "stream",
     "text": [
      "\r",
      " 54%|█████████████████████▏                 | 1492/2747 [02:28<01:59, 10.46it/s]"
     ]
    },
    {
     "name": "stdout",
     "output_type": "stream",
     "text": [
      "1492  image file:  KIC08543278_morp0.09.png\n",
      "1/1 [==============================] - 0s 54ms/step\n",
      "1493  image file:  KIC03858949_morp0.26.png\n",
      "1/1 [==============================] - 0s 54ms/step\n"
     ]
    },
    {
     "name": "stderr",
     "output_type": "stream",
     "text": [
      "\r",
      " 54%|█████████████████████▏                 | 1494/2747 [02:28<01:57, 10.64it/s]"
     ]
    },
    {
     "name": "stdout",
     "output_type": "stream",
     "text": [
      "1494  image file:  KIC11761199_morp0.0.png\n",
      "1/1 [==============================] - 0s 54ms/step\n",
      "1495  image file:  KIC11910076_morp0.96.png\n",
      "1/1 [==============================] - 0s 55ms/step\n"
     ]
    },
    {
     "name": "stderr",
     "output_type": "stream",
     "text": [
      "\r",
      " 54%|█████████████████████▏                 | 1496/2747 [02:28<01:55, 10.79it/s]"
     ]
    },
    {
     "name": "stdout",
     "output_type": "stream",
     "text": [
      "1496  image file:  KIC05440746_morp0.86.png\n",
      "1/1 [==============================] - 0s 54ms/step\n",
      "1497  image file:  KIC09898401_morp0.99.png\n",
      "1/1 [==============================] - 0s 54ms/step\n"
     ]
    },
    {
     "name": "stderr",
     "output_type": "stream",
     "text": [
      "\r",
      " 55%|█████████████████████▎                 | 1498/2747 [02:28<01:56, 10.76it/s]"
     ]
    },
    {
     "name": "stdout",
     "output_type": "stream",
     "text": [
      "1498  image file:  KIC03858884_morp0.14.png\n",
      "1/1 [==============================] - 0s 54ms/step\n",
      "1499  image file:  KIC11027722_morp0.47.png\n",
      "1/1 [==============================] - 0s 54ms/step\n"
     ]
    },
    {
     "name": "stderr",
     "output_type": "stream",
     "text": [
      "\r",
      " 55%|█████████████████████▎                 | 1500/2747 [02:29<01:54, 10.89it/s]"
     ]
    },
    {
     "name": "stdout",
     "output_type": "stream",
     "text": [
      "1500  image file:  KIC11811454_morp0.47.png\n",
      "1/1 [==============================] - 0s 54ms/step\n",
      "1501  image file:  KIC10407221_morp0.61.png\n",
      "1/1 [==============================] - 0s 54ms/step\n"
     ]
    },
    {
     "name": "stderr",
     "output_type": "stream",
     "text": [
      "\r",
      " 55%|█████████████████████▎                 | 1502/2747 [02:29<01:53, 10.96it/s]"
     ]
    },
    {
     "name": "stdout",
     "output_type": "stream",
     "text": [
      "1502  image file:  KIC05878836_morp0.8.png\n",
      "1/1 [==============================] - 0s 53ms/step\n",
      "1503  image file:  KIC02969628_morp0.99.png\n",
      "1/1 [==============================] - 0s 53ms/step\n"
     ]
    },
    {
     "name": "stderr",
     "output_type": "stream",
     "text": [
      "\r",
      " 55%|█████████████████████▎                 | 1504/2747 [02:29<01:52, 11.06it/s]"
     ]
    },
    {
     "name": "stdout",
     "output_type": "stream",
     "text": [
      "1504  image file:  KIC08608310_morp0.65.png\n",
      "1/1 [==============================] - 0s 53ms/step\n",
      "1505  image file:  KIC05891963_morp0.95.png\n",
      "1/1 [==============================] - 0s 54ms/step\n"
     ]
    },
    {
     "name": "stderr",
     "output_type": "stream",
     "text": [
      "\r",
      " 55%|█████████████████████▍                 | 1506/2747 [02:29<01:52, 10.99it/s]"
     ]
    },
    {
     "name": "stdout",
     "output_type": "stream",
     "text": [
      "1506  image file:  KIC08411947_morp0.47.png\n",
      "1/1 [==============================] - 0s 54ms/step\n",
      "1507  image file:  KIC04059656_morp0.79.png\n",
      "1/1 [==============================] - 0s 57ms/step\n"
     ]
    },
    {
     "name": "stderr",
     "output_type": "stream",
     "text": [
      "\r",
      " 55%|█████████████████████▍                 | 1508/2747 [02:29<01:53, 10.94it/s]"
     ]
    },
    {
     "name": "stdout",
     "output_type": "stream",
     "text": [
      "1508  image file:  KIC12598713_morp0.94.png\n",
      "1/1 [==============================] - 0s 53ms/step\n",
      "1509  image file:  KIC07700181_morp0.93.png\n",
      "1/1 [==============================] - 0s 54ms/step\n"
     ]
    },
    {
     "name": "stderr",
     "output_type": "stream",
     "text": [
      "\r",
      " 55%|█████████████████████▍                 | 1510/2747 [02:29<01:52, 11.01it/s]"
     ]
    },
    {
     "name": "stdout",
     "output_type": "stream",
     "text": [
      "1510  image file:  KIC07799540_morp-1.0.png\n",
      "1/1 [==============================] - 0s 54ms/step\n",
      "1511  image file:  KIC09470175_morp0.77.png\n",
      "1/1 [==============================] - 0s 54ms/step\n"
     ]
    },
    {
     "name": "stderr",
     "output_type": "stream",
     "text": [
      "\r",
      " 55%|█████████████████████▍                 | 1512/2747 [02:30<01:52, 11.00it/s]"
     ]
    },
    {
     "name": "stdout",
     "output_type": "stream",
     "text": [
      "1512  image file:  KIC11906217_morp0.01.png\n",
      "1/1 [==============================] - 0s 53ms/step\n",
      "1513  image file:  KIC05356593_morp0.04.png\n",
      "1/1 [==============================] - 0s 53ms/step\n"
     ]
    },
    {
     "name": "stderr",
     "output_type": "stream",
     "text": [
      "\r",
      " 55%|█████████████████████▍                 | 1514/2747 [02:30<01:51, 11.02it/s]"
     ]
    },
    {
     "name": "stdout",
     "output_type": "stream",
     "text": [
      "1514  image file:  KIC09151972_morp0.87.png\n",
      "1/1 [==============================] - 0s 54ms/step\n",
      "1515  image file:  KIC04931073_morp0.08.png\n",
      "1/1 [==============================] - 0s 53ms/step\n"
     ]
    },
    {
     "name": "stderr",
     "output_type": "stream",
     "text": [
      "\r",
      " 55%|█████████████████████▌                 | 1516/2747 [02:30<01:52, 10.98it/s]"
     ]
    },
    {
     "name": "stdout",
     "output_type": "stream",
     "text": [
      "1516  image file:  KIC11193447_morp0.64.png\n",
      "1/1 [==============================] - 0s 53ms/step\n",
      "1517  image file:  KIC08112039_morp-1.0.png\n",
      "1/1 [==============================] - 0s 54ms/step\n"
     ]
    },
    {
     "name": "stderr",
     "output_type": "stream",
     "text": [
      "\r",
      " 55%|█████████████████████▌                 | 1518/2747 [02:30<01:51, 11.04it/s]"
     ]
    },
    {
     "name": "stdout",
     "output_type": "stream",
     "text": [
      "1518  image file:  KIC04681152_morp0.55.png\n",
      "1/1 [==============================] - 0s 53ms/step\n",
      "1519  image file:  KIC03764714_morp-1.0.png\n",
      "1/1 [==============================] - 0s 53ms/step\n"
     ]
    },
    {
     "name": "stderr",
     "output_type": "stream",
     "text": [
      "\r",
      " 55%|█████████████████████▌                 | 1520/2747 [02:30<01:51, 11.00it/s]"
     ]
    },
    {
     "name": "stdout",
     "output_type": "stream",
     "text": [
      "1520  image file:  KIC09716456_morp0.92.png\n",
      "1/1 [==============================] - 0s 54ms/step\n",
      "1521  image file:  KIC04769799_morp0.12.png\n",
      "1/1 [==============================] - 0s 53ms/step\n"
     ]
    },
    {
     "name": "stderr",
     "output_type": "stream",
     "text": [
      "\r",
      " 55%|█████████████████████▌                 | 1522/2747 [02:31<01:51, 11.03it/s]"
     ]
    },
    {
     "name": "stdout",
     "output_type": "stream",
     "text": [
      "1522  image file:  KIC09591358_morp0.84.png\n",
      "1/1 [==============================] - 0s 54ms/step\n",
      "1523  image file:  KIC05944240_morp-1.0.png\n",
      "1/1 [==============================] - 0s 57ms/step\n"
     ]
    },
    {
     "name": "stderr",
     "output_type": "stream",
     "text": [
      "\r",
      " 55%|█████████████████████▋                 | 1524/2747 [02:31<01:52, 10.90it/s]"
     ]
    },
    {
     "name": "stdout",
     "output_type": "stream",
     "text": [
      "1524  image file:  KIC08563964_morp1.0.png\n",
      "1/1 [==============================] - 0s 54ms/step\n",
      "1525  image file:  KIC11124509_morp0.09.png\n",
      "1/1 [==============================] - 0s 56ms/step\n"
     ]
    },
    {
     "name": "stderr",
     "output_type": "stream",
     "text": [
      "\r",
      " 56%|█████████████████████▋                 | 1526/2747 [02:31<01:57, 10.43it/s]"
     ]
    },
    {
     "name": "stdout",
     "output_type": "stream",
     "text": [
      "1526  image file:  KIC08386198_morp0.95.png\n",
      "1/1 [==============================] - 0s 56ms/step\n",
      "1527  image file:  KIC09899416_morp0.6.png\n",
      "1/1 [==============================] - 0s 56ms/step\n"
     ]
    },
    {
     "name": "stderr",
     "output_type": "stream",
     "text": [
      "\r",
      " 56%|█████████████████████▋                 | 1528/2747 [02:31<01:55, 10.56it/s]"
     ]
    },
    {
     "name": "stdout",
     "output_type": "stream",
     "text": [
      "1528  image file:  KIC09777062_morp0.08.png\n",
      "1/1 [==============================] - 0s 55ms/step\n",
      "1529  image file:  KIC09851944_morp0.62.png\n",
      "1/1 [==============================] - 0s 55ms/step\n"
     ]
    },
    {
     "name": "stderr",
     "output_type": "stream",
     "text": [
      "\r",
      " 56%|█████████████████████▋                 | 1530/2747 [02:31<01:54, 10.62it/s]"
     ]
    },
    {
     "name": "stdout",
     "output_type": "stream",
     "text": [
      "1530  image file:  KIC05288543_morp0.41.png\n",
      "1/1 [==============================] - 0s 55ms/step\n",
      "1531  image file:  KIC06424124_morp0.91.png\n",
      "1/1 [==============================] - 0s 55ms/step\n"
     ]
    },
    {
     "name": "stderr",
     "output_type": "stream",
     "text": [
      "\r",
      " 56%|█████████████████████▊                 | 1532/2747 [02:32<01:53, 10.72it/s]"
     ]
    },
    {
     "name": "stdout",
     "output_type": "stream",
     "text": [
      "1532  image file:  KIC12167361_morp0.0.png\n",
      "1/1 [==============================] - 0s 59ms/step\n",
      "1533  image file:  KIC05396122_morp0.06.png\n",
      "1/1 [==============================] - 0s 62ms/step\n"
     ]
    },
    {
     "name": "stderr",
     "output_type": "stream",
     "text": [
      "\r",
      " 56%|█████████████████████▊                 | 1534/2747 [02:32<01:55, 10.46it/s]"
     ]
    },
    {
     "name": "stdout",
     "output_type": "stream",
     "text": [
      "1534  image file:  KIC04661634_morp0.02.png\n",
      "1/1 [==============================] - 0s 54ms/step\n",
      "1535  image file:  KIC08590527_morp0.53.png\n",
      "1/1 [==============================] - 0s 54ms/step\n"
     ]
    },
    {
     "name": "stderr",
     "output_type": "stream",
     "text": [
      "\r",
      " 56%|█████████████████████▊                 | 1536/2747 [02:32<01:53, 10.68it/s]"
     ]
    },
    {
     "name": "stdout",
     "output_type": "stream",
     "text": [
      "1536  image file:  KIC08196180_morp0.31.png\n",
      "1/1 [==============================] - 0s 56ms/step\n",
      "1537  image file:  KIC11568428_morp-1.0.png\n",
      "1/1 [==============================] - 0s 55ms/step\n"
     ]
    },
    {
     "name": "stderr",
     "output_type": "stream",
     "text": [
      "\r",
      " 56%|█████████████████████▊                 | 1538/2747 [02:32<01:52, 10.76it/s]"
     ]
    },
    {
     "name": "stdout",
     "output_type": "stream",
     "text": [
      "1538  image file:  KIC08155584_morp0.04.png\n",
      "1/1 [==============================] - 0s 56ms/step\n",
      "1539  image file:  KIC11968490_morp0.49.png\n",
      "1/1 [==============================] - 0s 54ms/step\n"
     ]
    },
    {
     "name": "stderr",
     "output_type": "stream",
     "text": [
      "\r",
      " 56%|█████████████████████▊                 | 1540/2747 [02:32<01:51, 10.82it/s]"
     ]
    },
    {
     "name": "stdout",
     "output_type": "stream",
     "text": [
      "1540  image file:  KIC11858541_morp0.19.png\n",
      "1/1 [==============================] - 0s 55ms/step\n",
      "1541  image file:  KIC07630658_morp0.47.png\n",
      "1/1 [==============================] - 0s 57ms/step\n"
     ]
    },
    {
     "name": "stderr",
     "output_type": "stream",
     "text": [
      "\r",
      " 56%|█████████████████████▉                 | 1542/2747 [02:32<01:52, 10.71it/s]"
     ]
    },
    {
     "name": "stdout",
     "output_type": "stream",
     "text": [
      "1542  image file:  KIC10352938_morp0.41.png\n",
      "1/1 [==============================] - 0s 55ms/step\n",
      "1543  image file:  KIC08555573_morp0.96.png\n",
      "1/1 [==============================] - 0s 54ms/step\n"
     ]
    },
    {
     "name": "stderr",
     "output_type": "stream",
     "text": [
      "\r",
      " 56%|█████████████████████▉                 | 1544/2747 [02:33<01:51, 10.79it/s]"
     ]
    },
    {
     "name": "stdout",
     "output_type": "stream",
     "text": [
      "1544  image file:  KIC10350225_morp0.8.png\n",
      "1/1 [==============================] - 0s 56ms/step\n",
      "1545  image file:  KIC11241814_morp0.01.png\n",
      "1/1 [==============================] - 0s 54ms/step\n"
     ]
    },
    {
     "name": "stderr",
     "output_type": "stream",
     "text": [
      "\r",
      " 56%|█████████████████████▉                 | 1546/2747 [02:33<01:51, 10.76it/s]"
     ]
    },
    {
     "name": "stdout",
     "output_type": "stream",
     "text": [
      "1546  image file:  KIC07523733_morp0.94.png\n",
      "1/1 [==============================] - 0s 53ms/step\n",
      "1547  image file:  KIC05942093_morp0.03.png\n",
      "1/1 [==============================] - 0s 52ms/step\n"
     ]
    },
    {
     "name": "stderr",
     "output_type": "stream",
     "text": [
      "\r",
      " 56%|█████████████████████▉                 | 1548/2747 [02:33<01:49, 10.95it/s]"
     ]
    },
    {
     "name": "stdout",
     "output_type": "stream",
     "text": [
      "1548  image file:  KIC05546761_morp0.15.png\n",
      "1/1 [==============================] - 0s 53ms/step\n",
      "1549  image file:  KIC02307206_morp0.01.png\n",
      "1/1 [==============================] - 0s 53ms/step\n"
     ]
    },
    {
     "name": "stderr",
     "output_type": "stream",
     "text": [
      "\r",
      " 56%|██████████████████████                 | 1550/2747 [02:33<01:48, 11.05it/s]"
     ]
    },
    {
     "name": "stdout",
     "output_type": "stream",
     "text": [
      "1550  image file:  KIC08128965_morp0.29.png\n",
      "1/1 [==============================] - 0s 53ms/step\n",
      "1551  image file:  KIC05036538_morp0.36.png\n",
      "1/1 [==============================] - 0s 60ms/step\n"
     ]
    },
    {
     "name": "stderr",
     "output_type": "stream",
     "text": [
      "\r",
      " 56%|██████████████████████                 | 1552/2747 [02:33<01:49, 10.93it/s]"
     ]
    },
    {
     "name": "stdout",
     "output_type": "stream",
     "text": [
      "1552  image file:  KIC02708156_morp0.57.png\n",
      "1/1 [==============================] - 0s 59ms/step\n",
      "1553  image file:  KIC09839062_morp0.01.png\n",
      "1/1 [==============================] - 0s 52ms/step\n"
     ]
    },
    {
     "name": "stderr",
     "output_type": "stream",
     "text": [
      "\r",
      " 57%|██████████████████████                 | 1554/2747 [02:34<01:49, 10.85it/s]"
     ]
    },
    {
     "name": "stdout",
     "output_type": "stream",
     "text": [
      "1554  image file:  KIC05513861_morp0.57.png\n",
      "1/1 [==============================] - 0s 51ms/step\n",
      "1555  image file:  KIC03218683_morp0.69.png\n",
      "1/1 [==============================] - 0s 53ms/step\n"
     ]
    },
    {
     "name": "stderr",
     "output_type": "stream",
     "text": [
      "\r",
      " 57%|██████████████████████                 | 1556/2747 [02:34<01:50, 10.74it/s]"
     ]
    },
    {
     "name": "stdout",
     "output_type": "stream",
     "text": [
      "1556  image file:  KIC05795648_morp0.16.png\n",
      "1/1 [==============================] - 0s 51ms/step\n",
      "1557  image file:  KIC08848271_morp0.12.png\n",
      "1/1 [==============================] - 0s 53ms/step\n"
     ]
    },
    {
     "name": "stderr",
     "output_type": "stream",
     "text": [
      "\r",
      " 57%|██████████████████████                 | 1558/2747 [02:34<01:48, 10.97it/s]"
     ]
    },
    {
     "name": "stdout",
     "output_type": "stream",
     "text": [
      "1558  image file:  KIC09613070_morp0.34.png\n",
      "1/1 [==============================] - 0s 51ms/step\n",
      "1559  image file:  KIC05866138_morp0.05.png\n",
      "1/1 [==============================] - 0s 52ms/step\n"
     ]
    },
    {
     "name": "stderr",
     "output_type": "stream",
     "text": [
      "\r",
      " 57%|██████████████████████▏                | 1560/2747 [02:34<01:46, 11.11it/s]"
     ]
    },
    {
     "name": "stdout",
     "output_type": "stream",
     "text": [
      "1560  image file:  KIC03102000_morp0.03.png\n",
      "1/1 [==============================] - 0s 51ms/step\n",
      "1561  image file:  KIC10556068_morp0.91.png\n",
      "1/1 [==============================] - 0s 50ms/step\n"
     ]
    },
    {
     "name": "stderr",
     "output_type": "stream",
     "text": [
      "\r",
      " 57%|██████████████████████▏                | 1562/2747 [02:34<01:44, 11.32it/s]"
     ]
    },
    {
     "name": "stdout",
     "output_type": "stream",
     "text": [
      "1562  image file:  KIC11869052_morp0.03.png\n",
      "1/1 [==============================] - 0s 52ms/step\n",
      "1563  image file:  KIC05733154_morp-1.0.png\n",
      "1/1 [==============================] - 0s 51ms/step\n"
     ]
    },
    {
     "name": "stderr",
     "output_type": "stream",
     "text": [
      "\r",
      " 57%|██████████████████████▏                | 1564/2747 [02:34<01:43, 11.44it/s]"
     ]
    },
    {
     "name": "stdout",
     "output_type": "stream",
     "text": [
      "1564  image file:  KIC11769801_morp-1.0.png\n",
      "1/1 [==============================] - 0s 51ms/step\n",
      "1565  image file:  KIC11499757_morp0.13.png\n",
      "1/1 [==============================] - 0s 54ms/step\n"
     ]
    },
    {
     "name": "stderr",
     "output_type": "stream",
     "text": [
      "\r",
      " 57%|██████████████████████▏                | 1566/2747 [02:35<01:47, 11.01it/s]"
     ]
    },
    {
     "name": "stdout",
     "output_type": "stream",
     "text": [
      "1566  image file:  KIC11546211_morp0.27.png\n",
      "1/1 [==============================] - 0s 49ms/step\n",
      "1567  image file:  KIC06960487_morp0.02.png\n",
      "1/1 [==============================] - 0s 50ms/step\n"
     ]
    },
    {
     "name": "stderr",
     "output_type": "stream",
     "text": [
      "\r",
      " 57%|██████████████████████▎                | 1568/2747 [02:35<01:44, 11.32it/s]"
     ]
    },
    {
     "name": "stdout",
     "output_type": "stream",
     "text": [
      "1568  image file:  KIC11974540_morp0.09.png\n",
      "1/1 [==============================] - 0s 51ms/step\n",
      "1569  image file:  KIC09426970_morp0.97.png\n",
      "1/1 [==============================] - 0s 50ms/step\n"
     ]
    },
    {
     "name": "stderr",
     "output_type": "stream",
     "text": [
      "\r",
      " 57%|██████████████████████▎                | 1570/2747 [02:35<01:48, 10.86it/s]"
     ]
    },
    {
     "name": "stdout",
     "output_type": "stream",
     "text": [
      "1570  image file:  KIC12022718_morp0.13.png\n",
      "1/1 [==============================] - 0s 53ms/step\n",
      "1571  image file:  KIC07630690_morp0.97.png\n",
      "1/1 [==============================] - 0s 54ms/step\n"
     ]
    },
    {
     "name": "stderr",
     "output_type": "stream",
     "text": [
      "\r",
      " 57%|██████████████████████▎                | 1572/2747 [02:35<01:47, 10.91it/s]"
     ]
    },
    {
     "name": "stdout",
     "output_type": "stream",
     "text": [
      "1572  image file:  KIC11182260_morp0.45.png\n",
      "1/1 [==============================] - 0s 60ms/step\n",
      "1573  image file:  KIC09002076_morp0.85.png\n",
      "1/1 [==============================] - 0s 60ms/step\n"
     ]
    },
    {
     "name": "stderr",
     "output_type": "stream",
     "text": [
      "\r",
      " 57%|██████████████████████▎                | 1574/2747 [02:35<01:49, 10.73it/s]"
     ]
    },
    {
     "name": "stdout",
     "output_type": "stream",
     "text": [
      "1574  image file:  KIC04075067_morp0.92.png\n",
      "1/1 [==============================] - 0s 56ms/step\n",
      "1575  image file:  KIC05386810_morp0.96.png\n",
      "1/1 [==============================] - 0s 57ms/step\n"
     ]
    },
    {
     "name": "stderr",
     "output_type": "stream",
     "text": [
      "\r",
      " 57%|██████████████████████▎                | 1576/2747 [02:36<01:50, 10.63it/s]"
     ]
    },
    {
     "name": "stdout",
     "output_type": "stream",
     "text": [
      "1576  image file:  KIC08682849_morp0.88.png\n",
      "1/1 [==============================] - 0s 53ms/step\n",
      "1577  image file:  KIC09532219_morp0.77.png\n",
      "1/1 [==============================] - 0s 51ms/step\n"
     ]
    },
    {
     "name": "stderr",
     "output_type": "stream",
     "text": [
      "\r",
      " 57%|██████████████████████▍                | 1578/2747 [02:36<01:48, 10.76it/s]"
     ]
    },
    {
     "name": "stdout",
     "output_type": "stream",
     "text": [
      "1578  image file:  KIC04571536_morp0.5.png\n",
      "1/1 [==============================] - 0s 50ms/step\n",
      "1579  image file:  KIC07767774_morp0.99.png\n",
      "1/1 [==============================] - 0s 50ms/step\n"
     ]
    },
    {
     "name": "stderr",
     "output_type": "stream",
     "text": [
      "\r",
      " 58%|██████████████████████▍                | 1580/2747 [02:36<01:46, 10.94it/s]"
     ]
    },
    {
     "name": "stdout",
     "output_type": "stream",
     "text": [
      "1580  image file:  KIC08415863_morp0.03.png\n",
      "1/1 [==============================] - 0s 49ms/step\n",
      "1581  image file:  KIC08496820_morp0.85.png\n",
      "1/1 [==============================] - 0s 49ms/step\n"
     ]
    },
    {
     "name": "stderr",
     "output_type": "stream",
     "text": [
      "\r",
      " 58%|██████████████████████▍                | 1582/2747 [02:36<01:42, 11.32it/s]"
     ]
    },
    {
     "name": "stdout",
     "output_type": "stream",
     "text": [
      "1582  image file:  KIC07204041_morp0.92.png\n",
      "1/1 [==============================] - 0s 54ms/step\n",
      "1583  image file:  KIC06956216_morp0.37.png\n",
      "1/1 [==============================] - 0s 50ms/step\n"
     ]
    },
    {
     "name": "stderr",
     "output_type": "stream",
     "text": [
      "\r",
      " 58%|██████████████████████▍                | 1584/2747 [02:36<01:42, 11.37it/s]"
     ]
    },
    {
     "name": "stdout",
     "output_type": "stream",
     "text": [
      "1584  image file:  KIC08189196_morp0.99.png\n",
      "1/1 [==============================] - 0s 50ms/step\n",
      "1585  image file:  KIC06117415_morp-1.0.png\n",
      "1/1 [==============================] - 0s 50ms/step\n"
     ]
    },
    {
     "name": "stderr",
     "output_type": "stream",
     "text": [
      "\r",
      " 58%|██████████████████████▌                | 1586/2747 [02:36<01:40, 11.61it/s]"
     ]
    },
    {
     "name": "stdout",
     "output_type": "stream",
     "text": [
      "1586  image file:  KIC07691553_morp0.94.png\n",
      "1/1 [==============================] - 0s 50ms/step\n",
      "1587  image file:  KIC10857589_morp0.12.png\n",
      "1/1 [==============================] - 0s 51ms/step\n"
     ]
    },
    {
     "name": "stderr",
     "output_type": "stream",
     "text": [
      "\r",
      " 58%|██████████████████████▌                | 1588/2747 [02:37<01:39, 11.69it/s]"
     ]
    },
    {
     "name": "stdout",
     "output_type": "stream",
     "text": [
      "1588  image file:  KIC08868649_morp0.62.png\n",
      "1/1 [==============================] - 0s 53ms/step\n",
      "1589  image file:  KIC09842906_morp0.49.png\n",
      "1/1 [==============================] - 0s 49ms/step\n"
     ]
    },
    {
     "name": "stderr",
     "output_type": "stream",
     "text": [
      "\r",
      " 58%|██████████████████████▌                | 1590/2747 [02:37<01:38, 11.77it/s]"
     ]
    },
    {
     "name": "stdout",
     "output_type": "stream",
     "text": [
      "1590  image file:  KIC07690843_morp0.64.png\n",
      "1/1 [==============================] - 0s 49ms/step\n",
      "1591  image file:  KIC07657914_morp0.72.png\n",
      "1/1 [==============================] - 0s 50ms/step\n"
     ]
    },
    {
     "name": "stderr",
     "output_type": "stream",
     "text": [
      "\r",
      " 58%|██████████████████████▌                | 1592/2747 [02:37<01:37, 11.91it/s]"
     ]
    },
    {
     "name": "stdout",
     "output_type": "stream",
     "text": [
      "1592  image file:  KIC03858879_morp0.19.png\n",
      "1/1 [==============================] - 0s 49ms/step\n",
      "1593  image file:  KIC05640750_morp0.05.png\n",
      "1/1 [==============================] - 0s 49ms/step\n"
     ]
    },
    {
     "name": "stderr",
     "output_type": "stream",
     "text": [
      "\r",
      " 58%|██████████████████████▋                | 1594/2747 [02:37<01:36, 12.01it/s]"
     ]
    },
    {
     "name": "stdout",
     "output_type": "stream",
     "text": [
      "1594  image file:  KIC09178185_morp0.18.png\n",
      "1/1 [==============================] - 0s 49ms/step\n",
      "1595  image file:  KIC08677949_morp0.93.png\n",
      "1/1 [==============================] - 0s 50ms/step\n"
     ]
    },
    {
     "name": "stderr",
     "output_type": "stream",
     "text": [
      "\r",
      " 58%|██████████████████████▋                | 1596/2747 [02:37<01:35, 11.99it/s]"
     ]
    },
    {
     "name": "stdout",
     "output_type": "stream",
     "text": [
      "1596  image file:  KIC10735519_morp0.56.png\n",
      "1/1 [==============================] - 0s 54ms/step\n",
      "1597  image file:  KIC05817566_morp0.47.png\n",
      "1/1 [==============================] - 0s 48ms/step\n"
     ]
    },
    {
     "name": "stderr",
     "output_type": "stream",
     "text": [
      "\r",
      " 58%|██████████████████████▋                | 1598/2747 [02:37<01:36, 11.87it/s]"
     ]
    },
    {
     "name": "stdout",
     "output_type": "stream",
     "text": [
      "1598  image file:  KIC08397675_morp0.51.png\n",
      "1/1 [==============================] - 0s 47ms/step\n",
      "1599  image file:  KIC07777443_morp0.63.png\n",
      "1/1 [==============================] - 0s 49ms/step\n"
     ]
    },
    {
     "name": "stderr",
     "output_type": "stream",
     "text": [
      "\r",
      " 58%|██████████████████████▋                | 1600/2747 [02:38<01:35, 12.02it/s]"
     ]
    },
    {
     "name": "stdout",
     "output_type": "stream",
     "text": [
      "1600  image file:  KIC04245897_morp0.51.png\n",
      "1/1 [==============================] - 0s 50ms/step\n",
      "1601  image file:  KIC11086270_morp0.1.png\n",
      "1/1 [==============================] - 0s 50ms/step\n"
     ]
    },
    {
     "name": "stderr",
     "output_type": "stream",
     "text": [
      "\r",
      " 58%|██████████████████████▋                | 1602/2747 [02:38<01:35, 12.05it/s]"
     ]
    },
    {
     "name": "stdout",
     "output_type": "stream",
     "text": [
      "1602  image file:  KIC08937663_morp0.87.png\n",
      "1/1 [==============================] - 0s 49ms/step\n",
      "1603  image file:  KIC07433513_morp0.7.png\n",
      "1/1 [==============================] - 0s 49ms/step\n"
     ]
    },
    {
     "name": "stderr",
     "output_type": "stream",
     "text": [
      "\r",
      " 58%|██████████████████████▊                | 1604/2747 [02:38<01:33, 12.17it/s]"
     ]
    },
    {
     "name": "stdout",
     "output_type": "stream",
     "text": [
      "1604  image file:  KIC08330092_morp0.8.png\n",
      "1/1 [==============================] - 0s 50ms/step\n",
      "1605  image file:  KIC06784887_morp0.02.png\n",
      "1/1 [==============================] - 0s 50ms/step\n"
     ]
    },
    {
     "name": "stderr",
     "output_type": "stream",
     "text": [
      "\r",
      " 58%|██████████████████████▊                | 1606/2747 [02:38<01:34, 12.12it/s]"
     ]
    },
    {
     "name": "stdout",
     "output_type": "stream",
     "text": [
      "1606  image file:  KIC06344429_morp0.76.png\n",
      "1/1 [==============================] - 0s 49ms/step\n",
      "1607  image file:  KIC11413213_morp0.87.png\n",
      "1/1 [==============================] - 0s 50ms/step\n"
     ]
    },
    {
     "name": "stderr",
     "output_type": "stream",
     "text": [
      "\r",
      " 59%|██████████████████████▊                | 1608/2747 [02:38<01:33, 12.14it/s]"
     ]
    },
    {
     "name": "stdout",
     "output_type": "stream",
     "text": [
      "1608  image file:  KIC09520700_morp0.31.png\n",
      "1/1 [==============================] - 0s 49ms/step\n",
      "1609  image file:  KIC05563814_morp0.91.png\n",
      "1/1 [==============================] - 0s 48ms/step\n"
     ]
    },
    {
     "name": "stderr",
     "output_type": "stream",
     "text": [
      "\r",
      " 59%|██████████████████████▊                | 1610/2747 [02:38<01:32, 12.23it/s]"
     ]
    },
    {
     "name": "stdout",
     "output_type": "stream",
     "text": [
      "1610  image file:  KIC09962595_morp0.05.png\n",
      "1/1 [==============================] - 0s 49ms/step\n",
      "1611  image file:  KIC05736461_morp0.24.png\n",
      "1/1 [==============================] - 0s 49ms/step\n"
     ]
    },
    {
     "name": "stderr",
     "output_type": "stream",
     "text": [
      "\r",
      " 59%|██████████████████████▉                | 1612/2747 [02:39<01:32, 12.31it/s]"
     ]
    },
    {
     "name": "stdout",
     "output_type": "stream",
     "text": [
      "1612  image file:  KIC05858519_morp0.39.png\n",
      "1/1 [==============================] - 0s 49ms/step\n",
      "1613  image file:  KIC03339563_morp0.72.png\n",
      "1/1 [==============================] - 0s 55ms/step\n"
     ]
    },
    {
     "name": "stderr",
     "output_type": "stream",
     "text": [
      "\r",
      " 59%|██████████████████████▉                | 1614/2747 [02:39<01:35, 11.92it/s]"
     ]
    },
    {
     "name": "stdout",
     "output_type": "stream",
     "text": [
      "1614  image file:  KIC08088354_morp0.29.png\n",
      "1/1 [==============================] - 0s 51ms/step\n",
      "1615  image file:  KIC06268648_morp0.08.png\n",
      "1/1 [==============================] - 0s 49ms/step\n"
     ]
    },
    {
     "name": "stderr",
     "output_type": "stream",
     "text": [
      "\r",
      " 59%|██████████████████████▉                | 1616/2747 [02:39<01:34, 11.98it/s]"
     ]
    },
    {
     "name": "stdout",
     "output_type": "stream",
     "text": [
      "1616  image file:  KIC10737574_morp0.9.png\n",
      "1/1 [==============================] - 0s 50ms/step\n",
      "1617  image file:  KIC01571511_morp0.17.png\n",
      "1/1 [==============================] - 0s 48ms/step\n"
     ]
    },
    {
     "name": "stderr",
     "output_type": "stream",
     "text": [
      "\r",
      " 59%|██████████████████████▉                | 1618/2747 [02:39<01:33, 12.09it/s]"
     ]
    },
    {
     "name": "stdout",
     "output_type": "stream",
     "text": [
      "1618  image file:  KIC06579806_morp0.07.png\n",
      "1/1 [==============================] - 0s 48ms/step\n",
      "1619  image file:  KIC06867766_morp0.03.png\n",
      "1/1 [==============================] - 0s 48ms/step\n"
     ]
    },
    {
     "name": "stderr",
     "output_type": "stream",
     "text": [
      "\r",
      " 59%|██████████████████████▉                | 1620/2747 [02:39<01:32, 12.22it/s]"
     ]
    },
    {
     "name": "stdout",
     "output_type": "stream",
     "text": [
      "1620  image file:  KIC09936698_morp0.27.png\n",
      "1/1 [==============================] - 0s 48ms/step\n",
      "1621  image file:  KIC08004839_morp0.96.png\n",
      "1/1 [==============================] - 0s 48ms/step\n"
     ]
    },
    {
     "name": "stderr",
     "output_type": "stream",
     "text": [
      "\r",
      " 59%|███████████████████████                | 1622/2747 [02:39<01:31, 12.33it/s]"
     ]
    },
    {
     "name": "stdout",
     "output_type": "stream",
     "text": [
      "1622  image file:  KIC06233466_morp0.13.png\n",
      "1/1 [==============================] - 0s 50ms/step\n",
      "1623  image file:  KIC07377033_morp0.17.png\n",
      "1/1 [==============================] - 0s 48ms/step\n"
     ]
    },
    {
     "name": "stderr",
     "output_type": "stream",
     "text": [
      "\r",
      " 59%|███████████████████████                | 1624/2747 [02:40<01:31, 12.28it/s]"
     ]
    },
    {
     "name": "stdout",
     "output_type": "stream",
     "text": [
      "1624  image file:  KIC05285607_morp0.36.png\n",
      "1/1 [==============================] - 0s 48ms/step\n",
      "1625  image file:  KIC08977390_morp0.86.png\n",
      "1/1 [==============================] - 0s 49ms/step\n"
     ]
    },
    {
     "name": "stderr",
     "output_type": "stream",
     "text": [
      "\r",
      " 59%|███████████████████████                | 1626/2747 [02:40<01:31, 12.31it/s]"
     ]
    },
    {
     "name": "stdout",
     "output_type": "stream",
     "text": [
      "1626  image file:  KIC05535061_morp0.77.png\n",
      "1/1 [==============================] - 0s 48ms/step\n",
      "1627  image file:  KIC12055014_morp0.85.png\n",
      "1/1 [==============================] - 0s 49ms/step\n"
     ]
    },
    {
     "name": "stderr",
     "output_type": "stream",
     "text": [
      "\r",
      " 59%|███████████████████████                | 1628/2747 [02:40<01:35, 11.76it/s]"
     ]
    },
    {
     "name": "stdout",
     "output_type": "stream",
     "text": [
      "1628  image file:  KIC09283826_morp0.84.png\n",
      "1/1 [==============================] - 0s 50ms/step\n",
      "1629  image file:  KIC02445975_morp0.14.png\n",
      "1/1 [==============================] - 0s 51ms/step\n"
     ]
    },
    {
     "name": "stderr",
     "output_type": "stream",
     "text": [
      "\r",
      " 59%|███████████████████████▏               | 1630/2747 [02:40<01:35, 11.66it/s]"
     ]
    },
    {
     "name": "stdout",
     "output_type": "stream",
     "text": [
      "1630  image file:  KIC09846348_morp0.01.png\n",
      "1/1 [==============================] - 0s 51ms/step\n",
      "1631  image file:  KIC04649440_morp0.04.png\n",
      "1/1 [==============================] - 0s 52ms/step\n"
     ]
    },
    {
     "name": "stderr",
     "output_type": "stream",
     "text": [
      "\r",
      " 59%|███████████████████████▏               | 1632/2747 [02:40<01:35, 11.67it/s]"
     ]
    },
    {
     "name": "stdout",
     "output_type": "stream",
     "text": [
      "1632  image file:  KIC05771589_morp0.12.png\n",
      "1/1 [==============================] - 0s 52ms/step\n",
      "1633  image file:  KIC11700133_morp-1.0.png\n",
      "1/1 [==============================] - 0s 52ms/step\n"
     ]
    },
    {
     "name": "stderr",
     "output_type": "stream",
     "text": [
      "\r",
      " 59%|███████████████████████▏               | 1634/2747 [02:40<01:34, 11.75it/s]"
     ]
    },
    {
     "name": "stdout",
     "output_type": "stream",
     "text": [
      "1634  image file:  KIC06697716_morp0.44.png\n",
      "1/1 [==============================] - 0s 51ms/step\n",
      "1635  image file:  KIC07365447_morp0.38.png\n",
      "1/1 [==============================] - 0s 51ms/step\n"
     ]
    },
    {
     "name": "stderr",
     "output_type": "stream",
     "text": [
      "\r",
      " 60%|███████████████████████▏               | 1636/2747 [02:41<01:33, 11.82it/s]"
     ]
    },
    {
     "name": "stdout",
     "output_type": "stream",
     "text": [
      "1636  image file:  KIC06431545_morp0.91.png\n",
      "1/1 [==============================] - 0s 54ms/step\n",
      "1637  image file:  KIC03428468_morp0.0.png\n",
      "1/1 [==============================] - 0s 50ms/step\n"
     ]
    },
    {
     "name": "stderr",
     "output_type": "stream",
     "text": [
      "\r",
      " 60%|███████████████████████▎               | 1638/2747 [02:41<01:34, 11.78it/s]"
     ]
    },
    {
     "name": "stdout",
     "output_type": "stream",
     "text": [
      "1638  image file:  KIC09470054_morp0.96.png\n",
      "1/1 [==============================] - 0s 50ms/step\n",
      "1639  image file:  KIC10748621_morp0.0.png\n",
      "1/1 [==============================] - 0s 50ms/step\n"
     ]
    },
    {
     "name": "stderr",
     "output_type": "stream",
     "text": [
      "\r",
      " 60%|███████████████████████▎               | 1640/2747 [02:41<01:33, 11.90it/s]"
     ]
    },
    {
     "name": "stdout",
     "output_type": "stream",
     "text": [
      "1640  image file:  KIC05983348_morp0.08.png\n",
      "1/1 [==============================] - 0s 50ms/step\n",
      "1641  image file:  KIC08739802_morp0.93.png\n",
      "1/1 [==============================] - 0s 50ms/step\n"
     ]
    },
    {
     "name": "stderr",
     "output_type": "stream",
     "text": [
      "\r",
      " 60%|███████████████████████▎               | 1642/2747 [02:41<01:32, 11.92it/s]"
     ]
    },
    {
     "name": "stdout",
     "output_type": "stream",
     "text": [
      "1642  image file:  KIC11187837_morp0.09.png\n",
      "1/1 [==============================] - 0s 49ms/step\n",
      "1643  image file:  KIC11615481_morp0.05.png\n",
      "1/1 [==============================] - 0s 50ms/step\n"
     ]
    },
    {
     "name": "stderr",
     "output_type": "stream",
     "text": [
      "\r",
      " 60%|███████████████████████▎               | 1644/2747 [02:41<01:31, 12.02it/s]"
     ]
    },
    {
     "name": "stdout",
     "output_type": "stream",
     "text": [
      "1644  image file:  KIC08625469_morp0.78.png\n",
      "1/1 [==============================] - 0s 49ms/step\n",
      "1645  image file:  KIC07532973_morp0.54.png\n",
      "1/1 [==============================] - 0s 48ms/step\n"
     ]
    },
    {
     "name": "stderr",
     "output_type": "stream",
     "text": [
      "\r",
      " 60%|███████████████████████▎               | 1646/2747 [02:41<01:30, 12.16it/s]"
     ]
    },
    {
     "name": "stdout",
     "output_type": "stream",
     "text": [
      "1646  image file:  KIC02854432_morp0.93.png\n",
      "1/1 [==============================] - 0s 48ms/step\n",
      "1647  image file:  KIC02715417_morp0.77.png\n",
      "1/1 [==============================] - 0s 48ms/step\n"
     ]
    },
    {
     "name": "stderr",
     "output_type": "stream",
     "text": [
      "\r",
      " 60%|███████████████████████▍               | 1648/2747 [02:42<01:29, 12.29it/s]"
     ]
    },
    {
     "name": "stdout",
     "output_type": "stream",
     "text": [
      "1648  image file:  KIC06141791_morp-1.0.png\n",
      "1/1 [==============================] - 0s 48ms/step\n",
      "1649  image file:  KIC03327980_morp0.44.png\n",
      "1/1 [==============================] - 0s 49ms/step\n"
     ]
    },
    {
     "name": "stderr",
     "output_type": "stream",
     "text": [
      "\r",
      " 60%|███████████████████████▍               | 1650/2747 [02:42<01:29, 12.27it/s]"
     ]
    },
    {
     "name": "stdout",
     "output_type": "stream",
     "text": [
      "1650  image file:  KIC05218385_morp0.78.png\n",
      "1/1 [==============================] - 0s 49ms/step\n",
      "1651  image file:  KIC04464999_morp0.78.png\n",
      "1/1 [==============================] - 0s 48ms/step\n"
     ]
    },
    {
     "name": "stderr",
     "output_type": "stream",
     "text": [
      "\r",
      " 60%|███████████████████████▍               | 1652/2747 [02:42<01:28, 12.31it/s]"
     ]
    },
    {
     "name": "stdout",
     "output_type": "stream",
     "text": [
      "1652  image file:  KIC05174346_morp0.84.png\n",
      "1/1 [==============================] - 0s 49ms/step\n",
      "1653  image file:  KIC09108579_morp0.81.png\n",
      "1/1 [==============================] - 0s 49ms/step\n"
     ]
    },
    {
     "name": "stderr",
     "output_type": "stream",
     "text": [
      "\r",
      " 60%|███████████████████████▍               | 1654/2747 [02:42<01:28, 12.36it/s]"
     ]
    },
    {
     "name": "stdout",
     "output_type": "stream",
     "text": [
      "1654  image file:  KIC08803882_morp-1.0.png\n",
      "1/1 [==============================] - 0s 50ms/step\n",
      "1655  image file:  KIC10613718_morp0.39.png\n",
      "1/1 [==============================] - 0s 49ms/step\n"
     ]
    },
    {
     "name": "stderr",
     "output_type": "stream",
     "text": [
      "\r",
      " 60%|███████████████████████▌               | 1656/2747 [02:42<01:28, 12.37it/s]"
     ]
    },
    {
     "name": "stdout",
     "output_type": "stream",
     "text": [
      "1656  image file:  KIC05606644_morp0.63.png\n",
      "1/1 [==============================] - 0s 49ms/step\n",
      "1657  image file:  KIC10384962_morp0.24.png\n",
      "1/1 [==============================] - 0s 49ms/step\n"
     ]
    },
    {
     "name": "stderr",
     "output_type": "stream",
     "text": [
      "\r",
      " 60%|███████████████████████▌               | 1658/2747 [02:42<01:27, 12.39it/s]"
     ]
    },
    {
     "name": "stdout",
     "output_type": "stream",
     "text": [
      "1658  image file:  KIC02576692_morp0.04.png\n",
      "1/1 [==============================] - 0s 49ms/step\n",
      "1659  image file:  KIC05215700_morp0.58.png\n",
      "1/1 [==============================] - 0s 48ms/step\n"
     ]
    },
    {
     "name": "stderr",
     "output_type": "stream",
     "text": [
      "\r",
      " 60%|███████████████████████▌               | 1660/2747 [02:43<01:28, 12.33it/s]"
     ]
    },
    {
     "name": "stdout",
     "output_type": "stream",
     "text": [
      "1660  image file:  KIC02720354_morp0.47.png\n",
      "1/1 [==============================] - 0s 50ms/step\n",
      "1661  image file:  KIC11704044_morp0.13.png\n",
      "1/1 [==============================] - 0s 50ms/step\n"
     ]
    },
    {
     "name": "stderr",
     "output_type": "stream",
     "text": [
      "\r",
      " 61%|███████████████████████▌               | 1662/2747 [02:43<01:28, 12.32it/s]"
     ]
    },
    {
     "name": "stdout",
     "output_type": "stream",
     "text": [
      "1662  image file:  KIC06504095_morp0.96.png\n",
      "1/1 [==============================] - 0s 49ms/step\n",
      "1663  image file:  KIC04466356_morp0.06.png\n",
      "1/1 [==============================] - 0s 49ms/step\n"
     ]
    },
    {
     "name": "stderr",
     "output_type": "stream",
     "text": [
      "\r",
      " 61%|███████████████████████▌               | 1664/2747 [02:43<01:27, 12.40it/s]"
     ]
    },
    {
     "name": "stdout",
     "output_type": "stream",
     "text": [
      "1664  image file:  KIC04281895_morp0.13.png\n",
      "1/1 [==============================] - 0s 49ms/step\n",
      "1665  image file:  KIC07025851_morp0.31.png\n",
      "1/1 [==============================] - 0s 54ms/step\n"
     ]
    },
    {
     "name": "stderr",
     "output_type": "stream",
     "text": [
      "\r",
      " 61%|███████████████████████▋               | 1666/2747 [02:43<01:28, 12.24it/s]"
     ]
    },
    {
     "name": "stdout",
     "output_type": "stream",
     "text": [
      "1666  image file:  KIC07846730_morp0.21.png\n",
      "1/1 [==============================] - 0s 50ms/step\n",
      "1667  image file:  KIC08429634_morp0.85.png\n",
      "1/1 [==============================] - 0s 51ms/step\n"
     ]
    },
    {
     "name": "stderr",
     "output_type": "stream",
     "text": [
      "\r",
      " 61%|███████████████████████▋               | 1668/2747 [02:43<01:29, 12.07it/s]"
     ]
    },
    {
     "name": "stdout",
     "output_type": "stream",
     "text": [
      "1668  image file:  KIC06292925_morp-1.0.png\n",
      "1/1 [==============================] - 0s 50ms/step\n",
      "1669  image file:  KIC09649493_morp0.85.png\n",
      "1/1 [==============================] - 0s 49ms/step\n"
     ]
    },
    {
     "name": "stderr",
     "output_type": "stream",
     "text": [
      "\r",
      " 61%|███████████████████████▋               | 1670/2747 [02:43<01:28, 12.11it/s]"
     ]
    },
    {
     "name": "stdout",
     "output_type": "stream",
     "text": [
      "1670  image file:  KIC08703528_morp0.75.png\n",
      "1/1 [==============================] - 0s 49ms/step\n",
      "1671  image file:  KIC03530668_morp0.48.png\n",
      "1/1 [==============================] - 0s 49ms/step\n"
     ]
    },
    {
     "name": "stderr",
     "output_type": "stream",
     "text": [
      "\r",
      " 61%|███████████████████████▋               | 1672/2747 [02:44<01:27, 12.23it/s]"
     ]
    },
    {
     "name": "stdout",
     "output_type": "stream",
     "text": [
      "1672  image file:  KIC08784288_morp0.34.png\n",
      "1/1 [==============================] - 0s 49ms/step\n",
      "1673  image file:  KIC05370302_morp0.3.png\n",
      "1/1 [==============================] - 0s 49ms/step\n"
     ]
    },
    {
     "name": "stderr",
     "output_type": "stream",
     "text": [
      "\r",
      " 61%|███████████████████████▊               | 1674/2747 [02:44<01:27, 12.30it/s]"
     ]
    },
    {
     "name": "stdout",
     "output_type": "stream",
     "text": [
      "1674  image file:  KIC08183540_morp0.87.png\n",
      "1/1 [==============================] - 0s 51ms/step\n",
      "1675  image file:  KIC09593528_morp0.73.png\n",
      "1/1 [==============================] - 0s 49ms/step\n"
     ]
    },
    {
     "name": "stderr",
     "output_type": "stream",
     "text": [
      "\r",
      " 61%|███████████████████████▊               | 1676/2747 [02:44<01:27, 12.30it/s]"
     ]
    },
    {
     "name": "stdout",
     "output_type": "stream",
     "text": [
      "1676  image file:  KIC09098810_morp0.12.png\n",
      "1/1 [==============================] - 0s 50ms/step\n",
      "1677  image file:  KIC04586482_morp0.0.png\n",
      "1/1 [==============================] - 0s 49ms/step\n"
     ]
    },
    {
     "name": "stderr",
     "output_type": "stream",
     "text": [
      "\r",
      " 61%|███████████████████████▊               | 1678/2747 [02:44<01:27, 12.23it/s]"
     ]
    },
    {
     "name": "stdout",
     "output_type": "stream",
     "text": [
      "1678  image file:  KIC06422170_morp0.0.png\n",
      "1/1 [==============================] - 0s 49ms/step\n",
      "1679  image file:  KIC07529123_morp0.84.png\n",
      "1/1 [==============================] - 0s 48ms/step\n"
     ]
    },
    {
     "name": "stderr",
     "output_type": "stream",
     "text": [
      "\r",
      " 61%|███████████████████████▊               | 1680/2747 [02:44<01:26, 12.27it/s]"
     ]
    },
    {
     "name": "stdout",
     "output_type": "stream",
     "text": [
      "1680  image file:  KIC10389982_morp0.74.png\n",
      "1/1 [==============================] - 0s 49ms/step\n",
      "1681  image file:  KIC09843451_morp0.91.png\n",
      "1/1 [==============================] - 0s 50ms/step\n"
     ]
    },
    {
     "name": "stderr",
     "output_type": "stream",
     "text": [
      "\r",
      " 61%|███████████████████████▉               | 1682/2747 [02:44<01:26, 12.29it/s]"
     ]
    },
    {
     "name": "stdout",
     "output_type": "stream",
     "text": [
      "1682  image file:  KIC08773948_morp0.11.png\n",
      "1/1 [==============================] - 0s 49ms/step\n",
      "1683  image file:  KIC05823121_morp0.79.png\n",
      "1/1 [==============================] - 0s 49ms/step\n"
     ]
    },
    {
     "name": "stderr",
     "output_type": "stream",
     "text": [
      "\r",
      " 61%|███████████████████████▉               | 1684/2747 [02:44<01:26, 12.35it/s]"
     ]
    },
    {
     "name": "stdout",
     "output_type": "stream",
     "text": [
      "1684  image file:  KIC08801343_morp0.46.png\n",
      "1/1 [==============================] - 0s 48ms/step\n",
      "1685  image file:  KIC02852560_morp0.09.png\n",
      "1/1 [==============================] - 0s 50ms/step\n"
     ]
    },
    {
     "name": "stderr",
     "output_type": "stream",
     "text": [
      "\r",
      " 61%|███████████████████████▉               | 1686/2747 [02:45<01:26, 12.31it/s]"
     ]
    },
    {
     "name": "stdout",
     "output_type": "stream",
     "text": [
      "1686  image file:  KIC09172506_morp0.06.png\n",
      "1/1 [==============================] - 0s 49ms/step\n",
      "1687  image file:  KIC08043714_morp0.12.png\n",
      "1/1 [==============================] - 0s 48ms/step\n"
     ]
    },
    {
     "name": "stderr",
     "output_type": "stream",
     "text": [
      "\r",
      " 61%|███████████████████████▉               | 1688/2747 [02:45<01:25, 12.33it/s]"
     ]
    },
    {
     "name": "stdout",
     "output_type": "stream",
     "text": [
      "1688  image file:  KIC10789421_morp0.85.png\n",
      "1/1 [==============================] - 0s 49ms/step\n",
      "1689  image file:  KIC06842345_morp0.04.png\n",
      "1/1 [==============================] - 0s 48ms/step\n"
     ]
    },
    {
     "name": "stderr",
     "output_type": "stream",
     "text": [
      "\r",
      " 62%|███████████████████████▉               | 1690/2747 [02:45<01:25, 12.41it/s]"
     ]
    },
    {
     "name": "stdout",
     "output_type": "stream",
     "text": [
      "1690  image file:  KIC11295026_morp0.9.png\n",
      "1/1 [==============================] - 0s 47ms/step\n",
      "1691  image file:  KIC08481574_morp0.95.png\n",
      "1/1 [==============================] - 0s 51ms/step\n"
     ]
    },
    {
     "name": "stderr",
     "output_type": "stream",
     "text": [
      "\r",
      " 62%|████████████████████████               | 1692/2747 [02:45<01:25, 12.37it/s]"
     ]
    },
    {
     "name": "stdout",
     "output_type": "stream",
     "text": [
      "1692  image file:  KIC06042214_morp0.02.png\n",
      "1/1 [==============================] - 0s 51ms/step\n",
      "1693  image file:  KIC11284227_morp0.96.png\n",
      "1/1 [==============================] - 0s 51ms/step\n"
     ]
    },
    {
     "name": "stderr",
     "output_type": "stream",
     "text": [
      "\r",
      " 62%|████████████████████████               | 1694/2747 [02:45<01:26, 12.24it/s]"
     ]
    },
    {
     "name": "stdout",
     "output_type": "stream",
     "text": [
      "1694  image file:  KIC03839964_morp0.8.png\n",
      "1/1 [==============================] - 0s 49ms/step\n",
      "1695  image file:  KIC06191574_morp0.5.png\n",
      "1/1 [==============================] - 0s 52ms/step\n"
     ]
    },
    {
     "name": "stderr",
     "output_type": "stream",
     "text": [
      "\r",
      " 62%|████████████████████████               | 1696/2747 [02:45<01:26, 12.10it/s]"
     ]
    },
    {
     "name": "stdout",
     "output_type": "stream",
     "text": [
      "1696  image file:  KIC03102024_morp0.15.png\n",
      "1/1 [==============================] - 0s 51ms/step\n",
      "1697  image file:  KIC07378178_morp0.71.png\n",
      "1/1 [==============================] - 0s 52ms/step\n"
     ]
    },
    {
     "name": "stderr",
     "output_type": "stream",
     "text": [
      "\r",
      " 62%|████████████████████████               | 1698/2747 [02:46<01:26, 12.06it/s]"
     ]
    },
    {
     "name": "stdout",
     "output_type": "stream",
     "text": [
      "1698  image file:  KIC03442054_morp0.02.png\n",
      "1/1 [==============================] - 0s 54ms/step\n",
      "1699  image file:  KIC03830820_morp0.06.png\n",
      "1/1 [==============================] - 0s 52ms/step\n"
     ]
    },
    {
     "name": "stderr",
     "output_type": "stream",
     "text": [
      "\r",
      " 62%|████████████████████████▏              | 1700/2747 [02:46<01:27, 11.92it/s]"
     ]
    },
    {
     "name": "stdout",
     "output_type": "stream",
     "text": [
      "1700  image file:  KIC07905209_morp0.96.png\n",
      "1/1 [==============================] - 0s 54ms/step\n",
      "1701  image file:  KIC09163674_morp0.54.png\n",
      "1/1 [==============================] - 0s 54ms/step\n"
     ]
    },
    {
     "name": "stderr",
     "output_type": "stream",
     "text": [
      "\r",
      " 62%|████████████████████████▏              | 1702/2747 [02:46<01:28, 11.77it/s]"
     ]
    },
    {
     "name": "stdout",
     "output_type": "stream",
     "text": [
      "1702  image file:  KIC02448320_morp0.93.png\n",
      "1/1 [==============================] - 0s 52ms/step\n",
      "1703  image file:  KIC07605600_morp0.19.png\n",
      "1/1 [==============================] - 0s 52ms/step\n"
     ]
    },
    {
     "name": "stderr",
     "output_type": "stream",
     "text": [
      "\r",
      " 62%|████████████████████████▏              | 1704/2747 [02:46<01:33, 11.14it/s]"
     ]
    },
    {
     "name": "stdout",
     "output_type": "stream",
     "text": [
      "1704  image file:  KIC10228240_morp0.88.png\n",
      "1/1 [==============================] - 0s 60ms/step\n",
      "1705  image file:  KIC07698650_morp0.88.png\n",
      "1/1 [==============================] - 0s 52ms/step\n"
     ]
    },
    {
     "name": "stderr",
     "output_type": "stream",
     "text": [
      "\r",
      " 62%|████████████████████████▏              | 1706/2747 [02:46<01:33, 11.08it/s]"
     ]
    },
    {
     "name": "stdout",
     "output_type": "stream",
     "text": [
      "1706  image file:  KIC08378922_morp0.06.png\n",
      "1/1 [==============================] - 0s 54ms/step\n",
      "1707  image file:  KIC11922782_morp0.37.png\n",
      "1/1 [==============================] - 0s 55ms/step\n"
     ]
    },
    {
     "name": "stderr",
     "output_type": "stream",
     "text": [
      "\r",
      " 62%|████████████████████████▏              | 1708/2747 [02:47<01:32, 11.18it/s]"
     ]
    },
    {
     "name": "stdout",
     "output_type": "stream",
     "text": [
      "1708  image file:  KIC12405950_morp0.28.png\n",
      "1/1 [==============================] - 0s 50ms/step\n",
      "1709  image file:  KIC09963009_morp0.06.png\n",
      "1/1 [==============================] - 0s 53ms/step\n"
     ]
    },
    {
     "name": "stderr",
     "output_type": "stream",
     "text": [
      "\r",
      " 62%|████████████████████████▎              | 1710/2747 [02:47<01:31, 11.29it/s]"
     ]
    },
    {
     "name": "stdout",
     "output_type": "stream",
     "text": [
      "1710  image file:  KIC10292238_morp0.02.png\n",
      "1/1 [==============================] - 0s 52ms/step\n",
      "1711  image file:  KIC12071006_morp0.53.png\n",
      "1/1 [==============================] - 0s 53ms/step\n"
     ]
    },
    {
     "name": "stderr",
     "output_type": "stream",
     "text": [
      "\r",
      " 62%|████████████████████████▎              | 1712/2747 [02:47<01:30, 11.38it/s]"
     ]
    },
    {
     "name": "stdout",
     "output_type": "stream",
     "text": [
      "1712  image file:  KIC02720096_morp-1.0.png\n",
      "1/1 [==============================] - 0s 51ms/step\n",
      "1713  image file:  KIC07097571_morp0.55.png\n",
      "1/1 [==============================] - 0s 51ms/step\n"
     ]
    },
    {
     "name": "stderr",
     "output_type": "stream",
     "text": [
      "\r",
      " 62%|████████████████████████▎              | 1714/2747 [02:47<01:34, 10.93it/s]"
     ]
    },
    {
     "name": "stdout",
     "output_type": "stream",
     "text": [
      "1714  image file:  KIC04058169_morp0.0.png\n",
      "1/1 [==============================] - 0s 54ms/step\n",
      "1715  image file:  KIC08374580_morp0.0.png\n",
      "1/1 [==============================] - 0s 52ms/step\n"
     ]
    },
    {
     "name": "stderr",
     "output_type": "stream",
     "text": [
      "\r",
      " 62%|████████████████████████▎              | 1716/2747 [02:47<01:34, 10.97it/s]"
     ]
    },
    {
     "name": "stdout",
     "output_type": "stream",
     "text": [
      "1716  image file:  KIC11457726_morp0.47.png\n",
      "1/1 [==============================] - 0s 52ms/step\n",
      "1717  image file:  KIC09243795_morp0.14.png\n",
      "1/1 [==============================] - 0s 53ms/step\n"
     ]
    },
    {
     "name": "stderr",
     "output_type": "stream",
     "text": [
      "\r",
      " 63%|████████████████████████▍              | 1718/2747 [02:47<01:32, 11.12it/s]"
     ]
    },
    {
     "name": "stdout",
     "output_type": "stream",
     "text": [
      "1718  image file:  KIC09635529_morp0.39.png\n",
      "1/1 [==============================] - 0s 52ms/step\n",
      "1719  image file:  KIC03437778_morp0.68.png\n",
      "1/1 [==============================] - 0s 53ms/step\n"
     ]
    },
    {
     "name": "stderr",
     "output_type": "stream",
     "text": [
      "\r",
      " 63%|████████████████████████▍              | 1720/2747 [02:48<01:31, 11.25it/s]"
     ]
    },
    {
     "name": "stdout",
     "output_type": "stream",
     "text": [
      "1720  image file:  KIC10557008_morp0.8.png\n",
      "1/1 [==============================] - 0s 58ms/step\n",
      "1721  image file:  KIC06058614_morp0.27.png\n",
      "1/1 [==============================] - 0s 54ms/step\n"
     ]
    },
    {
     "name": "stderr",
     "output_type": "stream",
     "text": [
      "\r",
      " 63%|████████████████████████▍              | 1722/2747 [02:48<01:32, 11.10it/s]"
     ]
    },
    {
     "name": "stdout",
     "output_type": "stream",
     "text": [
      "1722  image file:  KIC11233911_morp0.33.png\n",
      "1/1 [==============================] - 0s 54ms/step\n",
      "1723  image file:  KIC12506351_morp0.37.png\n",
      "1/1 [==============================] - 0s 53ms/step\n"
     ]
    },
    {
     "name": "stderr",
     "output_type": "stream",
     "text": [
      "\r",
      " 63%|████████████████████████▍              | 1724/2747 [02:48<01:31, 11.15it/s]"
     ]
    },
    {
     "name": "stdout",
     "output_type": "stream",
     "text": [
      "1724  image file:  KIC09851943_morp0.61.png\n",
      "1/1 [==============================] - 0s 52ms/step\n",
      "1725  image file:  KIC05876805_morp0.15.png\n",
      "1/1 [==============================] - 0s 53ms/step\n"
     ]
    },
    {
     "name": "stderr",
     "output_type": "stream",
     "text": [
      "\r",
      " 63%|████████████████████████▌              | 1726/2747 [02:48<01:30, 11.26it/s]"
     ]
    },
    {
     "name": "stdout",
     "output_type": "stream",
     "text": [
      "1726  image file:  KIC07269797_morp0.86.png\n",
      "1/1 [==============================] - 0s 53ms/step\n",
      "1727  image file:  KIC10091110_morp0.25.png\n",
      "1/1 [==============================] - 0s 53ms/step\n"
     ]
    },
    {
     "name": "stderr",
     "output_type": "stream",
     "text": [
      "\r",
      " 63%|████████████████████████▌              | 1728/2747 [02:48<01:30, 11.31it/s]"
     ]
    },
    {
     "name": "stdout",
     "output_type": "stream",
     "text": [
      "1728  image file:  KIC08621026_morp0.35.png\n",
      "1/1 [==============================] - 0s 52ms/step\n",
      "1729  image file:  KIC03761175_morp0.91.png\n",
      "1/1 [==============================] - 0s 53ms/step\n"
     ]
    },
    {
     "name": "stderr",
     "output_type": "stream",
     "text": [
      "\r",
      " 63%|████████████████████████▌              | 1730/2747 [02:49<01:29, 11.40it/s]"
     ]
    },
    {
     "name": "stdout",
     "output_type": "stream",
     "text": [
      "1730  image file:  KIC06220497_morp0.62.png\n",
      "1/1 [==============================] - 0s 53ms/step\n",
      "1731  image file:  KIC06678383_morp0.02.png\n",
      "1/1 [==============================] - 0s 67ms/step\n"
     ]
    },
    {
     "name": "stderr",
     "output_type": "stream",
     "text": [
      "\r",
      " 63%|████████████████████████▌              | 1732/2747 [02:49<01:31, 11.05it/s]"
     ]
    },
    {
     "name": "stdout",
     "output_type": "stream",
     "text": [
      "1732  image file:  KIC01026957_morp0.01.png\n",
      "1/1 [==============================] - 0s 52ms/step\n",
      "1733  image file:  KIC06197038_morp0.46.png\n",
      "1/1 [==============================] - 0s 52ms/step\n"
     ]
    },
    {
     "name": "stderr",
     "output_type": "stream",
     "text": [
      "\r",
      " 63%|████████████████████████▌              | 1734/2747 [02:49<01:30, 11.16it/s]"
     ]
    },
    {
     "name": "stdout",
     "output_type": "stream",
     "text": [
      "1734  image file:  KIC07624297_morp0.07.png\n",
      "1/1 [==============================] - 0s 55ms/step\n",
      "1735  image file:  KIC07258889_morp0.59.png\n",
      "1/1 [==============================] - 0s 52ms/step\n"
     ]
    },
    {
     "name": "stderr",
     "output_type": "stream",
     "text": [
      "\r",
      " 63%|████████████████████████▋              | 1736/2747 [02:49<01:30, 11.17it/s]"
     ]
    },
    {
     "name": "stdout",
     "output_type": "stream",
     "text": [
      "1736  image file:  KIC08823868_morp0.16.png\n",
      "1/1 [==============================] - 0s 53ms/step\n",
      "1737  image file:  KIC10156064_morp0.32.png\n",
      "1/1 [==============================] - 0s 53ms/step\n"
     ]
    },
    {
     "name": "stderr",
     "output_type": "stream",
     "text": [
      "\r",
      " 63%|████████████████████████▋              | 1738/2747 [02:49<01:29, 11.24it/s]"
     ]
    },
    {
     "name": "stdout",
     "output_type": "stream",
     "text": [
      "1738  image file:  KIC07763269_morp0.12.png\n",
      "1/1 [==============================] - 0s 55ms/step\n",
      "1739  image file:  KIC09020426_morp0.59.png\n",
      "1/1 [==============================] - 0s 53ms/step\n"
     ]
    },
    {
     "name": "stderr",
     "output_type": "stream",
     "text": [
      "\r",
      " 63%|████████████████████████▋              | 1740/2747 [02:49<01:33, 10.74it/s]"
     ]
    },
    {
     "name": "stdout",
     "output_type": "stream",
     "text": [
      "1740  image file:  KIC07838639_morp0.27.png\n",
      "1/1 [==============================] - 0s 54ms/step\n",
      "1741  image file:  KIC08023317_morp0.13.png\n",
      "1/1 [==============================] - 0s 53ms/step\n"
     ]
    },
    {
     "name": "stderr",
     "output_type": "stream",
     "text": [
      "\r",
      " 63%|████████████████████████▋              | 1742/2747 [02:50<01:33, 10.79it/s]"
     ]
    },
    {
     "name": "stdout",
     "output_type": "stream",
     "text": [
      "1742  image file:  KIC07950775_morp0.12.png\n",
      "1/1 [==============================] - 0s 59ms/step\n",
      "1743  image file:  KIC08908102_morp-1.0.png\n",
      "1/1 [==============================] - 0s 53ms/step\n"
     ]
    },
    {
     "name": "stderr",
     "output_type": "stream",
     "text": [
      "\r",
      " 63%|████████████████████████▊              | 1744/2747 [02:50<01:32, 10.90it/s]"
     ]
    },
    {
     "name": "stdout",
     "output_type": "stream",
     "text": [
      "1744  image file:  KIC03232823_morp0.94.png\n",
      "1/1 [==============================] - 0s 53ms/step\n",
      "1745  image file:  KIC07501230_morp0.75.png\n",
      "1/1 [==============================] - 0s 52ms/step\n"
     ]
    },
    {
     "name": "stderr",
     "output_type": "stream",
     "text": [
      "\r",
      " 64%|████████████████████████▊              | 1746/2747 [02:50<01:30, 11.09it/s]"
     ]
    },
    {
     "name": "stdout",
     "output_type": "stream",
     "text": [
      "1746  image file:  KIC07119912_morp0.98.png\n",
      "1/1 [==============================] - 0s 52ms/step\n",
      "1747  image file:  KIC04826439_morp0.54.png\n",
      "1/1 [==============================] - 0s 54ms/step\n"
     ]
    },
    {
     "name": "stderr",
     "output_type": "stream",
     "text": [
      "\r",
      " 64%|████████████████████████▊              | 1748/2747 [02:50<01:29, 11.22it/s]"
     ]
    },
    {
     "name": "stdout",
     "output_type": "stream",
     "text": [
      "1748  image file:  KIC10225800_morp0.37.png\n",
      "1/1 [==============================] - 0s 54ms/step\n",
      "1749  image file:  KIC07740302_morp0.92.png\n",
      "1/1 [==============================] - 0s 53ms/step\n"
     ]
    },
    {
     "name": "stderr",
     "output_type": "stream",
     "text": [
      "\r",
      " 64%|████████████████████████▊              | 1750/2747 [02:50<01:29, 11.19it/s]"
     ]
    },
    {
     "name": "stdout",
     "output_type": "stream",
     "text": [
      "1750  image file:  KIC03953981_morp0.75.png\n",
      "1/1 [==============================] - 0s 54ms/step\n",
      "1751  image file:  KIC04241946_morp0.75.png\n",
      "1/1 [==============================] - 0s 53ms/step\n"
     ]
    },
    {
     "name": "stderr",
     "output_type": "stream",
     "text": [
      "\r",
      " 64%|████████████████████████▊              | 1752/2747 [02:50<01:28, 11.26it/s]"
     ]
    },
    {
     "name": "stdout",
     "output_type": "stream",
     "text": [
      "1752  image file:  KIC05783368_morp0.81.png\n",
      "1/1 [==============================] - 0s 52ms/step\n",
      "1753  image file:  KIC06665064_morp0.52.png\n",
      "1/1 [==============================] - 0s 56ms/step\n"
     ]
    },
    {
     "name": "stderr",
     "output_type": "stream",
     "text": [
      "\r",
      " 64%|████████████████████████▉              | 1754/2747 [02:51<01:32, 10.75it/s]"
     ]
    },
    {
     "name": "stdout",
     "output_type": "stream",
     "text": [
      "1754  image file:  KIC11073223_morp0.11.png\n",
      "1/1 [==============================] - 0s 53ms/step\n",
      "1755  image file:  KIC06436038_morp0.96.png\n",
      "1/1 [==============================] - 0s 53ms/step\n"
     ]
    },
    {
     "name": "stderr",
     "output_type": "stream",
     "text": [
      "\r",
      " 64%|████████████████████████▉              | 1756/2747 [02:51<01:30, 11.00it/s]"
     ]
    },
    {
     "name": "stdout",
     "output_type": "stream",
     "text": [
      "1756  image file:  KIC07383021_morp0.82.png\n",
      "1/1 [==============================] - 0s 54ms/step\n",
      "1757  image file:  KIC09592575_morp0.46.png\n",
      "1/1 [==============================] - 0s 54ms/step\n"
     ]
    },
    {
     "name": "stderr",
     "output_type": "stream",
     "text": [
      "\r",
      " 64%|████████████████████████▉              | 1758/2747 [02:51<01:29, 10.99it/s]"
     ]
    },
    {
     "name": "stdout",
     "output_type": "stream",
     "text": [
      "1758  image file:  KIC08176653_morp0.13.png\n",
      "1/1 [==============================] - 0s 54ms/step\n",
      "1759  image file:  KIC10818544_morp0.9.png\n",
      "1/1 [==============================] - 0s 54ms/step\n"
     ]
    },
    {
     "name": "stderr",
     "output_type": "stream",
     "text": [
      "\r",
      " 64%|████████████████████████▉              | 1760/2747 [02:51<01:29, 11.06it/s]"
     ]
    },
    {
     "name": "stdout",
     "output_type": "stream",
     "text": [
      "1760  image file:  KIC06843507_morp0.78.png\n",
      "1/1 [==============================] - 0s 53ms/step\n",
      "1761  image file:  KIC11245381_morp0.75.png\n",
      "1/1 [==============================] - 0s 52ms/step\n"
     ]
    },
    {
     "name": "stderr",
     "output_type": "stream",
     "text": [
      "\r",
      " 64%|█████████████████████████              | 1762/2747 [02:51<01:28, 11.14it/s]"
     ]
    },
    {
     "name": "stdout",
     "output_type": "stream",
     "text": [
      "1762  image file:  KIC09592705_morp0.24.png\n",
      "1/1 [==============================] - 0s 61ms/step\n",
      "1763  image file:  KIC05450322_morp0.94.png\n",
      "1/1 [==============================] - 0s 51ms/step\n"
     ]
    },
    {
     "name": "stderr",
     "output_type": "stream",
     "text": [
      "\r",
      " 64%|█████████████████████████              | 1764/2747 [02:52<01:29, 11.01it/s]"
     ]
    },
    {
     "name": "stdout",
     "output_type": "stream",
     "text": [
      "1764  image file:  KIC08432040_morp0.97.png\n",
      "1/1 [==============================] - 0s 61ms/step\n",
      "1765  image file:  KIC10480952_morp0.38.png\n",
      "1/1 [==============================] - 0s 52ms/step\n"
     ]
    },
    {
     "name": "stderr",
     "output_type": "stream",
     "text": [
      "\r",
      " 64%|█████████████████████████              | 1766/2747 [02:52<01:28, 11.06it/s]"
     ]
    },
    {
     "name": "stdout",
     "output_type": "stream",
     "text": [
      "1766  image file:  KIC06109688_morp0.18.png\n",
      "1/1 [==============================] - 0s 49ms/step\n",
      "1767  image file:  KIC07049486_morp0.09.png\n",
      "1/1 [==============================] - 0s 50ms/step\n"
     ]
    },
    {
     "name": "stderr",
     "output_type": "stream",
     "text": [
      "\r",
      " 64%|█████████████████████████              | 1768/2747 [02:52<01:26, 11.31it/s]"
     ]
    },
    {
     "name": "stdout",
     "output_type": "stream",
     "text": [
      "1768  image file:  KIC04936180_morp-1.0.png\n",
      "1/1 [==============================] - 0s 49ms/step\n",
      "1769  image file:  KIC06693555_morp-1.0.png\n",
      "1/1 [==============================] - 0s 50ms/step\n"
     ]
    },
    {
     "name": "stderr",
     "output_type": "stream",
     "text": [
      "\r",
      " 64%|█████████████████████████▏             | 1770/2747 [02:52<01:24, 11.56it/s]"
     ]
    },
    {
     "name": "stdout",
     "output_type": "stream",
     "text": [
      "1770  image file:  KIC08143170_morp0.15.png\n",
      "1/1 [==============================] - 0s 50ms/step\n",
      "1771  image file:  KIC09345838_morp0.75.png\n",
      "1/1 [==============================] - 0s 50ms/step\n"
     ]
    },
    {
     "name": "stderr",
     "output_type": "stream",
     "text": [
      "\r",
      " 65%|█████████████████████████▏             | 1772/2747 [02:52<01:22, 11.75it/s]"
     ]
    },
    {
     "name": "stdout",
     "output_type": "stream",
     "text": [
      "1772  image file:  KIC04252226_morp0.07.png\n",
      "1/1 [==============================] - 0s 50ms/step\n",
      "1773  image file:  KIC08245326_morp0.94.png\n",
      "1/1 [==============================] - 0s 49ms/step\n"
     ]
    },
    {
     "name": "stderr",
     "output_type": "stream",
     "text": [
      "\r",
      " 65%|█████████████████████████▏             | 1774/2747 [02:52<01:21, 11.89it/s]"
     ]
    },
    {
     "name": "stdout",
     "output_type": "stream",
     "text": [
      "1774  image file:  KIC02580872_morp0.12.png\n",
      "1/1 [==============================] - 0s 51ms/step\n",
      "1775  image file:  KIC05112567_morp0.92.png\n",
      "1/1 [==============================] - 0s 51ms/step\n"
     ]
    },
    {
     "name": "stderr",
     "output_type": "stream",
     "text": [
      "\r",
      " 65%|█████████████████████████▏             | 1776/2747 [02:53<01:21, 11.84it/s]"
     ]
    },
    {
     "name": "stdout",
     "output_type": "stream",
     "text": [
      "1776  image file:  KIC09161428_morp0.92.png\n",
      "1/1 [==============================] - 0s 51ms/step\n",
      "1777  image file:  KIC10292413_morp0.95.png\n",
      "1/1 [==============================] - 0s 49ms/step\n"
     ]
    },
    {
     "name": "stderr",
     "output_type": "stream",
     "text": [
      "\r",
      " 65%|█████████████████████████▏             | 1778/2747 [02:53<01:21, 11.92it/s]"
     ]
    },
    {
     "name": "stdout",
     "output_type": "stream",
     "text": [
      "1778  image file:  KIC07366145_morp0.9.png\n",
      "1/1 [==============================] - 0s 49ms/step\n",
      "1779  image file:  KIC05986209_morp0.03.png\n",
      "1/1 [==============================] - 0s 49ms/step\n"
     ]
    },
    {
     "name": "stderr",
     "output_type": "stream",
     "text": [
      "\r",
      " 65%|█████████████████████████▎             | 1780/2747 [02:53<01:20, 12.04it/s]"
     ]
    },
    {
     "name": "stdout",
     "output_type": "stream",
     "text": [
      "1780  image file:  KIC06847018_morp0.06.png\n",
      "1/1 [==============================] - 0s 50ms/step\n",
      "1781  image file:  KIC06449358_morp0.31.png\n",
      "1/1 [==============================] - 0s 50ms/step\n"
     ]
    },
    {
     "name": "stderr",
     "output_type": "stream",
     "text": [
      "\r",
      " 65%|█████████████████████████▎             | 1782/2747 [02:53<01:19, 12.11it/s]"
     ]
    },
    {
     "name": "stdout",
     "output_type": "stream",
     "text": [
      "1782  image file:  KIC09268105_morp0.76.png\n",
      "1/1 [==============================] - 0s 49ms/step\n",
      "1783  image file:  KIC06844489_morp0.84.png\n",
      "1/1 [==============================] - 0s 49ms/step\n"
     ]
    },
    {
     "name": "stderr",
     "output_type": "stream",
     "text": [
      "\r",
      " 65%|█████████████████████████▎             | 1784/2747 [02:53<01:19, 12.18it/s]"
     ]
    },
    {
     "name": "stdout",
     "output_type": "stream",
     "text": [
      "1784  image file:  KIC07273033_morp0.96.png\n",
      "1/1 [==============================] - 0s 50ms/step\n",
      "1785  image file:  KIC08451777_morp0.84.png\n",
      "1/1 [==============================] - 0s 50ms/step\n"
     ]
    },
    {
     "name": "stderr",
     "output_type": "stream",
     "text": [
      "\r",
      " 65%|█████████████████████████▎             | 1786/2747 [02:53<01:19, 12.10it/s]"
     ]
    },
    {
     "name": "stdout",
     "output_type": "stream",
     "text": [
      "1786  image file:  KIC09941387_morp0.03.png\n",
      "1/1 [==============================] - 0s 50ms/step\n",
      "1787  image file:  KIC08374499_morp0.28.png\n",
      "1/1 [==============================] - 0s 51ms/step\n"
     ]
    },
    {
     "name": "stderr",
     "output_type": "stream",
     "text": [
      "\r",
      " 65%|█████████████████████████▍             | 1788/2747 [02:54<01:19, 12.08it/s]"
     ]
    },
    {
     "name": "stdout",
     "output_type": "stream",
     "text": [
      "1788  image file:  KIC09145846_morp0.96.png\n",
      "1/1 [==============================] - 0s 50ms/step\n",
      "1789  image file:  KIC09001468_morp0.12.png\n",
      "1/1 [==============================] - 0s 49ms/step\n"
     ]
    },
    {
     "name": "stderr",
     "output_type": "stream",
     "text": [
      "\r",
      " 65%|█████████████████████████▍             | 1790/2747 [02:54<01:18, 12.13it/s]"
     ]
    },
    {
     "name": "stdout",
     "output_type": "stream",
     "text": [
      "1790  image file:  KIC03241619_morp0.44.png\n",
      "1/1 [==============================] - 0s 49ms/step\n",
      "1791  image file:  KIC02445134_morp0.16.png\n",
      "1/1 [==============================] - 0s 49ms/step\n"
     ]
    },
    {
     "name": "stderr",
     "output_type": "stream",
     "text": [
      "\r",
      " 65%|█████████████████████████▍             | 1792/2747 [02:54<01:18, 12.21it/s]"
     ]
    },
    {
     "name": "stdout",
     "output_type": "stream",
     "text": [
      "1792  image file:  KIC04044005_morp0.02.png\n",
      "1/1 [==============================] - 0s 49ms/step\n",
      "1793  image file:  KIC09767392_morp0.5.png\n",
      "1/1 [==============================] - 0s 51ms/step\n"
     ]
    },
    {
     "name": "stderr",
     "output_type": "stream",
     "text": [
      "\r",
      " 65%|█████████████████████████▍             | 1794/2747 [02:54<01:18, 12.15it/s]"
     ]
    },
    {
     "name": "stdout",
     "output_type": "stream",
     "text": [
      "1794  image file:  KIC07907688_morp-1.0.png\n",
      "1/1 [==============================] - 0s 50ms/step\n",
      "1795  image file:  KIC04067110_morp0.16.png\n",
      "1/1 [==============================] - 0s 49ms/step\n"
     ]
    },
    {
     "name": "stderr",
     "output_type": "stream",
     "text": [
      "\r",
      " 65%|█████████████████████████▍             | 1796/2747 [02:54<01:18, 12.17it/s]"
     ]
    },
    {
     "name": "stdout",
     "output_type": "stream",
     "text": [
      "1796  image file:  KIC10128961_morp0.86.png\n",
      "1/1 [==============================] - 0s 50ms/step\n",
      "1797  image file:  KIC07284688_morp0.64.png\n",
      "1/1 [==============================] - 0s 57ms/step\n"
     ]
    },
    {
     "name": "stderr",
     "output_type": "stream",
     "text": [
      "\r",
      " 65%|█████████████████████████▌             | 1798/2747 [02:54<01:18, 12.02it/s]"
     ]
    },
    {
     "name": "stdout",
     "output_type": "stream",
     "text": [
      "1798  image file:  KIC05543482_morp0.8.png\n",
      "1/1 [==============================] - 0s 50ms/step\n",
      "1799  image file:  KIC05022573_morp0.98.png\n",
      "1/1 [==============================] - 0s 49ms/step\n"
     ]
    },
    {
     "name": "stderr",
     "output_type": "stream",
     "text": [
      "\r",
      " 66%|█████████████████████████▌             | 1800/2747 [02:55<01:18, 12.10it/s]"
     ]
    },
    {
     "name": "stdout",
     "output_type": "stream",
     "text": [
      "1800  image file:  KIC05435816_morp0.0.png\n",
      "1/1 [==============================] - 0s 50ms/step\n",
      "1801  image file:  KIC08013439_morp0.1.png\n",
      "1/1 [==============================] - 0s 48ms/step\n"
     ]
    },
    {
     "name": "stderr",
     "output_type": "stream",
     "text": [
      "\r",
      " 66%|█████████████████████████▌             | 1802/2747 [02:55<01:17, 12.18it/s]"
     ]
    },
    {
     "name": "stdout",
     "output_type": "stream",
     "text": [
      "1802  image file:  KIC08151107_morp-1.0.png\n",
      "1/1 [==============================] - 0s 49ms/step\n",
      "1803  image file:  KIC01026032_morp0.15.png\n",
      "1/1 [==============================] - 0s 49ms/step\n"
     ]
    },
    {
     "name": "stderr",
     "output_type": "stream",
     "text": [
      "\r",
      " 66%|█████████████████████████▌             | 1804/2747 [02:55<01:17, 12.20it/s]"
     ]
    },
    {
     "name": "stdout",
     "output_type": "stream",
     "text": [
      "1804  image file:  KIC08345358_morp0.12.png\n",
      "1/1 [==============================] - 0s 49ms/step\n",
      "1805  image file:  KIC07695093_morp0.27.png\n",
      "1/1 [==============================] - 0s 49ms/step\n"
     ]
    },
    {
     "name": "stderr",
     "output_type": "stream",
     "text": [
      "\r",
      " 66%|█████████████████████████▋             | 1806/2747 [02:55<01:16, 12.26it/s]"
     ]
    },
    {
     "name": "stdout",
     "output_type": "stream",
     "text": [
      "1806  image file:  KIC06853229_morp0.96.png\n",
      "1/1 [==============================] - 0s 49ms/step\n",
      "1807  image file:  KIC08285349_morp0.9.png\n",
      "1/1 [==============================] - 0s 49ms/step\n"
     ]
    },
    {
     "name": "stderr",
     "output_type": "stream",
     "text": [
      "\r",
      " 66%|█████████████████████████▋             | 1808/2747 [02:55<01:16, 12.30it/s]"
     ]
    },
    {
     "name": "stdout",
     "output_type": "stream",
     "text": [
      "1808  image file:  KIC11097678_morp0.9.png\n",
      "1/1 [==============================] - 0s 49ms/step\n",
      "1809  image file:  KIC05255552_morp0.17.png\n",
      "1/1 [==============================] - 0s 53ms/step\n"
     ]
    },
    {
     "name": "stderr",
     "output_type": "stream",
     "text": [
      "\r",
      " 66%|█████████████████████████▋             | 1810/2747 [02:55<01:16, 12.21it/s]"
     ]
    },
    {
     "name": "stdout",
     "output_type": "stream",
     "text": [
      "1810  image file:  KIC06041734_morp0.04.png\n",
      "1/1 [==============================] - 0s 51ms/step\n",
      "1811  image file:  KIC07362696_morp0.12.png\n",
      "1/1 [==============================] - 0s 53ms/step\n"
     ]
    },
    {
     "name": "stderr",
     "output_type": "stream",
     "text": [
      "\r",
      " 66%|█████████████████████████▋             | 1812/2747 [02:56<01:17, 12.01it/s]"
     ]
    },
    {
     "name": "stdout",
     "output_type": "stream",
     "text": [
      "1812  image file:  KIC09489411_morp0.66.png\n",
      "1/1 [==============================] - 0s 53ms/step\n",
      "1813  image file:  KIC11347875_morp0.86.png\n",
      "1/1 [==============================] - 0s 51ms/step\n"
     ]
    },
    {
     "name": "stderr",
     "output_type": "stream",
     "text": [
      "\r",
      " 66%|█████████████████████████▊             | 1814/2747 [02:56<01:18, 11.85it/s]"
     ]
    },
    {
     "name": "stdout",
     "output_type": "stream",
     "text": [
      "1814  image file:  KIC09965691_morp-1.0.png\n",
      "1/1 [==============================] - 0s 53ms/step\n",
      "1815  image file:  KIC04936334_morp0.96.png\n",
      "1/1 [==============================] - 0s 52ms/step\n"
     ]
    },
    {
     "name": "stderr",
     "output_type": "stream",
     "text": [
      "\r",
      " 66%|█████████████████████████▊             | 1816/2747 [02:56<01:18, 11.81it/s]"
     ]
    },
    {
     "name": "stdout",
     "output_type": "stream",
     "text": [
      "1816  image file:  KIC12109267_morp0.27.png\n",
      "1/1 [==============================] - 0s 51ms/step\n",
      "1817  image file:  KIC05728139_morp0.27.png\n",
      "1/1 [==============================] - 0s 49ms/step\n"
     ]
    },
    {
     "name": "stderr",
     "output_type": "stream",
     "text": [
      "\r",
      " 66%|█████████████████████████▊             | 1818/2747 [02:56<01:21, 11.35it/s]"
     ]
    },
    {
     "name": "stdout",
     "output_type": "stream",
     "text": [
      "1818  image file:  KIC06672229_morp0.09.png\n",
      "1/1 [==============================] - 0s 57ms/step\n",
      "1819  image file:  KIC03862246_morp0.13.png\n",
      "1/1 [==============================] - 0s 59ms/step\n"
     ]
    },
    {
     "name": "stderr",
     "output_type": "stream",
     "text": [
      "\r",
      " 66%|█████████████████████████▊             | 1820/2747 [02:56<01:22, 11.19it/s]"
     ]
    },
    {
     "name": "stdout",
     "output_type": "stream",
     "text": [
      "1820  image file:  KIC09291629_morp0.53.png\n",
      "1/1 [==============================] - 0s 61ms/step\n",
      "1821  image file:  KIC05077629_morp0.12.png\n",
      "1/1 [==============================] - 0s 50ms/step\n"
     ]
    },
    {
     "name": "stderr",
     "output_type": "stream",
     "text": [
      "\r",
      " 66%|█████████████████████████▊             | 1822/2747 [02:56<01:23, 11.02it/s]"
     ]
    },
    {
     "name": "stdout",
     "output_type": "stream",
     "text": [
      "1822  image file:  KIC04375101_morp0.05.png\n",
      "1/1 [==============================] - 0s 51ms/step\n",
      "1823  image file:  KIC12153332_morp0.88.png\n",
      "1/1 [==============================] - 0s 53ms/step\n"
     ]
    },
    {
     "name": "stderr",
     "output_type": "stream",
     "text": [
      "\r",
      " 66%|█████████████████████████▉             | 1824/2747 [02:57<01:22, 11.23it/s]"
     ]
    },
    {
     "name": "stdout",
     "output_type": "stream",
     "text": [
      "1824  image file:  KIC10937609_morp0.5.png\n",
      "1/1 [==============================] - 0s 54ms/step\n",
      "1825  image file:  KIC08382182_morp0.93.png\n",
      "1/1 [==============================] - 0s 52ms/step\n"
     ]
    },
    {
     "name": "stderr",
     "output_type": "stream",
     "text": [
      "\r",
      " 66%|█████████████████████████▉             | 1826/2747 [02:57<01:21, 11.37it/s]"
     ]
    },
    {
     "name": "stdout",
     "output_type": "stream",
     "text": [
      "1826  image file:  KIC06852488_morp0.56.png\n",
      "1/1 [==============================] - 0s 52ms/step\n",
      "1827  image file:  KIC08738115_morp0.06.png\n",
      "1/1 [==============================] - 0s 54ms/step\n"
     ]
    },
    {
     "name": "stderr",
     "output_type": "stream",
     "text": [
      "\r",
      " 67%|█████████████████████████▉             | 1828/2747 [02:57<01:20, 11.46it/s]"
     ]
    },
    {
     "name": "stdout",
     "output_type": "stream",
     "text": [
      "1828  image file:  KIC08506766_morp0.03.png\n",
      "1/1 [==============================] - 0s 53ms/step\n",
      "1829  image file:  KIC09075704_morp0.68.png\n",
      "1/1 [==============================] - 0s 49ms/step\n"
     ]
    },
    {
     "name": "stderr",
     "output_type": "stream",
     "text": [
      "\r",
      " 67%|█████████████████████████▉             | 1830/2747 [02:57<01:19, 11.51it/s]"
     ]
    },
    {
     "name": "stdout",
     "output_type": "stream",
     "text": [
      "1830  image file:  KIC12004834_morp0.63.png\n",
      "1/1 [==============================] - 0s 49ms/step\n",
      "1831  image file:  KIC09282687_morp0.54.png\n",
      "1/1 [==============================] - 0s 48ms/step\n"
     ]
    },
    {
     "name": "stderr",
     "output_type": "stream",
     "text": [
      "\r",
      " 67%|██████████████████████████             | 1832/2747 [02:57<01:17, 11.79it/s]"
     ]
    },
    {
     "name": "stdout",
     "output_type": "stream",
     "text": [
      "1832  image file:  KIC09245929_morp0.94.png\n",
      "1/1 [==============================] - 0s 48ms/step\n",
      "1833  image file:  KIC06231401_morp0.15.png\n",
      "1/1 [==============================] - 0s 48ms/step\n"
     ]
    },
    {
     "name": "stderr",
     "output_type": "stream",
     "text": [
      "\r",
      " 67%|██████████████████████████             | 1834/2747 [02:57<01:15, 12.02it/s]"
     ]
    },
    {
     "name": "stdout",
     "output_type": "stream",
     "text": [
      "1834  image file:  KIC12013615_morp0.27.png\n",
      "1/1 [==============================] - 0s 48ms/step\n",
      "1835  image file:  KIC08984706_morp0.13.png\n",
      "1/1 [==============================] - 0s 48ms/step\n"
     ]
    },
    {
     "name": "stderr",
     "output_type": "stream",
     "text": [
      "\r",
      " 67%|██████████████████████████             | 1836/2747 [02:58<01:14, 12.18it/s]"
     ]
    },
    {
     "name": "stdout",
     "output_type": "stream",
     "text": [
      "1836  image file:  KIC11391181_morp0.12.png\n",
      "1/1 [==============================] - 0s 49ms/step\n",
      "1837  image file:  KIC12418816_morp0.47.png\n",
      "1/1 [==============================] - 0s 50ms/step\n"
     ]
    },
    {
     "name": "stderr",
     "output_type": "stream",
     "text": [
      "\r",
      " 67%|██████████████████████████             | 1838/2747 [02:58<01:14, 12.20it/s]"
     ]
    },
    {
     "name": "stdout",
     "output_type": "stream",
     "text": [
      "1838  image file:  KIC04639868_morp0.0.png\n",
      "1/1 [==============================] - 0s 49ms/step\n",
      "1839  image file:  KIC05897826_morp0.13.png\n",
      "1/1 [==============================] - 0s 50ms/step\n"
     ]
    },
    {
     "name": "stderr",
     "output_type": "stream",
     "text": [
      "\r",
      " 67%|██████████████████████████             | 1840/2747 [02:58<01:14, 12.16it/s]"
     ]
    },
    {
     "name": "stdout",
     "output_type": "stream",
     "text": [
      "1840  image file:  KIC07375348_morp0.09.png\n",
      "1/1 [==============================] - 0s 50ms/step\n",
      "1841  image file:  KIC08569819_morp0.17.png\n",
      "1/1 [==============================] - 0s 50ms/step\n"
     ]
    },
    {
     "name": "stderr",
     "output_type": "stream",
     "text": [
      "\r",
      " 67%|██████████████████████████▏            | 1842/2747 [02:58<01:14, 12.19it/s]"
     ]
    },
    {
     "name": "stdout",
     "output_type": "stream",
     "text": [
      "1842  image file:  KIC07549265_morp0.89.png\n",
      "1/1 [==============================] - 0s 48ms/step\n",
      "1843  image file:  KIC09907505_morp0.03.png\n",
      "1/1 [==============================] - 0s 48ms/step\n"
     ]
    },
    {
     "name": "stderr",
     "output_type": "stream",
     "text": [
      "\r",
      " 67%|██████████████████████████▏            | 1844/2747 [02:58<01:13, 12.31it/s]"
     ]
    },
    {
     "name": "stdout",
     "output_type": "stream",
     "text": [
      "1844  image file:  KIC06042031_morp0.59.png\n",
      "1/1 [==============================] - 0s 48ms/step\n",
      "1845  image file:  KIC02306756_morp0.0.png\n",
      "1/1 [==============================] - 0s 48ms/step\n"
     ]
    },
    {
     "name": "stderr",
     "output_type": "stream",
     "text": [
      "\r",
      " 67%|██████████████████████████▏            | 1846/2747 [02:58<01:12, 12.41it/s]"
     ]
    },
    {
     "name": "stdout",
     "output_type": "stream",
     "text": [
      "1846  image file:  KIC11190836_morp0.93.png\n",
      "1/1 [==============================] - 0s 48ms/step\n",
      "1847  image file:  KIC12104285_morp0.87.png\n",
      "1/1 [==============================] - 0s 49ms/step\n"
     ]
    },
    {
     "name": "stderr",
     "output_type": "stream",
     "text": [
      "\r",
      " 67%|██████████████████████████▏            | 1848/2747 [02:59<01:12, 12.35it/s]"
     ]
    },
    {
     "name": "stdout",
     "output_type": "stream",
     "text": [
      "1848  image file:  KIC04165960_morp0.1.png\n",
      "1/1 [==============================] - 0s 50ms/step\n",
      "1849  image file:  KIC09658118_morp0.11.png\n",
      "1/1 [==============================] - 0s 49ms/step\n"
     ]
    },
    {
     "name": "stderr",
     "output_type": "stream",
     "text": [
      "\r",
      " 67%|██████████████████████████▎            | 1850/2747 [02:59<01:12, 12.36it/s]"
     ]
    },
    {
     "name": "stdout",
     "output_type": "stream",
     "text": [
      "1850  image file:  KIC08257903_morp0.77.png\n",
      "1/1 [==============================] - 0s 49ms/step\n",
      "1851  image file:  KIC04678171_morp0.08.png\n",
      "1/1 [==============================] - 0s 48ms/step\n"
     ]
    },
    {
     "name": "stderr",
     "output_type": "stream",
     "text": [
      "\r",
      " 67%|██████████████████████████▎            | 1852/2747 [02:59<01:12, 12.41it/s]"
     ]
    },
    {
     "name": "stdout",
     "output_type": "stream",
     "text": [
      "1852  image file:  KIC08719324_morp-1.0.png\n",
      "1/1 [==============================] - 0s 49ms/step\n",
      "1853  image file:  KIC09091810_morp0.7.png\n",
      "1/1 [==============================] - 0s 49ms/step\n"
     ]
    },
    {
     "name": "stderr",
     "output_type": "stream",
     "text": [
      "\r",
      " 67%|██████████████████████████▎            | 1854/2747 [02:59<01:11, 12.41it/s]"
     ]
    },
    {
     "name": "stdout",
     "output_type": "stream",
     "text": [
      "1854  image file:  KIC03852655_morp0.1.png\n",
      "1/1 [==============================] - 0s 48ms/step\n",
      "1855  image file:  KIC09084778_morp0.5.png\n",
      "1/1 [==============================] - 0s 48ms/step\n"
     ]
    },
    {
     "name": "stderr",
     "output_type": "stream",
     "text": [
      "\r",
      " 68%|██████████████████████████▎            | 1856/2747 [02:59<01:11, 12.49it/s]"
     ]
    },
    {
     "name": "stdout",
     "output_type": "stream",
     "text": [
      "1856  image file:  KIC10487119_morp0.2.png\n",
      "1/1 [==============================] - 0s 49ms/step\n",
      "1857  image file:  KIC07382250_morp0.68.png\n",
      "1/1 [==============================] - 0s 50ms/step\n"
     ]
    },
    {
     "name": "stderr",
     "output_type": "stream",
     "text": [
      "\r",
      " 68%|██████████████████████████▍            | 1858/2747 [02:59<01:11, 12.39it/s]"
     ]
    },
    {
     "name": "stdout",
     "output_type": "stream",
     "text": [
      "1858  image file:  KIC09662581_morp0.79.png\n",
      "1/1 [==============================] - 0s 49ms/step\n",
      "1859  image file:  KIC03851320_morp0.82.png\n",
      "1/1 [==============================] - 0s 50ms/step\n"
     ]
    },
    {
     "name": "stderr",
     "output_type": "stream",
     "text": [
      "\r",
      " 68%|██████████████████████████▍            | 1860/2747 [03:00<01:11, 12.38it/s]"
     ]
    },
    {
     "name": "stdout",
     "output_type": "stream",
     "text": [
      "1860  image file:  KIC02440757_morp0.36.png\n",
      "1/1 [==============================] - 0s 56ms/step\n",
      "1861  image file:  KIC07836330_morp0.63.png\n",
      "1/1 [==============================] - 0s 52ms/step\n"
     ]
    },
    {
     "name": "stderr",
     "output_type": "stream",
     "text": [
      "\r",
      " 68%|██████████████████████████▍            | 1862/2747 [03:00<01:12, 12.14it/s]"
     ]
    },
    {
     "name": "stdout",
     "output_type": "stream",
     "text": [
      "1862  image file:  KIC08386865_morp0.99.png\n",
      "1/1 [==============================] - 0s 53ms/step\n",
      "1863  image file:  KIC10385682_morp0.34.png\n",
      "1/1 [==============================] - 0s 52ms/step\n"
     ]
    },
    {
     "name": "stderr",
     "output_type": "stream",
     "text": [
      "\r",
      " 68%|██████████████████████████▍            | 1864/2747 [03:00<01:14, 11.93it/s]"
     ]
    },
    {
     "name": "stdout",
     "output_type": "stream",
     "text": [
      "1864  image file:  KIC04247092_morp-1.0.png\n",
      "1/1 [==============================] - 0s 50ms/step\n",
      "1865  image file:  KIC09970937_morp0.88.png\n",
      "1/1 [==============================] - 0s 52ms/step\n"
     ]
    },
    {
     "name": "stderr",
     "output_type": "stream",
     "text": [
      "\r",
      " 68%|██████████████████████████▍            | 1866/2747 [03:00<01:14, 11.86it/s]"
     ]
    },
    {
     "name": "stdout",
     "output_type": "stream",
     "text": [
      "1866  image file:  KIC08973000_morp0.14.png\n",
      "1/1 [==============================] - 0s 50ms/step\n",
      "1867  image file:  KIC06264091_morp0.97.png\n",
      "1/1 [==============================] - 0s 50ms/step\n"
     ]
    },
    {
     "name": "stderr",
     "output_type": "stream",
     "text": [
      "\r",
      " 68%|██████████████████████████▌            | 1868/2747 [03:00<01:13, 11.94it/s]"
     ]
    },
    {
     "name": "stdout",
     "output_type": "stream",
     "text": [
      "1868  image file:  KIC07129465_morp0.24.png\n",
      "1/1 [==============================] - 0s 50ms/step\n",
      "1869  image file:  KIC06863161_morp0.55.png\n",
      "1/1 [==============================] - 0s 52ms/step\n"
     ]
    },
    {
     "name": "stderr",
     "output_type": "stream",
     "text": [
      "\r",
      " 68%|██████████████████████████▌            | 1870/2747 [03:00<01:18, 11.20it/s]"
     ]
    },
    {
     "name": "stdout",
     "output_type": "stream",
     "text": [
      "1870  image file:  KIC03127873_morp0.91.png\n",
      "1/1 [==============================] - 0s 52ms/step\n",
      "1871  image file:  KIC04263529_morp0.02.png\n",
      "1/1 [==============================] - 0s 54ms/step\n"
     ]
    },
    {
     "name": "stderr",
     "output_type": "stream",
     "text": [
      "\r",
      " 68%|██████████████████████████▌            | 1872/2747 [03:01<01:17, 11.32it/s]"
     ]
    },
    {
     "name": "stdout",
     "output_type": "stream",
     "text": [
      "1872  image file:  KIC02860594_morp0.52.png\n",
      "1/1 [==============================] - 0s 54ms/step\n",
      "1873  image file:  KIC08703129_morp0.02.png\n",
      "1/1 [==============================] - 0s 53ms/step\n"
     ]
    },
    {
     "name": "stderr",
     "output_type": "stream",
     "text": [
      "\r",
      " 68%|██████████████████████████▌            | 1874/2747 [03:01<01:21, 10.71it/s]"
     ]
    },
    {
     "name": "stdout",
     "output_type": "stream",
     "text": [
      "1874  image file:  KIC05770431_morp0.89.png\n",
      "1/1 [==============================] - 0s 55ms/step\n",
      "1875  image file:  KIC07212722_morp0.43.png\n",
      "1/1 [==============================] - 0s 52ms/step\n"
     ]
    },
    {
     "name": "stderr",
     "output_type": "stream",
     "text": [
      "\r",
      " 68%|██████████████████████████▋            | 1876/2747 [03:01<01:20, 10.84it/s]"
     ]
    },
    {
     "name": "stdout",
     "output_type": "stream",
     "text": [
      "1876  image file:  KIC07959612_morp0.81.png\n",
      "1/1 [==============================] - 0s 53ms/step\n",
      "1877  image file:  KIC08746310_morp0.12.png\n",
      "1/1 [==============================] - 0s 53ms/step\n"
     ]
    },
    {
     "name": "stderr",
     "output_type": "stream",
     "text": [
      "\r",
      " 68%|██████████████████████████▋            | 1878/2747 [03:01<01:18, 11.04it/s]"
     ]
    },
    {
     "name": "stdout",
     "output_type": "stream",
     "text": [
      "1878  image file:  KIC09480535_morp0.02.png\n",
      "1/1 [==============================] - 0s 52ms/step\n",
      "1879  image file:  KIC06599919_morp0.04.png\n",
      "1/1 [==============================] - 0s 52ms/step\n"
     ]
    },
    {
     "name": "stderr",
     "output_type": "stream",
     "text": [
      "\r",
      " 68%|██████████████████████████▋            | 1880/2747 [03:01<01:17, 11.25it/s]"
     ]
    },
    {
     "name": "stdout",
     "output_type": "stream",
     "text": [
      "1880  image file:  KIC06370361_morp0.84.png\n",
      "1/1 [==============================] - 0s 53ms/step\n",
      "1881  image file:  KIC05213466_morp-1.0.png\n",
      "1/1 [==============================] - 0s 53ms/step\n"
     ]
    },
    {
     "name": "stderr",
     "output_type": "stream",
     "text": [
      "\r",
      " 69%|██████████████████████████▋            | 1882/2747 [03:02<01:16, 11.37it/s]"
     ]
    },
    {
     "name": "stdout",
     "output_type": "stream",
     "text": [
      "1882  image file:  KIC09786798_morp0.74.png\n",
      "1/1 [==============================] - 0s 57ms/step\n",
      "1883  image file:  KIC08222945_morp0.98.png\n",
      "1/1 [==============================] - 0s 53ms/step\n"
     ]
    },
    {
     "name": "stderr",
     "output_type": "stream",
     "text": [
      "\r",
      " 69%|██████████████████████████▋            | 1884/2747 [03:02<01:26,  9.94it/s]"
     ]
    },
    {
     "name": "stdout",
     "output_type": "stream",
     "text": [
      "1884  image file:  KIC05353374_morp0.79.png\n",
      "1/1 [==============================] - 0s 58ms/step\n",
      "1885  image file:  KIC02854948_morp0.5.png\n",
      "1/1 [==============================] - 0s 52ms/step\n"
     ]
    },
    {
     "name": "stderr",
     "output_type": "stream",
     "text": [
      "\r",
      " 69%|██████████████████████████▊            | 1886/2747 [03:02<01:23, 10.33it/s]"
     ]
    },
    {
     "name": "stdout",
     "output_type": "stream",
     "text": [
      "1886  image file:  KIC06939670_morp0.33.png\n",
      "1/1 [==============================] - 0s 52ms/step\n",
      "1887  image file:  KIC05615528_morp0.7.png\n",
      "1/1 [==============================] - 0s 54ms/step\n"
     ]
    },
    {
     "name": "stderr",
     "output_type": "stream",
     "text": [
      "\r",
      " 69%|██████████████████████████▊            | 1888/2747 [03:02<01:20, 10.68it/s]"
     ]
    },
    {
     "name": "stdout",
     "output_type": "stream",
     "text": [
      "1888  image file:  KIC02831632_morp0.92.png\n",
      "1/1 [==============================] - 0s 53ms/step\n",
      "1889  image file:  KIC07968880_morp0.93.png\n",
      "1/1 [==============================] - 0s 52ms/step\n"
     ]
    },
    {
     "name": "stderr",
     "output_type": "stream",
     "text": [
      "\r",
      " 69%|██████████████████████████▊            | 1890/2747 [03:02<01:18, 10.98it/s]"
     ]
    },
    {
     "name": "stdout",
     "output_type": "stream",
     "text": [
      "1890  image file:  KIC10753751_morp0.91.png\n",
      "1/1 [==============================] - 0s 52ms/step\n",
      "1891  image file:  KIC08935352_morp0.39.png\n",
      "1/1 [==============================] - 0s 53ms/step\n"
     ]
    },
    {
     "name": "stderr",
     "output_type": "stream",
     "text": [
      "\r",
      " 69%|██████████████████████████▊            | 1892/2747 [03:02<01:16, 11.20it/s]"
     ]
    },
    {
     "name": "stdout",
     "output_type": "stream",
     "text": [
      "1892  image file:  KIC10600319_morp0.94.png\n",
      "1/1 [==============================] - 0s 53ms/step\n",
      "1893  image file:  KIC12785282_morp0.64.png\n",
      "1/1 [==============================] - 0s 57ms/step\n"
     ]
    },
    {
     "name": "stderr",
     "output_type": "stream",
     "text": [
      "\r",
      " 69%|██████████████████████████▉            | 1894/2747 [03:03<01:16, 11.17it/s]"
     ]
    },
    {
     "name": "stdout",
     "output_type": "stream",
     "text": [
      "1894  image file:  KIC05215999_morp0.68.png\n",
      "1/1 [==============================] - 0s 51ms/step\n",
      "1895  image file:  KIC05294739_morp0.59.png\n",
      "1/1 [==============================] - 0s 52ms/step\n"
     ]
    },
    {
     "name": "stderr",
     "output_type": "stream",
     "text": [
      "\r",
      " 69%|██████████████████████████▉            | 1896/2747 [03:03<01:14, 11.37it/s]"
     ]
    },
    {
     "name": "stdout",
     "output_type": "stream",
     "text": [
      "1896  image file:  KIC06699679_morp1.0.png\n",
      "1/1 [==============================] - 0s 53ms/step\n",
      "1897  image file:  KIC03956881_morp0.95.png\n",
      "1/1 [==============================] - 0s 52ms/step\n"
     ]
    },
    {
     "name": "stderr",
     "output_type": "stream",
     "text": [
      "\r",
      " 69%|██████████████████████████▉            | 1898/2747 [03:03<01:13, 11.48it/s]"
     ]
    },
    {
     "name": "stdout",
     "output_type": "stream",
     "text": [
      "1898  image file:  KIC03341934_morp0.07.png\n",
      "1/1 [==============================] - 0s 52ms/step\n",
      "1899  image file:  KIC07217866_morp0.91.png\n",
      "1/1 [==============================] - 0s 53ms/step\n"
     ]
    },
    {
     "name": "stderr",
     "output_type": "stream",
     "text": [
      "\r",
      " 69%|██████████████████████████▉            | 1900/2747 [03:03<01:13, 11.57it/s]"
     ]
    },
    {
     "name": "stdout",
     "output_type": "stream",
     "text": [
      "1900  image file:  KIC04247023_morp0.03.png\n",
      "1/1 [==============================] - 0s 52ms/step\n",
      "1901  image file:  KIC12016304_morp0.92.png\n",
      "1/1 [==============================] - 0s 53ms/step\n"
     ]
    },
    {
     "name": "stderr",
     "output_type": "stream",
     "text": [
      "\r",
      " 69%|███████████████████████████            | 1902/2747 [03:03<01:13, 11.53it/s]"
     ]
    },
    {
     "name": "stdout",
     "output_type": "stream",
     "text": [
      "1902  image file:  KIC05015913_morp0.28.png\n",
      "1/1 [==============================] - 0s 53ms/step\n",
      "1903  image file:  KIC08311255_morp0.69.png\n",
      "1/1 [==============================] - 0s 54ms/step\n"
     ]
    },
    {
     "name": "stderr",
     "output_type": "stream",
     "text": [
      "\r",
      " 69%|███████████████████████████            | 1904/2747 [03:04<01:13, 11.47it/s]"
     ]
    },
    {
     "name": "stdout",
     "output_type": "stream",
     "text": [
      "1904  image file:  KIC12059158_morp0.89.png\n",
      "1/1 [==============================] - 0s 53ms/step\n",
      "1905  image file:  KIC11352791_morp0.92.png\n",
      "1/1 [==============================] - 0s 58ms/step\n"
     ]
    },
    {
     "name": "stderr",
     "output_type": "stream",
     "text": [
      "\r",
      " 69%|███████████████████████████            | 1906/2747 [03:04<01:13, 11.41it/s]"
     ]
    },
    {
     "name": "stdout",
     "output_type": "stream",
     "text": [
      "1906  image file:  KIC07132542_morp0.08.png\n",
      "1/1 [==============================] - 0s 49ms/step\n",
      "1907  image file:  KIC10422852_morp0.56.png\n",
      "1/1 [==============================] - 0s 49ms/step\n"
     ]
    },
    {
     "name": "stderr",
     "output_type": "stream",
     "text": [
      "\r",
      " 69%|███████████████████████████            | 1908/2747 [03:04<01:12, 11.61it/s]"
     ]
    },
    {
     "name": "stdout",
     "output_type": "stream",
     "text": [
      "1908  image file:  KIC10924462_morp0.67.png\n",
      "1/1 [==============================] - 0s 50ms/step\n",
      "1909  image file:  KIC05802834_morp0.88.png\n",
      "1/1 [==============================] - 0s 50ms/step\n"
     ]
    },
    {
     "name": "stderr",
     "output_type": "stream",
     "text": [
      "\r",
      " 70%|███████████████████████████            | 1910/2747 [03:04<01:11, 11.76it/s]"
     ]
    },
    {
     "name": "stdout",
     "output_type": "stream",
     "text": [
      "1910  image file:  KIC09350889_morp0.89.png\n",
      "1/1 [==============================] - 0s 52ms/step\n",
      "1911  image file:  KIC02556127_morp0.6.png\n",
      "1/1 [==============================] - 0s 52ms/step\n"
     ]
    },
    {
     "name": "stderr",
     "output_type": "stream",
     "text": [
      "\r",
      " 70%|███████████████████████████▏           | 1912/2747 [03:04<01:15, 10.99it/s]"
     ]
    },
    {
     "name": "stdout",
     "output_type": "stream",
     "text": [
      "1912  image file:  KIC03970117_morp0.03.png\n",
      "1/1 [==============================] - 0s 53ms/step\n",
      "1913  image file:  KIC05374999_morp0.67.png\n",
      "1/1 [==============================] - 0s 52ms/step\n"
     ]
    },
    {
     "name": "stderr",
     "output_type": "stream",
     "text": [
      "\r",
      " 70%|███████████████████████████▏           | 1914/2747 [03:04<01:14, 11.19it/s]"
     ]
    },
    {
     "name": "stdout",
     "output_type": "stream",
     "text": [
      "1914  image file:  KIC09110213_morp0.73.png\n",
      "1/1 [==============================] - 0s 51ms/step\n",
      "1915  image file:  KIC08167938_morp0.43.png\n",
      "1/1 [==============================] - 0s 51ms/step\n"
     ]
    },
    {
     "name": "stderr",
     "output_type": "stream",
     "text": [
      "\r",
      " 70%|███████████████████████████▏           | 1916/2747 [03:05<01:12, 11.42it/s]"
     ]
    },
    {
     "name": "stdout",
     "output_type": "stream",
     "text": [
      "1916  image file:  KIC08879915_morp0.32.png\n",
      "1/1 [==============================] - 0s 52ms/step\n",
      "1917  image file:  KIC03348093_morp0.12.png\n",
      "1/1 [==============================] - 0s 50ms/step\n"
     ]
    },
    {
     "name": "stderr",
     "output_type": "stream",
     "text": [
      "\r",
      " 70%|███████████████████████████▏           | 1918/2747 [03:05<01:11, 11.58it/s]"
     ]
    },
    {
     "name": "stdout",
     "output_type": "stream",
     "text": [
      "1918  image file:  KIC10679505_morp-1.0.png\n",
      "1/1 [==============================] - 0s 51ms/step\n",
      "1919  image file:  KIC11558882_morp0.01.png\n",
      "1/1 [==============================] - 0s 52ms/step\n"
     ]
    },
    {
     "name": "stderr",
     "output_type": "stream",
     "text": [
      "\r",
      " 70%|███████████████████████████▎           | 1920/2747 [03:05<01:11, 11.61it/s]"
     ]
    },
    {
     "name": "stdout",
     "output_type": "stream",
     "text": [
      "1920  image file:  KIC05597970_morp0.14.png\n",
      "1/1 [==============================] - 0s 52ms/step\n",
      "1921  image file:  KIC07972785_morp0.25.png\n",
      "1/1 [==============================] - 0s 60ms/step\n"
     ]
    },
    {
     "name": "stderr",
     "output_type": "stream",
     "text": [
      "\r",
      " 70%|███████████████████████████▎           | 1922/2747 [03:05<01:12, 11.44it/s]"
     ]
    },
    {
     "name": "stdout",
     "output_type": "stream",
     "text": [
      "1922  image file:  KIC09602542_morp0.99.png\n",
      "1/1 [==============================] - 0s 58ms/step\n",
      "1923  image file:  KIC09051723_morp0.74.png\n",
      "1/1 [==============================] - 0s 55ms/step\n"
     ]
    },
    {
     "name": "stderr",
     "output_type": "stream",
     "text": [
      "\r",
      " 70%|███████████████████████████▎           | 1924/2747 [03:05<01:13, 11.25it/s]"
     ]
    },
    {
     "name": "stdout",
     "output_type": "stream",
     "text": [
      "1924  image file:  KIC07744173_morp0.89.png\n",
      "1/1 [==============================] - 0s 50ms/step\n",
      "1925  image file:  KIC04677321_morp0.61.png\n",
      "1/1 [==============================] - 0s 49ms/step\n"
     ]
    },
    {
     "name": "stderr",
     "output_type": "stream",
     "text": [
      "\r",
      " 70%|███████████████████████████▎           | 1926/2747 [03:05<01:11, 11.45it/s]"
     ]
    },
    {
     "name": "stdout",
     "output_type": "stream",
     "text": [
      "1926  image file:  KIC07255336_morp0.32.png\n",
      "1/1 [==============================] - 0s 48ms/step\n",
      "1927  image file:  KIC04832197_morp0.31.png\n",
      "1/1 [==============================] - 0s 49ms/step\n"
     ]
    },
    {
     "name": "stderr",
     "output_type": "stream",
     "text": [
      "\r",
      " 70%|███████████████████████████▎           | 1928/2747 [03:06<01:09, 11.76it/s]"
     ]
    },
    {
     "name": "stdout",
     "output_type": "stream",
     "text": [
      "1928  image file:  KIC08736072_morp0.86.png\n",
      "1/1 [==============================] - 0s 50ms/step\n",
      "1929  image file:  KIC11496078_morp0.88.png\n",
      "1/1 [==============================] - 0s 49ms/step\n"
     ]
    },
    {
     "name": "stderr",
     "output_type": "stream",
     "text": [
      "\r",
      " 70%|███████████████████████████▍           | 1930/2747 [03:06<01:08, 11.86it/s]"
     ]
    },
    {
     "name": "stdout",
     "output_type": "stream",
     "text": [
      "1930  image file:  KIC08949316_morp0.51.png\n",
      "1/1 [==============================] - 0s 49ms/step\n",
      "1931  image file:  KIC05264818_morp0.93.png\n",
      "1/1 [==============================] - 0s 49ms/step\n"
     ]
    },
    {
     "name": "stderr",
     "output_type": "stream",
     "text": [
      "\r",
      " 70%|███████████████████████████▍           | 1932/2747 [03:06<01:07, 12.01it/s]"
     ]
    },
    {
     "name": "stdout",
     "output_type": "stream",
     "text": [
      "1932  image file:  KIC08838070_morp-1.0.png\n",
      "1/1 [==============================] - 0s 48ms/step\n",
      "1933  image file:  KIC08312222_morp0.14.png\n",
      "1/1 [==============================] - 0s 48ms/step\n"
     ]
    },
    {
     "name": "stderr",
     "output_type": "stream",
     "text": [
      "\r",
      " 70%|███████████████████████████▍           | 1934/2747 [03:06<01:06, 12.19it/s]"
     ]
    },
    {
     "name": "stdout",
     "output_type": "stream",
     "text": [
      "1934  image file:  KIC05881838_morp0.73.png\n",
      "1/1 [==============================] - 0s 50ms/step\n",
      "1935  image file:  KIC08758161_morp0.58.png\n",
      "1/1 [==============================] - 0s 50ms/step\n"
     ]
    },
    {
     "name": "stderr",
     "output_type": "stream",
     "text": [
      "\r",
      " 70%|███████████████████████████▍           | 1936/2747 [03:06<01:06, 12.22it/s]"
     ]
    },
    {
     "name": "stdout",
     "output_type": "stream",
     "text": [
      "1936  image file:  KIC08242350_morp-1.0.png\n",
      "1/1 [==============================] - 0s 49ms/step\n",
      "1937  image file:  KIC03756730_morp0.95.png\n",
      "1/1 [==============================] - 0s 56ms/step\n"
     ]
    },
    {
     "name": "stderr",
     "output_type": "stream",
     "text": [
      "\r",
      " 71%|███████████████████████████▌           | 1938/2747 [03:06<01:07, 12.04it/s]"
     ]
    },
    {
     "name": "stdout",
     "output_type": "stream",
     "text": [
      "1938  image file:  KIC04569923_morp0.82.png\n",
      "1/1 [==============================] - 0s 51ms/step\n",
      "1939  image file:  KIC08097553_morp0.74.png\n",
      "1/1 [==============================] - 0s 50ms/step\n"
     ]
    },
    {
     "name": "stderr",
     "output_type": "stream",
     "text": [
      "\r",
      " 71%|███████████████████████████▌           | 1940/2747 [03:07<01:08, 11.84it/s]"
     ]
    },
    {
     "name": "stdout",
     "output_type": "stream",
     "text": [
      "1940  image file:  KIC05088735_morp0.57.png\n",
      "1/1 [==============================] - 0s 52ms/step\n",
      "1941  image file:  KIC12109845_morp0.52.png\n",
      "1/1 [==============================] - 0s 57ms/step\n"
     ]
    },
    {
     "name": "stderr",
     "output_type": "stream",
     "text": [
      "\r",
      " 71%|███████████████████████████▌           | 1942/2747 [03:07<01:08, 11.73it/s]"
     ]
    },
    {
     "name": "stdout",
     "output_type": "stream",
     "text": [
      "1942  image file:  KIC07938870_morp0.62.png\n",
      "1/1 [==============================] - 0s 53ms/step\n",
      "1943  image file:  KIC12218858_morp0.65.png\n",
      "1/1 [==============================] - 0s 53ms/step\n"
     ]
    },
    {
     "name": "stderr",
     "output_type": "stream",
     "text": [
      "\r",
      " 71%|███████████████████████████▌           | 1944/2747 [03:07<01:08, 11.65it/s]"
     ]
    },
    {
     "name": "stdout",
     "output_type": "stream",
     "text": [
      "1944  image file:  KIC04049124_morp0.17.png\n",
      "1/1 [==============================] - 0s 49ms/step\n",
      "1945  image file:  KIC07125636_morp0.14.png\n",
      "1/1 [==============================] - 0s 51ms/step\n"
     ]
    },
    {
     "name": "stderr",
     "output_type": "stream",
     "text": [
      "\r",
      " 71%|███████████████████████████▋           | 1946/2747 [03:07<01:07, 11.80it/s]"
     ]
    },
    {
     "name": "stdout",
     "output_type": "stream",
     "text": [
      "1946  image file:  KIC05307780_morp0.88.png\n",
      "1/1 [==============================] - 0s 50ms/step\n",
      "1947  image file:  KIC09005043_morp0.72.png\n",
      "1/1 [==============================] - 0s 53ms/step\n"
     ]
    },
    {
     "name": "stderr",
     "output_type": "stream",
     "text": [
      "\r",
      " 71%|███████████████████████████▋           | 1948/2747 [03:07<01:07, 11.76it/s]"
     ]
    },
    {
     "name": "stdout",
     "output_type": "stream",
     "text": [
      "1948  image file:  KIC06137704_morp0.0.png\n",
      "1/1 [==============================] - 0s 50ms/step\n",
      "1949  image file:  KIC04473933_morp0.25.png\n",
      "1/1 [==============================] - 0s 50ms/step\n"
     ]
    },
    {
     "name": "stderr",
     "output_type": "stream",
     "text": [
      "\r",
      " 71%|███████████████████████████▋           | 1950/2747 [03:07<01:07, 11.88it/s]"
     ]
    },
    {
     "name": "stdout",
     "output_type": "stream",
     "text": [
      "1950  image file:  KIC09353182_morp0.2.png\n",
      "1/1 [==============================] - 0s 49ms/step\n",
      "1951  image file:  KIC09092303_morp0.95.png\n",
      "1/1 [==============================] - 0s 51ms/step\n"
     ]
    },
    {
     "name": "stderr",
     "output_type": "stream",
     "text": [
      "\r",
      " 71%|███████████████████████████▋           | 1952/2747 [03:08<01:06, 11.93it/s]"
     ]
    },
    {
     "name": "stdout",
     "output_type": "stream",
     "text": [
      "1952  image file:  KIC09030509_morp0.88.png\n",
      "1/1 [==============================] - 0s 50ms/step\n",
      "1953  image file:  KIC07130044_morp0.76.png\n",
      "1/1 [==============================] - 0s 51ms/step\n"
     ]
    },
    {
     "name": "stderr",
     "output_type": "stream",
     "text": [
      "\r",
      " 71%|███████████████████████████▋           | 1954/2747 [03:08<01:06, 11.95it/s]"
     ]
    },
    {
     "name": "stdout",
     "output_type": "stream",
     "text": [
      "1954  image file:  KIC04470124_morp-1.0.png\n",
      "1/1 [==============================] - 0s 51ms/step\n",
      "1955  image file:  KIC05123176_morp0.82.png\n",
      "1/1 [==============================] - 0s 51ms/step\n"
     ]
    },
    {
     "name": "stderr",
     "output_type": "stream",
     "text": [
      "\r",
      " 71%|███████████████████████████▊           | 1956/2747 [03:08<01:06, 11.87it/s]"
     ]
    },
    {
     "name": "stdout",
     "output_type": "stream",
     "text": [
      "1956  image file:  KIC09097120_morp0.03.png\n",
      "1/1 [==============================] - 0s 49ms/step\n",
      "1957  image file:  KIC10228942_morp0.08.png\n",
      "1/1 [==============================] - 0s 49ms/step\n"
     ]
    },
    {
     "name": "stderr",
     "output_type": "stream",
     "text": [
      "\r",
      " 71%|███████████████████████████▊           | 1958/2747 [03:08<01:05, 12.01it/s]"
     ]
    },
    {
     "name": "stdout",
     "output_type": "stream",
     "text": [
      "1958  image file:  KIC09651298_morp0.95.png\n",
      "1/1 [==============================] - 0s 51ms/step\n",
      "1959  image file:  KIC05372966_morp0.12.png\n",
      "1/1 [==============================] - 0s 51ms/step\n"
     ]
    },
    {
     "name": "stderr",
     "output_type": "stream",
     "text": [
      "\r",
      " 71%|███████████████████████████▊           | 1960/2747 [03:08<01:05, 12.01it/s]"
     ]
    },
    {
     "name": "stdout",
     "output_type": "stream",
     "text": [
      "1960  image file:  KIC08715667_morp0.85.png\n",
      "1/1 [==============================] - 0s 52ms/step\n",
      "1961  image file:  KIC07770471_morp0.57.png\n",
      "1/1 [==============================] - 0s 50ms/step\n"
     ]
    },
    {
     "name": "stderr",
     "output_type": "stream",
     "text": [
      "\r",
      " 71%|███████████████████████████▊           | 1962/2747 [03:08<01:05, 11.99it/s]"
     ]
    },
    {
     "name": "stdout",
     "output_type": "stream",
     "text": [
      "1962  image file:  KIC06421483_morp0.58.png\n",
      "1/1 [==============================] - 0s 49ms/step\n",
      "1963  image file:  KIC08845221_morp0.39.png\n",
      "1/1 [==============================] - 0s 50ms/step\n"
     ]
    },
    {
     "name": "stderr",
     "output_type": "stream",
     "text": [
      "\r",
      " 71%|███████████████████████████▉           | 1964/2747 [03:09<01:04, 12.08it/s]"
     ]
    },
    {
     "name": "stdout",
     "output_type": "stream",
     "text": [
      "1964  image file:  KIC09596037_morp-1.0.png\n",
      "1/1 [==============================] - 0s 51ms/step\n",
      "1965  image file:  KIC04840327_morp0.04.png\n",
      "1/1 [==============================] - 0s 51ms/step\n"
     ]
    },
    {
     "name": "stderr",
     "output_type": "stream",
     "text": [
      "\r",
      " 72%|███████████████████████████▉           | 1966/2747 [03:09<01:05, 11.99it/s]"
     ]
    },
    {
     "name": "stdout",
     "output_type": "stream",
     "text": [
      "1966  image file:  KIC09848190_morp0.9.png\n",
      "1/1 [==============================] - 0s 49ms/step\n",
      "1967  image file:  KIC11612091_morp0.97.png\n",
      "1/1 [==============================] - 0s 49ms/step\n"
     ]
    },
    {
     "name": "stderr",
     "output_type": "stream",
     "text": [
      "\r",
      " 72%|███████████████████████████▉           | 1968/2747 [03:09<01:04, 12.07it/s]"
     ]
    },
    {
     "name": "stdout",
     "output_type": "stream",
     "text": [
      "1968  image file:  KIC02835289_morp0.92.png\n",
      "1/1 [==============================] - 0s 49ms/step\n",
      "1969  image file:  KIC03128793_morp0.23.png\n",
      "1/1 [==============================] - 0s 51ms/step\n"
     ]
    },
    {
     "name": "stderr",
     "output_type": "stream",
     "text": [
      "\r",
      " 72%|███████████████████████████▉           | 1970/2747 [03:09<01:04, 12.09it/s]"
     ]
    },
    {
     "name": "stdout",
     "output_type": "stream",
     "text": [
      "1970  image file:  KIC10068919_morp0.01.png\n",
      "1/1 [==============================] - 0s 49ms/step\n",
      "1971  image file:  KIC04847369_morp-1.0.png\n",
      "1/1 [==============================] - 0s 50ms/step\n"
     ]
    },
    {
     "name": "stderr",
     "output_type": "stream",
     "text": [
      "\r",
      " 72%|███████████████████████████▉           | 1972/2747 [03:09<01:03, 12.15it/s]"
     ]
    },
    {
     "name": "stdout",
     "output_type": "stream",
     "text": [
      "1972  image file:  KIC06436029_morp0.0.png\n",
      "1/1 [==============================] - 0s 51ms/step\n",
      "1973  image file:  KIC05653126_morp0.09.png\n",
      "1/1 [==============================] - 0s 51ms/step\n"
     ]
    },
    {
     "name": "stderr",
     "output_type": "stream",
     "text": [
      "\r",
      " 72%|████████████████████████████           | 1974/2747 [03:09<01:04, 12.00it/s]"
     ]
    },
    {
     "name": "stdout",
     "output_type": "stream",
     "text": [
      "1974  image file:  KIC03641446_morp0.95.png\n",
      "1/1 [==============================] - 0s 50ms/step\n",
      "1975  image file:  KIC09446824_morp0.28.png\n",
      "1/1 [==============================] - 0s 50ms/step\n"
     ]
    },
    {
     "name": "stderr",
     "output_type": "stream",
     "text": [
      "\r",
      " 72%|████████████████████████████           | 1976/2747 [03:10<01:04, 12.05it/s]"
     ]
    },
    {
     "name": "stdout",
     "output_type": "stream",
     "text": [
      "1976  image file:  KIC04480676_morp0.42.png\n",
      "1/1 [==============================] - 0s 50ms/step\n",
      "1977  image file:  KIC03545476_morp0.88.png\n",
      "1/1 [==============================] - 0s 50ms/step\n"
     ]
    },
    {
     "name": "stderr",
     "output_type": "stream",
     "text": [
      "\r",
      " 72%|████████████████████████████           | 1978/2747 [03:10<01:03, 12.10it/s]"
     ]
    },
    {
     "name": "stdout",
     "output_type": "stream",
     "text": [
      "1978  image file:  KIC04851464_morp0.34.png\n",
      "1/1 [==============================] - 0s 49ms/step\n",
      "1979  image file:  KIC05771719_morp0.11.png\n",
      "1/1 [==============================] - 0s 50ms/step\n"
     ]
    },
    {
     "name": "stderr",
     "output_type": "stream",
     "text": [
      "\r",
      " 72%|████████████████████████████           | 1980/2747 [03:10<01:03, 12.16it/s]"
     ]
    },
    {
     "name": "stdout",
     "output_type": "stream",
     "text": [
      "1980  image file:  KIC05812701_morp0.08.png\n",
      "1/1 [==============================] - 0s 48ms/step\n",
      "1981  image file:  KIC08414159_morp0.12.png\n",
      "1/1 [==============================] - 0s 61ms/step\n"
     ]
    },
    {
     "name": "stderr",
     "output_type": "stream",
     "text": [
      "\r",
      " 72%|████████████████████████████▏          | 1982/2747 [03:10<01:03, 12.00it/s]"
     ]
    },
    {
     "name": "stdout",
     "output_type": "stream",
     "text": [
      "1982  image file:  KIC10616571_morp0.18.png\n",
      "1/1 [==============================] - 0s 50ms/step\n",
      "1983  image file:  KIC06864859_morp0.06.png\n",
      "1/1 [==============================] - 0s 50ms/step\n"
     ]
    },
    {
     "name": "stderr",
     "output_type": "stream",
     "text": [
      "\r",
      " 72%|████████████████████████████▏          | 1984/2747 [03:10<01:06, 11.42it/s]"
     ]
    },
    {
     "name": "stdout",
     "output_type": "stream",
     "text": [
      "1984  image file:  KIC07672940_morp0.0.png\n",
      "1/1 [==============================] - 0s 52ms/step\n",
      "1985  image file:  KIC06863229_morp0.61.png\n",
      "1/1 [==============================] - 0s 64ms/step\n"
     ]
    },
    {
     "name": "stderr",
     "output_type": "stream",
     "text": [
      "\r",
      " 72%|████████████████████████████▏          | 1986/2747 [03:11<01:08, 11.09it/s]"
     ]
    },
    {
     "name": "stdout",
     "output_type": "stream",
     "text": [
      "1986  image file:  KIC12071741_morp0.94.png\n",
      "1/1 [==============================] - 0s 73ms/step\n",
      "1987  image file:  KIC06521542_morp0.31.png\n",
      "1/1 [==============================] - 0s 125ms/step\n"
     ]
    },
    {
     "name": "stderr",
     "output_type": "stream",
     "text": [
      "\r",
      " 72%|████████████████████████████▏          | 1988/2747 [03:11<01:30,  8.35it/s]"
     ]
    },
    {
     "name": "stdout",
     "output_type": "stream",
     "text": [
      "1988  image file:  KIC10095512_morp0.24.png\n",
      "1/1 [==============================] - 0s 54ms/step\n",
      "1989  image file:  KIC09956124_morp0.91.png\n",
      "1/1 [==============================] - 0s 51ms/step\n"
     ]
    },
    {
     "name": "stderr",
     "output_type": "stream",
     "text": [
      "\r",
      " 72%|████████████████████████████▎          | 1990/2747 [03:11<01:23,  9.07it/s]"
     ]
    },
    {
     "name": "stdout",
     "output_type": "stream",
     "text": [
      "1990  image file:  KIC10292465_morp0.43.png\n",
      "1/1 [==============================] - 0s 52ms/step\n",
      "1991  image file:  KIC08913061_morp0.76.png\n",
      "1/1 [==============================] - 0s 53ms/step\n"
     ]
    },
    {
     "name": "stderr",
     "output_type": "stream",
     "text": [
      "\r",
      " 73%|████████████████████████████▎          | 1992/2747 [03:11<01:18,  9.65it/s]"
     ]
    },
    {
     "name": "stdout",
     "output_type": "stream",
     "text": [
      "1992  image file:  KIC03955867_morp0.4.png\n",
      "1/1 [==============================] - 0s 50ms/step\n",
      "1993  image file:  KIC04349483_morp0.71.png\n",
      "1/1 [==============================] - 0s 52ms/step\n"
     ]
    },
    {
     "name": "stderr",
     "output_type": "stream",
     "text": [
      "\r",
      " 73%|████████████████████████████▎          | 1994/2747 [03:11<01:13, 10.20it/s]"
     ]
    },
    {
     "name": "stdout",
     "output_type": "stream",
     "text": [
      "1994  image file:  KIC11338865_morp0.87.png\n",
      "1/1 [==============================] - 0s 50ms/step\n",
      "1995  image file:  KIC07918172_morp0.01.png\n",
      "1/1 [==============================] - 0s 50ms/step\n"
     ]
    },
    {
     "name": "stderr",
     "output_type": "stream",
     "text": [
      "\r",
      " 73%|████████████████████████████▎          | 1996/2747 [03:12<01:10, 10.70it/s]"
     ]
    },
    {
     "name": "stdout",
     "output_type": "stream",
     "text": [
      "1996  image file:  KIC08711548_morp0.07.png\n",
      "1/1 [==============================] - 0s 137ms/step\n",
      "1997  image file:  KIC08230809_morp0.43.png\n",
      "1/1 [==============================] - 0s 82ms/step\n"
     ]
    },
    {
     "name": "stderr",
     "output_type": "stream",
     "text": [
      "\r",
      " 73%|████████████████████████████▎          | 1998/2747 [03:12<01:30,  8.26it/s]"
     ]
    },
    {
     "name": "stdout",
     "output_type": "stream",
     "text": [
      "1998  image file:  KIC09963461_morp0.17.png\n",
      "1/1 [==============================] - 0s 84ms/step\n"
     ]
    },
    {
     "name": "stderr",
     "output_type": "stream",
     "text": [
      "\r",
      " 73%|████████████████████████████▍          | 1999/2747 [03:12<01:37,  7.69it/s]"
     ]
    },
    {
     "name": "stdout",
     "output_type": "stream",
     "text": [
      "1999  image file:  KIC09642018_morp0.52.png\n",
      "1/1 [==============================] - 0s 102ms/step\n"
     ]
    },
    {
     "name": "stderr",
     "output_type": "stream",
     "text": [
      "\r",
      " 73%|████████████████████████████▍          | 2000/2747 [03:12<01:51,  6.67it/s]"
     ]
    },
    {
     "name": "stdout",
     "output_type": "stream",
     "text": [
      "2000  image file:  KIC07597703_morp0.29.png\n",
      "1/1 [==============================] - 0s 50ms/step\n",
      "2001  image file:  KIC05880320_morp0.2.png\n",
      "1/1 [==============================] - 0s 50ms/step\n"
     ]
    },
    {
     "name": "stderr",
     "output_type": "stream",
     "text": [
      "\r",
      " 73%|████████████████████████████▍          | 2002/2747 [03:13<01:33,  7.95it/s]"
     ]
    },
    {
     "name": "stdout",
     "output_type": "stream",
     "text": [
      "2002  image file:  KIC05771961_morp-1.0.png\n",
      "1/1 [==============================] - 0s 50ms/step\n",
      "2003  image file:  KIC06048106_morp0.55.png\n",
      "1/1 [==============================] - 0s 51ms/step\n"
     ]
    },
    {
     "name": "stderr",
     "output_type": "stream",
     "text": [
      "\r",
      " 73%|████████████████████████████▍          | 2004/2747 [03:13<01:22,  9.02it/s]"
     ]
    },
    {
     "name": "stdout",
     "output_type": "stream",
     "text": [
      "2004  image file:  KIC04150390_morp0.02.png\n",
      "1/1 [==============================] - 0s 51ms/step\n",
      "2005  image file:  KIC03440230_morp0.54.png\n",
      "1/1 [==============================] - 0s 50ms/step\n"
     ]
    },
    {
     "name": "stderr",
     "output_type": "stream",
     "text": [
      "\r",
      " 73%|████████████████████████████▍          | 2006/2747 [03:13<01:15,  9.85it/s]"
     ]
    },
    {
     "name": "stdout",
     "output_type": "stream",
     "text": [
      "2006  image file:  KIC10979716_morp0.1.png\n",
      "1/1 [==============================] - 0s 52ms/step\n",
      "2007  image file:  KIC03442058_morp0.8.png\n",
      "1/1 [==============================] - 0s 51ms/step\n"
     ]
    },
    {
     "name": "stderr",
     "output_type": "stream",
     "text": [
      "\r",
      " 73%|████████████████████████████▌          | 2008/2747 [03:13<01:10, 10.45it/s]"
     ]
    },
    {
     "name": "stdout",
     "output_type": "stream",
     "text": [
      "2008  image file:  KIC03003991_morp0.13.png\n",
      "1/1 [==============================] - 0s 52ms/step\n",
      "2009  image file:  KIC10015516_morp0.25.png\n",
      "1/1 [==============================] - 0s 55ms/step\n"
     ]
    },
    {
     "name": "stderr",
     "output_type": "stream",
     "text": [
      "\r",
      " 73%|████████████████████████████▌          | 2010/2747 [03:13<01:12, 10.10it/s]"
     ]
    },
    {
     "name": "stdout",
     "output_type": "stream",
     "text": [
      "2010  image file:  KIC09700181_morp0.86.png\n",
      "1/1 [==============================] - 0s 53ms/step\n",
      "2011  image file:  KIC06426592_morp0.0.png\n",
      "1/1 [==============================] - 0s 53ms/step\n"
     ]
    },
    {
     "name": "stderr",
     "output_type": "stream",
     "text": [
      "\r",
      " 73%|████████████████████████████▌          | 2012/2747 [03:13<01:09, 10.52it/s]"
     ]
    },
    {
     "name": "stdout",
     "output_type": "stream",
     "text": [
      "2012  image file:  KIC09051716_morp0.94.png\n",
      "1/1 [==============================] - 0s 53ms/step\n",
      "2013  image file:  KIC08179747_morp0.11.png\n",
      "1/1 [==============================] - 0s 56ms/step\n"
     ]
    },
    {
     "name": "stderr",
     "output_type": "stream",
     "text": [
      "\r",
      " 73%|████████████████████████████▌          | 2014/2747 [03:14<01:08, 10.76it/s]"
     ]
    },
    {
     "name": "stdout",
     "output_type": "stream",
     "text": [
      "2014  image file:  KIC08696442_morp-1.0.png\n",
      "1/1 [==============================] - 0s 55ms/step\n",
      "2015  image file:  KIC11038312_morp0.85.png\n",
      "1/1 [==============================] - 0s 52ms/step\n"
     ]
    },
    {
     "name": "stderr",
     "output_type": "stream",
     "text": [
      "\r",
      " 73%|████████████████████████████▌          | 2016/2747 [03:14<01:07, 10.86it/s]"
     ]
    },
    {
     "name": "stdout",
     "output_type": "stream",
     "text": [
      "2016  image file:  KIC09328852_morp0.54.png\n",
      "1/1 [==============================] - 0s 50ms/step\n",
      "2017  image file:  KIC06060580_morp0.31.png\n",
      "1/1 [==============================] - 0s 50ms/step\n"
     ]
    },
    {
     "name": "stderr",
     "output_type": "stream",
     "text": [
      "\r",
      " 73%|████████████████████████████▋          | 2018/2747 [03:14<01:05, 11.21it/s]"
     ]
    },
    {
     "name": "stdout",
     "output_type": "stream",
     "text": [
      "2018  image file:  KIC06147573_morp0.07.png\n",
      "1/1 [==============================] - 0s 51ms/step\n",
      "2019  image file:  KIC02576107_morp0.0.png\n",
      "1/1 [==============================] - 0s 51ms/step\n"
     ]
    },
    {
     "name": "stderr",
     "output_type": "stream",
     "text": [
      "\r",
      " 74%|████████████████████████████▋          | 2020/2747 [03:14<01:03, 11.36it/s]"
     ]
    },
    {
     "name": "stdout",
     "output_type": "stream",
     "text": [
      "2020  image file:  KIC06595662_morp0.32.png\n",
      "1/1 [==============================] - 0s 51ms/step\n",
      "2021  image file:  KIC07773380_morp0.94.png\n",
      "1/1 [==============================] - 0s 50ms/step\n"
     ]
    },
    {
     "name": "stderr",
     "output_type": "stream",
     "text": [
      "\r",
      " 74%|████████████████████████████▋          | 2022/2747 [03:14<01:02, 11.58it/s]"
     ]
    },
    {
     "name": "stdout",
     "output_type": "stream",
     "text": [
      "2022  image file:  KIC07740566_morp0.81.png\n",
      "1/1 [==============================] - 0s 49ms/step\n",
      "2023  image file:  KIC09882280_morp0.77.png\n",
      "1/1 [==============================] - 0s 50ms/step\n"
     ]
    },
    {
     "name": "stderr",
     "output_type": "stream",
     "text": [
      "\r",
      " 74%|████████████████████████████▋          | 2024/2747 [03:14<01:01, 11.76it/s]"
     ]
    },
    {
     "name": "stdout",
     "output_type": "stream",
     "text": [
      "2024  image file:  KIC08509346_morp0.2.png\n",
      "1/1 [==============================] - 0s 50ms/step\n",
      "2025  image file:  KIC04484356_morp0.51.png\n",
      "1/1 [==============================] - 0s 51ms/step\n"
     ]
    },
    {
     "name": "stderr",
     "output_type": "stream",
     "text": [
      "\r",
      " 74%|████████████████████████████▊          | 2026/2747 [03:15<01:00, 11.87it/s]"
     ]
    },
    {
     "name": "stdout",
     "output_type": "stream",
     "text": [
      "2026  image file:  KIC06312521_morp0.32.png\n",
      "1/1 [==============================] - 0s 51ms/step\n",
      "2027  image file:  KIC08460600_morp0.16.png\n",
      "1/1 [==============================] - 0s 53ms/step\n"
     ]
    },
    {
     "name": "stderr",
     "output_type": "stream",
     "text": [
      "\r",
      " 74%|████████████████████████████▊          | 2028/2747 [03:15<01:01, 11.76it/s]"
     ]
    },
    {
     "name": "stdout",
     "output_type": "stream",
     "text": [
      "2028  image file:  KIC10006096_morp0.0.png\n",
      "1/1 [==============================] - 0s 51ms/step\n",
      "2029  image file:  KIC07122259_morp0.12.png\n",
      "1/1 [==============================] - 0s 51ms/step\n"
     ]
    },
    {
     "name": "stderr",
     "output_type": "stream",
     "text": [
      "\r",
      " 74%|████████████████████████████▊          | 2030/2747 [03:15<01:00, 11.81it/s]"
     ]
    },
    {
     "name": "stdout",
     "output_type": "stream",
     "text": [
      "2030  image file:  KIC11502172_morp0.05.png\n",
      "1/1 [==============================] - 0s 51ms/step\n",
      "2031  image file:  KIC05107226_morp0.0.png\n",
      "1/1 [==============================] - 0s 50ms/step\n"
     ]
    },
    {
     "name": "stderr",
     "output_type": "stream",
     "text": [
      "\r",
      " 74%|████████████████████████████▊          | 2032/2747 [03:15<01:00, 11.87it/s]"
     ]
    },
    {
     "name": "stdout",
     "output_type": "stream",
     "text": [
      "2032  image file:  KIC09343862_morp0.56.png\n",
      "1/1 [==============================] - 0s 50ms/step\n",
      "2033  image file:  KIC03443519_morp0.89.png\n",
      "1/1 [==============================] - 0s 51ms/step\n"
     ]
    },
    {
     "name": "stderr",
     "output_type": "stream",
     "text": [
      "\r",
      " 74%|████████████████████████████▉          | 2034/2747 [03:15<00:59, 11.96it/s]"
     ]
    },
    {
     "name": "stdout",
     "output_type": "stream",
     "text": [
      "2034  image file:  KIC08953257_morp0.3.png\n",
      "1/1 [==============================] - 0s 51ms/step\n",
      "2035  image file:  KIC07677005_morp0.05.png\n",
      "1/1 [==============================] - 0s 50ms/step\n"
     ]
    },
    {
     "name": "stderr",
     "output_type": "stream",
     "text": [
      "\r",
      " 74%|████████████████████████████▉          | 2036/2747 [03:15<01:02, 11.40it/s]"
     ]
    },
    {
     "name": "stdout",
     "output_type": "stream",
     "text": [
      "2036  image file:  KIC07871200_morp0.75.png\n",
      "1/1 [==============================] - 0s 54ms/step\n",
      "2037  image file:  KIC05530881_morp0.27.png\n",
      "1/1 [==============================] - 0s 53ms/step\n"
     ]
    },
    {
     "name": "stderr",
     "output_type": "stream",
     "text": [
      "\r",
      " 74%|████████████████████████████▉          | 2038/2747 [03:16<01:03, 11.23it/s]"
     ]
    },
    {
     "name": "stdout",
     "output_type": "stream",
     "text": [
      "2038  image file:  KIC04574310_morp0.56.png\n",
      "1/1 [==============================] - 0s 55ms/step\n",
      "2039  image file:  KIC09818732_morp0.05.png\n",
      "1/1 [==============================] - 0s 52ms/step\n"
     ]
    },
    {
     "name": "stderr",
     "output_type": "stream",
     "text": [
      "\r",
      " 74%|████████████████████████████▉          | 2040/2747 [03:16<01:02, 11.31it/s]"
     ]
    },
    {
     "name": "stdout",
     "output_type": "stream",
     "text": [
      "2040  image file:  KIC08696274_morp0.95.png\n",
      "1/1 [==============================] - 0s 53ms/step\n",
      "2041  image file:  KIC04036687_morp0.89.png\n",
      "1/1 [==============================] - 0s 54ms/step\n"
     ]
    },
    {
     "name": "stderr",
     "output_type": "stream",
     "text": [
      "\r",
      " 74%|████████████████████████████▉          | 2042/2747 [03:16<01:01, 11.38it/s]"
     ]
    },
    {
     "name": "stdout",
     "output_type": "stream",
     "text": [
      "2042  image file:  KIC07670617_morp0.07.png\n",
      "1/1 [==============================] - 0s 53ms/step\n",
      "2043  image file:  KIC06350020_morp0.74.png\n",
      "1/1 [==============================] - 0s 53ms/step\n"
     ]
    },
    {
     "name": "stderr",
     "output_type": "stream",
     "text": [
      "\r",
      " 74%|█████████████████████████████          | 2044/2747 [03:16<01:01, 11.45it/s]"
     ]
    },
    {
     "name": "stdout",
     "output_type": "stream",
     "text": [
      "2044  image file:  KIC08604993_morp0.18.png\n",
      "1/1 [==============================] - 0s 54ms/step\n",
      "2045  image file:  KIC09705459_morp0.33.png\n",
      "1/1 [==============================] - 0s 53ms/step\n"
     ]
    },
    {
     "name": "stderr",
     "output_type": "stream",
     "text": [
      "\r",
      " 74%|█████████████████████████████          | 2046/2747 [03:16<01:01, 11.42it/s]"
     ]
    },
    {
     "name": "stdout",
     "output_type": "stream",
     "text": [
      "2046  image file:  KIC03757590_morp0.0.png\n",
      "1/1 [==============================] - 0s 54ms/step\n",
      "2047  image file:  KIC11249624_morp0.01.png\n",
      "1/1 [==============================] - 0s 54ms/step\n"
     ]
    },
    {
     "name": "stderr",
     "output_type": "stream",
     "text": [
      "\r",
      " 75%|█████████████████████████████          | 2048/2747 [03:17<01:01, 11.41it/s]"
     ]
    },
    {
     "name": "stdout",
     "output_type": "stream",
     "text": [
      "2048  image file:  KIC03938073_morp0.06.png\n",
      "1/1 [==============================] - 0s 57ms/step\n",
      "2049  image file:  KIC07368451_morp0.9.png\n",
      "1/1 [==============================] - 0s 56ms/step\n"
     ]
    },
    {
     "name": "stderr",
     "output_type": "stream",
     "text": [
      "\r",
      " 75%|█████████████████████████████          | 2050/2747 [03:17<01:02, 11.16it/s]"
     ]
    },
    {
     "name": "stdout",
     "output_type": "stream",
     "text": [
      "2050  image file:  KIC07118656_morp0.93.png\n",
      "1/1 [==============================] - 0s 50ms/step\n",
      "2051  image file:  KIC06034812_morp0.93.png\n",
      "1/1 [==============================] - 0s 51ms/step\n"
     ]
    },
    {
     "name": "stderr",
     "output_type": "stream",
     "text": [
      "\r",
      " 75%|█████████████████████████████▏         | 2052/2747 [03:17<01:01, 11.37it/s]"
     ]
    },
    {
     "name": "stdout",
     "output_type": "stream",
     "text": [
      "2052  image file:  KIC10534155_morp0.18.png\n",
      "1/1 [==============================] - 0s 60ms/step\n",
      "2053  image file:  KIC12356914_morp0.03.png\n",
      "1/1 [==============================] - 0s 54ms/step\n"
     ]
    },
    {
     "name": "stderr",
     "output_type": "stream",
     "text": [
      "\r",
      " 75%|█████████████████████████████▏         | 2054/2747 [03:17<01:02, 11.16it/s]"
     ]
    },
    {
     "name": "stdout",
     "output_type": "stream",
     "text": [
      "2054  image file:  KIC10848807_morp0.75.png\n",
      "1/1 [==============================] - 0s 55ms/step\n",
      "2055  image file:  KIC05357682_morp0.83.png\n",
      "1/1 [==============================] - 0s 54ms/step\n"
     ]
    },
    {
     "name": "stderr",
     "output_type": "stream",
     "text": [
      "\r",
      " 75%|█████████████████████████████▏         | 2056/2747 [03:17<01:04, 10.73it/s]"
     ]
    },
    {
     "name": "stdout",
     "output_type": "stream",
     "text": [
      "2056  image file:  KIC12055517_morp0.77.png\n",
      "1/1 [==============================] - 0s 50ms/step\n",
      "2057  image file:  KIC08183850_morp0.98.png\n",
      "1/1 [==============================] - 0s 54ms/step\n"
     ]
    },
    {
     "name": "stderr",
     "output_type": "stream",
     "text": [
      "\r",
      " 75%|█████████████████████████████▏         | 2058/2747 [03:17<01:02, 11.00it/s]"
     ]
    },
    {
     "name": "stdout",
     "output_type": "stream",
     "text": [
      "2058  image file:  KIC04071600_morp0.96.png\n",
      "1/1 [==============================] - 0s 56ms/step\n",
      "2059  image file:  KIC06698670_morp0.1.png\n",
      "1/1 [==============================] - 0s 59ms/step\n"
     ]
    },
    {
     "name": "stderr",
     "output_type": "stream",
     "text": [
      "\r",
      " 75%|█████████████████████████████▏         | 2060/2747 [03:18<01:02, 10.95it/s]"
     ]
    },
    {
     "name": "stdout",
     "output_type": "stream",
     "text": [
      "2060  image file:  KIC10651945_morp0.06.png\n",
      "1/1 [==============================] - 0s 55ms/step\n",
      "2061  image file:  KIC05039441_morp0.39.png\n",
      "1/1 [==============================] - 0s 56ms/step\n"
     ]
    },
    {
     "name": "stderr",
     "output_type": "stream",
     "text": [
      "\r",
      " 75%|█████████████████████████████▎         | 2062/2747 [03:18<01:02, 10.93it/s]"
     ]
    },
    {
     "name": "stdout",
     "output_type": "stream",
     "text": [
      "2062  image file:  KIC08394040_morp0.79.png\n",
      "1/1 [==============================] - 0s 55ms/step\n",
      "2063  image file:  KIC05181455_morp0.14.png\n",
      "1/1 [==============================] - 0s 54ms/step\n"
     ]
    },
    {
     "name": "stderr",
     "output_type": "stream",
     "text": [
      "\r",
      " 75%|█████████████████████████████▎         | 2064/2747 [03:18<01:02, 10.96it/s]"
     ]
    },
    {
     "name": "stdout",
     "output_type": "stream",
     "text": [
      "2064  image file:  KIC04949770_morp0.82.png\n",
      "1/1 [==============================] - 0s 54ms/step\n",
      "2065  image file:  KIC09837578_morp0.08.png\n",
      "1/1 [==============================] - 0s 53ms/step\n"
     ]
    },
    {
     "name": "stderr",
     "output_type": "stream",
     "text": [
      "\r",
      " 75%|█████████████████████████████▎         | 2066/2747 [03:18<01:01, 11.08it/s]"
     ]
    },
    {
     "name": "stdout",
     "output_type": "stream",
     "text": [
      "2066  image file:  KIC04366923_morp0.0.png\n",
      "1/1 [==============================] - 0s 57ms/step\n",
      "2067  image file:  KIC10033279_morp0.02.png\n",
      "1/1 [==============================] - 0s 52ms/step\n"
     ]
    },
    {
     "name": "stderr",
     "output_type": "stream",
     "text": [
      "\r",
      " 75%|█████████████████████████████▎         | 2068/2747 [03:18<01:01, 11.13it/s]"
     ]
    },
    {
     "name": "stdout",
     "output_type": "stream",
     "text": [
      "2068  image file:  KIC06228703_morp0.21.png\n",
      "1/1 [==============================] - 0s 55ms/step\n",
      "2069  image file:  KIC04386047_morp0.35.png\n",
      "1/1 [==============================] - 0s 53ms/step\n"
     ]
    },
    {
     "name": "stderr",
     "output_type": "stream",
     "text": [
      "\r",
      " 75%|█████████████████████████████▍         | 2070/2747 [03:18<01:00, 11.19it/s]"
     ]
    },
    {
     "name": "stdout",
     "output_type": "stream",
     "text": [
      "2070  image file:  KIC09541127_morp0.68.png\n",
      "1/1 [==============================] - 0s 53ms/step\n",
      "2071  image file:  KIC05735878_morp0.14.png\n",
      "1/1 [==============================] - 0s 56ms/step\n"
     ]
    },
    {
     "name": "stderr",
     "output_type": "stream",
     "text": [
      "\r",
      " 75%|█████████████████████████████▍         | 2072/2747 [03:19<01:03, 10.71it/s]"
     ]
    },
    {
     "name": "stdout",
     "output_type": "stream",
     "text": [
      "2072  image file:  KIC09288175_morp0.99.png\n",
      "1/1 [==============================] - 0s 51ms/step\n",
      "2073  image file:  KIC07973970_morp-1.0.png\n",
      "1/1 [==============================] - 0s 51ms/step\n"
     ]
    },
    {
     "name": "stderr",
     "output_type": "stream",
     "text": [
      "\r",
      " 76%|█████████████████████████████▍         | 2074/2747 [03:19<01:01, 10.97it/s]"
     ]
    },
    {
     "name": "stdout",
     "output_type": "stream",
     "text": [
      "2074  image file:  KIC03119295_morp0.75.png\n",
      "1/1 [==============================] - 0s 52ms/step\n",
      "2075  image file:  KIC05563300_morp0.0.png\n",
      "1/1 [==============================] - 0s 51ms/step\n"
     ]
    },
    {
     "name": "stderr",
     "output_type": "stream",
     "text": [
      "\r",
      " 76%|█████████████████████████████▍         | 2076/2747 [03:19<00:59, 11.19it/s]"
     ]
    },
    {
     "name": "stdout",
     "output_type": "stream",
     "text": [
      "2076  image file:  KIC03247294_morp0.02.png\n",
      "1/1 [==============================] - 0s 51ms/step\n",
      "2077  image file:  KIC09392331_morp0.77.png\n",
      "1/1 [==============================] - 0s 50ms/step\n"
     ]
    },
    {
     "name": "stderr",
     "output_type": "stream",
     "text": [
      "\r",
      " 76%|█████████████████████████████▌         | 2078/2747 [03:19<00:58, 11.42it/s]"
     ]
    },
    {
     "name": "stdout",
     "output_type": "stream",
     "text": [
      "2078  image file:  KIC02569494_morp0.58.png\n",
      "1/1 [==============================] - 0s 51ms/step\n",
      "2079  image file:  KIC06706287_morp0.38.png\n",
      "1/1 [==============================] - 0s 52ms/step\n"
     ]
    },
    {
     "name": "stderr",
     "output_type": "stream",
     "text": [
      "\r",
      " 76%|█████████████████████████████▌         | 2080/2747 [03:19<00:58, 11.49it/s]"
     ]
    },
    {
     "name": "stdout",
     "output_type": "stream",
     "text": [
      "2080  image file:  KIC05553624_morp0.13.png\n",
      "1/1 [==============================] - 0s 54ms/step\n",
      "2081  image file:  KIC11358392_morp0.44.png\n",
      "1/1 [==============================] - 0s 58ms/step\n"
     ]
    },
    {
     "name": "stderr",
     "output_type": "stream",
     "text": [
      "\r",
      " 76%|█████████████████████████████▌         | 2082/2747 [03:20<00:59, 11.15it/s]"
     ]
    },
    {
     "name": "stdout",
     "output_type": "stream",
     "text": [
      "2082  image file:  KIC06286402_morp0.95.png\n",
      "1/1 [==============================] - 0s 57ms/step\n",
      "2083  image file:  KIC08332986_morp0.0.png\n",
      "1/1 [==============================] - 0s 53ms/step\n"
     ]
    },
    {
     "name": "stderr",
     "output_type": "stream",
     "text": [
      "\r",
      " 76%|█████████████████████████████▌         | 2084/2747 [03:20<00:59, 11.09it/s]"
     ]
    },
    {
     "name": "stdout",
     "output_type": "stream",
     "text": [
      "2084  image file:  KIC05284133_morp0.15.png\n",
      "1/1 [==============================] - 0s 54ms/step\n",
      "2085  image file:  KIC06432059_morp0.54.png\n",
      "1/1 [==============================] - 0s 54ms/step\n"
     ]
    },
    {
     "name": "stderr",
     "output_type": "stream",
     "text": [
      "\r",
      " 76%|█████████████████████████████▌         | 2086/2747 [03:20<00:59, 11.08it/s]"
     ]
    },
    {
     "name": "stdout",
     "output_type": "stream",
     "text": [
      "2086  image file:  KIC03654950_morp0.26.png\n",
      "1/1 [==============================] - 0s 55ms/step\n",
      "2087  image file:  KIC11147460_morp0.37.png\n",
      "1/1 [==============================] - 0s 56ms/step\n"
     ]
    },
    {
     "name": "stderr",
     "output_type": "stream",
     "text": [
      "\r",
      " 76%|█████████████████████████████▋         | 2088/2747 [03:20<01:00, 10.97it/s]"
     ]
    },
    {
     "name": "stdout",
     "output_type": "stream",
     "text": [
      "2088  image file:  KIC10468514_morp0.58.png\n",
      "1/1 [==============================] - 0s 56ms/step\n",
      "2089  image file:  KIC06200709_morp0.28.png\n",
      "1/1 [==============================] - 0s 54ms/step\n"
     ]
    },
    {
     "name": "stderr",
     "output_type": "stream",
     "text": [
      "\r",
      " 76%|█████████████████████████████▋         | 2090/2747 [03:20<00:59, 10.96it/s]"
     ]
    },
    {
     "name": "stdout",
     "output_type": "stream",
     "text": [
      "2090  image file:  KIC07798259_morp0.36.png\n",
      "1/1 [==============================] - 0s 57ms/step\n",
      "2091  image file:  KIC05179609_morp0.08.png\n",
      "1/1 [==============================] - 0s 58ms/step\n"
     ]
    },
    {
     "name": "stderr",
     "output_type": "stream",
     "text": [
      "\r",
      " 76%|█████████████████████████████▋         | 2092/2747 [03:21<01:00, 10.75it/s]"
     ]
    },
    {
     "name": "stdout",
     "output_type": "stream",
     "text": [
      "2092  image file:  KIC09540450_morp0.44.png\n",
      "1/1 [==============================] - 0s 58ms/step\n",
      "2093  image file:  KIC04991959_morp0.76.png\n",
      "1/1 [==============================] - 0s 57ms/step\n"
     ]
    },
    {
     "name": "stderr",
     "output_type": "stream",
     "text": [
      "\r",
      " 76%|█████████████████████████████▋         | 2094/2747 [03:21<01:03, 10.29it/s]"
     ]
    },
    {
     "name": "stdout",
     "output_type": "stream",
     "text": [
      "2094  image file:  KIC02161623_morp0.54.png\n",
      "1/1 [==============================] - 0s 56ms/step\n",
      "2095  image file:  KIC02987433_morp0.0.png\n",
      "1/1 [==============================] - 0s 55ms/step\n"
     ]
    },
    {
     "name": "stderr",
     "output_type": "stream",
     "text": [
      "\r",
      " 76%|█████████████████████████████▊         | 2096/2747 [03:21<01:02, 10.44it/s]"
     ]
    },
    {
     "name": "stdout",
     "output_type": "stream",
     "text": [
      "2096  image file:  KIC07512381_morp0.75.png\n",
      "1/1 [==============================] - 0s 53ms/step\n",
      "2097  image file:  KIC10090246_morp0.63.png\n",
      "1/1 [==============================] - 0s 54ms/step\n"
     ]
    },
    {
     "name": "stderr",
     "output_type": "stream",
     "text": [
      "\r",
      " 76%|█████████████████████████████▊         | 2098/2747 [03:21<01:01, 10.62it/s]"
     ]
    },
    {
     "name": "stdout",
     "output_type": "stream",
     "text": [
      "2098  image file:  KIC08624520_morp0.02.png\n",
      "1/1 [==============================] - 0s 53ms/step\n",
      "2099  image file:  KIC06067735_morp0.85.png\n",
      "1/1 [==============================] - 0s 54ms/step\n"
     ]
    },
    {
     "name": "stderr",
     "output_type": "stream",
     "text": [
      "\r",
      " 76%|█████████████████████████████▊         | 2100/2747 [03:21<01:00, 10.73it/s]"
     ]
    },
    {
     "name": "stdout",
     "output_type": "stream",
     "text": [
      "2100  image file:  KIC06606282_morp0.4.png\n",
      "1/1 [==============================] - 0s 53ms/step\n",
      "2101  image file:  KIC06859813_morp0.13.png\n",
      "1/1 [==============================] - 0s 55ms/step\n"
     ]
    },
    {
     "name": "stderr",
     "output_type": "stream",
     "text": [
      "\r",
      " 77%|█████████████████████████████▊         | 2102/2747 [03:21<00:59, 10.81it/s]"
     ]
    },
    {
     "name": "stdout",
     "output_type": "stream",
     "text": [
      "2102  image file:  KIC09772642_morp0.8.png\n",
      "1/1 [==============================] - 0s 58ms/step\n",
      "2103  image file:  KIC07350038_morp-1.0.png\n",
      "1/1 [==============================] - 0s 57ms/step\n"
     ]
    },
    {
     "name": "stderr",
     "output_type": "stream",
     "text": [
      "\r",
      " 77%|█████████████████████████████▊         | 2104/2747 [03:22<01:00, 10.70it/s]"
     ]
    },
    {
     "name": "stdout",
     "output_type": "stream",
     "text": [
      "2104  image file:  KIC06363494_morp0.48.png\n",
      "1/1 [==============================] - 0s 69ms/step\n",
      "2105  image file:  KIC04851217_morp0.58.png\n",
      "1/1 [==============================] - 0s 57ms/step\n"
     ]
    },
    {
     "name": "stderr",
     "output_type": "stream",
     "text": [
      "\r",
      " 77%|█████████████████████████████▉         | 2106/2747 [03:22<01:01, 10.49it/s]"
     ]
    },
    {
     "name": "stdout",
     "output_type": "stream",
     "text": [
      "2106  image file:  KIC04273411_morp0.92.png\n",
      "1/1 [==============================] - 0s 56ms/step\n",
      "2107  image file:  KIC06143826_morp0.92.png\n",
      "1/1 [==============================] - 0s 55ms/step\n"
     ]
    },
    {
     "name": "stderr",
     "output_type": "stream",
     "text": [
      "\r",
      " 77%|█████████████████████████████▉         | 2108/2747 [03:22<01:00, 10.60it/s]"
     ]
    },
    {
     "name": "stdout",
     "output_type": "stream",
     "text": [
      "2108  image file:  KIC10518735_morp0.06.png\n",
      "1/1 [==============================] - 0s 58ms/step\n",
      "2109  image file:  KIC10547685_morp0.33.png\n",
      "1/1 [==============================] - 0s 57ms/step\n"
     ]
    },
    {
     "name": "stderr",
     "output_type": "stream",
     "text": [
      "\r",
      " 77%|█████████████████████████████▉         | 2110/2747 [03:22<01:00, 10.53it/s]"
     ]
    },
    {
     "name": "stdout",
     "output_type": "stream",
     "text": [
      "2110  image file:  KIC08552719_morp0.04.png\n",
      "1/1 [==============================] - 0s 54ms/step\n",
      "2111  image file:  KIC04376644_morp0.01.png\n",
      "1/1 [==============================] - 0s 54ms/step\n"
     ]
    },
    {
     "name": "stderr",
     "output_type": "stream",
     "text": [
      "\r",
      " 77%|█████████████████████████████▉         | 2112/2747 [03:22<00:59, 10.68it/s]"
     ]
    },
    {
     "name": "stdout",
     "output_type": "stream",
     "text": [
      "2112  image file:  KIC09005854_morp0.27.png\n",
      "1/1 [==============================] - 0s 55ms/step\n",
      "2113  image file:  KIC08074045_morp0.62.png\n",
      "1/1 [==============================] - 0s 56ms/step\n"
     ]
    },
    {
     "name": "stderr",
     "output_type": "stream",
     "text": [
      "\r",
      " 77%|██████████████████████████████         | 2114/2747 [03:23<00:59, 10.71it/s]"
     ]
    },
    {
     "name": "stdout",
     "output_type": "stream",
     "text": [
      "2114  image file:  KIC11704155_morp0.94.png\n",
      "1/1 [==============================] - 0s 56ms/step\n",
      "2115  image file:  KIC09911112_morp0.37.png\n",
      "1/1 [==============================] - 0s 55ms/step\n"
     ]
    },
    {
     "name": "stderr",
     "output_type": "stream",
     "text": [
      "\r",
      " 77%|██████████████████████████████         | 2116/2747 [03:23<00:58, 10.73it/s]"
     ]
    },
    {
     "name": "stdout",
     "output_type": "stream",
     "text": [
      "2116  image file:  KIC11460346_morp0.94.png\n",
      "1/1 [==============================] - 0s 54ms/step\n",
      "2117  image file:  KIC08263940_morp0.92.png\n",
      "1/1 [==============================] - 0s 56ms/step\n"
     ]
    },
    {
     "name": "stderr",
     "output_type": "stream",
     "text": [
      "\r",
      " 77%|██████████████████████████████         | 2118/2747 [03:23<00:58, 10.71it/s]"
     ]
    },
    {
     "name": "stdout",
     "output_type": "stream",
     "text": [
      "2118  image file:  KIC09948002_morp0.04.png\n",
      "1/1 [==============================] - 0s 57ms/step\n",
      "2119  image file:  KIC04946680_morp0.1.png\n",
      "1/1 [==============================] - 0s 61ms/step\n"
     ]
    },
    {
     "name": "stderr",
     "output_type": "stream",
     "text": [
      "\r",
      " 77%|██████████████████████████████         | 2120/2747 [03:23<00:59, 10.57it/s]"
     ]
    },
    {
     "name": "stdout",
     "output_type": "stream",
     "text": [
      "2120  image file:  KIC05103998_morp0.0.png\n",
      "1/1 [==============================] - 0s 61ms/step\n",
      "2121  image file:  KIC03248332_morp0.2.png\n",
      "1/1 [==============================] - 0s 56ms/step\n"
     ]
    },
    {
     "name": "stderr",
     "output_type": "stream",
     "text": [
      "\r",
      " 77%|██████████████████████████████▏        | 2122/2747 [03:23<00:59, 10.50it/s]"
     ]
    },
    {
     "name": "stdout",
     "output_type": "stream",
     "text": [
      "2122  image file:  KIC10973583_morp0.12.png\n",
      "1/1 [==============================] - 0s 56ms/step\n",
      "2123  image file:  KIC09909497_morp0.96.png\n",
      "1/1 [==============================] - 0s 71ms/step\n"
     ]
    },
    {
     "name": "stderr",
     "output_type": "stream",
     "text": [
      "\r",
      " 77%|██████████████████████████████▏        | 2124/2747 [03:24<01:00, 10.30it/s]"
     ]
    },
    {
     "name": "stdout",
     "output_type": "stream",
     "text": [
      "2124  image file:  KIC04578594_morp0.01.png\n",
      "1/1 [==============================] - 0s 61ms/step\n",
      "2125  image file:  KIC09886255_morp0.01.png\n",
      "1/1 [==============================] - 0s 55ms/step\n"
     ]
    },
    {
     "name": "stderr",
     "output_type": "stream",
     "text": [
      "\r",
      " 77%|██████████████████████████████▏        | 2126/2747 [03:24<00:59, 10.39it/s]"
     ]
    },
    {
     "name": "stdout",
     "output_type": "stream",
     "text": [
      "2126  image file:  KIC08231231_morp0.88.png\n",
      "1/1 [==============================] - 0s 54ms/step\n",
      "2127  image file:  KIC04069213_morp0.42.png\n",
      "1/1 [==============================] - 0s 54ms/step\n"
     ]
    },
    {
     "name": "stderr",
     "output_type": "stream",
     "text": [
      "\r",
      " 77%|██████████████████████████████▏        | 2128/2747 [03:24<00:58, 10.52it/s]"
     ]
    },
    {
     "name": "stdout",
     "output_type": "stream",
     "text": [
      "2128  image file:  KIC09098590_morp0.47.png\n",
      "1/1 [==============================] - 0s 60ms/step\n",
      "2129  image file:  KIC02302092_morp0.88.png\n",
      "1/1 [==============================] - 0s 56ms/step\n"
     ]
    },
    {
     "name": "stderr",
     "output_type": "stream",
     "text": [
      "\r",
      " 78%|██████████████████████████████▏        | 2130/2747 [03:24<00:58, 10.49it/s]"
     ]
    },
    {
     "name": "stdout",
     "output_type": "stream",
     "text": [
      "2130  image file:  KIC10619506_morp0.92.png\n",
      "1/1 [==============================] - 0s 53ms/step\n",
      "2131  image file:  KIC09579192_morp0.16.png\n",
      "1/1 [==============================] - 0s 53ms/step\n"
     ]
    },
    {
     "name": "stderr",
     "output_type": "stream",
     "text": [
      "\r",
      " 78%|██████████████████████████████▎        | 2132/2747 [03:24<00:57, 10.68it/s]"
     ]
    },
    {
     "name": "stdout",
     "output_type": "stream",
     "text": [
      "2132  image file:  KIC04773155_morp0.02.png\n",
      "1/1 [==============================] - 0s 56ms/step\n",
      "2133  image file:  KIC07975727_morp0.07.png\n",
      "1/1 [==============================] - 0s 58ms/step\n"
     ]
    },
    {
     "name": "stderr",
     "output_type": "stream",
     "text": [
      "\r",
      " 78%|██████████████████████████████▎        | 2134/2747 [03:24<00:59, 10.31it/s]"
     ]
    },
    {
     "name": "stdout",
     "output_type": "stream",
     "text": [
      "2134  image file:  KIC10031409_morp0.35.png\n",
      "1/1 [==============================] - 0s 57ms/step\n",
      "2135  image file:  KIC04372379_morp-1.0.png\n",
      "1/1 [==============================] - 0s 58ms/step\n"
     ]
    },
    {
     "name": "stderr",
     "output_type": "stream",
     "text": [
      "\r",
      " 78%|██████████████████████████████▎        | 2136/2747 [03:25<00:59, 10.27it/s]"
     ]
    },
    {
     "name": "stdout",
     "output_type": "stream",
     "text": [
      "2136  image file:  KIC06187893_morp0.6.png\n",
      "1/1 [==============================] - 0s 55ms/step\n",
      "2137  image file:  KIC08430210_morp0.93.png\n",
      "1/1 [==============================] - 0s 57ms/step\n"
     ]
    },
    {
     "name": "stderr",
     "output_type": "stream",
     "text": [
      "\r",
      " 78%|██████████████████████████████▎        | 2138/2747 [03:25<00:58, 10.41it/s]"
     ]
    },
    {
     "name": "stdout",
     "output_type": "stream",
     "text": [
      "2138  image file:  KIC07967100_morp0.49.png\n",
      "1/1 [==============================] - 0s 57ms/step\n",
      "2139  image file:  KIC08694926_morp0.8.png\n",
      "1/1 [==============================] - 0s 53ms/step\n"
     ]
    },
    {
     "name": "stderr",
     "output_type": "stream",
     "text": [
      "\r",
      " 78%|██████████████████████████████▍        | 2140/2747 [03:25<00:57, 10.53it/s]"
     ]
    },
    {
     "name": "stdout",
     "output_type": "stream",
     "text": [
      "2140  image file:  KIC06606934_morp0.01.png\n",
      "1/1 [==============================] - 0s 53ms/step\n",
      "2141  image file:  KIC04365442_morp0.52.png\n",
      "1/1 [==============================] - 0s 52ms/step\n"
     ]
    },
    {
     "name": "stderr",
     "output_type": "stream",
     "text": [
      "\r",
      " 78%|██████████████████████████████▍        | 2142/2747 [03:25<00:56, 10.75it/s]"
     ]
    },
    {
     "name": "stdout",
     "output_type": "stream",
     "text": [
      "2142  image file:  KIC07818448_morp0.66.png\n",
      "1/1 [==============================] - 0s 54ms/step\n",
      "2143  image file:  KIC06042116_morp0.27.png\n",
      "1/1 [==============================] - 0s 56ms/step\n"
     ]
    },
    {
     "name": "stderr",
     "output_type": "stream",
     "text": [
      "\r",
      " 78%|██████████████████████████████▍        | 2144/2747 [03:25<00:58, 10.33it/s]"
     ]
    },
    {
     "name": "stdout",
     "output_type": "stream",
     "text": [
      "2144  image file:  KIC06213131_morp0.64.png\n",
      "1/1 [==============================] - 0s 58ms/step\n",
      "2145  image file:  KIC06877673_morp0.11.png\n",
      "1/1 [==============================] - 0s 60ms/step\n"
     ]
    },
    {
     "name": "stderr",
     "output_type": "stream",
     "text": [
      "\r",
      " 78%|██████████████████████████████▍        | 2146/2747 [03:26<00:58, 10.26it/s]"
     ]
    },
    {
     "name": "stdout",
     "output_type": "stream",
     "text": [
      "2146  image file:  KIC02162283_morp1.0.png\n",
      "1/1 [==============================] - 0s 71ms/step\n",
      "2147  image file:  KIC10334122_morp-1.0.png\n",
      "1/1 [==============================] - 0s 62ms/step\n"
     ]
    },
    {
     "name": "stderr",
     "output_type": "stream",
     "text": [
      "\r",
      " 78%|██████████████████████████████▍        | 2148/2747 [03:26<01:01,  9.77it/s]"
     ]
    },
    {
     "name": "stdout",
     "output_type": "stream",
     "text": [
      "2148  image file:  KIC02715007_morp0.87.png\n",
      "1/1 [==============================] - 0s 54ms/step\n",
      "2149  image file:  KIC11825204_morp0.98.png\n",
      "1/1 [==============================] - 0s 53ms/step\n"
     ]
    },
    {
     "name": "stderr",
     "output_type": "stream",
     "text": [
      "\r",
      " 78%|██████████████████████████████▌        | 2150/2747 [03:26<00:58, 10.15it/s]"
     ]
    },
    {
     "name": "stdout",
     "output_type": "stream",
     "text": [
      "2150  image file:  KIC10454725_morp0.64.png\n",
      "1/1 [==============================] - 0s 53ms/step\n",
      "2151  image file:  KIC09285587_morp0.94.png\n",
      "1/1 [==============================] - 0s 52ms/step\n"
     ]
    },
    {
     "name": "stderr",
     "output_type": "stream",
     "text": [
      "\r",
      " 78%|██████████████████████████████▌        | 2152/2747 [03:26<00:56, 10.46it/s]"
     ]
    },
    {
     "name": "stdout",
     "output_type": "stream",
     "text": [
      "2152  image file:  KIC10383620_morp0.64.png\n",
      "1/1 [==============================] - 0s 55ms/step\n",
      "2153  image file:  KIC06466939_morp0.41.png\n",
      "1/1 [==============================] - 0s 53ms/step\n"
     ]
    },
    {
     "name": "stderr",
     "output_type": "stream",
     "text": [
      "\r",
      " 78%|██████████████████████████████▌        | 2154/2747 [03:26<00:55, 10.59it/s]"
     ]
    },
    {
     "name": "stdout",
     "output_type": "stream",
     "text": [
      "2154  image file:  KIC09357275_morp0.52.png\n",
      "1/1 [==============================] - 0s 53ms/step\n",
      "2155  image file:  KIC06042663_morp0.07.png\n",
      "1/1 [==============================] - 0s 53ms/step\n"
     ]
    },
    {
     "name": "stderr",
     "output_type": "stream",
     "text": [
      "\r",
      " 78%|██████████████████████████████▌        | 2156/2747 [03:27<00:55, 10.74it/s]"
     ]
    },
    {
     "name": "stdout",
     "output_type": "stream",
     "text": [
      "2156  image file:  KIC08940961_morp0.36.png\n",
      "1/1 [==============================] - 0s 56ms/step\n",
      "2157  image file:  KIC06633929_morp0.9.png\n",
      "1/1 [==============================] - 0s 63ms/step\n"
     ]
    },
    {
     "name": "stderr",
     "output_type": "stream",
     "text": [
      "\r",
      " 79%|██████████████████████████████▋        | 2158/2747 [03:27<00:56, 10.44it/s]"
     ]
    },
    {
     "name": "stdout",
     "output_type": "stream",
     "text": [
      "2158  image file:  KIC09228778_morp0.99.png\n",
      "1/1 [==============================] - 0s 58ms/step\n",
      "2159  image file:  KIC04950557_morp0.04.png\n",
      "1/1 [==============================] - 0s 60ms/step\n"
     ]
    },
    {
     "name": "stderr",
     "output_type": "stream",
     "text": [
      "\r",
      " 79%|██████████████████████████████▋        | 2160/2747 [03:27<00:56, 10.41it/s]"
     ]
    },
    {
     "name": "stdout",
     "output_type": "stream",
     "text": [
      "2160  image file:  KIC11662440_morp0.05.png\n",
      "1/1 [==============================] - 0s 56ms/step\n",
      "2161  image file:  KIC06449552_morp0.09.png\n",
      "1/1 [==============================] - 0s 63ms/step\n"
     ]
    },
    {
     "name": "stderr",
     "output_type": "stream",
     "text": [
      "\r",
      " 79%|██████████████████████████████▋        | 2162/2747 [03:27<00:56, 10.39it/s]"
     ]
    },
    {
     "name": "stdout",
     "output_type": "stream",
     "text": [
      "2162  image file:  KIC07684873_morp0.2.png\n",
      "1/1 [==============================] - 0s 61ms/step\n",
      "2163  image file:  KIC04902030_morp0.39.png\n",
      "1/1 [==============================] - 0s 63ms/step\n"
     ]
    },
    {
     "name": "stderr",
     "output_type": "stream",
     "text": [
      "\r",
      " 79%|██████████████████████████████▋        | 2164/2747 [03:27<00:57, 10.20it/s]"
     ]
    },
    {
     "name": "stdout",
     "output_type": "stream",
     "text": [
      "2164  image file:  KIC10322296_morp0.84.png\n",
      "1/1 [==============================] - 0s 55ms/step\n",
      "2165  image file:  KIC06670812_morp0.99.png\n",
      "1/1 [==============================] - 0s 66ms/step\n"
     ]
    },
    {
     "name": "stderr",
     "output_type": "stream",
     "text": [
      "\r",
      " 79%|██████████████████████████████▊        | 2166/2747 [03:28<00:57, 10.19it/s]"
     ]
    },
    {
     "name": "stdout",
     "output_type": "stream",
     "text": [
      "2166  image file:  KIC04157488_morp0.39.png\n",
      "1/1 [==============================] - 0s 59ms/step\n",
      "2167  image file:  KIC03633901_morp0.84.png\n",
      "1/1 [==============================] - 0s 55ms/step\n"
     ]
    },
    {
     "name": "stderr",
     "output_type": "stream",
     "text": [
      "\r",
      " 79%|██████████████████████████████▊        | 2168/2747 [03:28<00:56, 10.34it/s]"
     ]
    },
    {
     "name": "stdout",
     "output_type": "stream",
     "text": [
      "2168  image file:  KIC05090690_morp0.04.png\n",
      "1/1 [==============================] - 0s 56ms/step\n",
      "2169  image file:  KIC09451598_morp0.92.png\n",
      "1/1 [==============================] - 0s 59ms/step\n"
     ]
    },
    {
     "name": "stderr",
     "output_type": "stream",
     "text": [
      "\r",
      " 79%|██████████████████████████████▊        | 2170/2747 [03:28<00:55, 10.39it/s]"
     ]
    },
    {
     "name": "stdout",
     "output_type": "stream",
     "text": [
      "2170  image file:  KIC08891278_morp0.04.png\n",
      "1/1 [==============================] - 0s 65ms/step\n",
      "2171  image file:  KIC10389596_morp0.99.png\n",
      "1/1 [==============================] - 0s 68ms/step\n"
     ]
    },
    {
     "name": "stderr",
     "output_type": "stream",
     "text": [
      "\r",
      " 79%|██████████████████████████████▊        | 2172/2747 [03:28<00:57, 10.00it/s]"
     ]
    },
    {
     "name": "stdout",
     "output_type": "stream",
     "text": [
      "2172  image file:  KIC08429415_morp0.58.png\n",
      "1/1 [==============================] - 0s 67ms/step\n",
      "2173  image file:  KIC09847239_morp0.02.png\n",
      "1/1 [==============================] - 0s 65ms/step\n"
     ]
    },
    {
     "name": "stderr",
     "output_type": "stream",
     "text": [
      "\r",
      " 79%|██████████████████████████████▊        | 2174/2747 [03:28<00:58,  9.80it/s]"
     ]
    },
    {
     "name": "stdout",
     "output_type": "stream",
     "text": [
      "2174  image file:  KIC06610219_morp0.2.png\n",
      "1/1 [==============================] - 0s 62ms/step\n"
     ]
    },
    {
     "name": "stderr",
     "output_type": "stream",
     "text": [
      "\r",
      " 79%|██████████████████████████████▉        | 2175/2747 [03:29<01:00,  9.51it/s]"
     ]
    },
    {
     "name": "stdout",
     "output_type": "stream",
     "text": [
      "2175  image file:  KIC11044668_morp-1.0.png\n",
      "1/1 [==============================] - 0s 60ms/step\n",
      "2176  image file:  KIC11560037_morp0.31.png\n",
      "1/1 [==============================] - 0s 57ms/step\n"
     ]
    },
    {
     "name": "stderr",
     "output_type": "stream",
     "text": [
      "\r",
      " 79%|██████████████████████████████▉        | 2177/2747 [03:29<00:58,  9.79it/s]"
     ]
    },
    {
     "name": "stdout",
     "output_type": "stream",
     "text": [
      "2177  image file:  KIC09777090_morp0.18.png\n",
      "1/1 [==============================] - 0s 58ms/step\n",
      "2178  image file:  KIC10257903_morp0.59.png\n",
      "1/1 [==============================] - 0s 79ms/step\n"
     ]
    },
    {
     "name": "stderr",
     "output_type": "stream",
     "text": [
      "\r",
      " 79%|██████████████████████████████▉        | 2179/2747 [03:29<01:00,  9.46it/s]"
     ]
    },
    {
     "name": "stdout",
     "output_type": "stream",
     "text": [
      "2179  image file:  KIC04168013_morp0.85.png\n",
      "1/1 [==============================] - 0s 68ms/step\n"
     ]
    },
    {
     "name": "stderr",
     "output_type": "stream",
     "text": [
      "\r",
      " 79%|██████████████████████████████▉        | 2180/2747 [03:29<01:00,  9.31it/s]"
     ]
    },
    {
     "name": "stdout",
     "output_type": "stream",
     "text": [
      "2180  image file:  KIC02444187_morp0.76.png\n",
      "1/1 [==============================] - 0s 63ms/step\n"
     ]
    },
    {
     "name": "stderr",
     "output_type": "stream",
     "text": [
      "\r",
      " 79%|██████████████████████████████▉        | 2181/2747 [03:29<01:01,  9.15it/s]"
     ]
    },
    {
     "name": "stdout",
     "output_type": "stream",
     "text": [
      "2181  image file:  KIC09665086_morp0.69.png\n",
      "1/1 [==============================] - 0s 60ms/step\n",
      "2182  image file:  KIC07348206_morp0.9.png\n",
      "1/1 [==============================] - 0s 54ms/step\n"
     ]
    },
    {
     "name": "stderr",
     "output_type": "stream",
     "text": [
      "\r",
      " 79%|██████████████████████████████▉        | 2183/2747 [03:29<00:58,  9.57it/s]"
     ]
    },
    {
     "name": "stdout",
     "output_type": "stream",
     "text": [
      "2183  image file:  KIC08539850_morp0.91.png\n",
      "1/1 [==============================] - 0s 58ms/step\n",
      "2184  image file:  KIC08868650_morp0.62.png\n",
      "1/1 [==============================] - 0s 55ms/step\n"
     ]
    },
    {
     "name": "stderr",
     "output_type": "stream",
     "text": [
      "\r",
      " 80%|███████████████████████████████        | 2185/2747 [03:30<00:57,  9.83it/s]"
     ]
    },
    {
     "name": "stdout",
     "output_type": "stream",
     "text": [
      "2185  image file:  KIC03837677_morp0.94.png\n",
      "1/1 [==============================] - 0s 54ms/step\n",
      "2186  image file:  KIC04847843_morp0.06.png\n",
      "1/1 [==============================] - 0s 54ms/step\n"
     ]
    },
    {
     "name": "stderr",
     "output_type": "stream",
     "text": [
      "\r",
      " 80%|███████████████████████████████        | 2187/2747 [03:30<00:55, 10.14it/s]"
     ]
    },
    {
     "name": "stdout",
     "output_type": "stream",
     "text": [
      "2187  image file:  KIC08879427_morp0.07.png\n",
      "1/1 [==============================] - 0s 55ms/step\n",
      "2188  image file:  KIC06543674_morp0.53.png\n",
      "1/1 [==============================] - 0s 55ms/step\n"
     ]
    },
    {
     "name": "stderr",
     "output_type": "stream",
     "text": [
      "\r",
      " 80%|███████████████████████████████        | 2189/2747 [03:30<00:54, 10.33it/s]"
     ]
    },
    {
     "name": "stdout",
     "output_type": "stream",
     "text": [
      "2189  image file:  KIC10802917_morp0.74.png\n",
      "1/1 [==============================] - 0s 55ms/step\n",
      "2190  image file:  KIC06290382_morp0.13.png\n",
      "1/1 [==============================] - 0s 53ms/step\n"
     ]
    },
    {
     "name": "stderr",
     "output_type": "stream",
     "text": [
      "\r",
      " 80%|███████████████████████████████        | 2191/2747 [03:30<00:53, 10.42it/s]"
     ]
    },
    {
     "name": "stdout",
     "output_type": "stream",
     "text": [
      "2191  image file:  KIC05374883_morp0.86.png\n",
      "1/1 [==============================] - 0s 55ms/step\n",
      "2192  image file:  KIC06778050_morp0.55.png\n",
      "1/1 [==============================] - 0s 55ms/step\n"
     ]
    },
    {
     "name": "stderr",
     "output_type": "stream",
     "text": [
      "\r",
      " 80%|███████████████████████████████▏       | 2193/2747 [03:30<00:52, 10.54it/s]"
     ]
    },
    {
     "name": "stdout",
     "output_type": "stream",
     "text": [
      "2193  image file:  KIC09965206_morp0.09.png\n",
      "1/1 [==============================] - 0s 53ms/step\n",
      "2194  image file:  KIC09411943_morp0.22.png\n",
      "1/1 [==============================] - 0s 55ms/step\n"
     ]
    },
    {
     "name": "stderr",
     "output_type": "stream",
     "text": [
      "\r",
      " 80%|███████████████████████████████▏       | 2195/2747 [03:30<00:51, 10.65it/s]"
     ]
    },
    {
     "name": "stdout",
     "output_type": "stream",
     "text": [
      "2195  image file:  KIC07749504_morp0.95.png\n",
      "1/1 [==============================] - 0s 56ms/step\n",
      "2196  image file:  KIC03547091_morp0.22.png\n",
      "1/1 [==============================] - 0s 56ms/step\n"
     ]
    },
    {
     "name": "stderr",
     "output_type": "stream",
     "text": [
      "\r",
      " 80%|███████████████████████████████▏       | 2197/2747 [03:31<00:51, 10.64it/s]"
     ]
    },
    {
     "name": "stdout",
     "output_type": "stream",
     "text": [
      "2197  image file:  KIC06794131_morp0.81.png\n",
      "1/1 [==============================] - 0s 54ms/step\n",
      "2198  image file:  KIC06359771_morp0.91.png\n",
      "1/1 [==============================] - 0s 55ms/step\n"
     ]
    },
    {
     "name": "stderr",
     "output_type": "stream",
     "text": [
      "\r",
      " 80%|███████████████████████████████▏       | 2199/2747 [03:31<00:51, 10.62it/s]"
     ]
    },
    {
     "name": "stdout",
     "output_type": "stream",
     "text": [
      "2199  image file:  KIC10191070_morp0.59.png\n",
      "1/1 [==============================] - 0s 55ms/step\n",
      "2200  image file:  KIC07627059_morp0.81.png\n",
      "1/1 [==============================] - 0s 54ms/step\n"
     ]
    },
    {
     "name": "stderr",
     "output_type": "stream",
     "text": [
      "\r",
      " 80%|███████████████████████████████▏       | 2201/2747 [03:31<00:51, 10.70it/s]"
     ]
    },
    {
     "name": "stdout",
     "output_type": "stream",
     "text": [
      "2201  image file:  KIC09533508_morp0.86.png\n",
      "1/1 [==============================] - 0s 55ms/step\n",
      "2202  image file:  KIC09813678_morp0.56.png\n",
      "1/1 [==============================] - 0s 61ms/step\n"
     ]
    },
    {
     "name": "stderr",
     "output_type": "stream",
     "text": [
      "\r",
      " 80%|███████████████████████████████▎       | 2203/2747 [03:31<00:51, 10.55it/s]"
     ]
    },
    {
     "name": "stdout",
     "output_type": "stream",
     "text": [
      "2203  image file:  KIC05035972_morp0.02.png\n",
      "1/1 [==============================] - 0s 62ms/step\n",
      "2204  image file:  KIC10483644_morp0.12.png\n",
      "1/1 [==============================] - 0s 58ms/step\n"
     ]
    },
    {
     "name": "stderr",
     "output_type": "stream",
     "text": [
      "\r",
      " 80%|███████████████████████████████▎       | 2205/2747 [03:31<00:52, 10.28it/s]"
     ]
    },
    {
     "name": "stdout",
     "output_type": "stream",
     "text": [
      "2205  image file:  KIC11151970_morp0.88.png\n",
      "1/1 [==============================] - 0s 56ms/step\n",
      "2206  image file:  KIC10535807_morp0.51.png\n",
      "1/1 [==============================] - 0s 59ms/step\n"
     ]
    },
    {
     "name": "stderr",
     "output_type": "stream",
     "text": [
      "\r",
      " 80%|███████████████████████████████▎       | 2207/2747 [03:32<00:52, 10.30it/s]"
     ]
    },
    {
     "name": "stdout",
     "output_type": "stream",
     "text": [
      "2207  image file:  KIC09356753_morp0.76.png\n",
      "1/1 [==============================] - 0s 57ms/step\n",
      "2208  image file:  KIC10855535_morp0.99.png\n",
      "1/1 [==============================] - 0s 57ms/step\n"
     ]
    },
    {
     "name": "stderr",
     "output_type": "stream",
     "text": [
      "\r",
      " 80%|███████████████████████████████▎       | 2209/2747 [03:32<00:52, 10.28it/s]"
     ]
    },
    {
     "name": "stdout",
     "output_type": "stream",
     "text": [
      "2209  image file:  KIC08242681_morp0.3.png\n",
      "1/1 [==============================] - 0s 58ms/step\n",
      "2210  image file:  KIC11255667_morp0.88.png\n",
      "1/1 [==============================] - 0s 59ms/step\n"
     ]
    },
    {
     "name": "stderr",
     "output_type": "stream",
     "text": [
      "\r",
      " 80%|███████████████████████████████▍       | 2211/2747 [03:32<00:52, 10.24it/s]"
     ]
    },
    {
     "name": "stdout",
     "output_type": "stream",
     "text": [
      "2211  image file:  KIC09673173_morp0.09.png\n",
      "1/1 [==============================] - 0s 56ms/step\n",
      "2212  image file:  KIC10680475_morp0.78.png\n",
      "1/1 [==============================] - 0s 54ms/step\n"
     ]
    },
    {
     "name": "stderr",
     "output_type": "stream",
     "text": [
      "\r",
      " 81%|███████████████████████████████▍       | 2213/2747 [03:32<00:51, 10.38it/s]"
     ]
    },
    {
     "name": "stdout",
     "output_type": "stream",
     "text": [
      "2213  image file:  KIC10992733_morp0.08.png\n",
      "1/1 [==============================] - 0s 56ms/step\n",
      "2214  image file:  KIC07387296_morp0.94.png\n",
      "1/1 [==============================] - 0s 58ms/step\n"
     ]
    },
    {
     "name": "stderr",
     "output_type": "stream",
     "text": [
      "\r",
      " 81%|███████████████████████████████▍       | 2215/2747 [03:32<00:51, 10.36it/s]"
     ]
    },
    {
     "name": "stdout",
     "output_type": "stream",
     "text": [
      "2215  image file:  KIC07830460_morp0.94.png\n",
      "1/1 [==============================] - 0s 64ms/step\n",
      "2216  image file:  KIC08166095_morp0.78.png\n",
      "1/1 [==============================] - 0s 58ms/step\n"
     ]
    },
    {
     "name": "stderr",
     "output_type": "stream",
     "text": [
      "\r",
      " 81%|███████████████████████████████▍       | 2217/2747 [03:33<00:52, 10.18it/s]"
     ]
    },
    {
     "name": "stdout",
     "output_type": "stream",
     "text": [
      "2217  image file:  KIC08459354_morp-1.0.png\n",
      "1/1 [==============================] - 0s 57ms/step\n",
      "2218  image file:  KIC04142768_morp-1.0.png\n",
      "1/1 [==============================] - 0s 57ms/step\n"
     ]
    },
    {
     "name": "stderr",
     "output_type": "stream",
     "text": [
      "\r",
      " 81%|███████████████████████████████▌       | 2219/2747 [03:33<00:51, 10.26it/s]"
     ]
    },
    {
     "name": "stdout",
     "output_type": "stream",
     "text": [
      "2219  image file:  KIC06224853_morp0.95.png\n",
      "1/1 [==============================] - 0s 55ms/step\n",
      "2220  image file:  KIC08690001_morp0.14.png\n",
      "1/1 [==============================] - 0s 58ms/step\n"
     ]
    },
    {
     "name": "stderr",
     "output_type": "stream",
     "text": [
      "\r",
      " 81%|███████████████████████████████▌       | 2221/2747 [03:33<00:51, 10.27it/s]"
     ]
    },
    {
     "name": "stdout",
     "output_type": "stream",
     "text": [
      "2221  image file:  KIC09137992_morp0.64.png\n",
      "1/1 [==============================] - 0s 57ms/step\n",
      "2222  image file:  KIC05955321_morp0.16.png\n",
      "1/1 [==============================] - 0s 57ms/step\n"
     ]
    },
    {
     "name": "stderr",
     "output_type": "stream",
     "text": [
      "\r",
      " 81%|███████████████████████████████▌       | 2223/2747 [03:33<00:50, 10.30it/s]"
     ]
    },
    {
     "name": "stdout",
     "output_type": "stream",
     "text": [
      "2223  image file:  KIC10000490_morp0.56.png\n",
      "1/1 [==============================] - 0s 57ms/step\n",
      "2224  image file:  KIC10809677_morp0.17.png\n",
      "1/1 [==============================] - 0s 57ms/step\n"
     ]
    },
    {
     "name": "stderr",
     "output_type": "stream",
     "text": [
      "\r",
      " 81%|███████████████████████████████▌       | 2225/2747 [03:33<00:53,  9.75it/s]"
     ]
    },
    {
     "name": "stdout",
     "output_type": "stream",
     "text": [
      "2225  image file:  KIC09966115_morp0.14.png\n",
      "1/1 [==============================] - 0s 61ms/step\n"
     ]
    },
    {
     "name": "stderr",
     "output_type": "stream",
     "text": [
      "\r",
      " 81%|███████████████████████████████▌       | 2226/2747 [03:34<00:54,  9.49it/s]"
     ]
    },
    {
     "name": "stdout",
     "output_type": "stream",
     "text": [
      "2226  image file:  KIC08590780_morp0.19.png\n",
      "1/1 [==============================] - 0s 58ms/step\n",
      "2227  image file:  KIC10863286_morp-1.0.png\n",
      "1/1 [==============================] - 0s 56ms/step\n"
     ]
    },
    {
     "name": "stderr",
     "output_type": "stream",
     "text": [
      "\r",
      " 81%|███████████████████████████████▋       | 2228/2747 [03:34<00:52,  9.82it/s]"
     ]
    },
    {
     "name": "stdout",
     "output_type": "stream",
     "text": [
      "2228  image file:  KIC10345478_morp0.09.png\n",
      "1/1 [==============================] - 0s 57ms/step\n",
      "2229  image file:  KIC09291748_morp0.17.png\n",
      "1/1 [==============================] - 0s 59ms/step\n"
     ]
    },
    {
     "name": "stderr",
     "output_type": "stream",
     "text": [
      "\r",
      " 81%|███████████████████████████████▋       | 2230/2747 [03:34<00:51,  9.96it/s]"
     ]
    },
    {
     "name": "stdout",
     "output_type": "stream",
     "text": [
      "2230  image file:  KIC05384802_morp0.17.png\n",
      "1/1 [==============================] - 0s 58ms/step\n"
     ]
    },
    {
     "name": "stderr",
     "output_type": "stream",
     "text": [
      "\r",
      " 81%|███████████████████████████████▋       | 2231/2747 [03:34<00:53,  9.56it/s]"
     ]
    },
    {
     "name": "stdout",
     "output_type": "stream",
     "text": [
      "2231  image file:  KIC10135584_morp0.95.png\n",
      "1/1 [==============================] - 0s 57ms/step\n"
     ]
    },
    {
     "name": "stderr",
     "output_type": "stream",
     "text": [
      "\r",
      " 81%|███████████████████████████████▋       | 2232/2747 [03:34<00:56,  9.18it/s]"
     ]
    },
    {
     "name": "stdout",
     "output_type": "stream",
     "text": [
      "2232  image file:  KIC09790355_morp-1.0.png\n",
      "1/1 [==============================] - 0s 62ms/step\n"
     ]
    },
    {
     "name": "stderr",
     "output_type": "stream",
     "text": [
      "\r",
      " 81%|███████████████████████████████▋       | 2233/2747 [03:34<00:55,  9.31it/s]"
     ]
    },
    {
     "name": "stdout",
     "output_type": "stream",
     "text": [
      "2233  image file:  KIC10724533_morp0.76.png\n",
      "1/1 [==============================] - 0s 59ms/step\n",
      "2234  image file:  KIC05078879_morp0.42.png\n",
      "1/1 [==============================] - 0s 58ms/step\n"
     ]
    },
    {
     "name": "stderr",
     "output_type": "stream",
     "text": [
      "\r",
      " 81%|███████████████████████████████▋       | 2235/2747 [03:34<00:53,  9.58it/s]"
     ]
    },
    {
     "name": "stdout",
     "output_type": "stream",
     "text": [
      "2235  image file:  KIC07339345_morp0.76.png\n",
      "1/1 [==============================] - 0s 57ms/step\n"
     ]
    },
    {
     "name": "stderr",
     "output_type": "stream",
     "text": [
      "\r",
      " 81%|███████████████████████████████▋       | 2236/2747 [03:35<01:21,  6.29it/s]"
     ]
    },
    {
     "name": "stdout",
     "output_type": "stream",
     "text": [
      "2236  image file:  KIC05872696_morp0.99.png\n",
      "1/1 [==============================] - 0s 56ms/step\n",
      "2237  image file:  KIC05217733_morp0.03.png\n",
      "1/1 [==============================] - 0s 65ms/step\n"
     ]
    },
    {
     "name": "stderr",
     "output_type": "stream",
     "text": [
      "\r",
      " 81%|███████████████████████████████▊       | 2238/2747 [03:35<01:09,  7.37it/s]"
     ]
    },
    {
     "name": "stdout",
     "output_type": "stream",
     "text": [
      "2238  image file:  KIC10593759_morp0.19.png\n",
      "1/1 [==============================] - 0s 64ms/step\n"
     ]
    },
    {
     "name": "stderr",
     "output_type": "stream",
     "text": [
      "\r",
      " 82%|███████████████████████████████▊       | 2239/2747 [03:35<01:05,  7.73it/s]"
     ]
    },
    {
     "name": "stdout",
     "output_type": "stream",
     "text": [
      "2239  image file:  KIC11619964_morp0.11.png\n",
      "1/1 [==============================] - 0s 64ms/step\n"
     ]
    },
    {
     "name": "stderr",
     "output_type": "stream",
     "text": [
      "\r",
      " 82%|███████████████████████████████▊       | 2240/2747 [03:35<01:02,  8.06it/s]"
     ]
    },
    {
     "name": "stdout",
     "output_type": "stream",
     "text": [
      "2240  image file:  KIC11774383_morp0.58.png\n",
      "1/1 [==============================] - 0s 64ms/step\n"
     ]
    },
    {
     "name": "stderr",
     "output_type": "stream",
     "text": [
      "\r",
      " 82%|███████████████████████████████▊       | 2241/2747 [03:35<01:00,  8.38it/s]"
     ]
    },
    {
     "name": "stdout",
     "output_type": "stream",
     "text": [
      "2241  image file:  KIC10221886_morp-1.0.png\n",
      "1/1 [==============================] - 0s 65ms/step\n"
     ]
    },
    {
     "name": "stderr",
     "output_type": "stream",
     "text": [
      "\r",
      " 82%|███████████████████████████████▊       | 2242/2747 [03:35<00:58,  8.59it/s]"
     ]
    },
    {
     "name": "stdout",
     "output_type": "stream",
     "text": [
      "2242  image file:  KIC07778437_morp0.32.png\n",
      "1/1 [==============================] - 0s 64ms/step\n"
     ]
    },
    {
     "name": "stderr",
     "output_type": "stream",
     "text": [
      "\r",
      " 82%|███████████████████████████████▊       | 2243/2747 [03:36<00:57,  8.83it/s]"
     ]
    },
    {
     "name": "stdout",
     "output_type": "stream",
     "text": [
      "2243  image file:  KIC04466691_morp0.78.png\n",
      "1/1 [==============================] - 0s 56ms/step\n",
      "2244  image file:  KIC06443392_morp0.53.png\n",
      "1/1 [==============================] - 0s 52ms/step\n"
     ]
    },
    {
     "name": "stderr",
     "output_type": "stream",
     "text": [
      "\r",
      " 82%|███████████████████████████████▊       | 2245/2747 [03:36<00:52,  9.48it/s]"
     ]
    },
    {
     "name": "stdout",
     "output_type": "stream",
     "text": [
      "2245  image file:  KIC04359851_morp-1.0.png\n",
      "1/1 [==============================] - 0s 54ms/step\n",
      "2246  image file:  KIC11875706_morp0.96.png\n",
      "1/1 [==============================] - 0s 57ms/step\n"
     ]
    },
    {
     "name": "stderr",
     "output_type": "stream",
     "text": [
      "\r",
      " 82%|███████████████████████████████▉       | 2247/2747 [03:36<00:50,  9.91it/s]"
     ]
    },
    {
     "name": "stdout",
     "output_type": "stream",
     "text": [
      "2247  image file:  KIC10727655_morp0.74.png\n",
      "1/1 [==============================] - 0s 55ms/step\n",
      "2248  image file:  KIC12367310_morp0.14.png\n",
      "1/1 [==============================] - 0s 56ms/step\n"
     ]
    },
    {
     "name": "stderr",
     "output_type": "stream",
     "text": [
      "\r",
      " 82%|███████████████████████████████▉       | 2249/2747 [03:36<00:49, 10.14it/s]"
     ]
    },
    {
     "name": "stdout",
     "output_type": "stream",
     "text": [
      "2249  image file:  KIC04544587_morp0.49.png\n",
      "1/1 [==============================] - 0s 56ms/step\n",
      "2250  image file:  KIC05866104_morp0.03.png\n",
      "1/1 [==============================] - 0s 55ms/step\n"
     ]
    },
    {
     "name": "stderr",
     "output_type": "stream",
     "text": [
      "\r",
      " 82%|███████████████████████████████▉       | 2251/2747 [03:36<00:48, 10.29it/s]"
     ]
    },
    {
     "name": "stdout",
     "output_type": "stream",
     "text": [
      "2251  image file:  KIC10965091_morp0.76.png\n",
      "1/1 [==============================] - 0s 56ms/step\n",
      "2252  image file:  KIC10417986_morp0.99.png\n",
      "1/1 [==============================] - 0s 56ms/step\n"
     ]
    },
    {
     "name": "stderr",
     "output_type": "stream",
     "text": [
      "\r",
      " 82%|███████████████████████████████▉       | 2253/2747 [03:37<00:47, 10.32it/s]"
     ]
    },
    {
     "name": "stdout",
     "output_type": "stream",
     "text": [
      "2253  image file:  KIC06307537_morp0.25.png\n",
      "1/1 [==============================] - 0s 55ms/step\n",
      "2254  image file:  KIC07542091_morp0.83.png\n",
      "1/1 [==============================] - 0s 57ms/step\n"
     ]
    },
    {
     "name": "stderr",
     "output_type": "stream",
     "text": [
      "\r",
      " 82%|████████████████████████████████       | 2255/2747 [03:37<00:47, 10.35it/s]"
     ]
    },
    {
     "name": "stdout",
     "output_type": "stream",
     "text": [
      "2255  image file:  KIC08193315_morp0.43.png\n",
      "1/1 [==============================] - 0s 57ms/step\n",
      "2256  image file:  KIC11506938_morp-1.0.png\n",
      "1/1 [==============================] - 0s 67ms/step\n"
     ]
    },
    {
     "name": "stderr",
     "output_type": "stream",
     "text": [
      "\r",
      " 82%|████████████████████████████████       | 2257/2747 [03:37<00:48, 10.14it/s]"
     ]
    },
    {
     "name": "stdout",
     "output_type": "stream",
     "text": [
      "2257  image file:  KIC10979669_morp0.83.png\n",
      "1/1 [==============================] - 0s 58ms/step\n",
      "2258  image file:  KIC09474222_morp0.12.png\n",
      "1/1 [==============================] - 0s 55ms/step\n"
     ]
    },
    {
     "name": "stderr",
     "output_type": "stream",
     "text": [
      "\r",
      " 82%|████████████████████████████████       | 2259/2747 [03:37<00:47, 10.22it/s]"
     ]
    },
    {
     "name": "stdout",
     "output_type": "stream",
     "text": [
      "2259  image file:  KIC06447430_morp0.92.png\n",
      "1/1 [==============================] - 0s 56ms/step\n",
      "2260  image file:  KIC09832545_morp0.59.png\n",
      "1/1 [==============================] - 0s 54ms/step\n"
     ]
    },
    {
     "name": "stderr",
     "output_type": "stream",
     "text": [
      "\r",
      " 82%|████████████████████████████████       | 2261/2747 [03:37<00:46, 10.35it/s]"
     ]
    },
    {
     "name": "stdout",
     "output_type": "stream",
     "text": [
      "2261  image file:  KIC12216817_morp1.0.png\n",
      "1/1 [==============================] - 0s 54ms/step\n",
      "2262  image file:  KIC09692336_morp0.63.png\n",
      "1/1 [==============================] - 0s 53ms/step\n"
     ]
    },
    {
     "name": "stderr",
     "output_type": "stream",
     "text": [
      "\r",
      " 82%|████████████████████████████████▏      | 2263/2747 [03:37<00:46, 10.42it/s]"
     ]
    },
    {
     "name": "stdout",
     "output_type": "stream",
     "text": [
      "2263  image file:  KIC10096864_morp0.89.png\n",
      "1/1 [==============================] - 0s 57ms/step\n",
      "2264  image file:  KIC10208759_morp0.51.png\n",
      "1/1 [==============================] - 0s 57ms/step\n"
     ]
    },
    {
     "name": "stderr",
     "output_type": "stream",
     "text": [
      "\r",
      " 82%|████████████████████████████████▏      | 2265/2747 [03:38<00:46, 10.39it/s]"
     ]
    },
    {
     "name": "stdout",
     "output_type": "stream",
     "text": [
      "2265  image file:  KIC11502581_morp0.74.png\n",
      "1/1 [==============================] - 0s 57ms/step\n",
      "2266  image file:  KIC06692340_morp0.95.png\n",
      "1/1 [==============================] - 0s 56ms/step\n"
     ]
    },
    {
     "name": "stderr",
     "output_type": "stream",
     "text": [
      "\r",
      " 83%|████████████████████████████████▏      | 2267/2747 [03:38<00:46, 10.37it/s]"
     ]
    },
    {
     "name": "stdout",
     "output_type": "stream",
     "text": [
      "2267  image file:  KIC08123430_morp-1.0.png\n",
      "1/1 [==============================] - 0s 59ms/step\n",
      "2268  image file:  KIC07422883_morp0.16.png\n",
      "1/1 [==============================] - 0s 56ms/step\n"
     ]
    },
    {
     "name": "stderr",
     "output_type": "stream",
     "text": [
      "\r",
      " 83%|████████████████████████████████▏      | 2269/2747 [03:38<00:45, 10.40it/s]"
     ]
    },
    {
     "name": "stdout",
     "output_type": "stream",
     "text": [
      "2269  image file:  KIC09971475_morp0.23.png\n",
      "1/1 [==============================] - 0s 55ms/step\n",
      "2270  image file:  KIC11566174_morp0.77.png\n",
      "1/1 [==============================] - 0s 57ms/step\n"
     ]
    },
    {
     "name": "stderr",
     "output_type": "stream",
     "text": [
      "\r",
      " 83%|████████████████████████████████▏      | 2271/2747 [03:38<00:46, 10.33it/s]"
     ]
    },
    {
     "name": "stdout",
     "output_type": "stream",
     "text": [
      "2271  image file:  KIC09392682_morp0.8.png\n",
      "1/1 [==============================] - 0s 55ms/step\n",
      "2272  image file:  KIC04999357_morp0.84.png\n",
      "1/1 [==============================] - 0s 55ms/step\n"
     ]
    },
    {
     "name": "stderr",
     "output_type": "stream",
     "text": [
      "\r",
      " 83%|████████████████████████████████▎      | 2273/2747 [03:38<00:45, 10.47it/s]"
     ]
    },
    {
     "name": "stdout",
     "output_type": "stream",
     "text": [
      "2273  image file:  KIC03954798_morp0.58.png\n",
      "1/1 [==============================] - 0s 56ms/step\n",
      "2274  image file:  KIC08219268_morp0.52.png\n",
      "1/1 [==============================] - 0s 58ms/step\n"
     ]
    },
    {
     "name": "stderr",
     "output_type": "stream",
     "text": [
      "\r",
      " 83%|████████████████████████████████▎      | 2275/2747 [03:39<00:46, 10.04it/s]"
     ]
    },
    {
     "name": "stdout",
     "output_type": "stream",
     "text": [
      "2275  image file:  KIC07700578_morp0.57.png\n",
      "1/1 [==============================] - 0s 56ms/step\n",
      "2276  image file:  KIC08285970_morp0.84.png\n",
      "1/1 [==============================] - 0s 60ms/step\n"
     ]
    },
    {
     "name": "stderr",
     "output_type": "stream",
     "text": [
      "\r",
      " 83%|████████████████████████████████▎      | 2277/2747 [03:39<00:46, 10.10it/s]"
     ]
    },
    {
     "name": "stdout",
     "output_type": "stream",
     "text": [
      "2277  image file:  KIC05738698_morp0.41.png\n",
      "1/1 [==============================] - 0s 63ms/step\n",
      "2278  image file:  KIC03230578_morp0.26.png\n",
      "1/1 [==============================] - 0s 65ms/step\n"
     ]
    },
    {
     "name": "stderr",
     "output_type": "stream",
     "text": [
      "\r",
      " 83%|████████████████████████████████▎      | 2279/2747 [03:39<00:47,  9.86it/s]"
     ]
    },
    {
     "name": "stdout",
     "output_type": "stream",
     "text": [
      "2279  image file:  KIC09775253_morp0.11.png\n",
      "1/1 [==============================] - 0s 66ms/step\n"
     ]
    },
    {
     "name": "stderr",
     "output_type": "stream",
     "text": [
      "\r",
      " 83%|████████████████████████████████▎      | 2280/2747 [03:39<00:48,  9.72it/s]"
     ]
    },
    {
     "name": "stdout",
     "output_type": "stream",
     "text": [
      "2280  image file:  KIC08180020_morp0.24.png\n",
      "1/1 [==============================] - 0s 65ms/step\n"
     ]
    },
    {
     "name": "stderr",
     "output_type": "stream",
     "text": [
      "\r",
      " 83%|████████████████████████████████▍      | 2281/2747 [03:39<00:48,  9.62it/s]"
     ]
    },
    {
     "name": "stdout",
     "output_type": "stream",
     "text": [
      "2281  image file:  KIC05216727_morp0.48.png\n",
      "1/1 [==============================] - 0s 56ms/step\n",
      "2282  image file:  KIC09700154_morp0.8.png\n",
      "1/1 [==============================] - 0s 56ms/step\n"
     ]
    },
    {
     "name": "stderr",
     "output_type": "stream",
     "text": [
      "\r",
      " 83%|████████████████████████████████▍      | 2283/2747 [03:39<00:47,  9.74it/s]"
     ]
    },
    {
     "name": "stdout",
     "output_type": "stream",
     "text": [
      "2283  image file:  KIC10267044_morp0.82.png\n",
      "1/1 [==============================] - 0s 64ms/step\n"
     ]
    },
    {
     "name": "stderr",
     "output_type": "stream",
     "text": [
      "\r",
      " 83%|████████████████████████████████▍      | 2284/2747 [03:40<00:47,  9.70it/s]"
     ]
    },
    {
     "name": "stdout",
     "output_type": "stream",
     "text": [
      "2284  image file:  KIC11875511_morp0.01.png\n",
      "1/1 [==============================] - 0s 65ms/step\n"
     ]
    },
    {
     "name": "stderr",
     "output_type": "stream",
     "text": [
      "\r",
      " 83%|████████████████████████████████▍      | 2285/2747 [03:40<00:48,  9.62it/s]"
     ]
    },
    {
     "name": "stdout",
     "output_type": "stream",
     "text": [
      "2285  image file:  KIC08210370_morp-1.0.png\n",
      "1/1 [==============================] - 0s 67ms/step\n"
     ]
    },
    {
     "name": "stderr",
     "output_type": "stream",
     "text": [
      "\r",
      " 83%|████████████████████████████████▍      | 2286/2747 [03:40<00:48,  9.54it/s]"
     ]
    },
    {
     "name": "stdout",
     "output_type": "stream",
     "text": [
      "2286  image file:  KIC04035675_morp0.18.png\n",
      "1/1 [==============================] - 0s 59ms/step\n",
      "2287  image file:  KIC08822555_morp0.8.png\n",
      "1/1 [==============================] - 0s 57ms/step\n"
     ]
    },
    {
     "name": "stderr",
     "output_type": "stream",
     "text": [
      "\r",
      " 83%|████████████████████████████████▍      | 2288/2747 [03:40<00:46,  9.82it/s]"
     ]
    },
    {
     "name": "stdout",
     "output_type": "stream",
     "text": [
      "2288  image file:  KIC10259530_morp0.86.png\n",
      "1/1 [==============================] - 0s 58ms/step\n"
     ]
    },
    {
     "name": "stderr",
     "output_type": "stream",
     "text": [
      "\r",
      " 83%|████████████████████████████████▍      | 2289/2747 [03:40<00:46,  9.82it/s]"
     ]
    },
    {
     "name": "stdout",
     "output_type": "stream",
     "text": [
      "2289  image file:  KIC06525196_morp0.36.png\n",
      "1/1 [==============================] - 0s 54ms/step\n",
      "2290  image file:  KIC08432859_morp0.91.png\n",
      "1/1 [==============================] - 0s 54ms/step\n"
     ]
    },
    {
     "name": "stderr",
     "output_type": "stream",
     "text": [
      "\r",
      " 83%|████████████████████████████████▌      | 2291/2747 [03:40<00:44, 10.26it/s]"
     ]
    },
    {
     "name": "stdout",
     "output_type": "stream",
     "text": [
      "2291  image file:  KIC03836522_morp0.46.png\n",
      "1/1 [==============================] - 0s 54ms/step\n",
      "2292  image file:  KIC03965556_morp-1.0.png\n",
      "1/1 [==============================] - 0s 53ms/step\n"
     ]
    },
    {
     "name": "stderr",
     "output_type": "stream",
     "text": [
      "\r",
      " 83%|████████████████████████████████▌      | 2293/2747 [03:40<00:43, 10.50it/s]"
     ]
    },
    {
     "name": "stdout",
     "output_type": "stream",
     "text": [
      "2293  image file:  KIC08241252_morp0.78.png\n",
      "1/1 [==============================] - 0s 54ms/step\n",
      "2294  image file:  KIC11904038_morp0.79.png\n",
      "1/1 [==============================] - 0s 57ms/step\n"
     ]
    },
    {
     "name": "stderr",
     "output_type": "stream",
     "text": [
      "\r",
      " 84%|████████████████████████████████▌      | 2295/2747 [03:41<00:43, 10.49it/s]"
     ]
    },
    {
     "name": "stdout",
     "output_type": "stream",
     "text": [
      "2295  image file:  KIC05198934_morp0.94.png\n",
      "1/1 [==============================] - 0s 56ms/step\n",
      "2296  image file:  KIC04055092_morp0.01.png\n",
      "1/1 [==============================] - 0s 57ms/step\n"
     ]
    },
    {
     "name": "stderr",
     "output_type": "stream",
     "text": [
      "\r",
      " 84%|████████████████████████████████▌      | 2297/2747 [03:41<00:43, 10.44it/s]"
     ]
    },
    {
     "name": "stdout",
     "output_type": "stream",
     "text": [
      "2297  image file:  KIC10223616_morp0.03.png\n",
      "1/1 [==============================] - 0s 58ms/step\n",
      "2298  image file:  KIC04941060_morp0.75.png\n",
      "1/1 [==============================] - 0s 56ms/step\n"
     ]
    },
    {
     "name": "stderr",
     "output_type": "stream",
     "text": [
      "\r",
      " 84%|████████████████████████████████▋      | 2299/2747 [03:41<00:43, 10.38it/s]"
     ]
    },
    {
     "name": "stdout",
     "output_type": "stream",
     "text": [
      "2299  image file:  KIC05041569_morp0.55.png\n",
      "1/1 [==============================] - 0s 59ms/step\n",
      "2300  image file:  KIC06146838_morp0.03.png\n",
      "1/1 [==============================] - 0s 57ms/step\n"
     ]
    },
    {
     "name": "stderr",
     "output_type": "stream",
     "text": [
      "\r",
      " 84%|████████████████████████████████▋      | 2301/2747 [03:41<00:42, 10.38it/s]"
     ]
    },
    {
     "name": "stdout",
     "output_type": "stream",
     "text": [
      "2301  image file:  KIC04346875_morp0.24.png\n",
      "1/1 [==============================] - 0s 57ms/step\n",
      "2302  image file:  KIC09656543_morp0.37.png\n",
      "1/1 [==============================] - 0s 56ms/step\n"
     ]
    },
    {
     "name": "stderr",
     "output_type": "stream",
     "text": [
      "\r",
      " 84%|████████████████████████████████▋      | 2303/2747 [03:41<00:42, 10.42it/s]"
     ]
    },
    {
     "name": "stdout",
     "output_type": "stream",
     "text": [
      "2303  image file:  KIC09762519_morp0.12.png\n",
      "1/1 [==============================] - 0s 55ms/step\n",
      "2304  image file:  KIC08257407_morp0.0.png\n",
      "1/1 [==============================] - 0s 57ms/step\n"
     ]
    },
    {
     "name": "stderr",
     "output_type": "stream",
     "text": [
      "\r",
      " 84%|████████████████████████████████▋      | 2305/2747 [03:42<00:42, 10.45it/s]"
     ]
    },
    {
     "name": "stdout",
     "output_type": "stream",
     "text": [
      "2305  image file:  KIC06367628_morp0.59.png\n",
      "1/1 [==============================] - 0s 58ms/step\n",
      "2306  image file:  KIC10216186_morp0.64.png\n",
      "1/1 [==============================] - 0s 57ms/step\n"
     ]
    },
    {
     "name": "stderr",
     "output_type": "stream",
     "text": [
      "\r",
      " 84%|████████████████████████████████▊      | 2307/2747 [03:42<00:42, 10.33it/s]"
     ]
    },
    {
     "name": "stdout",
     "output_type": "stream",
     "text": [
      "2307  image file:  KIC09776718_morp0.87.png\n",
      "1/1 [==============================] - 0s 58ms/step\n",
      "2308  image file:  KIC05773205_morp0.62.png\n",
      "1/1 [==============================] - 0s 54ms/step\n"
     ]
    },
    {
     "name": "stderr",
     "output_type": "stream",
     "text": [
      "\r",
      " 84%|████████████████████████████████▊      | 2309/2747 [03:42<00:41, 10.45it/s]"
     ]
    },
    {
     "name": "stdout",
     "output_type": "stream",
     "text": [
      "2309  image file:  KIC06443538_morp0.97.png\n",
      "1/1 [==============================] - 0s 55ms/step\n",
      "2310  image file:  KIC09535080_morp-1.0.png\n",
      "1/1 [==============================] - 0s 59ms/step\n"
     ]
    },
    {
     "name": "stderr",
     "output_type": "stream",
     "text": [
      "\r",
      " 84%|████████████████████████████████▊      | 2311/2747 [03:42<00:41, 10.46it/s]"
     ]
    },
    {
     "name": "stdout",
     "output_type": "stream",
     "text": [
      "2311  image file:  KIC07457163_morp0.88.png\n",
      "1/1 [==============================] - 0s 57ms/step\n",
      "2312  image file:  KIC11232745_morp0.09.png\n",
      "1/1 [==============================] - 0s 56ms/step\n"
     ]
    },
    {
     "name": "stderr",
     "output_type": "stream",
     "text": [
      "\r",
      " 84%|████████████████████████████████▊      | 2313/2747 [03:42<00:41, 10.46it/s]"
     ]
    },
    {
     "name": "stdout",
     "output_type": "stream",
     "text": [
      "2313  image file:  KIC05468295_morp0.92.png\n",
      "1/1 [==============================] - 0s 57ms/step\n",
      "2314  image file:  KIC08474892_morp0.0.png\n",
      "1/1 [==============================] - 0s 56ms/step\n"
     ]
    },
    {
     "name": "stderr",
     "output_type": "stream",
     "text": [
      "\r",
      " 84%|████████████████████████████████▊      | 2315/2747 [03:43<00:41, 10.48it/s]"
     ]
    },
    {
     "name": "stdout",
     "output_type": "stream",
     "text": [
      "2315  image file:  KIC04659255_morp0.0.png\n",
      "1/1 [==============================] - 0s 55ms/step\n",
      "2316  image file:  KIC07821450_morp0.81.png\n",
      "1/1 [==============================] - 0s 57ms/step\n"
     ]
    },
    {
     "name": "stderr",
     "output_type": "stream",
     "text": [
      "\r",
      " 84%|████████████████████████████████▉      | 2317/2747 [03:43<00:41, 10.43it/s]"
     ]
    },
    {
     "name": "stdout",
     "output_type": "stream",
     "text": [
      "2317  image file:  KIC08378656_morp0.43.png\n",
      "1/1 [==============================] - 0s 57ms/step\n",
      "2318  image file:  KIC08458207_morp0.36.png\n",
      "1/1 [==============================] - 0s 58ms/step\n"
     ]
    },
    {
     "name": "stderr",
     "output_type": "stream",
     "text": [
      "\r",
      " 84%|████████████████████████████████▉      | 2319/2747 [03:43<00:41, 10.40it/s]"
     ]
    },
    {
     "name": "stdout",
     "output_type": "stream",
     "text": [
      "2319  image file:  KIC08145477_morp0.89.png\n",
      "1/1 [==============================] - 0s 55ms/step\n",
      "2320  image file:  KIC10454401_morp0.12.png\n",
      "1/1 [==============================] - 0s 56ms/step\n"
     ]
    },
    {
     "name": "stderr",
     "output_type": "stream",
     "text": [
      "\r",
      " 84%|████████████████████████████████▉      | 2321/2747 [03:43<00:40, 10.49it/s]"
     ]
    },
    {
     "name": "stdout",
     "output_type": "stream",
     "text": [
      "2321  image file:  KIC11547869_morp0.03.png\n",
      "1/1 [==============================] - 0s 63ms/step\n",
      "2322  image file:  KIC05992270_morp0.04.png\n",
      "1/1 [==============================] - 0s 57ms/step\n"
     ]
    },
    {
     "name": "stderr",
     "output_type": "stream",
     "text": [
      "\r",
      " 85%|████████████████████████████████▉      | 2323/2747 [03:43<00:40, 10.35it/s]"
     ]
    },
    {
     "name": "stdout",
     "output_type": "stream",
     "text": [
      "2323  image file:  KIC08358008_morp0.1.png\n",
      "1/1 [==============================] - 0s 57ms/step\n",
      "2324  image file:  KIC07977261_morp0.91.png\n",
      "1/1 [==============================] - 0s 58ms/step\n"
     ]
    },
    {
     "name": "stderr",
     "output_type": "stream",
     "text": [
      "\r",
      " 85%|█████████████████████████████████      | 2325/2747 [03:44<00:41, 10.27it/s]"
     ]
    },
    {
     "name": "stdout",
     "output_type": "stream",
     "text": [
      "2325  image file:  KIC10275197_morp0.79.png\n",
      "1/1 [==============================] - 0s 55ms/step\n",
      "2326  image file:  KIC08240861_morp0.62.png\n",
      "1/1 [==============================] - 0s 55ms/step\n"
     ]
    },
    {
     "name": "stderr",
     "output_type": "stream",
     "text": [
      "\r",
      " 85%|█████████████████████████████████      | 2327/2747 [03:44<00:40, 10.35it/s]"
     ]
    },
    {
     "name": "stdout",
     "output_type": "stream",
     "text": [
      "2327  image file:  KIC11240948_morp-1.0.png\n",
      "1/1 [==============================] - 0s 56ms/step\n",
      "2328  image file:  KIC06614926_morp0.41.png\n",
      "1/1 [==============================] - 0s 56ms/step\n"
     ]
    },
    {
     "name": "stderr",
     "output_type": "stream",
     "text": [
      "\r",
      " 85%|█████████████████████████████████      | 2329/2747 [03:44<00:40, 10.42it/s]"
     ]
    },
    {
     "name": "stdout",
     "output_type": "stream",
     "text": [
      "2329  image file:  KIC05091614_morp0.06.png\n",
      "1/1 [==============================] - 0s 54ms/step\n",
      "2330  image file:  KIC09873869_morp0.22.png\n",
      "1/1 [==============================] - 0s 53ms/step\n"
     ]
    },
    {
     "name": "stderr",
     "output_type": "stream",
     "text": [
      "\r",
      " 85%|█████████████████████████████████      | 2331/2747 [03:44<00:39, 10.55it/s]"
     ]
    },
    {
     "name": "stdout",
     "output_type": "stream",
     "text": [
      "2331  image file:  KIC07767733_morp0.05.png\n",
      "1/1 [==============================] - 0s 54ms/step\n",
      "2332  image file:  KIC07770569_morp0.0.png\n",
      "1/1 [==============================] - 0s 55ms/step\n"
     ]
    },
    {
     "name": "stderr",
     "output_type": "stream",
     "text": [
      "\r",
      " 85%|█████████████████████████████████      | 2333/2747 [03:44<00:38, 10.67it/s]"
     ]
    },
    {
     "name": "stdout",
     "output_type": "stream",
     "text": [
      "2333  image file:  KIC10265602_morp0.0.png\n",
      "1/1 [==============================] - 0s 55ms/step\n",
      "2334  image file:  KIC12504988_morp0.23.png\n",
      "1/1 [==============================] - 0s 56ms/step\n"
     ]
    },
    {
     "name": "stderr",
     "output_type": "stream",
     "text": [
      "\r",
      " 85%|█████████████████████████████████▏     | 2335/2747 [03:44<00:38, 10.60it/s]"
     ]
    },
    {
     "name": "stdout",
     "output_type": "stream",
     "text": [
      "2335  image file:  KIC03867593_morp0.02.png\n",
      "1/1 [==============================] - 0s 56ms/step\n",
      "2336  image file:  KIC10189523_morp0.48.png\n",
      "1/1 [==============================] - 0s 57ms/step\n"
     ]
    },
    {
     "name": "stderr",
     "output_type": "stream",
     "text": [
      "\r",
      " 85%|█████████████████████████████████▏     | 2337/2747 [03:45<00:38, 10.59it/s]"
     ]
    },
    {
     "name": "stdout",
     "output_type": "stream",
     "text": [
      "2337  image file:  KIC09634821_morp0.0.png\n",
      "1/1 [==============================] - 0s 55ms/step\n",
      "2338  image file:  KIC08298344_morp0.93.png\n",
      "1/1 [==============================] - 0s 56ms/step\n"
     ]
    },
    {
     "name": "stderr",
     "output_type": "stream",
     "text": [
      "\r",
      " 85%|█████████████████████████████████▏     | 2339/2747 [03:45<00:38, 10.62it/s]"
     ]
    },
    {
     "name": "stdout",
     "output_type": "stream",
     "text": [
      "2339  image file:  KIC08182360_morp0.66.png\n",
      "1/1 [==============================] - 0s 56ms/step\n",
      "2340  image file:  KIC03851949_morp0.25.png\n",
      "1/1 [==============================] - 0s 57ms/step\n"
     ]
    },
    {
     "name": "stderr",
     "output_type": "stream",
     "text": [
      "\r",
      " 85%|█████████████████████████████████▏     | 2341/2747 [03:45<00:38, 10.54it/s]"
     ]
    },
    {
     "name": "stdout",
     "output_type": "stream",
     "text": [
      "2341  image file:  KIC08561192_morp0.56.png\n",
      "1/1 [==============================] - 0s 57ms/step\n",
      "2342  image file:  KIC02577756_morp0.63.png\n",
      "1/1 [==============================] - 0s 57ms/step\n"
     ]
    },
    {
     "name": "stderr",
     "output_type": "stream",
     "text": [
      "\r",
      " 85%|█████████████████████████████████▎     | 2343/2747 [03:45<00:38, 10.48it/s]"
     ]
    },
    {
     "name": "stdout",
     "output_type": "stream",
     "text": [
      "2343  image file:  KIC10264202_morp0.5.png\n",
      "1/1 [==============================] - 0s 57ms/step\n",
      "2344  image file:  KIC11392618_morp0.03.png\n",
      "1/1 [==============================] - 0s 57ms/step\n"
     ]
    },
    {
     "name": "stderr",
     "output_type": "stream",
     "text": [
      "\r",
      " 85%|█████████████████████████████████▎     | 2345/2747 [03:45<00:38, 10.41it/s]"
     ]
    },
    {
     "name": "stdout",
     "output_type": "stream",
     "text": [
      "2345  image file:  KIC03122985_morp0.47.png\n",
      "1/1 [==============================] - 0s 56ms/step\n",
      "2346  image file:  KIC10019399_morp0.04.png\n",
      "1/1 [==============================] - 0s 56ms/step\n"
     ]
    },
    {
     "name": "stderr",
     "output_type": "stream",
     "text": [
      "\r",
      " 85%|█████████████████████████████████▎     | 2347/2747 [03:46<00:38, 10.47it/s]"
     ]
    },
    {
     "name": "stdout",
     "output_type": "stream",
     "text": [
      "2347  image file:  KIC11463211_morp0.33.png\n",
      "1/1 [==============================] - 0s 55ms/step\n",
      "2348  image file:  KIC10091257_morp0.31.png\n",
      "1/1 [==============================] - 0s 56ms/step\n"
     ]
    },
    {
     "name": "stderr",
     "output_type": "stream",
     "text": [
      "\r",
      " 86%|█████████████████████████████████▎     | 2349/2747 [03:46<00:37, 10.51it/s]"
     ]
    },
    {
     "name": "stdout",
     "output_type": "stream",
     "text": [
      "2349  image file:  KIC10614158_morp0.58.png\n",
      "1/1 [==============================] - 0s 57ms/step\n",
      "2350  image file:  KIC02438061_morp0.3.png\n",
      "1/1 [==============================] - 0s 56ms/step\n"
     ]
    },
    {
     "name": "stderr",
     "output_type": "stream",
     "text": [
      "\r",
      " 86%|█████████████████████████████████▍     | 2351/2747 [03:46<00:37, 10.51it/s]"
     ]
    },
    {
     "name": "stdout",
     "output_type": "stream",
     "text": [
      "2351  image file:  KIC12255382_morp0.54.png\n",
      "1/1 [==============================] - 0s 56ms/step\n",
      "2352  image file:  KIC05534702_morp0.59.png\n",
      "1/1 [==============================] - 0s 56ms/step\n"
     ]
    },
    {
     "name": "stderr",
     "output_type": "stream",
     "text": [
      "\r",
      " 86%|█████████████████████████████████▍     | 2353/2747 [03:46<00:37, 10.37it/s]"
     ]
    },
    {
     "name": "stdout",
     "output_type": "stream",
     "text": [
      "2353  image file:  KIC06045264_morp0.61.png\n",
      "1/1 [==============================] - 0s 56ms/step\n",
      "2354  image file:  KIC02012362_morp0.93.png\n",
      "1/1 [==============================] - 0s 57ms/step\n"
     ]
    },
    {
     "name": "stderr",
     "output_type": "stream",
     "text": [
      "\r",
      " 86%|█████████████████████████████████▍     | 2355/2747 [03:46<00:37, 10.44it/s]"
     ]
    },
    {
     "name": "stdout",
     "output_type": "stream",
     "text": [
      "2355  image file:  KIC09994475_morp0.77.png\n",
      "1/1 [==============================] - 0s 56ms/step\n",
      "2356  image file:  KIC05960989_morp-1.0.png\n",
      "1/1 [==============================] - 0s 58ms/step\n"
     ]
    },
    {
     "name": "stderr",
     "output_type": "stream",
     "text": [
      "\r",
      " 86%|█████████████████████████████████▍     | 2357/2747 [03:47<00:37, 10.48it/s]"
     ]
    },
    {
     "name": "stdout",
     "output_type": "stream",
     "text": [
      "2357  image file:  KIC03745184_morp0.67.png\n",
      "1/1 [==============================] - 0s 57ms/step\n",
      "2358  image file:  KIC05425950_morp0.76.png\n",
      "1/1 [==============================] - 0s 55ms/step\n"
     ]
    },
    {
     "name": "stderr",
     "output_type": "stream",
     "text": [
      "\r",
      " 86%|█████████████████████████████████▍     | 2359/2747 [03:47<00:36, 10.56it/s]"
     ]
    },
    {
     "name": "stdout",
     "output_type": "stream",
     "text": [
      "2359  image file:  KIC10319590_morp0.09.png\n",
      "1/1 [==============================] - 0s 57ms/step\n",
      "2360  image file:  KIC06446219_morp0.95.png\n",
      "1/1 [==============================] - 0s 59ms/step\n"
     ]
    },
    {
     "name": "stderr",
     "output_type": "stream",
     "text": [
      "\r",
      " 86%|█████████████████████████████████▌     | 2361/2747 [03:47<00:36, 10.44it/s]"
     ]
    },
    {
     "name": "stdout",
     "output_type": "stream",
     "text": [
      "2361  image file:  KIC08218274_morp0.58.png\n",
      "1/1 [==============================] - 0s 57ms/step\n",
      "2362  image file:  KIC03957477_morp0.58.png\n",
      "1/1 [==============================] - 0s 55ms/step\n"
     ]
    },
    {
     "name": "stderr",
     "output_type": "stream",
     "text": [
      "\r",
      " 86%|█████████████████████████████████▌     | 2363/2747 [03:47<00:39,  9.72it/s]"
     ]
    },
    {
     "name": "stdout",
     "output_type": "stream",
     "text": [
      "2363  image file:  KIC11967004_morp0.34.png\n",
      "1/1 [==============================] - 0s 57ms/step\n",
      "2364  image file:  KIC08669092_morp0.5.png\n",
      "1/1 [==============================] - 0s 52ms/step\n"
     ]
    },
    {
     "name": "stderr",
     "output_type": "stream",
     "text": [
      "\r",
      " 86%|█████████████████████████████████▌     | 2365/2747 [03:47<00:37, 10.08it/s]"
     ]
    },
    {
     "name": "stdout",
     "output_type": "stream",
     "text": [
      "2365  image file:  KIC07521682_morp0.82.png\n",
      "1/1 [==============================] - 0s 56ms/step\n",
      "2366  image file:  KIC10159014_morp-1.0.png\n",
      "1/1 [==============================] - 0s 56ms/step\n"
     ]
    },
    {
     "name": "stderr",
     "output_type": "stream",
     "text": [
      "\r",
      " 86%|█████████████████████████████████▌     | 2367/2747 [03:48<00:37, 10.20it/s]"
     ]
    },
    {
     "name": "stdout",
     "output_type": "stream",
     "text": [
      "2367  image file:  KIC05553652_morp0.06.png\n",
      "1/1 [==============================] - 0s 56ms/step\n",
      "2368  image file:  KIC08878719_morp0.96.png\n",
      "1/1 [==============================] - 0s 55ms/step\n"
     ]
    },
    {
     "name": "stderr",
     "output_type": "stream",
     "text": [
      "\r",
      " 86%|█████████████████████████████████▋     | 2369/2747 [03:48<00:36, 10.24it/s]"
     ]
    },
    {
     "name": "stdout",
     "output_type": "stream",
     "text": [
      "2369  image file:  KIC05478466_morp0.97.png\n",
      "1/1 [==============================] - 0s 56ms/step\n",
      "2370  image file:  KIC09995660_morp0.75.png\n",
      "1/1 [==============================] - 0s 56ms/step\n"
     ]
    },
    {
     "name": "stderr",
     "output_type": "stream",
     "text": [
      "\r",
      " 86%|█████████████████████████████████▋     | 2371/2747 [03:48<00:36, 10.30it/s]"
     ]
    },
    {
     "name": "stdout",
     "output_type": "stream",
     "text": [
      "2371  image file:  KIC07943602_morp0.46.png\n",
      "1/1 [==============================] - 0s 55ms/step\n",
      "2372  image file:  KIC03869825_morp-1.0.png\n",
      "1/1 [==============================] - 0s 57ms/step\n"
     ]
    },
    {
     "name": "stderr",
     "output_type": "stream",
     "text": [
      "\r",
      " 86%|█████████████████████████████████▋     | 2373/2747 [03:48<00:36, 10.29it/s]"
     ]
    },
    {
     "name": "stdout",
     "output_type": "stream",
     "text": [
      "2373  image file:  KIC07199774_morp0.16.png\n",
      "1/1 [==============================] - 0s 56ms/step\n",
      "2374  image file:  KIC06891512_morp0.45.png\n",
      "1/1 [==============================] - 0s 58ms/step\n"
     ]
    },
    {
     "name": "stderr",
     "output_type": "stream",
     "text": [
      "\r",
      " 86%|█████████████████████████████████▋     | 2375/2747 [03:48<00:36, 10.31it/s]"
     ]
    },
    {
     "name": "stdout",
     "output_type": "stream",
     "text": [
      "2375  image file:  KIC06549491_morp0.79.png\n",
      "1/1 [==============================] - 0s 58ms/step\n",
      "2376  image file:  KIC05110423_morp0.27.png\n",
      "1/1 [==============================] - 0s 59ms/step\n"
     ]
    },
    {
     "name": "stderr",
     "output_type": "stream",
     "text": [
      "\r",
      " 87%|█████████████████████████████████▋     | 2377/2747 [03:49<00:36, 10.22it/s]"
     ]
    },
    {
     "name": "stdout",
     "output_type": "stream",
     "text": [
      "2377  image file:  KIC05960283_morp0.94.png\n",
      "1/1 [==============================] - 0s 60ms/step\n",
      "2378  image file:  KIC08409588_morp0.32.png\n",
      "1/1 [==============================] - 0s 61ms/step\n"
     ]
    },
    {
     "name": "stderr",
     "output_type": "stream",
     "text": [
      "\r",
      " 87%|█████████████████████████████████▊     | 2379/2747 [03:49<00:36, 10.03it/s]"
     ]
    },
    {
     "name": "stdout",
     "output_type": "stream",
     "text": [
      "2379  image file:  KIC08553907_morp0.04.png\n",
      "1/1 [==============================] - 0s 65ms/step\n",
      "2380  image file:  KIC07811211_morp0.49.png\n",
      "1/1 [==============================] - 0s 62ms/step\n"
     ]
    },
    {
     "name": "stderr",
     "output_type": "stream",
     "text": [
      "\r",
      " 87%|█████████████████████████████████▊     | 2381/2747 [03:49<00:37,  9.88it/s]"
     ]
    },
    {
     "name": "stdout",
     "output_type": "stream",
     "text": [
      "2381  image file:  KIC11521048_morp0.03.png\n",
      "1/1 [==============================] - 0s 62ms/step\n"
     ]
    },
    {
     "name": "stderr",
     "output_type": "stream",
     "text": [
      "\r",
      " 87%|█████████████████████████████████▊     | 2382/2747 [03:49<00:37,  9.81it/s]"
     ]
    },
    {
     "name": "stdout",
     "output_type": "stream",
     "text": [
      "2382  image file:  KIC09552608_morp0.11.png\n",
      "1/1 [==============================] - 0s 59ms/step\n",
      "2383  image file:  KIC05039392_morp-1.0.png\n",
      "1/1 [==============================] - 0s 60ms/step\n"
     ]
    },
    {
     "name": "stderr",
     "output_type": "stream",
     "text": [
      "\r",
      " 87%|█████████████████████████████████▊     | 2384/2747 [03:49<00:36,  9.88it/s]"
     ]
    },
    {
     "name": "stdout",
     "output_type": "stream",
     "text": [
      "2384  image file:  KIC11874338_morp0.12.png\n",
      "1/1 [==============================] - 0s 56ms/step\n",
      "2385  image file:  KIC08087649_morp0.79.png\n",
      "1/1 [==============================] - 0s 56ms/step\n"
     ]
    },
    {
     "name": "stderr",
     "output_type": "stream",
     "text": [
      "\r",
      " 87%|█████████████████████████████████▊     | 2386/2747 [03:49<00:35, 10.12it/s]"
     ]
    },
    {
     "name": "stdout",
     "output_type": "stream",
     "text": [
      "2386  image file:  KIC09579499_morp0.05.png\n",
      "1/1 [==============================] - 0s 61ms/step\n",
      "2387  image file:  KIC04275739_morp0.27.png\n",
      "1/1 [==============================] - 0s 57ms/step\n"
     ]
    },
    {
     "name": "stderr",
     "output_type": "stream",
     "text": [
      "\r",
      " 87%|█████████████████████████████████▉     | 2388/2747 [03:50<00:36,  9.96it/s]"
     ]
    },
    {
     "name": "stdout",
     "output_type": "stream",
     "text": [
      "2388  image file:  KIC08509781_morp0.01.png\n",
      "1/1 [==============================] - 0s 58ms/step\n",
      "2389  image file:  KIC07816201_morp0.94.png\n",
      "1/1 [==============================] - 0s 60ms/step\n"
     ]
    },
    {
     "name": "stderr",
     "output_type": "stream",
     "text": [
      "\r",
      " 87%|█████████████████████████████████▉     | 2390/2747 [03:50<00:35, 10.08it/s]"
     ]
    },
    {
     "name": "stdout",
     "output_type": "stream",
     "text": [
      "2390  image file:  KIC07377343_morp0.13.png\n",
      "1/1 [==============================] - 0s 58ms/step\n",
      "2391  image file:  KIC07050060_morp-1.0.png\n",
      "1/1 [==============================] - 0s 54ms/step\n"
     ]
    },
    {
     "name": "stderr",
     "output_type": "stream",
     "text": [
      "\r",
      " 87%|█████████████████████████████████▉     | 2392/2747 [03:50<00:35,  9.91it/s]"
     ]
    },
    {
     "name": "stdout",
     "output_type": "stream",
     "text": [
      "2392  image file:  KIC04360072_morp0.05.png\n",
      "1/1 [==============================] - 0s 61ms/step\n",
      "2393  image file:  KIC10074939_morp0.76.png\n",
      "1/1 [==============================] - 0s 65ms/step\n"
     ]
    },
    {
     "name": "stderr",
     "output_type": "stream",
     "text": [
      "\r",
      " 87%|█████████████████████████████████▉     | 2394/2747 [03:50<00:35,  9.89it/s]"
     ]
    },
    {
     "name": "stdout",
     "output_type": "stream",
     "text": [
      "2394  image file:  KIC03973549_morp0.37.png\n",
      "1/1 [==============================] - 0s 56ms/step\n",
      "2395  image file:  KIC10490960_morp0.23.png\n",
      "1/1 [==============================] - 0s 65ms/step\n"
     ]
    },
    {
     "name": "stderr",
     "output_type": "stream",
     "text": [
      "\r",
      " 87%|██████████████████████████████████     | 2396/2747 [03:50<00:35,  9.99it/s]"
     ]
    },
    {
     "name": "stdout",
     "output_type": "stream",
     "text": [
      "2396  image file:  KIC04859432_morp0.77.png\n",
      "1/1 [==============================] - 0s 56ms/step\n"
     ]
    },
    {
     "name": "stderr",
     "output_type": "stream",
     "text": [
      "\r",
      " 87%|██████████████████████████████████     | 2397/2747 [03:51<00:35,  9.99it/s]"
     ]
    },
    {
     "name": "stdout",
     "output_type": "stream",
     "text": [
      "2397  image file:  KIC11805075_morp0.0.png\n",
      "1/1 [==============================] - 0s 57ms/step\n"
     ]
    },
    {
     "name": "stderr",
     "output_type": "stream",
     "text": [
      "\r",
      " 87%|██████████████████████████████████     | 2398/2747 [03:51<00:36,  9.60it/s]"
     ]
    },
    {
     "name": "stdout",
     "output_type": "stream",
     "text": [
      "2398  image file:  KIC04285087_morp0.31.png\n",
      "1/1 [==============================] - 0s 53ms/step\n",
      "2399  image file:  KIC08264097_morp0.31.png\n",
      "1/1 [==============================] - 0s 54ms/step\n"
     ]
    },
    {
     "name": "stderr",
     "output_type": "stream",
     "text": [
      "\r",
      " 87%|██████████████████████████████████     | 2400/2747 [03:51<00:34, 10.00it/s]"
     ]
    },
    {
     "name": "stdout",
     "output_type": "stream",
     "text": [
      "2400  image file:  KIC05308778_morp0.39.png\n",
      "1/1 [==============================] - 0s 55ms/step\n"
     ]
    },
    {
     "name": "stderr",
     "output_type": "stream",
     "text": [
      "\r",
      " 87%|██████████████████████████████████     | 2401/2747 [03:51<00:35,  9.65it/s]"
     ]
    },
    {
     "name": "stdout",
     "output_type": "stream",
     "text": [
      "2401  image file:  KIC04932348_morp0.02.png\n",
      "1/1 [==============================] - 0s 53ms/step\n"
     ]
    },
    {
     "name": "stderr",
     "output_type": "stream",
     "text": [
      "\r",
      " 87%|██████████████████████████████████     | 2402/2747 [03:51<00:36,  9.48it/s]"
     ]
    },
    {
     "name": "stdout",
     "output_type": "stream",
     "text": [
      "2402  image file:  KIC02696703_morp0.06.png\n",
      "1/1 [==============================] - 0s 56ms/step\n",
      "2403  image file:  KIC07511416_morp-1.0.png\n",
      "1/1 [==============================] - 0s 53ms/step\n"
     ]
    },
    {
     "name": "stderr",
     "output_type": "stream",
     "text": [
      "\r",
      " 88%|██████████████████████████████████▏    | 2404/2747 [03:51<00:34, 10.05it/s]"
     ]
    },
    {
     "name": "stdout",
     "output_type": "stream",
     "text": [
      "2404  image file:  KIC11036301_morp0.95.png\n",
      "1/1 [==============================] - 0s 53ms/step\n",
      "2405  image file:  KIC10661783_morp0.62.png\n",
      "1/1 [==============================] - 0s 56ms/step\n"
     ]
    },
    {
     "name": "stderr",
     "output_type": "stream",
     "text": [
      "\r",
      " 88%|██████████████████████████████████▏    | 2406/2747 [03:51<00:33, 10.31it/s]"
     ]
    },
    {
     "name": "stdout",
     "output_type": "stream",
     "text": [
      "2406  image file:  KIC10357852_morp0.87.png\n",
      "1/1 [==============================] - 0s 61ms/step\n",
      "2407  image file:  KIC06756202_morp0.0.png\n",
      "1/1 [==============================] - 0s 63ms/step\n"
     ]
    },
    {
     "name": "stderr",
     "output_type": "stream",
     "text": [
      "\r",
      " 88%|██████████████████████████████████▏    | 2408/2747 [03:52<00:35,  9.67it/s]"
     ]
    },
    {
     "name": "stdout",
     "output_type": "stream",
     "text": [
      "2408  image file:  KIC11968513_morp0.49.png\n",
      "1/1 [==============================] - 0s 59ms/step\n"
     ]
    },
    {
     "name": "stderr",
     "output_type": "stream",
     "text": [
      "\r",
      " 88%|██████████████████████████████████▏    | 2409/2747 [03:52<00:34,  9.73it/s]"
     ]
    },
    {
     "name": "stdout",
     "output_type": "stream",
     "text": [
      "2409  image file:  KIC04070376_morp0.54.png\n",
      "1/1 [==============================] - 0s 57ms/step\n",
      "2410  image file:  KIC07830637_morp0.01.png\n",
      "1/1 [==============================] - 0s 53ms/step\n"
     ]
    },
    {
     "name": "stderr",
     "output_type": "stream",
     "text": [
      "\r",
      " 88%|██████████████████████████████████▏    | 2411/2747 [03:52<00:33, 10.10it/s]"
     ]
    },
    {
     "name": "stdout",
     "output_type": "stream",
     "text": [
      "2411  image file:  KIC08288741_morp0.64.png\n",
      "1/1 [==============================] - 0s 54ms/step\n",
      "2412  image file:  KIC09509207_morp0.11.png\n",
      "1/1 [==============================] - 0s 53ms/step\n"
     ]
    },
    {
     "name": "stderr",
     "output_type": "stream",
     "text": [
      "\r",
      " 88%|██████████████████████████████████▎    | 2413/2747 [03:52<00:32, 10.42it/s]"
     ]
    },
    {
     "name": "stdout",
     "output_type": "stream",
     "text": [
      "2413  image file:  KIC08625821_morp0.02.png\n",
      "1/1 [==============================] - 0s 56ms/step\n",
      "2414  image file:  KIC07431665_morp-1.0.png\n",
      "1/1 [==============================] - 0s 56ms/step\n"
     ]
    },
    {
     "name": "stderr",
     "output_type": "stream",
     "text": [
      "\r",
      " 88%|██████████████████████████████████▎    | 2415/2747 [03:52<00:32, 10.36it/s]"
     ]
    },
    {
     "name": "stdout",
     "output_type": "stream",
     "text": [
      "2415  image file:  KIC04476900_morp0.78.png\n",
      "1/1 [==============================] - 0s 58ms/step\n",
      "2416  image file:  KIC09508954_morp0.8.png\n",
      "1/1 [==============================] - 0s 55ms/step\n"
     ]
    },
    {
     "name": "stderr",
     "output_type": "stream",
     "text": [
      "\r",
      " 88%|██████████████████████████████████▎    | 2417/2747 [03:53<00:31, 10.34it/s]"
     ]
    },
    {
     "name": "stdout",
     "output_type": "stream",
     "text": [
      "2417  image file:  KIC11444780_morp0.73.png\n",
      "1/1 [==============================] - 0s 54ms/step\n",
      "2418  image file:  KIC06629332_morp0.18.png\n",
      "1/1 [==============================] - 0s 60ms/step\n"
     ]
    },
    {
     "name": "stderr",
     "output_type": "stream",
     "text": [
      "\r",
      " 88%|██████████████████████████████████▎    | 2419/2747 [03:53<00:32, 10.02it/s]"
     ]
    },
    {
     "name": "stdout",
     "output_type": "stream",
     "text": [
      "2419  image file:  KIC09840412_morp0.79.png\n",
      "1/1 [==============================] - 0s 60ms/step\n",
      "2420  image file:  KIC09451127_morp0.22.png\n",
      "1/1 [==============================] - 0s 63ms/step\n"
     ]
    },
    {
     "name": "stderr",
     "output_type": "stream",
     "text": [
      "\r",
      " 88%|██████████████████████████████████▎    | 2421/2747 [03:53<00:33,  9.71it/s]"
     ]
    },
    {
     "name": "stdout",
     "output_type": "stream",
     "text": [
      "2421  image file:  KIC06368316_morp0.92.png\n",
      "1/1 [==============================] - 0s 64ms/step\n"
     ]
    },
    {
     "name": "stderr",
     "output_type": "stream",
     "text": [
      "\r",
      " 88%|██████████████████████████████████▍    | 2422/2747 [03:53<00:34,  9.55it/s]"
     ]
    },
    {
     "name": "stdout",
     "output_type": "stream",
     "text": [
      "2422  image file:  KIC07947631_morp0.26.png\n",
      "1/1 [==============================] - 0s 63ms/step\n"
     ]
    },
    {
     "name": "stderr",
     "output_type": "stream",
     "text": [
      "\r",
      " 88%|██████████████████████████████████▍    | 2423/2747 [03:53<00:33,  9.58it/s]"
     ]
    },
    {
     "name": "stdout",
     "output_type": "stream",
     "text": [
      "2423  image file:  KIC11357192_morp0.0.png\n",
      "1/1 [==============================] - 0s 59ms/step\n"
     ]
    },
    {
     "name": "stderr",
     "output_type": "stream",
     "text": [
      "\r",
      " 88%|██████████████████████████████████▍    | 2424/2747 [03:53<00:33,  9.62it/s]"
     ]
    },
    {
     "name": "stdout",
     "output_type": "stream",
     "text": [
      "2424  image file:  KIC05903301_morp0.4.png\n",
      "1/1 [==============================] - 0s 58ms/step\n",
      "2425  image file:  KIC08904448_morp0.74.png\n",
      "1/1 [==============================] - 0s 59ms/step\n"
     ]
    },
    {
     "name": "stderr",
     "output_type": "stream",
     "text": [
      "\r",
      " 88%|██████████████████████████████████▍    | 2426/2747 [03:54<00:32,  9.80it/s]"
     ]
    },
    {
     "name": "stdout",
     "output_type": "stream",
     "text": [
      "2426  image file:  KIC07750740_morp0.17.png\n",
      "1/1 [==============================] - 0s 59ms/step\n"
     ]
    },
    {
     "name": "stderr",
     "output_type": "stream",
     "text": [
      "\r",
      " 88%|██████████████████████████████████▍    | 2427/2747 [03:54<00:33,  9.69it/s]"
     ]
    },
    {
     "name": "stdout",
     "output_type": "stream",
     "text": [
      "2427  image file:  KIC03734868_morp0.23.png\n",
      "1/1 [==============================] - 0s 59ms/step\n"
     ]
    },
    {
     "name": "stderr",
     "output_type": "stream",
     "text": [
      "\r",
      " 88%|██████████████████████████████████▍    | 2428/2747 [03:54<00:32,  9.67it/s]"
     ]
    },
    {
     "name": "stdout",
     "output_type": "stream",
     "text": [
      "2428  image file:  KIC07173910_morp0.82.png\n",
      "1/1 [==============================] - 0s 58ms/step\n",
      "2429  image file:  KIC07960547_morp0.17.png\n",
      "1/1 [==============================] - 0s 54ms/step\n"
     ]
    },
    {
     "name": "stderr",
     "output_type": "stream",
     "text": [
      "\r",
      " 88%|██████████████████████████████████▍    | 2430/2747 [03:54<00:32,  9.90it/s]"
     ]
    },
    {
     "name": "stdout",
     "output_type": "stream",
     "text": [
      "2430  image file:  KIC03869326_morp0.14.png\n",
      "1/1 [==============================] - 0s 55ms/step\n",
      "2431  image file:  KIC11189127_morp0.17.png\n",
      "1/1 [==============================] - 0s 54ms/step\n"
     ]
    },
    {
     "name": "stderr",
     "output_type": "stream",
     "text": [
      "\r",
      " 89%|██████████████████████████████████▌    | 2432/2747 [03:54<00:30, 10.20it/s]"
     ]
    },
    {
     "name": "stdout",
     "output_type": "stream",
     "text": [
      "2432  image file:  KIC04545729_morp-1.0.png\n",
      "1/1 [==============================] - 0s 56ms/step\n",
      "2433  image file:  KIC05962716_morp0.47.png\n",
      "1/1 [==============================] - 0s 55ms/step\n"
     ]
    },
    {
     "name": "stderr",
     "output_type": "stream",
     "text": [
      "\r",
      " 89%|██████████████████████████████████▌    | 2434/2747 [03:54<00:31, 10.00it/s]"
     ]
    },
    {
     "name": "stdout",
     "output_type": "stream",
     "text": [
      "2434  image file:  KIC10464078_morp0.2.png\n",
      "1/1 [==============================] - 0s 54ms/step\n",
      "2435  image file:  KIC11288684_morp-1.0.png\n",
      "1/1 [==============================] - 0s 55ms/step\n"
     ]
    },
    {
     "name": "stderr",
     "output_type": "stream",
     "text": [
      "\r",
      " 89%|██████████████████████████████████▌    | 2436/2747 [03:54<00:30, 10.23it/s]"
     ]
    },
    {
     "name": "stdout",
     "output_type": "stream",
     "text": [
      "2436  image file:  KIC10735564_morp0.53.png\n",
      "1/1 [==============================] - 0s 55ms/step\n",
      "2437  image file:  KIC11972387_morp0.58.png\n",
      "1/1 [==============================] - 0s 56ms/step\n"
     ]
    },
    {
     "name": "stderr",
     "output_type": "stream",
     "text": [
      "\r",
      " 89%|██████████████████████████████████▌    | 2438/2747 [03:55<00:29, 10.39it/s]"
     ]
    },
    {
     "name": "stdout",
     "output_type": "stream",
     "text": [
      "2438  image file:  KIC07813039_morp0.0.png\n",
      "1/1 [==============================] - 0s 53ms/step\n",
      "2439  image file:  KIC10464666_morp0.0.png\n",
      "1/1 [==============================] - 0s 56ms/step\n"
     ]
    },
    {
     "name": "stderr",
     "output_type": "stream",
     "text": [
      "\r",
      " 89%|██████████████████████████████████▋    | 2440/2747 [03:55<00:28, 10.59it/s]"
     ]
    },
    {
     "name": "stdout",
     "output_type": "stream",
     "text": [
      "2440  image file:  KIC04649324_morp0.63.png\n",
      "1/1 [==============================] - 0s 59ms/step\n",
      "2441  image file:  KIC03230227_morp-1.0.png\n",
      "1/1 [==============================] - 0s 71ms/step\n"
     ]
    },
    {
     "name": "stderr",
     "output_type": "stream",
     "text": [
      "\r",
      " 89%|██████████████████████████████████▋    | 2442/2747 [03:55<00:30, 10.04it/s]"
     ]
    },
    {
     "name": "stdout",
     "output_type": "stream",
     "text": [
      "2442  image file:  KIC03228824_morp0.64.png\n",
      "1/1 [==============================] - 0s 59ms/step\n",
      "2443  image file:  KIC07041856_morp-1.0.png\n",
      "1/1 [==============================] - 0s 62ms/step\n"
     ]
    },
    {
     "name": "stderr",
     "output_type": "stream",
     "text": [
      "\r",
      " 89%|██████████████████████████████████▋    | 2444/2747 [03:55<00:31,  9.59it/s]"
     ]
    },
    {
     "name": "stdout",
     "output_type": "stream",
     "text": [
      "2444  image file:  KIC04945588_morp0.99.png\n",
      "1/1 [==============================] - 0s 81ms/step\n"
     ]
    },
    {
     "name": "stderr",
     "output_type": "stream",
     "text": [
      "\r",
      " 89%|██████████████████████████████████▋    | 2445/2747 [03:55<00:32,  9.39it/s]"
     ]
    },
    {
     "name": "stdout",
     "output_type": "stream",
     "text": [
      "2445  image file:  KIC04762887_morp0.95.png\n",
      "1/1 [==============================] - 0s 54ms/step\n",
      "2446  image file:  KIC05477805_morp0.18.png\n",
      "1/1 [==============================] - 0s 59ms/step\n"
     ]
    },
    {
     "name": "stderr",
     "output_type": "stream",
     "text": [
      "\r",
      " 89%|██████████████████████████████████▋    | 2447/2747 [03:56<00:30,  9.80it/s]"
     ]
    },
    {
     "name": "stdout",
     "output_type": "stream",
     "text": [
      "2447  image file:  KIC10861842_morp0.76.png\n",
      "1/1 [==============================] - 0s 53ms/step\n"
     ]
    },
    {
     "name": "stderr",
     "output_type": "stream",
     "text": [
      "\r",
      " 89%|██████████████████████████████████▊    | 2448/2747 [03:56<00:31,  9.52it/s]"
     ]
    },
    {
     "name": "stdout",
     "output_type": "stream",
     "text": [
      "2448  image file:  KIC03935319_morp0.76.png\n",
      "1/1 [==============================] - 0s 56ms/step\n",
      "2449  image file:  KIC07199353_morp0.78.png\n",
      "1/1 [==============================] - 0s 57ms/step\n"
     ]
    },
    {
     "name": "stderr",
     "output_type": "stream",
     "text": [
      "\r",
      " 89%|██████████████████████████████████▊    | 2450/2747 [03:56<00:30,  9.90it/s]"
     ]
    },
    {
     "name": "stdout",
     "output_type": "stream",
     "text": [
      "2450  image file:  KIC05022440_morp0.19.png\n",
      "1/1 [==============================] - 0s 56ms/step\n",
      "2451  image file:  KIC05557368_morp0.93.png\n",
      "1/1 [==============================] - 0s 56ms/step\n"
     ]
    },
    {
     "name": "stderr",
     "output_type": "stream",
     "text": [
      "\r",
      " 89%|██████████████████████████████████▊    | 2452/2747 [03:56<00:29, 10.14it/s]"
     ]
    },
    {
     "name": "stdout",
     "output_type": "stream",
     "text": [
      "2452  image file:  KIC08559863_morp0.08.png\n",
      "1/1 [==============================] - 0s 55ms/step\n",
      "2453  image file:  KIC08380743_morp0.57.png\n",
      "1/1 [==============================] - 0s 55ms/step\n"
     ]
    },
    {
     "name": "stderr",
     "output_type": "stream",
     "text": [
      "\r",
      " 89%|██████████████████████████████████▊    | 2454/2747 [03:56<00:28, 10.41it/s]"
     ]
    },
    {
     "name": "stdout",
     "output_type": "stream",
     "text": [
      "2454  image file:  KIC02141697_morp0.98.png\n",
      "1/1 [==============================] - 0s 56ms/step\n",
      "2455  image file:  KIC09913481_morp0.36.png\n",
      "1/1 [==============================] - 0s 59ms/step\n"
     ]
    },
    {
     "name": "stderr",
     "output_type": "stream",
     "text": [
      "\r",
      " 89%|██████████████████████████████████▊    | 2456/2747 [03:56<00:27, 10.52it/s]"
     ]
    },
    {
     "name": "stdout",
     "output_type": "stream",
     "text": [
      "2456  image file:  KIC08804824_morp0.87.png\n",
      "1/1 [==============================] - 0s 58ms/step\n",
      "2457  image file:  KIC05620981_morp0.79.png\n",
      "1/1 [==============================] - 0s 79ms/step\n"
     ]
    },
    {
     "name": "stderr",
     "output_type": "stream",
     "text": [
      "\r",
      " 89%|██████████████████████████████████▉    | 2458/2747 [03:57<00:28, 10.01it/s]"
     ]
    },
    {
     "name": "stdout",
     "output_type": "stream",
     "text": [
      "2458  image file:  KIC05264304_morp0.01.png\n",
      "1/1 [==============================] - 0s 72ms/step\n",
      "2459  image file:  KIC07506164_morp0.88.png\n",
      "1/1 [==============================] - 0s 61ms/step\n"
     ]
    },
    {
     "name": "stderr",
     "output_type": "stream",
     "text": [
      "\r",
      " 90%|██████████████████████████████████▉    | 2460/2747 [03:57<00:29,  9.59it/s]"
     ]
    },
    {
     "name": "stdout",
     "output_type": "stream",
     "text": [
      "2460  image file:  KIC09529856_morp0.02.png\n",
      "1/1 [==============================] - 0s 58ms/step\n",
      "2461  image file:  KIC10092506_morp-1.0.png\n",
      "1/1 [==============================] - 0s 64ms/step\n"
     ]
    },
    {
     "name": "stderr",
     "output_type": "stream",
     "text": [
      "\r",
      " 90%|██████████████████████████████████▉    | 2462/2747 [03:57<00:29,  9.72it/s]"
     ]
    },
    {
     "name": "stdout",
     "output_type": "stream",
     "text": [
      "2462  image file:  KIC07950962_morp0.92.png\n",
      "1/1 [==============================] - 0s 60ms/step\n"
     ]
    },
    {
     "name": "stderr",
     "output_type": "stream",
     "text": [
      "\r",
      " 90%|██████████████████████████████████▉    | 2463/2747 [03:57<00:29,  9.72it/s]"
     ]
    },
    {
     "name": "stdout",
     "output_type": "stream",
     "text": [
      "2463  image file:  KIC08580438_morp0.23.png\n",
      "1/1 [==============================] - 0s 58ms/step\n",
      "2464  image file:  KIC11342573_morp0.0.png\n",
      "1/1 [==============================] - 0s 57ms/step\n"
     ]
    },
    {
     "name": "stderr",
     "output_type": "stream",
     "text": [
      "\r",
      " 90%|██████████████████████████████████▉    | 2465/2747 [03:57<00:28,  9.98it/s]"
     ]
    },
    {
     "name": "stdout",
     "output_type": "stream",
     "text": [
      "2465  image file:  KIC03352751_morp0.5.png\n",
      "1/1 [==============================] - 0s 56ms/step\n",
      "2466  image file:  KIC03228863_morp0.65.png\n",
      "1/1 [==============================] - 0s 59ms/step\n"
     ]
    },
    {
     "name": "stderr",
     "output_type": "stream",
     "text": [
      "\r",
      " 90%|███████████████████████████████████    | 2467/2747 [03:58<00:28,  9.74it/s]"
     ]
    },
    {
     "name": "stdout",
     "output_type": "stream",
     "text": [
      "2467  image file:  KIC10149237_morp0.93.png\n",
      "1/1 [==============================] - 0s 57ms/step\n",
      "2468  image file:  KIC04669592_morp0.76.png\n",
      "1/1 [==============================] - 0s 58ms/step\n"
     ]
    },
    {
     "name": "stderr",
     "output_type": "stream",
     "text": [
      "\r",
      " 90%|███████████████████████████████████    | 2469/2747 [03:58<00:28,  9.86it/s]"
     ]
    },
    {
     "name": "stdout",
     "output_type": "stream",
     "text": [
      "2469  image file:  KIC06302592_morp0.93.png\n",
      "1/1 [==============================] - 0s 55ms/step\n",
      "2470  image file:  KIC06372268_morp0.52.png\n",
      "1/1 [==============================] - 0s 55ms/step\n"
     ]
    },
    {
     "name": "stderr",
     "output_type": "stream",
     "text": [
      "\r",
      " 90%|███████████████████████████████████    | 2471/2747 [03:58<00:27, 10.16it/s]"
     ]
    },
    {
     "name": "stdout",
     "output_type": "stream",
     "text": [
      "2471  image file:  KIC11717798_morp0.84.png\n",
      "1/1 [==============================] - 0s 55ms/step\n",
      "2472  image file:  KIC06806632_morp-1.0.png\n",
      "1/1 [==============================] - 0s 54ms/step\n"
     ]
    },
    {
     "name": "stderr",
     "output_type": "stream",
     "text": [
      "\r",
      " 90%|███████████████████████████████████    | 2473/2747 [03:58<00:26, 10.41it/s]"
     ]
    },
    {
     "name": "stdout",
     "output_type": "stream",
     "text": [
      "2473  image file:  KIC07136958_morp0.08.png\n",
      "1/1 [==============================] - 0s 55ms/step\n",
      "2474  image file:  KIC09783760_morp0.0.png\n",
      "1/1 [==============================] - 0s 53ms/step\n"
     ]
    },
    {
     "name": "stderr",
     "output_type": "stream",
     "text": [
      "\r",
      " 90%|███████████████████████████████████▏   | 2475/2747 [03:58<00:25, 10.60it/s]"
     ]
    },
    {
     "name": "stdout",
     "output_type": "stream",
     "text": [
      "2475  image file:  KIC07035139_morp0.8.png\n",
      "1/1 [==============================] - 0s 53ms/step\n",
      "2476  image file:  KIC04649305_morp-1.0.png\n",
      "1/1 [==============================] - 0s 53ms/step\n"
     ]
    },
    {
     "name": "stderr",
     "output_type": "stream",
     "text": [
      "\r",
      " 90%|███████████████████████████████████▏   | 2477/2747 [03:59<00:25, 10.79it/s]"
     ]
    },
    {
     "name": "stdout",
     "output_type": "stream",
     "text": [
      "2477  image file:  KIC10616656_morp0.04.png\n",
      "1/1 [==============================] - 0s 59ms/step\n",
      "2478  image file:  KIC11442348_morp0.76.png\n",
      "1/1 [==============================] - 0s 58ms/step\n"
     ]
    },
    {
     "name": "stderr",
     "output_type": "stream",
     "text": [
      "\r",
      " 90%|███████████████████████████████████▏   | 2479/2747 [03:59<00:25, 10.33it/s]"
     ]
    },
    {
     "name": "stdout",
     "output_type": "stream",
     "text": [
      "2479  image file:  KIC08262223_morp0.53.png\n",
      "1/1 [==============================] - 0s 55ms/step\n",
      "2480  image file:  KIC04937217_morp0.82.png\n",
      "1/1 [==============================] - 0s 57ms/step\n"
     ]
    },
    {
     "name": "stderr",
     "output_type": "stream",
     "text": [
      "\r",
      " 90%|███████████████████████████████████▏   | 2481/2747 [03:59<00:25, 10.48it/s]"
     ]
    },
    {
     "name": "stdout",
     "output_type": "stream",
     "text": [
      "2481  image file:  KIC08322564_morp-1.0.png\n",
      "1/1 [==============================] - 0s 64ms/step\n",
      "2482  image file:  KIC10602291_morp0.03.png\n",
      "1/1 [==============================] - 0s 79ms/step\n"
     ]
    },
    {
     "name": "stderr",
     "output_type": "stream",
     "text": [
      "\r",
      " 90%|███████████████████████████████████▎   | 2483/2747 [03:59<00:26,  9.97it/s]"
     ]
    },
    {
     "name": "stdout",
     "output_type": "stream",
     "text": [
      "2483  image file:  KIC03542573_morp0.25.png\n",
      "1/1 [==============================] - 0s 68ms/step\n",
      "2484  image file:  KIC06283224_morp0.57.png\n",
      "1/1 [==============================] - 0s 57ms/step\n"
     ]
    },
    {
     "name": "stderr",
     "output_type": "stream",
     "text": [
      "\r",
      " 90%|███████████████████████████████████▎   | 2485/2747 [03:59<00:26, 10.03it/s]"
     ]
    },
    {
     "name": "stdout",
     "output_type": "stream",
     "text": [
      "2485  image file:  KIC08302455_morp0.29.png\n",
      "1/1 [==============================] - 0s 58ms/step\n",
      "2486  image file:  KIC08495415_morp0.27.png\n",
      "1/1 [==============================] - 0s 61ms/step\n"
     ]
    },
    {
     "name": "stderr",
     "output_type": "stream",
     "text": [
      "\r",
      " 91%|███████████████████████████████████▎   | 2487/2747 [04:00<00:25, 10.09it/s]"
     ]
    },
    {
     "name": "stdout",
     "output_type": "stream",
     "text": [
      "2487  image file:  KIC10148799_morp0.9.png\n",
      "1/1 [==============================] - 0s 64ms/step\n",
      "2488  image file:  KIC08005892_morp0.0.png\n",
      "1/1 [==============================] - 0s 67ms/step\n"
     ]
    },
    {
     "name": "stderr",
     "output_type": "stream",
     "text": [
      "\r",
      " 91%|███████████████████████████████████▎   | 2489/2747 [04:00<00:25,  9.98it/s]"
     ]
    },
    {
     "name": "stdout",
     "output_type": "stream",
     "text": [
      "2489  image file:  KIC08365739_morp0.49.png\n",
      "1/1 [==============================] - 0s 58ms/step\n",
      "2490  image file:  KIC05195137_morp0.92.png\n",
      "1/1 [==============================] - 0s 53ms/step\n"
     ]
    },
    {
     "name": "stderr",
     "output_type": "stream",
     "text": [
      "\r",
      " 91%|███████████████████████████████████▎   | 2491/2747 [04:00<00:24, 10.25it/s]"
     ]
    },
    {
     "name": "stdout",
     "output_type": "stream",
     "text": [
      "2491  image file:  KIC10014830_morp0.61.png\n",
      "1/1 [==============================] - 0s 63ms/step\n",
      "2492  image file:  KIC01995732_morp0.03.png\n",
      "1/1 [==============================] - 0s 59ms/step\n"
     ]
    },
    {
     "name": "stderr",
     "output_type": "stream",
     "text": [
      "\r",
      " 91%|███████████████████████████████████▍   | 2493/2747 [04:00<00:24, 10.23it/s]"
     ]
    },
    {
     "name": "stdout",
     "output_type": "stream",
     "text": [
      "2493  image file:  KIC07898576_morp0.3.png\n",
      "1/1 [==============================] - 0s 60ms/step\n",
      "2494  image file:  KIC10288502_morp0.97.png\n",
      "1/1 [==============================] - 0s 58ms/step\n"
     ]
    },
    {
     "name": "stderr",
     "output_type": "stream",
     "text": [
      "\r",
      " 91%|███████████████████████████████████▍   | 2495/2747 [04:00<00:25,  9.93it/s]"
     ]
    },
    {
     "name": "stdout",
     "output_type": "stream",
     "text": [
      "2495  image file:  KIC03965242_morp0.53.png\n",
      "1/1 [==============================] - 0s 77ms/step\n"
     ]
    },
    {
     "name": "stderr",
     "output_type": "stream",
     "text": [
      "\r",
      " 91%|███████████████████████████████████▍   | 2496/2747 [04:00<00:26,  9.47it/s]"
     ]
    },
    {
     "name": "stdout",
     "output_type": "stream",
     "text": [
      "2496  image file:  KIC06387450_morp0.2.png\n",
      "1/1 [==============================] - 0s 75ms/step\n"
     ]
    },
    {
     "name": "stderr",
     "output_type": "stream",
     "text": [
      "\r",
      " 91%|███████████████████████████████████▍   | 2497/2747 [04:01<00:26,  9.26it/s]"
     ]
    },
    {
     "name": "stdout",
     "output_type": "stream",
     "text": [
      "2497  image file:  KIC11911561_morp0.03.png\n",
      "1/1 [==============================] - 0s 67ms/step\n"
     ]
    },
    {
     "name": "stderr",
     "output_type": "stream",
     "text": [
      "\r",
      " 91%|███████████████████████████████████▍   | 2498/2747 [04:01<00:26,  9.26it/s]"
     ]
    },
    {
     "name": "stdout",
     "output_type": "stream",
     "text": [
      "2498  image file:  KIC07970760_morp0.25.png\n",
      "1/1 [==============================] - 0s 59ms/step\n",
      "2499  image file:  KIC10857342_morp0.57.png\n",
      "1/1 [==============================] - 0s 55ms/step\n"
     ]
    },
    {
     "name": "stderr",
     "output_type": "stream",
     "text": [
      "\r",
      " 91%|███████████████████████████████████▍   | 2500/2747 [04:01<00:25,  9.72it/s]"
     ]
    },
    {
     "name": "stdout",
     "output_type": "stream",
     "text": [
      "2500  image file:  KIC10330495_morp0.18.png\n",
      "1/1 [==============================] - 0s 55ms/step\n",
      "2501  image file:  KIC09827149_morp0.32.png\n",
      "1/1 [==============================] - 0s 55ms/step\n"
     ]
    },
    {
     "name": "stderr",
     "output_type": "stream",
     "text": [
      "\r",
      " 91%|███████████████████████████████████▌   | 2502/2747 [04:01<00:24, 10.11it/s]"
     ]
    },
    {
     "name": "stdout",
     "output_type": "stream",
     "text": [
      "2502  image file:  KIC06531496_morp0.1.png\n",
      "1/1 [==============================] - 0s 55ms/step\n",
      "2503  image file:  KIC06452742_morp0.46.png\n",
      "1/1 [==============================] - 0s 54ms/step\n"
     ]
    },
    {
     "name": "stderr",
     "output_type": "stream",
     "text": [
      "\r",
      " 91%|███████████████████████████████████▌   | 2504/2747 [04:01<00:23, 10.41it/s]"
     ]
    },
    {
     "name": "stdout",
     "output_type": "stream",
     "text": [
      "2504  image file:  KIC09221398_morp0.04.png\n",
      "1/1 [==============================] - 0s 57ms/step\n",
      "2505  image file:  KIC06185717_morp0.06.png\n",
      "1/1 [==============================] - 0s 60ms/step\n"
     ]
    },
    {
     "name": "stderr",
     "output_type": "stream",
     "text": [
      "\r",
      " 91%|███████████████████████████████████▌   | 2506/2747 [04:01<00:23, 10.32it/s]"
     ]
    },
    {
     "name": "stdout",
     "output_type": "stream",
     "text": [
      "2506  image file:  KIC11200773_morp0.31.png\n",
      "1/1 [==============================] - 0s 58ms/step\n",
      "2507  image file:  KIC09179806_morp0.84.png\n",
      "1/1 [==============================] - 0s 66ms/step\n"
     ]
    },
    {
     "name": "stderr",
     "output_type": "stream",
     "text": [
      "\r",
      " 91%|███████████████████████████████████▌   | 2508/2747 [04:02<00:23, 10.13it/s]"
     ]
    },
    {
     "name": "stdout",
     "output_type": "stream",
     "text": [
      "2508  image file:  KIC06593575_morp0.88.png\n",
      "1/1 [==============================] - 0s 69ms/step\n",
      "2509  image file:  KIC05642620_morp0.42.png\n",
      "1/1 [==============================] - 0s 57ms/step\n"
     ]
    },
    {
     "name": "stderr",
     "output_type": "stream",
     "text": [
      "\r",
      " 91%|███████████████████████████████████▋   | 2510/2747 [04:02<00:24,  9.70it/s]"
     ]
    },
    {
     "name": "stdout",
     "output_type": "stream",
     "text": [
      "2510  image file:  KIC09576197_morp0.34.png\n",
      "1/1 [==============================] - 0s 58ms/step\n"
     ]
    },
    {
     "name": "stderr",
     "output_type": "stream",
     "text": [
      "\r",
      " 91%|███████████████████████████████████▋   | 2511/2747 [04:02<00:25,  9.34it/s]"
     ]
    },
    {
     "name": "stdout",
     "output_type": "stream",
     "text": [
      "2511  image file:  KIC06262882_morp0.79.png\n",
      "1/1 [==============================] - 0s 55ms/step\n"
     ]
    },
    {
     "name": "stderr",
     "output_type": "stream",
     "text": [
      "\r",
      " 91%|███████████████████████████████████▋   | 2512/2747 [04:02<00:25,  9.09it/s]"
     ]
    },
    {
     "name": "stdout",
     "output_type": "stream",
     "text": [
      "2512  image file:  KIC09087918_morp0.78.png\n",
      "1/1 [==============================] - 0s 55ms/step\n",
      "2513  image file:  KIC07199183_morp0.97.png\n",
      "1/1 [==============================] - 0s 56ms/step\n"
     ]
    },
    {
     "name": "stderr",
     "output_type": "stream",
     "text": [
      "\r",
      " 92%|███████████████████████████████████▋   | 2514/2747 [04:02<00:24,  9.63it/s]"
     ]
    },
    {
     "name": "stdout",
     "output_type": "stream",
     "text": [
      "2514  image file:  KIC06370120_morp0.44.png\n",
      "1/1 [==============================] - 0s 58ms/step\n",
      "2515  image file:  KIC04365461_morp0.43.png\n",
      "1/1 [==============================] - 0s 56ms/step\n"
     ]
    },
    {
     "name": "stderr",
     "output_type": "stream",
     "text": [
      "\r",
      " 92%|███████████████████████████████████▋   | 2516/2747 [04:03<00:23,  9.93it/s]"
     ]
    },
    {
     "name": "stdout",
     "output_type": "stream",
     "text": [
      "2516  image file:  KIC02437149_morp0.11.png\n",
      "1/1 [==============================] - 0s 60ms/step\n",
      "2517  image file:  KIC03240706_morp0.21.png\n",
      "1/1 [==============================] - 0s 57ms/step\n"
     ]
    },
    {
     "name": "stderr",
     "output_type": "stream",
     "text": [
      "\r",
      " 92%|███████████████████████████████████▋   | 2518/2747 [04:03<00:22, 10.07it/s]"
     ]
    },
    {
     "name": "stdout",
     "output_type": "stream",
     "text": [
      "2518  image file:  KIC10226388_morp0.77.png\n",
      "1/1 [==============================] - 0s 59ms/step\n",
      "2519  image file:  KIC10191056_morp0.53.png\n",
      "1/1 [==============================] - 0s 55ms/step\n"
     ]
    },
    {
     "name": "stderr",
     "output_type": "stream",
     "text": [
      "\r",
      " 92%|███████████████████████████████████▊   | 2520/2747 [04:03<00:22, 10.21it/s]"
     ]
    },
    {
     "name": "stdout",
     "output_type": "stream",
     "text": [
      "2520  image file:  KIC10794405_morp0.63.png\n",
      "1/1 [==============================] - 0s 57ms/step\n",
      "2521  image file:  KIC09899216_morp-1.0.png\n",
      "1/1 [==============================] - 0s 58ms/step\n"
     ]
    },
    {
     "name": "stderr",
     "output_type": "stream",
     "text": [
      "\r",
      " 92%|███████████████████████████████████▊   | 2522/2747 [04:03<00:21, 10.30it/s]"
     ]
    },
    {
     "name": "stdout",
     "output_type": "stream",
     "text": [
      "2522  image file:  KIC08688110_morp-1.0.png\n",
      "1/1 [==============================] - 0s 59ms/step\n",
      "2523  image file:  KIC12017140_morp0.06.png\n",
      "1/1 [==============================] - 0s 64ms/step\n"
     ]
    },
    {
     "name": "stderr",
     "output_type": "stream",
     "text": [
      "\r",
      " 92%|███████████████████████████████████▊   | 2524/2747 [04:03<00:22, 10.13it/s]"
     ]
    },
    {
     "name": "stdout",
     "output_type": "stream",
     "text": [
      "2524  image file:  KIC05796185_morp0.01.png\n",
      "1/1 [==============================] - 0s 62ms/step\n",
      "2525  image file:  KIC04451148_morp0.82.png\n",
      "1/1 [==============================] - 0s 67ms/step\n"
     ]
    },
    {
     "name": "stderr",
     "output_type": "stream",
     "text": [
      "\r",
      " 92%|███████████████████████████████████▊   | 2526/2747 [04:04<00:22,  9.94it/s]"
     ]
    },
    {
     "name": "stdout",
     "output_type": "stream",
     "text": [
      "2526  image file:  KIC06594972_morp0.13.png\n",
      "1/1 [==============================] - 0s 61ms/step\n",
      "2527  image file:  KIC03427776_morp0.17.png\n",
      "1/1 [==============================] - 0s 66ms/step\n"
     ]
    },
    {
     "name": "stderr",
     "output_type": "stream",
     "text": [
      "\r",
      " 92%|███████████████████████████████████▉   | 2528/2747 [04:04<00:22,  9.85it/s]"
     ]
    },
    {
     "name": "stdout",
     "output_type": "stream",
     "text": [
      "2528  image file:  KIC08652599_morp0.93.png\n",
      "1/1 [==============================] - 0s 58ms/step\n",
      "2529  image file:  KIC04954113_morp0.9.png\n",
      "1/1 [==============================] - 0s 57ms/step\n"
     ]
    },
    {
     "name": "stderr",
     "output_type": "stream",
     "text": [
      "\r",
      " 92%|███████████████████████████████████▉   | 2530/2747 [04:04<00:21, 10.06it/s]"
     ]
    },
    {
     "name": "stdout",
     "output_type": "stream",
     "text": [
      "2530  image file:  KIC04247991_morp0.0.png\n",
      "1/1 [==============================] - 0s 55ms/step\n",
      "2531  image file:  KIC05524325_morp0.83.png\n",
      "1/1 [==============================] - 0s 54ms/step\n"
     ]
    },
    {
     "name": "stderr",
     "output_type": "stream",
     "text": [
      "\r",
      " 92%|███████████████████████████████████▉   | 2532/2747 [04:04<00:20, 10.25it/s]"
     ]
    },
    {
     "name": "stdout",
     "output_type": "stream",
     "text": [
      "2532  image file:  KIC05866099_morp0.06.png\n",
      "1/1 [==============================] - 0s 54ms/step\n",
      "2533  image file:  KIC08280135_morp0.97.png\n",
      "1/1 [==============================] - 0s 54ms/step\n"
     ]
    },
    {
     "name": "stderr",
     "output_type": "stream",
     "text": [
      "\r",
      " 92%|███████████████████████████████████▉   | 2534/2747 [04:04<00:20, 10.48it/s]"
     ]
    },
    {
     "name": "stdout",
     "output_type": "stream",
     "text": [
      "2534  image file:  KIC10129482_morp0.48.png\n",
      "1/1 [==============================] - 0s 56ms/step\n",
      "2535  image file:  KIC05127005_morp0.69.png\n",
      "1/1 [==============================] - 0s 56ms/step\n"
     ]
    },
    {
     "name": "stderr",
     "output_type": "stream",
     "text": [
      "\r",
      " 92%|████████████████████████████████████   | 2536/2747 [04:04<00:19, 10.59it/s]"
     ]
    },
    {
     "name": "stdout",
     "output_type": "stream",
     "text": [
      "2536  image file:  KIC06762188_morp0.18.png\n",
      "1/1 [==============================] - 0s 57ms/step\n",
      "2537  image file:  KIC10215422_morp0.07.png\n",
      "1/1 [==============================] - 0s 56ms/step\n"
     ]
    },
    {
     "name": "stderr",
     "output_type": "stream",
     "text": [
      "\r",
      " 92%|████████████████████████████████████   | 2538/2747 [04:05<00:19, 10.65it/s]"
     ]
    },
    {
     "name": "stdout",
     "output_type": "stream",
     "text": [
      "2538  image file:  KIC05792093_morp0.71.png\n",
      "1/1 [==============================] - 0s 56ms/step\n",
      "2539  image file:  KIC02305372_morp0.58.png\n",
      "1/1 [==============================] - 0s 58ms/step\n"
     ]
    },
    {
     "name": "stderr",
     "output_type": "stream",
     "text": [
      "\r",
      " 92%|████████████████████████████████████   | 2540/2747 [04:05<00:20, 10.15it/s]"
     ]
    },
    {
     "name": "stdout",
     "output_type": "stream",
     "text": [
      "2540  image file:  KIC09898364_morp0.11.png\n",
      "1/1 [==============================] - 0s 57ms/step\n",
      "2541  image file:  KIC06947164_morp0.02.png\n",
      "1/1 [==============================] - 0s 58ms/step\n"
     ]
    },
    {
     "name": "stderr",
     "output_type": "stream",
     "text": [
      "\r",
      " 93%|████████████████████████████████████   | 2542/2747 [04:05<00:20, 10.23it/s]"
     ]
    },
    {
     "name": "stdout",
     "output_type": "stream",
     "text": [
      "2542  image file:  KIC05966237_morp0.91.png\n",
      "1/1 [==============================] - 0s 57ms/step\n",
      "2543  image file:  KIC04054905_morp0.13.png\n",
      "1/1 [==============================] - 0s 56ms/step\n"
     ]
    },
    {
     "name": "stderr",
     "output_type": "stream",
     "text": [
      "\r",
      " 93%|████████████████████████████████████   | 2544/2747 [04:05<00:19, 10.36it/s]"
     ]
    },
    {
     "name": "stdout",
     "output_type": "stream",
     "text": [
      "2544  image file:  KIC11817750_morp0.15.png\n",
      "1/1 [==============================] - 0s 56ms/step\n",
      "2545  image file:  KIC10916675_morp0.87.png\n",
      "1/1 [==============================] - 0s 59ms/step\n"
     ]
    },
    {
     "name": "stderr",
     "output_type": "stream",
     "text": [
      "\r",
      " 93%|████████████████████████████████████▏  | 2546/2747 [04:05<00:19, 10.43it/s]"
     ]
    },
    {
     "name": "stdout",
     "output_type": "stream",
     "text": [
      "2546  image file:  KIC08016214_morp0.53.png\n",
      "1/1 [==============================] - 0s 56ms/step\n",
      "2547  image file:  KIC09540226_morp-1.0.png\n",
      "1/1 [==============================] - 0s 56ms/step\n"
     ]
    },
    {
     "name": "stderr",
     "output_type": "stream",
     "text": [
      "\r",
      " 93%|████████████████████████████████████▏  | 2548/2747 [04:06<00:18, 10.54it/s]"
     ]
    },
    {
     "name": "stdout",
     "output_type": "stream",
     "text": [
      "2548  image file:  KIC06223646_morp0.84.png\n",
      "1/1 [==============================] - 0s 62ms/step\n",
      "2549  image file:  KIC12599700_morp0.45.png\n",
      "1/1 [==============================] - 0s 57ms/step\n"
     ]
    },
    {
     "name": "stderr",
     "output_type": "stream",
     "text": [
      "\r",
      " 93%|████████████████████████████████████▏  | 2550/2747 [04:06<00:18, 10.42it/s]"
     ]
    },
    {
     "name": "stdout",
     "output_type": "stream",
     "text": [
      "2550  image file:  KIC10796477_morp0.74.png\n",
      "1/1 [==============================] - 0s 56ms/step\n",
      "2551  image file:  KIC11572643_morp0.95.png\n",
      "1/1 [==============================] - 0s 55ms/step\n"
     ]
    },
    {
     "name": "stderr",
     "output_type": "stream",
     "text": [
      "\r",
      " 93%|████████████████████████████████████▏  | 2552/2747 [04:06<00:18, 10.58it/s]"
     ]
    },
    {
     "name": "stdout",
     "output_type": "stream",
     "text": [
      "2552  image file:  KIC05716763_morp0.46.png\n",
      "1/1 [==============================] - 0s 56ms/step\n",
      "2553  image file:  KIC11495781_morp0.94.png\n",
      "1/1 [==============================] - 0s 55ms/step\n"
     ]
    },
    {
     "name": "stderr",
     "output_type": "stream",
     "text": [
      "\r",
      " 93%|████████████████████████████████████▎  | 2554/2747 [04:06<00:18, 10.68it/s]"
     ]
    },
    {
     "name": "stdout",
     "output_type": "stream",
     "text": [
      "2554  image file:  KIC04661397_morp0.92.png\n",
      "1/1 [==============================] - 0s 55ms/step\n",
      "2555  image file:  KIC05456023_morp0.0.png\n",
      "1/1 [==============================] - 0s 60ms/step\n"
     ]
    },
    {
     "name": "stderr",
     "output_type": "stream",
     "text": [
      "\r",
      " 93%|████████████████████████████████████▎  | 2556/2747 [04:06<00:17, 10.64it/s]"
     ]
    },
    {
     "name": "stdout",
     "output_type": "stream",
     "text": [
      "2556  image file:  KIC08892722_morp0.89.png\n",
      "1/1 [==============================] - 0s 57ms/step\n",
      "2557  image file:  KIC12306808_morp0.08.png\n",
      "1/1 [==============================] - 0s 57ms/step\n"
     ]
    },
    {
     "name": "stderr",
     "output_type": "stream",
     "text": [
      "\r",
      " 93%|████████████████████████████████████▎  | 2558/2747 [04:07<00:17, 10.52it/s]"
     ]
    },
    {
     "name": "stdout",
     "output_type": "stream",
     "text": [
      "2558  image file:  KIC09291368_morp0.53.png\n",
      "1/1 [==============================] - 0s 53ms/step\n",
      "2559  image file:  KIC02711114_morp0.29.png\n",
      "1/1 [==============================] - 0s 53ms/step\n"
     ]
    },
    {
     "name": "stderr",
     "output_type": "stream",
     "text": [
      "\r",
      " 93%|████████████████████████████████████▎  | 2560/2747 [04:07<00:17, 10.69it/s]"
     ]
    },
    {
     "name": "stdout",
     "output_type": "stream",
     "text": [
      "2560  image file:  KIC10583180_morp0.48.png\n",
      "1/1 [==============================] - 0s 52ms/step\n",
      "2561  image file:  KIC05982353_morp0.1.png\n",
      "1/1 [==============================] - 0s 53ms/step\n"
     ]
    },
    {
     "name": "stderr",
     "output_type": "stream",
     "text": [
      "\r",
      " 93%|████████████████████████████████████▎  | 2562/2747 [04:07<00:16, 10.91it/s]"
     ]
    },
    {
     "name": "stdout",
     "output_type": "stream",
     "text": [
      "2562  image file:  KIC11285136_morp0.3.png\n",
      "1/1 [==============================] - 0s 53ms/step\n",
      "2563  image file:  KIC10920813_morp0.18.png\n",
      "1/1 [==============================] - 0s 51ms/step\n"
     ]
    },
    {
     "name": "stderr",
     "output_type": "stream",
     "text": [
      "\r",
      " 93%|████████████████████████████████████▍  | 2564/2747 [04:07<00:16, 11.09it/s]"
     ]
    },
    {
     "name": "stdout",
     "output_type": "stream",
     "text": [
      "2564  image file:  KIC07091476_morp0.95.png\n",
      "1/1 [==============================] - 0s 55ms/step\n",
      "2565  image file:  KIC11021252_morp0.22.png\n",
      "1/1 [==============================] - 0s 54ms/step\n"
     ]
    },
    {
     "name": "stderr",
     "output_type": "stream",
     "text": [
      "\r",
      " 93%|████████████████████████████████████▍  | 2566/2747 [04:07<00:16, 11.07it/s]"
     ]
    },
    {
     "name": "stdout",
     "output_type": "stream",
     "text": [
      "2566  image file:  KIC09394601_morp0.59.png\n",
      "1/1 [==============================] - 0s 50ms/step\n",
      "2567  image file:  KIC10462826_morp0.03.png\n",
      "1/1 [==============================] - 0s 51ms/step\n"
     ]
    },
    {
     "name": "stderr",
     "output_type": "stream",
     "text": [
      "\r",
      " 93%|████████████████████████████████████▍  | 2568/2747 [04:07<00:15, 11.22it/s]"
     ]
    },
    {
     "name": "stdout",
     "output_type": "stream",
     "text": [
      "2568  image file:  KIC04935914_morp0.23.png\n",
      "1/1 [==============================] - 0s 53ms/step\n",
      "2569  image file:  KIC09528420_morp0.39.png\n",
      "1/1 [==============================] - 0s 51ms/step\n"
     ]
    },
    {
     "name": "stderr",
     "output_type": "stream",
     "text": [
      "\r",
      " 94%|████████████████████████████████████▍  | 2570/2747 [04:08<00:15, 11.35it/s]"
     ]
    },
    {
     "name": "stdout",
     "output_type": "stream",
     "text": [
      "2570  image file:  KIC09549472_morp0.18.png\n",
      "1/1 [==============================] - 0s 53ms/step\n",
      "2571  image file:  KIC09785454_morp0.01.png\n",
      "1/1 [==============================] - 0s 51ms/step\n"
     ]
    },
    {
     "name": "stderr",
     "output_type": "stream",
     "text": [
      "\r",
      " 94%|████████████████████████████████████▌  | 2572/2747 [04:08<00:15, 11.48it/s]"
     ]
    },
    {
     "name": "stdout",
     "output_type": "stream",
     "text": [
      "2572  image file:  KIC10332789_morp0.08.png\n",
      "1/1 [==============================] - 0s 52ms/step\n",
      "2573  image file:  KIC10388897_morp0.99.png\n",
      "1/1 [==============================] - 0s 51ms/step\n"
     ]
    },
    {
     "name": "stderr",
     "output_type": "stream",
     "text": [
      "\r",
      " 94%|████████████████████████████████████▌  | 2574/2747 [04:08<00:14, 11.57it/s]"
     ]
    },
    {
     "name": "stdout",
     "output_type": "stream",
     "text": [
      "2574  image file:  KIC10280990_morp0.9.png\n",
      "1/1 [==============================] - 0s 52ms/step\n",
      "2575  image file:  KIC10227863_morp0.63.png\n",
      "1/1 [==============================] - 0s 51ms/step\n"
     ]
    },
    {
     "name": "stderr",
     "output_type": "stream",
     "text": [
      "\r",
      " 94%|████████████████████████████████████▌  | 2576/2747 [04:08<00:14, 11.65it/s]"
     ]
    },
    {
     "name": "stdout",
     "output_type": "stream",
     "text": [
      "2576  image file:  KIC03833859_morp0.99.png\n",
      "1/1 [==============================] - 0s 50ms/step\n",
      "2577  image file:  KIC02309587_morp0.43.png\n",
      "1/1 [==============================] - 0s 51ms/step\n"
     ]
    },
    {
     "name": "stderr",
     "output_type": "stream",
     "text": [
      "\r",
      " 94%|████████████████████████████████████▌  | 2578/2747 [04:08<00:14, 11.67it/s]"
     ]
    },
    {
     "name": "stdout",
     "output_type": "stream",
     "text": [
      "2578  image file:  KIC06144827_morp0.82.png\n",
      "1/1 [==============================] - 0s 50ms/step\n",
      "2579  image file:  KIC09032671_morp0.7.png\n",
      "1/1 [==============================] - 0s 50ms/step\n"
     ]
    },
    {
     "name": "stderr",
     "output_type": "stream",
     "text": [
      "\r",
      " 94%|████████████████████████████████████▋  | 2580/2747 [04:08<00:14, 11.79it/s]"
     ]
    },
    {
     "name": "stdout",
     "output_type": "stream",
     "text": [
      "2580  image file:  KIC02708614_morp0.03.png\n",
      "1/1 [==============================] - 0s 50ms/step\n",
      "2581  image file:  KIC10032935_morp0.76.png\n",
      "1/1 [==============================] - 0s 52ms/step\n"
     ]
    },
    {
     "name": "stderr",
     "output_type": "stream",
     "text": [
      "\r",
      " 94%|████████████████████████████████████▋  | 2582/2747 [04:09<00:14, 11.33it/s]"
     ]
    },
    {
     "name": "stdout",
     "output_type": "stream",
     "text": [
      "2582  image file:  KIC05965819_morp0.28.png\n",
      "1/1 [==============================] - 0s 52ms/step\n",
      "2583  image file:  KIC11722816_morp0.82.png\n",
      "1/1 [==============================] - 0s 52ms/step\n"
     ]
    },
    {
     "name": "stderr",
     "output_type": "stream",
     "text": [
      "\r",
      " 94%|████████████████████████████████████▋  | 2584/2747 [04:09<00:14, 11.25it/s]"
     ]
    },
    {
     "name": "stdout",
     "output_type": "stream",
     "text": [
      "2584  image file:  KIC07812455_morp0.5.png\n",
      "1/1 [==============================] - 0s 54ms/step\n",
      "2585  image file:  KIC08686150_morp0.09.png\n",
      "1/1 [==============================] - 0s 53ms/step\n"
     ]
    },
    {
     "name": "stderr",
     "output_type": "stream",
     "text": [
      "\r",
      " 94%|████████████████████████████████████▋  | 2586/2747 [04:09<00:14, 11.25it/s]"
     ]
    },
    {
     "name": "stdout",
     "output_type": "stream",
     "text": [
      "2586  image file:  KIC11920266_morp0.91.png\n",
      "1/1 [==============================] - 0s 56ms/step\n",
      "2587  image file:  KIC06778289_morp0.11.png\n",
      "1/1 [==============================] - 0s 57ms/step\n"
     ]
    },
    {
     "name": "stderr",
     "output_type": "stream",
     "text": [
      "\r",
      " 94%|████████████████████████████████████▋  | 2588/2747 [04:09<00:14, 11.07it/s]"
     ]
    },
    {
     "name": "stdout",
     "output_type": "stream",
     "text": [
      "2588  image file:  KIC08539720_morp0.85.png\n",
      "1/1 [==============================] - 0s 57ms/step\n",
      "2589  image file:  KIC11924426_morp0.01.png\n",
      "1/1 [==============================] - 0s 57ms/step\n"
     ]
    },
    {
     "name": "stderr",
     "output_type": "stream",
     "text": [
      "\r",
      " 94%|████████████████████████████████████▊  | 2590/2747 [04:09<00:15, 10.42it/s]"
     ]
    },
    {
     "name": "stdout",
     "output_type": "stream",
     "text": [
      "2590  image file:  KIC04672934_morp0.95.png\n",
      "1/1 [==============================] - 0s 58ms/step\n",
      "2591  image file:  KIC11153627_morp0.89.png\n",
      "1/1 [==============================] - 0s 60ms/step\n"
     ]
    },
    {
     "name": "stderr",
     "output_type": "stream",
     "text": [
      "\r",
      " 94%|████████████████████████████████████▊  | 2592/2747 [04:10<00:14, 10.39it/s]"
     ]
    },
    {
     "name": "stdout",
     "output_type": "stream",
     "text": [
      "2592  image file:  KIC08695779_morp0.1.png\n",
      "1/1 [==============================] - 0s 66ms/step\n",
      "2593  image file:  KIC10453521_morp0.36.png\n",
      "1/1 [==============================] - 0s 51ms/step\n"
     ]
    },
    {
     "name": "stderr",
     "output_type": "stream",
     "text": [
      "\r",
      " 94%|████████████████████████████████████▊  | 2594/2747 [04:10<00:14, 10.41it/s]"
     ]
    },
    {
     "name": "stdout",
     "output_type": "stream",
     "text": [
      "2594  image file:  KIC05608566_morp0.12.png\n",
      "1/1 [==============================] - 0s 53ms/step\n",
      "2595  image file:  KIC05700330_morp0.09.png\n",
      "1/1 [==============================] - 0s 53ms/step\n"
     ]
    },
    {
     "name": "stderr",
     "output_type": "stream",
     "text": [
      "\r",
      " 95%|████████████████████████████████████▊  | 2596/2747 [04:10<00:14, 10.59it/s]"
     ]
    },
    {
     "name": "stdout",
     "output_type": "stream",
     "text": [
      "2596  image file:  KIC07353970_morp0.0.png\n",
      "1/1 [==============================] - 0s 52ms/step\n",
      "2597  image file:  KIC09153621_morp0.06.png\n",
      "1/1 [==============================] - 0s 53ms/step\n"
     ]
    },
    {
     "name": "stderr",
     "output_type": "stream",
     "text": [
      "\r",
      " 95%|████████████████████████████████████▉  | 2598/2747 [04:10<00:13, 10.82it/s]"
     ]
    },
    {
     "name": "stdout",
     "output_type": "stream",
     "text": [
      "2598  image file:  KIC11465813_morp0.01.png\n",
      "1/1 [==============================] - 0s 55ms/step\n",
      "2599  image file:  KIC09418619_morp0.07.png\n",
      "1/1 [==============================] - 0s 51ms/step\n"
     ]
    },
    {
     "name": "stderr",
     "output_type": "stream",
     "text": [
      "\r",
      " 95%|████████████████████████████████████▉  | 2600/2747 [04:10<00:13, 10.95it/s]"
     ]
    },
    {
     "name": "stdout",
     "output_type": "stream",
     "text": [
      "2600  image file:  KIC08397460_morp0.84.png\n",
      "1/1 [==============================] - 0s 52ms/step\n",
      "2601  image file:  KIC07674050_morp0.0.png\n",
      "1/1 [==============================] - 0s 54ms/step\n"
     ]
    },
    {
     "name": "stderr",
     "output_type": "stream",
     "text": [
      "\r",
      " 95%|████████████████████████████████████▉  | 2602/2747 [04:11<00:13, 11.14it/s]"
     ]
    },
    {
     "name": "stdout",
     "output_type": "stream",
     "text": [
      "2602  image file:  KIC04077442_morp0.59.png\n",
      "1/1 [==============================] - 0s 52ms/step\n",
      "2603  image file:  KIC08608490_morp0.51.png\n",
      "1/1 [==============================] - 0s 53ms/step\n"
     ]
    },
    {
     "name": "stderr",
     "output_type": "stream",
     "text": [
      "\r",
      " 95%|████████████████████████████████████▉  | 2604/2747 [04:11<00:12, 11.17it/s]"
     ]
    },
    {
     "name": "stdout",
     "output_type": "stream",
     "text": [
      "2604  image file:  KIC05175668_morp-1.0.png\n",
      "1/1 [==============================] - 0s 50ms/step\n",
      "2605  image file:  KIC05385723_morp0.52.png\n",
      "1/1 [==============================] - 0s 50ms/step\n"
     ]
    },
    {
     "name": "stderr",
     "output_type": "stream",
     "text": [
      "\r",
      " 95%|████████████████████████████████████▉  | 2606/2747 [04:11<00:12, 11.42it/s]"
     ]
    },
    {
     "name": "stdout",
     "output_type": "stream",
     "text": [
      "2606  image file:  KIC05286221_morp-1.0.png\n",
      "1/1 [==============================] - 0s 50ms/step\n",
      "2607  image file:  KIC06128141_morp0.3.png\n",
      "1/1 [==============================] - 0s 52ms/step\n"
     ]
    },
    {
     "name": "stderr",
     "output_type": "stream",
     "text": [
      "\r",
      " 95%|█████████████████████████████████████  | 2608/2747 [04:11<00:12, 11.58it/s]"
     ]
    },
    {
     "name": "stdout",
     "output_type": "stream",
     "text": [
      "2608  image file:  KIC03973002_morp0.34.png\n",
      "1/1 [==============================] - 0s 55ms/step\n",
      "2609  image file:  KIC06507541_morp0.91.png\n",
      "1/1 [==============================] - 0s 53ms/step\n"
     ]
    },
    {
     "name": "stderr",
     "output_type": "stream",
     "text": [
      "\r",
      " 95%|█████████████████████████████████████  | 2610/2747 [04:11<00:11, 11.50it/s]"
     ]
    },
    {
     "name": "stdout",
     "output_type": "stream",
     "text": [
      "2610  image file:  KIC06929869_morp0.96.png\n",
      "1/1 [==============================] - 0s 52ms/step\n",
      "2611  image file:  KIC10447902_morp0.76.png\n",
      "1/1 [==============================] - 0s 51ms/step\n"
     ]
    },
    {
     "name": "stderr",
     "output_type": "stream",
     "text": [
      "\r",
      " 95%|█████████████████████████████████████  | 2612/2747 [04:11<00:11, 11.56it/s]"
     ]
    },
    {
     "name": "stdout",
     "output_type": "stream",
     "text": [
      "2612  image file:  KIC06148271_morp0.57.png\n",
      "1/1 [==============================] - 0s 52ms/step\n",
      "2613  image file:  KIC03966491_morp0.79.png\n",
      "1/1 [==============================] - 0s 54ms/step\n"
     ]
    },
    {
     "name": "stderr",
     "output_type": "stream",
     "text": [
      "\r",
      " 95%|█████████████████████████████████████  | 2614/2747 [04:12<00:11, 11.38it/s]"
     ]
    },
    {
     "name": "stdout",
     "output_type": "stream",
     "text": [
      "2614  image file:  KIC04455763_morp0.52.png\n",
      "1/1 [==============================] - 0s 52ms/step\n",
      "2615  image file:  KIC07449844_morp0.46.png\n",
      "1/1 [==============================] - 0s 51ms/step\n"
     ]
    },
    {
     "name": "stderr",
     "output_type": "stream",
     "text": [
      "\r",
      " 95%|█████████████████████████████████████▏ | 2616/2747 [04:12<00:11, 11.39it/s]"
     ]
    },
    {
     "name": "stdout",
     "output_type": "stream",
     "text": [
      "2616  image file:  KIC09028024_morp0.86.png\n",
      "1/1 [==============================] - 0s 53ms/step\n",
      "2617  image file:  KIC09641255_morp0.49.png\n",
      "1/1 [==============================] - 0s 61ms/step\n"
     ]
    },
    {
     "name": "stderr",
     "output_type": "stream",
     "text": [
      "\r",
      " 95%|█████████████████████████████████████▏ | 2618/2747 [04:12<00:11, 11.17it/s]"
     ]
    },
    {
     "name": "stdout",
     "output_type": "stream",
     "text": [
      "2618  image file:  KIC11404644_morp0.29.png\n",
      "1/1 [==============================] - 0s 52ms/step\n",
      "2619  image file:  KIC03560212_morp0.74.png\n",
      "1/1 [==============================] - 0s 52ms/step\n"
     ]
    },
    {
     "name": "stderr",
     "output_type": "stream",
     "text": [
      "\r",
      " 95%|█████████████████████████████████████▏ | 2620/2747 [04:12<00:11, 11.32it/s]"
     ]
    },
    {
     "name": "stdout",
     "output_type": "stream",
     "text": [
      "2620  image file:  KIC06964043_morp0.4.png\n",
      "1/1 [==============================] - 0s 50ms/step\n",
      "2621  image file:  KIC06927629_morp0.21.png\n",
      "1/1 [==============================] - 0s 50ms/step\n"
     ]
    },
    {
     "name": "stderr",
     "output_type": "stream",
     "text": [
      "\r",
      " 95%|█████████████████████████████████████▏ | 2622/2747 [04:12<00:10, 11.50it/s]"
     ]
    },
    {
     "name": "stdout",
     "output_type": "stream",
     "text": [
      "2622  image file:  KIC11154110_morp0.74.png\n",
      "1/1 [==============================] - 0s 50ms/step\n",
      "2623  image file:  KIC12010534_morp0.45.png\n",
      "1/1 [==============================] - 0s 50ms/step\n"
     ]
    },
    {
     "name": "stderr",
     "output_type": "stream",
     "text": [
      "\r",
      " 96%|█████████████████████████████████████▎ | 2624/2747 [04:12<00:10, 11.73it/s]"
     ]
    },
    {
     "name": "stdout",
     "output_type": "stream",
     "text": [
      "2624  image file:  KIC06766748_morp0.25.png\n",
      "1/1 [==============================] - 0s 50ms/step\n",
      "2625  image file:  KIC12353720_morp0.29.png\n",
      "1/1 [==============================] - 0s 50ms/step\n"
     ]
    },
    {
     "name": "stderr",
     "output_type": "stream",
     "text": [
      "\r",
      " 96%|█████████████████████████████████████▎ | 2626/2747 [04:13<00:10, 11.83it/s]"
     ]
    },
    {
     "name": "stdout",
     "output_type": "stream",
     "text": [
      "2626  image file:  KIC08234477_morp0.5.png\n",
      "1/1 [==============================] - 0s 52ms/step\n",
      "2627  image file:  KIC02309719_morp0.02.png\n",
      "1/1 [==============================] - 0s 50ms/step\n"
     ]
    },
    {
     "name": "stderr",
     "output_type": "stream",
     "text": [
      "\r",
      " 96%|█████████████████████████████████████▎ | 2628/2747 [04:13<00:10, 11.36it/s]"
     ]
    },
    {
     "name": "stdout",
     "output_type": "stream",
     "text": [
      "2628  image file:  KIC07681230_morp0.45.png\n",
      "1/1 [==============================] - 0s 54ms/step\n",
      "2629  image file:  KIC04043443_morp0.01.png\n",
      "1/1 [==============================] - 0s 58ms/step\n"
     ]
    },
    {
     "name": "stderr",
     "output_type": "stream",
     "text": [
      "\r",
      " 96%|█████████████████████████████████████▎ | 2630/2747 [04:13<00:10, 11.09it/s]"
     ]
    },
    {
     "name": "stdout",
     "output_type": "stream",
     "text": [
      "2630  image file:  KIC06311637_morp0.56.png\n",
      "1/1 [==============================] - 0s 52ms/step\n",
      "2631  image file:  KIC09166862_morp0.27.png\n",
      "1/1 [==============================] - 0s 52ms/step\n"
     ]
    },
    {
     "name": "stderr",
     "output_type": "stream",
     "text": [
      "\r",
      " 96%|█████████████████████████████████████▎ | 2632/2747 [04:13<00:10, 11.16it/s]"
     ]
    },
    {
     "name": "stdout",
     "output_type": "stream",
     "text": [
      "2632  image file:  KIC05358200_morp0.79.png\n",
      "1/1 [==============================] - 0s 54ms/step\n",
      "2633  image file:  KIC03832382_morp0.75.png\n",
      "1/1 [==============================] - 0s 54ms/step\n"
     ]
    },
    {
     "name": "stderr",
     "output_type": "stream",
     "text": [
      "\r",
      " 96%|█████████████████████████████████████▍ | 2634/2747 [04:13<00:10, 11.16it/s]"
     ]
    },
    {
     "name": "stdout",
     "output_type": "stream",
     "text": [
      "2634  image file:  KIC11099351_morp0.29.png\n",
      "1/1 [==============================] - 0s 53ms/step\n",
      "2635  image file:  KIC05535280_morp0.01.png\n",
      "1/1 [==============================] - 0s 52ms/step\n"
     ]
    },
    {
     "name": "stderr",
     "output_type": "stream",
     "text": [
      "\r",
      " 96%|█████████████████████████████████████▍ | 2636/2747 [04:13<00:09, 11.25it/s]"
     ]
    },
    {
     "name": "stdout",
     "output_type": "stream",
     "text": [
      "2636  image file:  KIC05041975_morp0.61.png\n",
      "1/1 [==============================] - 0s 54ms/step\n",
      "2637  image file:  KIC06046061_morp0.7.png\n",
      "1/1 [==============================] - 0s 53ms/step\n"
     ]
    },
    {
     "name": "stderr",
     "output_type": "stream",
     "text": [
      "\r",
      " 96%|█████████████████████████████████████▍ | 2638/2747 [04:14<00:09, 11.31it/s]"
     ]
    },
    {
     "name": "stdout",
     "output_type": "stream",
     "text": [
      "2638  image file:  KIC05785586_morp0.59.png\n",
      "1/1 [==============================] - 0s 53ms/step\n",
      "2639  image file:  KIC06063448_morp0.03.png\n",
      "1/1 [==============================] - 0s 60ms/step\n"
     ]
    },
    {
     "name": "stderr",
     "output_type": "stream",
     "text": [
      "\r",
      " 96%|█████████████████████████████████████▍ | 2640/2747 [04:14<00:10, 10.55it/s]"
     ]
    },
    {
     "name": "stdout",
     "output_type": "stream",
     "text": [
      "2640  image file:  KIC06305192_morp0.22.png\n",
      "1/1 [==============================] - 0s 55ms/step\n",
      "2641  image file:  KIC05779852_morp0.0.png\n",
      "1/1 [==============================] - 0s 54ms/step\n"
     ]
    },
    {
     "name": "stderr",
     "output_type": "stream",
     "text": [
      "\r",
      " 96%|█████████████████████████████████████▌ | 2642/2747 [04:14<00:09, 10.78it/s]"
     ]
    },
    {
     "name": "stdout",
     "output_type": "stream",
     "text": [
      "2642  image file:  KIC11909686_morp0.0.png\n",
      "1/1 [==============================] - 0s 55ms/step\n",
      "2643  image file:  KIC09214715_morp0.0.png\n",
      "1/1 [==============================] - 0s 53ms/step\n"
     ]
    },
    {
     "name": "stderr",
     "output_type": "stream",
     "text": [
      "\r",
      " 96%|█████████████████████████████████████▌ | 2644/2747 [04:14<00:09, 10.91it/s]"
     ]
    },
    {
     "name": "stdout",
     "output_type": "stream",
     "text": [
      "2644  image file:  KIC06028860_morp0.47.png\n",
      "1/1 [==============================] - 0s 53ms/step\n",
      "2645  image file:  KIC05481426_morp0.22.png\n",
      "1/1 [==============================] - 0s 52ms/step\n"
     ]
    },
    {
     "name": "stderr",
     "output_type": "stream",
     "text": [
      "\r",
      " 96%|█████████████████████████████████████▌ | 2646/2747 [04:14<00:09, 11.06it/s]"
     ]
    },
    {
     "name": "stdout",
     "output_type": "stream",
     "text": [
      "2646  image file:  KIC06699562_morp0.04.png\n",
      "1/1 [==============================] - 0s 54ms/step\n",
      "2647  image file:  KIC09772531_morp0.01.png\n",
      "1/1 [==============================] - 0s 51ms/step\n"
     ]
    },
    {
     "name": "stderr",
     "output_type": "stream",
     "text": [
      "\r",
      " 96%|█████████████████████████████████████▌ | 2648/2747 [04:15<00:08, 11.26it/s]"
     ]
    },
    {
     "name": "stdout",
     "output_type": "stream",
     "text": [
      "2648  image file:  KIC05702939_morp0.09.png\n",
      "1/1 [==============================] - 0s 52ms/step\n",
      "2649  image file:  KIC05567438_morp0.96.png\n",
      "1/1 [==============================] - 0s 50ms/step\n"
     ]
    },
    {
     "name": "stderr",
     "output_type": "stream",
     "text": [
      "\r",
      " 96%|█████████████████████████████████████▌ | 2650/2747 [04:15<00:08, 11.35it/s]"
     ]
    },
    {
     "name": "stdout",
     "output_type": "stream",
     "text": [
      "2650  image file:  KIC02856960_morp0.64.png\n",
      "1/1 [==============================] - 0s 50ms/step\n",
      "2651  image file:  KIC10063044_morp0.59.png\n",
      "1/1 [==============================] - 0s 52ms/step\n"
     ]
    },
    {
     "name": "stderr",
     "output_type": "stream",
     "text": [
      "\r",
      " 97%|█████████████████████████████████████▋ | 2652/2747 [04:15<00:08, 11.53it/s]"
     ]
    },
    {
     "name": "stdout",
     "output_type": "stream",
     "text": [
      "2652  image file:  KIC08702921_morp-1.0.png\n",
      "1/1 [==============================] - 0s 52ms/step\n",
      "2653  image file:  KIC11336707_morp0.91.png\n",
      "1/1 [==============================] - 0s 63ms/step\n"
     ]
    },
    {
     "name": "stderr",
     "output_type": "stream",
     "text": [
      "\r",
      " 97%|█████████████████████████████████████▋ | 2654/2747 [04:15<00:08, 11.34it/s]"
     ]
    },
    {
     "name": "stdout",
     "output_type": "stream",
     "text": [
      "2654  image file:  KIC07751562_morp0.13.png\n",
      "1/1 [==============================] - 0s 58ms/step\n",
      "2655  image file:  KIC05629353_morp0.06.png\n",
      "1/1 [==============================] - 0s 53ms/step\n"
     ]
    },
    {
     "name": "stderr",
     "output_type": "stream",
     "text": [
      "\r",
      " 97%|█████████████████████████████████████▋ | 2656/2747 [04:15<00:08, 11.00it/s]"
     ]
    },
    {
     "name": "stdout",
     "output_type": "stream",
     "text": [
      "2656  image file:  KIC05961327_morp0.76.png\n",
      "1/1 [==============================] - 0s 65ms/step\n",
      "2657  image file:  KIC05218441_morp0.46.png\n",
      "1/1 [==============================] - 0s 53ms/step\n"
     ]
    },
    {
     "name": "stderr",
     "output_type": "stream",
     "text": [
      "\r",
      " 97%|█████████████████████████████████████▋ | 2658/2747 [04:15<00:08, 10.83it/s]"
     ]
    },
    {
     "name": "stdout",
     "output_type": "stream",
     "text": [
      "2658  image file:  KIC03240159_morp0.0.png\n",
      "1/1 [==============================] - 0s 52ms/step\n",
      "2659  image file:  KIC09097798_morp0.99.png\n",
      "1/1 [==============================] - 0s 54ms/step\n"
     ]
    },
    {
     "name": "stderr",
     "output_type": "stream",
     "text": [
      "\r",
      " 97%|█████████████████████████████████████▊ | 2660/2747 [04:16<00:07, 11.03it/s]"
     ]
    },
    {
     "name": "stdout",
     "output_type": "stream",
     "text": [
      "2660  image file:  KIC03850086_morp-1.0.png\n",
      "1/1 [==============================] - 0s 52ms/step\n",
      "2661  image file:  KIC07708193_morp0.24.png\n",
      "1/1 [==============================] - 0s 52ms/step\n"
     ]
    },
    {
     "name": "stderr",
     "output_type": "stream",
     "text": [
      "\r",
      " 97%|█████████████████████████████████████▊ | 2662/2747 [04:16<00:07, 11.21it/s]"
     ]
    },
    {
     "name": "stdout",
     "output_type": "stream",
     "text": [
      "2662  image file:  KIC10320341_morp0.04.png\n",
      "1/1 [==============================] - 0s 60ms/step\n",
      "2663  image file:  KIC03848972_morp0.46.png\n",
      "1/1 [==============================] - 0s 49ms/step\n"
     ]
    },
    {
     "name": "stderr",
     "output_type": "stream",
     "text": [
      "\r",
      " 97%|█████████████████████████████████████▊ | 2664/2747 [04:16<00:07, 11.30it/s]"
     ]
    },
    {
     "name": "stdout",
     "output_type": "stream",
     "text": [
      "2664  image file:  KIC10253421_morp0.68.png\n",
      "1/1 [==============================] - 0s 50ms/step\n",
      "2665  image file:  KIC09412114_morp0.86.png\n",
      "1/1 [==============================] - 0s 49ms/step\n"
     ]
    },
    {
     "name": "stderr",
     "output_type": "stream",
     "text": [
      "\r",
      " 97%|█████████████████████████████████████▊ | 2666/2747 [04:16<00:06, 11.59it/s]"
     ]
    },
    {
     "name": "stdout",
     "output_type": "stream",
     "text": [
      "2666  image file:  KIC05309353_morp0.45.png\n",
      "1/1 [==============================] - 0s 51ms/step\n",
      "2667  image file:  KIC08435247_morp0.57.png\n",
      "1/1 [==============================] - 0s 52ms/step\n"
     ]
    },
    {
     "name": "stderr",
     "output_type": "stream",
     "text": [
      "\r",
      " 97%|█████████████████████████████████████▉ | 2668/2747 [04:16<00:06, 11.64it/s]"
     ]
    },
    {
     "name": "stdout",
     "output_type": "stream",
     "text": [
      "2668  image file:  KIC09596187_morp0.48.png\n",
      "1/1 [==============================] - 0s 53ms/step\n",
      "2669  image file:  KIC07458285_morp0.71.png\n",
      "1/1 [==============================] - 0s 53ms/step\n"
     ]
    },
    {
     "name": "stderr",
     "output_type": "stream",
     "text": [
      "\r",
      " 97%|█████████████████████████████████████▉ | 2670/2747 [04:17<00:06, 11.56it/s]"
     ]
    },
    {
     "name": "stdout",
     "output_type": "stream",
     "text": [
      "2670  image file:  KIC05878081_morp0.72.png\n",
      "1/1 [==============================] - 0s 53ms/step\n",
      "2671  image file:  KIC09955262_morp0.04.png\n",
      "1/1 [==============================] - 0s 51ms/step\n"
     ]
    },
    {
     "name": "stderr",
     "output_type": "stream",
     "text": [
      "\r",
      " 97%|█████████████████████████████████████▉ | 2672/2747 [04:17<00:06, 11.53it/s]"
     ]
    },
    {
     "name": "stdout",
     "output_type": "stream",
     "text": [
      "2672  image file:  KIC03757778_morp0.04.png\n",
      "1/1 [==============================] - 0s 49ms/step\n",
      "2673  image file:  KIC09094335_morp0.94.png\n",
      "1/1 [==============================] - 0s 50ms/step\n"
     ]
    },
    {
     "name": "stderr",
     "output_type": "stream",
     "text": [
      "\r",
      " 97%|█████████████████████████████████████▉ | 2674/2747 [04:17<00:06, 11.77it/s]"
     ]
    },
    {
     "name": "stdout",
     "output_type": "stream",
     "text": [
      "2674  image file:  KIC05306720_morp0.03.png\n",
      "1/1 [==============================] - 0s 52ms/step\n",
      "2675  image file:  KIC04638237_morp0.34.png\n",
      "1/1 [==============================] - 0s 55ms/step\n"
     ]
    },
    {
     "name": "stderr",
     "output_type": "stream",
     "text": [
      "\r",
      " 97%|█████████████████████████████████████▉ | 2676/2747 [04:17<00:06, 11.57it/s]"
     ]
    },
    {
     "name": "stdout",
     "output_type": "stream",
     "text": [
      "2676  image file:  KIC06960446_morp0.18.png\n",
      "1/1 [==============================] - 0s 53ms/step\n",
      "2677  image file:  KIC10711913_morp0.08.png\n",
      "1/1 [==============================] - 0s 51ms/step\n"
     ]
    },
    {
     "name": "stderr",
     "output_type": "stream",
     "text": [
      "\r",
      " 97%|██████████████████████████████████████ | 2678/2747 [04:17<00:05, 11.60it/s]"
     ]
    },
    {
     "name": "stdout",
     "output_type": "stream",
     "text": [
      "2678  image file:  KIC10480982_morp0.06.png\n",
      "1/1 [==============================] - 0s 58ms/step\n",
      "2679  image file:  KIC03431321_morp0.79.png\n",
      "1/1 [==============================] - 0s 59ms/step\n"
     ]
    },
    {
     "name": "stderr",
     "output_type": "stream",
     "text": [
      "\r",
      " 98%|██████████████████████████████████████ | 2680/2747 [04:17<00:05, 11.23it/s]"
     ]
    },
    {
     "name": "stdout",
     "output_type": "stream",
     "text": [
      "2680  image file:  KIC05872150_morp0.08.png\n",
      "1/1 [==============================] - 0s 53ms/step\n",
      "2681  image file:  KIC06504954_morp0.0.png\n",
      "1/1 [==============================] - 0s 54ms/step\n"
     ]
    },
    {
     "name": "stderr",
     "output_type": "stream",
     "text": [
      "\r",
      " 98%|██████████████████████████████████████ | 2682/2747 [04:18<00:05, 11.23it/s]"
     ]
    },
    {
     "name": "stdout",
     "output_type": "stream",
     "text": [
      "2682  image file:  KIC09164836_morp0.01.png\n",
      "1/1 [==============================] - 0s 58ms/step\n",
      "2683  image file:  KIC10024144_morp0.74.png\n",
      "1/1 [==============================] - 0s 53ms/step\n"
     ]
    },
    {
     "name": "stderr",
     "output_type": "stream",
     "text": [
      "\r",
      " 98%|██████████████████████████████████████ | 2684/2747 [04:18<00:05, 10.70it/s]"
     ]
    },
    {
     "name": "stdout",
     "output_type": "stream",
     "text": [
      "2684  image file:  KIC09655129_morp0.51.png\n",
      "1/1 [==============================] - 0s 53ms/step\n",
      "2685  image file:  KIC06526545_morp0.95.png\n",
      "1/1 [==============================] - 0s 53ms/step\n"
     ]
    },
    {
     "name": "stderr",
     "output_type": "stream",
     "text": [
      "\r",
      " 98%|██████████████████████████████████████▏| 2686/2747 [04:18<00:05, 10.75it/s]"
     ]
    },
    {
     "name": "stdout",
     "output_type": "stream",
     "text": [
      "2686  image file:  KIC10528299_morp0.81.png\n",
      "1/1 [==============================] - 0s 50ms/step\n",
      "2687  image file:  KIC03863594_morp0.79.png\n",
      "1/1 [==============================] - 0s 54ms/step\n"
     ]
    },
    {
     "name": "stderr",
     "output_type": "stream",
     "text": [
      "\r",
      " 98%|██████████████████████████████████████▏| 2688/2747 [04:18<00:05, 10.43it/s]"
     ]
    },
    {
     "name": "stdout",
     "output_type": "stream",
     "text": [
      "2688  image file:  KIC07431703_morp0.64.png\n",
      "1/1 [==============================] - 0s 66ms/step\n",
      "2689  image file:  KIC09474969_morp0.17.png\n",
      "1/1 [==============================] - 0s 52ms/step\n"
     ]
    },
    {
     "name": "stderr",
     "output_type": "stream",
     "text": [
      "\r",
      " 98%|██████████████████████████████████████▏| 2690/2747 [04:18<00:05, 10.47it/s]"
     ]
    },
    {
     "name": "stdout",
     "output_type": "stream",
     "text": [
      "2690  image file:  KIC03438975_morp0.46.png\n",
      "1/1 [==============================] - 0s 52ms/step\n",
      "2691  image file:  KIC10991989_morp0.54.png\n",
      "1/1 [==============================] - 0s 54ms/step\n"
     ]
    },
    {
     "name": "stderr",
     "output_type": "stream",
     "text": [
      "\r",
      " 98%|██████████████████████████████████████▏| 2692/2747 [04:19<00:05, 10.31it/s]"
     ]
    },
    {
     "name": "stdout",
     "output_type": "stream",
     "text": [
      "2692  image file:  KIC08934111_morp0.92.png\n",
      "1/1 [==============================] - 0s 57ms/step\n",
      "2693  image file:  KIC12365000_morp0.4.png\n",
      "1/1 [==============================] - 0s 58ms/step\n"
     ]
    },
    {
     "name": "stderr",
     "output_type": "stream",
     "text": [
      "\r",
      " 98%|██████████████████████████████████████▏| 2694/2747 [04:19<00:05, 10.24it/s]"
     ]
    },
    {
     "name": "stdout",
     "output_type": "stream",
     "text": [
      "2694  image file:  KIC07847927_morp0.01.png\n",
      "1/1 [==============================] - 0s 64ms/step\n",
      "2695  image file:  KIC03335816_morp0.16.png\n",
      "1/1 [==============================] - 0s 58ms/step\n"
     ]
    },
    {
     "name": "stderr",
     "output_type": "stream",
     "text": [
      "\r",
      " 98%|██████████████████████████████████████▎| 2696/2747 [04:19<00:04, 10.22it/s]"
     ]
    },
    {
     "name": "stdout",
     "output_type": "stream",
     "text": [
      "2696  image file:  KIC04929299_morp0.51.png\n",
      "1/1 [==============================] - 0s 73ms/step\n",
      "2697  image file:  KIC10296163_morp0.17.png\n",
      "1/1 [==============================] - 0s 55ms/step\n"
     ]
    },
    {
     "name": "stderr",
     "output_type": "stream",
     "text": [
      "\r",
      " 98%|██████████████████████████████████████▎| 2698/2747 [04:19<00:05,  9.67it/s]"
     ]
    },
    {
     "name": "stdout",
     "output_type": "stream",
     "text": [
      "2698  image file:  KIC06287172_morp0.95.png\n",
      "1/1 [==============================] - 0s 52ms/step\n",
      "2699  image file:  KIC08414914_morp0.02.png\n",
      "1/1 [==============================] - 0s 50ms/step\n"
     ]
    },
    {
     "name": "stderr",
     "output_type": "stream",
     "text": [
      "\r",
      " 98%|██████████████████████████████████████▎| 2700/2747 [04:19<00:04, 10.11it/s]"
     ]
    },
    {
     "name": "stdout",
     "output_type": "stream",
     "text": [
      "2700  image file:  KIC08192840_morp0.95.png\n",
      "1/1 [==============================] - 0s 51ms/step\n",
      "2701  image file:  KIC07385478_morp0.54.png\n",
      "1/1 [==============================] - 0s 50ms/step\n"
     ]
    },
    {
     "name": "stderr",
     "output_type": "stream",
     "text": [
      "\r",
      " 98%|██████████████████████████████████████▎| 2702/2747 [04:20<00:04, 10.62it/s]"
     ]
    },
    {
     "name": "stdout",
     "output_type": "stream",
     "text": [
      "2702  image file:  KIC07025540_morp0.39.png\n",
      "1/1 [==============================] - 0s 51ms/step\n",
      "2703  image file:  KIC09652632_morp0.38.png\n",
      "1/1 [==============================] - 0s 51ms/step\n"
     ]
    },
    {
     "name": "stderr",
     "output_type": "stream",
     "text": [
      "\r",
      " 98%|██████████████████████████████████████▍| 2704/2747 [04:20<00:03, 10.94it/s]"
     ]
    },
    {
     "name": "stdout",
     "output_type": "stream",
     "text": [
      "2704  image file:  KIC07620844_morp0.03.png\n",
      "1/1 [==============================] - 0s 51ms/step\n",
      "2705  image file:  KIC04671584_morp0.2.png\n",
      "1/1 [==============================] - 0s 53ms/step\n"
     ]
    },
    {
     "name": "stderr",
     "output_type": "stream",
     "text": [
      "\r",
      " 99%|██████████████████████████████████████▍| 2706/2747 [04:20<00:03, 11.18it/s]"
     ]
    },
    {
     "name": "stdout",
     "output_type": "stream",
     "text": [
      "2706  image file:  KIC07971389_morp0.03.png\n",
      "1/1 [==============================] - 0s 53ms/step\n",
      "2707  image file:  KIC07108433_morp0.55.png\n",
      "1/1 [==============================] - 0s 53ms/step\n"
     ]
    },
    {
     "name": "stderr",
     "output_type": "stream",
     "text": [
      "\r",
      " 99%|██████████████████████████████████████▍| 2708/2747 [04:20<00:03, 10.76it/s]"
     ]
    },
    {
     "name": "stdout",
     "output_type": "stream",
     "text": [
      "2708  image file:  KIC09758089_morp0.02.png\n",
      "1/1 [==============================] - 0s 54ms/step\n",
      "2709  image file:  KIC05877364_morp-1.0.png\n",
      "1/1 [==============================] - 0s 64ms/step\n"
     ]
    },
    {
     "name": "stderr",
     "output_type": "stream",
     "text": [
      "\r",
      " 99%|██████████████████████████████████████▍| 2710/2747 [04:20<00:03, 10.59it/s]"
     ]
    },
    {
     "name": "stdout",
     "output_type": "stream",
     "text": [
      "2710  image file:  KIC08429450_morp0.47.png\n",
      "1/1 [==============================] - 0s 55ms/step\n",
      "2711  image file:  KIC02441161_morp0.22.png\n",
      "1/1 [==============================] - 0s 75ms/step\n"
     ]
    },
    {
     "name": "stderr",
     "output_type": "stream",
     "text": [
      "\r",
      " 99%|██████████████████████████████████████▌| 2712/2747 [04:20<00:03, 10.27it/s]"
     ]
    },
    {
     "name": "stdout",
     "output_type": "stream",
     "text": [
      "2712  image file:  KIC08143757_morp0.78.png\n",
      "1/1 [==============================] - 0s 60ms/step\n",
      "2713  image file:  KIC07709086_morp0.79.png\n",
      "1/1 [==============================] - 0s 57ms/step\n"
     ]
    },
    {
     "name": "stderr",
     "output_type": "stream",
     "text": [
      "\r",
      " 99%|██████████████████████████████████████▌| 2714/2747 [04:21<00:03, 10.40it/s]"
     ]
    },
    {
     "name": "stdout",
     "output_type": "stream",
     "text": [
      "2714  image file:  KIC07830321_morp0.43.png\n",
      "1/1 [==============================] - 0s 58ms/step\n",
      "2715  image file:  KIC10275887_morp0.48.png\n",
      "1/1 [==============================] - 0s 53ms/step\n"
     ]
    },
    {
     "name": "stderr",
     "output_type": "stream",
     "text": [
      "\r",
      " 99%|██████████████████████████████████████▌| 2716/2747 [04:21<00:02, 10.55it/s]"
     ]
    },
    {
     "name": "stdout",
     "output_type": "stream",
     "text": [
      "2716  image file:  KIC09392702_morp0.37.png\n",
      "1/1 [==============================] - 0s 57ms/step\n",
      "2717  image file:  KIC02162994_morp0.42.png\n",
      "1/1 [==============================] - 0s 53ms/step\n"
     ]
    },
    {
     "name": "stderr",
     "output_type": "stream",
     "text": [
      "\r",
      " 99%|██████████████████████████████████████▌| 2718/2747 [04:21<00:02, 10.77it/s]"
     ]
    },
    {
     "name": "stdout",
     "output_type": "stream",
     "text": [
      "2718  image file:  KIC05347784_morp0.19.png\n",
      "1/1 [==============================] - 0s 55ms/step\n",
      "2719  image file:  KIC04912589_morp0.01.png\n",
      "1/1 [==============================] - 0s 65ms/step\n"
     ]
    },
    {
     "name": "stderr",
     "output_type": "stream",
     "text": [
      "\r",
      " 99%|██████████████████████████████████████▌| 2720/2747 [04:21<00:02, 10.75it/s]"
     ]
    },
    {
     "name": "stdout",
     "output_type": "stream",
     "text": [
      "2720  image file:  KIC08164262_morp-1.0.png\n",
      "1/1 [==============================] - 0s 55ms/step\n",
      "2721  image file:  KIC10743597_morp0.0.png\n",
      "1/1 [==============================] - 0s 58ms/step\n"
     ]
    },
    {
     "name": "stderr",
     "output_type": "stream",
     "text": [
      "\r",
      " 99%|██████████████████████████████████████▋| 2722/2747 [04:21<00:02, 10.62it/s]"
     ]
    },
    {
     "name": "stdout",
     "output_type": "stream",
     "text": [
      "2722  image file:  KIC09904059_morp0.04.png\n",
      "1/1 [==============================] - 0s 61ms/step\n",
      "2723  image file:  KIC03832716_morp0.57.png\n",
      "1/1 [==============================] - 0s 73ms/step\n"
     ]
    },
    {
     "name": "stderr",
     "output_type": "stream",
     "text": [
      "\r",
      " 99%|██████████████████████████████████████▋| 2724/2747 [04:22<00:02, 10.28it/s]"
     ]
    },
    {
     "name": "stdout",
     "output_type": "stream",
     "text": [
      "2724  image file:  KIC09944907_morp0.71.png\n",
      "1/1 [==============================] - 0s 58ms/step\n",
      "2725  image file:  KIC04244929_morp0.91.png\n",
      "1/1 [==============================] - 0s 55ms/step\n"
     ]
    },
    {
     "name": "stderr",
     "output_type": "stream",
     "text": [
      "\r",
      " 99%|██████████████████████████████████████▋| 2726/2747 [04:22<00:02, 10.10it/s]"
     ]
    },
    {
     "name": "stdout",
     "output_type": "stream",
     "text": [
      "2726  image file:  KIC10963242_morp0.21.png\n",
      "1/1 [==============================] - 0s 54ms/step\n",
      "2727  image file:  KIC06191945_morp0.08.png\n",
      "1/1 [==============================] - 0s 64ms/step\n"
     ]
    },
    {
     "name": "stderr",
     "output_type": "stream",
     "text": [
      "\r",
      " 99%|██████████████████████████████████████▋| 2728/2747 [04:22<00:01, 10.08it/s]"
     ]
    },
    {
     "name": "stdout",
     "output_type": "stream",
     "text": [
      "2728  image file:  KIC04839180_morp0.22.png\n",
      "1/1 [==============================] - 0s 54ms/step\n",
      "2729  image file:  KIC09246715_morp0.11.png\n",
      "1/1 [==============================] - 0s 65ms/step\n"
     ]
    },
    {
     "name": "stderr",
     "output_type": "stream",
     "text": [
      "\r",
      " 99%|██████████████████████████████████████▊| 2730/2747 [04:22<00:01, 10.22it/s]"
     ]
    },
    {
     "name": "stdout",
     "output_type": "stream",
     "text": [
      "2730  image file:  KIC09821078_morp0.95.png\n",
      "1/1 [==============================] - 0s 55ms/step\n",
      "2731  image file:  KIC09935245_morp0.63.png\n",
      "1/1 [==============================] - 0s 54ms/step\n"
     ]
    },
    {
     "name": "stderr",
     "output_type": "stream",
     "text": [
      "\r",
      " 99%|██████████████████████████████████████▊| 2732/2747 [04:22<00:01, 10.50it/s]"
     ]
    },
    {
     "name": "stdout",
     "output_type": "stream",
     "text": [
      "2732  image file:  KIC08953426_morp0.4.png\n",
      "1/1 [==============================] - 0s 55ms/step\n",
      "2733  image file:  KIC09207508_morp0.57.png\n",
      "1/1 [==============================] - 0s 54ms/step\n"
     ]
    },
    {
     "name": "stderr",
     "output_type": "stream",
     "text": [
      "\r",
      "100%|██████████████████████████████████████▊| 2734/2747 [04:23<00:01, 10.72it/s]"
     ]
    },
    {
     "name": "stdout",
     "output_type": "stream",
     "text": [
      "2734  image file:  KIC08430105_morp0.23.png\n",
      "1/1 [==============================] - 0s 55ms/step\n",
      "2735  image file:  KIC07890379_morp0.92.png\n",
      "1/1 [==============================] - 0s 53ms/step\n"
     ]
    },
    {
     "name": "stderr",
     "output_type": "stream",
     "text": [
      "\r",
      "100%|██████████████████████████████████████▊| 2736/2747 [04:23<00:01, 10.86it/s]"
     ]
    },
    {
     "name": "stdout",
     "output_type": "stream",
     "text": [
      "2736  image file:  KIC11704101_morp0.83.png\n",
      "1/1 [==============================] - 0s 51ms/step\n",
      "2737  image file:  KIC05685072_morp0.73.png\n",
      "1/1 [==============================] - 0s 53ms/step\n"
     ]
    },
    {
     "name": "stderr",
     "output_type": "stream",
     "text": [
      "\r",
      "100%|██████████████████████████████████████▊| 2738/2747 [04:23<00:00, 11.15it/s]"
     ]
    },
    {
     "name": "stdout",
     "output_type": "stream",
     "text": [
      "2738  image file:  KIC10363300_morp0.56.png\n",
      "1/1 [==============================] - 0s 52ms/step\n",
      "2739  image file:  KIC10735988_morp0.37.png\n",
      "1/1 [==============================] - 0s 51ms/step\n"
     ]
    },
    {
     "name": "stderr",
     "output_type": "stream",
     "text": [
      "\r",
      "100%|██████████████████████████████████████▉| 2740/2747 [04:23<00:00, 11.26it/s]"
     ]
    },
    {
     "name": "stdout",
     "output_type": "stream",
     "text": [
      "2740  image file:  KIC09016693_morp-1.0.png\n",
      "1/1 [==============================] - 0s 52ms/step\n",
      "2741  image file:  KIC03936357_morp0.77.png\n",
      "1/1 [==============================] - 0s 52ms/step\n"
     ]
    },
    {
     "name": "stderr",
     "output_type": "stream",
     "text": [
      "\r",
      "100%|██████████████████████████████████████▉| 2742/2747 [04:23<00:00, 11.39it/s]"
     ]
    },
    {
     "name": "stdout",
     "output_type": "stream",
     "text": [
      "2742  image file:  KIC05284262_morp-1.0.png\n",
      "1/1 [==============================] - 0s 55ms/step\n",
      "2743  image file:  KIC11134079_morp0.44.png\n",
      "1/1 [==============================] - 0s 53ms/step\n"
     ]
    },
    {
     "name": "stderr",
     "output_type": "stream",
     "text": [
      "\r",
      "100%|██████████████████████████████████████▉| 2744/2747 [04:23<00:00, 11.37it/s]"
     ]
    },
    {
     "name": "stdout",
     "output_type": "stream",
     "text": [
      "2744  image file:  KIC06620003_morp0.2.png\n",
      "1/1 [==============================] - 0s 52ms/step\n",
      "2745  image file:  KIC11671660_morp0.76.png\n",
      "1/1 [==============================] - 0s 50ms/step\n"
     ]
    },
    {
     "name": "stderr",
     "output_type": "stream",
     "text": [
      "\r",
      "100%|██████████████████████████████████████▉| 2746/2747 [04:24<00:00, 11.48it/s]"
     ]
    },
    {
     "name": "stdout",
     "output_type": "stream",
     "text": [
      "2746  image file:  KIC11616200_morp0.49.png\n",
      "1/1 [==============================] - 0s 52ms/step\n"
     ]
    },
    {
     "name": "stderr",
     "output_type": "stream",
     "text": [
      "100%|███████████████████████████████████████| 2747/2747 [04:24<00:00, 10.40it/s]\n"
     ]
    }
   ],
   "source": [
    "img_path = [os.path.join('', f) for f in os.listdir('Kepler') if f.endswith('.png')]\n",
    "img_features, img_name = image_feature(img_path)"
   ]
  },
  {
   "cell_type": "code",
   "execution_count": 4,
   "id": "7bda5b13",
   "metadata": {},
   "outputs": [],
   "source": [
    "from sklearn.decomposition import PCA\n",
    "pca = PCA(n_components=2)"
   ]
  },
  {
   "cell_type": "code",
   "execution_count": 6,
   "id": "eb1fea43",
   "metadata": {},
   "outputs": [],
   "source": [
    "df = pca.fit_transform(img_features)"
   ]
  },
  {
   "cell_type": "code",
   "execution_count": 7,
   "id": "9831f4b2",
   "metadata": {},
   "outputs": [
    {
     "data": {
      "text/plain": [
       "(2747, 2)"
      ]
     },
     "execution_count": 7,
     "metadata": {},
     "output_type": "execute_result"
    }
   ],
   "source": [
    "df.shape"
   ]
  },
  {
   "cell_type": "code",
   "execution_count": 8,
   "id": "6f08e190",
   "metadata": {
    "scrolled": true
   },
   "outputs": [
    {
     "name": "stderr",
     "output_type": "stream",
     "text": [
      "/Users/tiga/anaconda3/lib/python3.10/site-packages/sklearn/cluster/_kmeans.py:1412: FutureWarning: The default value of `n_init` will change from 10 to 'auto' in 1.4. Set the value of `n_init` explicitly to suppress the warning\n",
      "  super()._check_params_vs_input(X, default_n_init=10)\n"
     ]
    }
   ],
   "source": [
    "kmeans = KMeans(n_clusters=4, random_state=40)\n",
    "fit = kmeans.fit(df)\n",
    "label = kmeans.labels_\n",
    "centroids = kmeans.cluster_centers_"
   ]
  },
  {
   "cell_type": "code",
   "execution_count": 9,
   "id": "fa365995",
   "metadata": {
    "scrolled": true
   },
   "outputs": [
    {
     "data": {
      "image/png": "[encoded data removed]",
      "text/plain": [
       "<Figure size 640x480 with 1 Axes>"
      ]
     },
     "metadata": {},
     "output_type": "display_data"
    }
   ],
   "source": [
    "u_labels = np.unique(label)\n",
    "\n",
    "for i in u_labels:\n",
    "    plt.scatter(df[label == i , 0] , df[label == i , 1] , label = i)\n",
    "plt.scatter(centroids[:,0] , centroids[:,1]  , s = 80, color = 'k')\n",
    "plt.legend()\n",
    "plt.show()"
   ]
  },
  {
   "cell_type": "code",
   "execution_count": 10,
   "id": "e9f47154",
   "metadata": {},
   "outputs": [
    {
     "data": {
      "text/plain": [
       "77.80228656749861"
      ]
     },
     "execution_count": 10,
     "metadata": {},
     "output_type": "execute_result"
    }
   ],
   "source": [
    "centroids[0,0]"
   ]
  },
  {
   "cell_type": "code",
   "execution_count": 29,
   "id": "6ac90a97",
   "metadata": {},
   "outputs": [],
   "source": [
    "image_cluster = pd.DataFrame(img_name, columns=['image'])\n",
    "image_cluster[\"clusterid\"] = kmeans.labels_\n",
    "image_cluster['Morph'] = image_cluster.apply(lambda row: float(row['image'][16:][:-4]), axis=1)"
   ]
  },
  {
   "cell_type": "code",
   "execution_count": 30,
   "id": "5dd82fda",
   "metadata": {},
   "outputs": [
    {
     "data": {
      "text/plain": [
       "0       0.51\n",
       "1       0.95\n",
       "2       0.10\n",
       "3       0.36\n",
       "4       0.54\n",
       "        ... \n",
       "2742   -1.00\n",
       "2743    0.44\n",
       "2744    0.20\n",
       "2745    0.76\n",
       "2746    0.49\n",
       "Name: Morph, Length: 2747, dtype: float64"
      ]
     },
     "execution_count": 30,
     "metadata": {},
     "output_type": "execute_result"
    }
   ],
   "source": [
    "image_cluster['Morph']"
   ]
  },
  {
   "cell_type": "code",
   "execution_count": 31,
   "id": "e980f181",
   "metadata": {},
   "outputs": [],
   "source": [
    "def categorise(row): # morfoloji parametresine göre türünü belirle\n",
    "    if float(row['image'][16:][:-4]) <= 0.4 :\n",
    "        return 'Detached'\n",
    "    elif float(row['image'][16:][:-4]) <= 0.7 :\n",
    "        return 'SemiDetached'\n",
    "    elif float(row['image'][16:][:-4]) <= 0.8 :\n",
    "        return 'OverContact'\n",
    "    return 'Ellipsoidal'"
   ]
  },
  {
   "cell_type": "code",
   "execution_count": 32,
   "id": "8b969cdd",
   "metadata": {},
   "outputs": [],
   "source": [
    "image_cluster['BinaryType'] = image_cluster.apply(lambda row: categorise(row), axis=1)"
   ]
  },
  {
   "cell_type": "code",
   "execution_count": 33,
   "id": "2c6bfe08",
   "metadata": {},
   "outputs": [],
   "source": [
    "image_cluster['KmeansX'] = df[:,0]"
   ]
  },
  {
   "cell_type": "code",
   "execution_count": 34,
   "id": "731eef52",
   "metadata": {},
   "outputs": [],
   "source": [
    "image_cluster['KmeansY'] = df[:,1]"
   ]
  },
  {
   "cell_type": "code",
   "execution_count": 35,
   "id": "21ef3f61",
   "metadata": {},
   "outputs": [
    {
     "data": {
      "text/plain": [
       "array([-20.5940962 ,  77.82070514])"
      ]
     },
     "execution_count": 35,
     "metadata": {},
     "output_type": "execute_result"
    }
   ],
   "source": [
    "centroids[1,]"
   ]
  },
  {
   "cell_type": "code",
   "execution_count": 36,
   "id": "a1178979",
   "metadata": {},
   "outputs": [],
   "source": [
    "margin = 3.65"
   ]
  },
  {
   "cell_type": "code",
   "execution_count": 37,
   "id": "3e78429e",
   "metadata": {
    "scrolled": true
   },
   "outputs": [
    {
     "data": {
      "text/html": [
       "<div>\n",
       "<style scoped>\n",
       "    .dataframe tbody tr th:only-of-type {\n",
       "        vertical-align: middle;\n",
       "    }\n",
       "\n",
       "    .dataframe tbody tr th {\n",
       "        vertical-align: top;\n",
       "    }\n",
       "\n",
       "    .dataframe thead th {\n",
       "        text-align: right;\n",
       "    }\n",
       "</style>\n",
       "<table border=\"1\" class=\"dataframe\">\n",
       "  <thead>\n",
       "    <tr style=\"text-align: right;\">\n",
       "      <th></th>\n",
       "      <th>image</th>\n",
       "      <th>clusterid</th>\n",
       "      <th>Morph</th>\n",
       "      <th>BinaryType</th>\n",
       "      <th>KmeansX</th>\n",
       "      <th>KmeansY</th>\n",
       "    </tr>\n",
       "  </thead>\n",
       "  <tbody>\n",
       "    <tr>\n",
       "      <th>44</th>\n",
       "      <td>KIC09953894_morp0.74.png</td>\n",
       "      <td>3</td>\n",
       "      <td>0.74</td>\n",
       "      <td>OverContact</td>\n",
       "      <td>-74.707599</td>\n",
       "      <td>-16.684830</td>\n",
       "    </tr>\n",
       "    <tr>\n",
       "      <th>614</th>\n",
       "      <td>KIC04570326_morp0.95.png</td>\n",
       "      <td>3</td>\n",
       "      <td>0.95</td>\n",
       "      <td>Ellipsoidal</td>\n",
       "      <td>-72.423826</td>\n",
       "      <td>-19.196214</td>\n",
       "    </tr>\n",
       "    <tr>\n",
       "      <th>652</th>\n",
       "      <td>KIC10711938_morp0.95.png</td>\n",
       "      <td>3</td>\n",
       "      <td>0.95</td>\n",
       "      <td>Ellipsoidal</td>\n",
       "      <td>-73.094962</td>\n",
       "      <td>-18.723867</td>\n",
       "    </tr>\n",
       "    <tr>\n",
       "      <th>665</th>\n",
       "      <td>KIC05369419_morp0.87.png</td>\n",
       "      <td>3</td>\n",
       "      <td>0.87</td>\n",
       "      <td>Ellipsoidal</td>\n",
       "      <td>-77.024436</td>\n",
       "      <td>-15.877522</td>\n",
       "    </tr>\n",
       "    <tr>\n",
       "      <th>719</th>\n",
       "      <td>KIC09237533_morp0.95.png</td>\n",
       "      <td>3</td>\n",
       "      <td>0.95</td>\n",
       "      <td>Ellipsoidal</td>\n",
       "      <td>-71.962670</td>\n",
       "      <td>-21.453399</td>\n",
       "    </tr>\n",
       "    <tr>\n",
       "      <th>1909</th>\n",
       "      <td>KIC05802834_morp0.88.png</td>\n",
       "      <td>3</td>\n",
       "      <td>0.88</td>\n",
       "      <td>Ellipsoidal</td>\n",
       "      <td>-74.841052</td>\n",
       "      <td>-21.680549</td>\n",
       "    </tr>\n",
       "    <tr>\n",
       "      <th>2227</th>\n",
       "      <td>KIC10863286_morp-1.0.png</td>\n",
       "      <td>3</td>\n",
       "      <td>-1.00</td>\n",
       "      <td>Detached</td>\n",
       "      <td>-73.746611</td>\n",
       "      <td>-16.209638</td>\n",
       "    </tr>\n",
       "    <tr>\n",
       "      <th>2459</th>\n",
       "      <td>KIC07506164_morp0.88.png</td>\n",
       "      <td>3</td>\n",
       "      <td>0.88</td>\n",
       "      <td>Ellipsoidal</td>\n",
       "      <td>-78.206454</td>\n",
       "      <td>-19.505714</td>\n",
       "    </tr>\n",
       "    <tr>\n",
       "      <th>2556</th>\n",
       "      <td>KIC08892722_morp0.89.png</td>\n",
       "      <td>3</td>\n",
       "      <td>0.89</td>\n",
       "      <td>Ellipsoidal</td>\n",
       "      <td>-77.504313</td>\n",
       "      <td>-16.851429</td>\n",
       "    </tr>\n",
       "    <tr>\n",
       "      <th>2609</th>\n",
       "      <td>KIC06507541_morp0.91.png</td>\n",
       "      <td>3</td>\n",
       "      <td>0.91</td>\n",
       "      <td>Ellipsoidal</td>\n",
       "      <td>-73.222916</td>\n",
       "      <td>-19.310268</td>\n",
       "    </tr>\n",
       "  </tbody>\n",
       "</table>\n",
       "</div>"
      ],
      "text/plain": [
       "                         image  clusterid  Morph   BinaryType    KmeansX  \\\n",
       "44    KIC09953894_morp0.74.png          3   0.74  OverContact -74.707599   \n",
       "614   KIC04570326_morp0.95.png          3   0.95  Ellipsoidal -72.423826   \n",
       "652   KIC10711938_morp0.95.png          3   0.95  Ellipsoidal -73.094962   \n",
       "665   KIC05369419_morp0.87.png          3   0.87  Ellipsoidal -77.024436   \n",
       "719   KIC09237533_morp0.95.png          3   0.95  Ellipsoidal -71.962670   \n",
       "1909  KIC05802834_morp0.88.png          3   0.88  Ellipsoidal -74.841052   \n",
       "2227  KIC10863286_morp-1.0.png          3  -1.00     Detached -73.746611   \n",
       "2459  KIC07506164_morp0.88.png          3   0.88  Ellipsoidal -78.206454   \n",
       "2556  KIC08892722_morp0.89.png          3   0.89  Ellipsoidal -77.504313   \n",
       "2609  KIC06507541_morp0.91.png          3   0.91  Ellipsoidal -73.222916   \n",
       "\n",
       "        KmeansY  \n",
       "44   -16.684830  \n",
       "614  -19.196214  \n",
       "652  -18.723867  \n",
       "665  -15.877522  \n",
       "719  -21.453399  \n",
       "1909 -21.680549  \n",
       "2227 -16.209638  \n",
       "2459 -19.505714  \n",
       "2556 -16.851429  \n",
       "2609 -19.310268  "
      ]
     },
     "execution_count": 37,
     "metadata": {},
     "output_type": "execute_result"
    }
   ],
   "source": [
    "image_cluster.loc[(image_cluster['KmeansX'] >= (centroids[3,0]-margin)) & (image_cluster['KmeansX'] <= (centroids[3,0]+margin)) & (image_cluster['KmeansY'] >= (centroids[3,1]-margin)) & (image_cluster['KmeansY'] <= (centroids[3,1]+margin))]"
   ]
  },
  {
   "cell_type": "code",
   "execution_count": 38,
   "id": "ae343eb8",
   "metadata": {},
   "outputs": [],
   "source": [
    "zeros = image_cluster.loc[image_cluster['clusterid'] == 0] # 0 kümesine ait olanlar\n",
    "ones = image_cluster.loc[image_cluster['clusterid'] == 1]\n",
    "twos = image_cluster.loc[image_cluster['clusterid'] == 2]\n",
    "threes = image_cluster.loc[image_cluster['clusterid'] == 3]"
   ]
  },
  {
   "cell_type": "code",
   "execution_count": 39,
   "id": "41cb61fd",
   "metadata": {},
   "outputs": [
    {
     "data": {
      "text/html": [
       "<div>\n",
       "<style scoped>\n",
       "    .dataframe tbody tr th:only-of-type {\n",
       "        vertical-align: middle;\n",
       "    }\n",
       "\n",
       "    .dataframe tbody tr th {\n",
       "        vertical-align: top;\n",
       "    }\n",
       "\n",
       "    .dataframe thead th {\n",
       "        text-align: right;\n",
       "    }\n",
       "</style>\n",
       "<table border=\"1\" class=\"dataframe\">\n",
       "  <thead>\n",
       "    <tr style=\"text-align: right;\">\n",
       "      <th></th>\n",
       "      <th>image</th>\n",
       "      <th>clusterid</th>\n",
       "      <th>Morph</th>\n",
       "      <th>BinaryType</th>\n",
       "      <th>KmeansX</th>\n",
       "      <th>KmeansY</th>\n",
       "    </tr>\n",
       "  </thead>\n",
       "  <tbody>\n",
       "    <tr>\n",
       "      <th>8</th>\n",
       "      <td>KIC05005618_morp-1.0.png</td>\n",
       "      <td>0</td>\n",
       "      <td>-1.00</td>\n",
       "      <td>Detached</td>\n",
       "      <td>70.515301</td>\n",
       "      <td>-37.727973</td>\n",
       "    </tr>\n",
       "    <tr>\n",
       "      <th>9</th>\n",
       "      <td>KIC07336754_morp0.16.png</td>\n",
       "      <td>0</td>\n",
       "      <td>0.16</td>\n",
       "      <td>Detached</td>\n",
       "      <td>63.059261</td>\n",
       "      <td>-51.704002</td>\n",
       "    </tr>\n",
       "    <tr>\n",
       "      <th>14</th>\n",
       "      <td>KIC04144236_morp0.03.png</td>\n",
       "      <td>0</td>\n",
       "      <td>0.03</td>\n",
       "      <td>Detached</td>\n",
       "      <td>68.495586</td>\n",
       "      <td>-60.402358</td>\n",
       "    </tr>\n",
       "    <tr>\n",
       "      <th>19</th>\n",
       "      <td>KIC08668810_morp0.01.png</td>\n",
       "      <td>0</td>\n",
       "      <td>0.01</td>\n",
       "      <td>Detached</td>\n",
       "      <td>86.817506</td>\n",
       "      <td>-46.135556</td>\n",
       "    </tr>\n",
       "    <tr>\n",
       "      <th>31</th>\n",
       "      <td>KIC04824268_morp0.03.png</td>\n",
       "      <td>0</td>\n",
       "      <td>0.03</td>\n",
       "      <td>Detached</td>\n",
       "      <td>74.179447</td>\n",
       "      <td>-52.598112</td>\n",
       "    </tr>\n",
       "    <tr>\n",
       "      <th>...</th>\n",
       "      <td>...</td>\n",
       "      <td>...</td>\n",
       "      <td>...</td>\n",
       "      <td>...</td>\n",
       "      <td>...</td>\n",
       "      <td>...</td>\n",
       "    </tr>\n",
       "    <tr>\n",
       "      <th>2727</th>\n",
       "      <td>KIC06191945_morp0.08.png</td>\n",
       "      <td>0</td>\n",
       "      <td>0.08</td>\n",
       "      <td>Detached</td>\n",
       "      <td>93.949049</td>\n",
       "      <td>-14.829023</td>\n",
       "    </tr>\n",
       "    <tr>\n",
       "      <th>2728</th>\n",
       "      <td>KIC04839180_morp0.22.png</td>\n",
       "      <td>0</td>\n",
       "      <td>0.22</td>\n",
       "      <td>Detached</td>\n",
       "      <td>41.048276</td>\n",
       "      <td>-49.240925</td>\n",
       "    </tr>\n",
       "    <tr>\n",
       "      <th>2729</th>\n",
       "      <td>KIC09246715_morp0.11.png</td>\n",
       "      <td>0</td>\n",
       "      <td>0.11</td>\n",
       "      <td>Detached</td>\n",
       "      <td>82.054371</td>\n",
       "      <td>-27.338218</td>\n",
       "    </tr>\n",
       "    <tr>\n",
       "      <th>2730</th>\n",
       "      <td>KIC09821078_morp0.95.png</td>\n",
       "      <td>0</td>\n",
       "      <td>0.95</td>\n",
       "      <td>Ellipsoidal</td>\n",
       "      <td>54.282526</td>\n",
       "      <td>-56.399824</td>\n",
       "    </tr>\n",
       "    <tr>\n",
       "      <th>2744</th>\n",
       "      <td>KIC06620003_morp0.2.png</td>\n",
       "      <td>0</td>\n",
       "      <td>0.20</td>\n",
       "      <td>Detached</td>\n",
       "      <td>64.084858</td>\n",
       "      <td>-14.580555</td>\n",
       "    </tr>\n",
       "  </tbody>\n",
       "</table>\n",
       "<p>794 rows × 6 columns</p>\n",
       "</div>"
      ],
      "text/plain": [
       "                         image  clusterid  Morph   BinaryType    KmeansX  \\\n",
       "8     KIC05005618_morp-1.0.png          0  -1.00     Detached  70.515301   \n",
       "9     KIC07336754_morp0.16.png          0   0.16     Detached  63.059261   \n",
       "14    KIC04144236_morp0.03.png          0   0.03     Detached  68.495586   \n",
       "19    KIC08668810_morp0.01.png          0   0.01     Detached  86.817506   \n",
       "31    KIC04824268_morp0.03.png          0   0.03     Detached  74.179447   \n",
       "...                        ...        ...    ...          ...        ...   \n",
       "2727  KIC06191945_morp0.08.png          0   0.08     Detached  93.949049   \n",
       "2728  KIC04839180_morp0.22.png          0   0.22     Detached  41.048276   \n",
       "2729  KIC09246715_morp0.11.png          0   0.11     Detached  82.054371   \n",
       "2730  KIC09821078_morp0.95.png          0   0.95  Ellipsoidal  54.282526   \n",
       "2744   KIC06620003_morp0.2.png          0   0.20     Detached  64.084858   \n",
       "\n",
       "        KmeansY  \n",
       "8    -37.727973  \n",
       "9    -51.704002  \n",
       "14   -60.402358  \n",
       "19   -46.135556  \n",
       "31   -52.598112  \n",
       "...         ...  \n",
       "2727 -14.829023  \n",
       "2728 -49.240925  \n",
       "2729 -27.338218  \n",
       "2730 -56.399824  \n",
       "2744 -14.580555  \n",
       "\n",
       "[794 rows x 6 columns]"
      ]
     },
     "execution_count": 39,
     "metadata": {},
     "output_type": "execute_result"
    }
   ],
   "source": [
    "zeros"
   ]
  },
  {
   "cell_type": "code",
   "execution_count": 40,
   "id": "95a04934",
   "metadata": {
    "scrolled": false
   },
   "outputs": [
    {
     "name": "stdout",
     "output_type": "stream",
     "text": [
      "791\n",
      "1\n",
      "0\n",
      "2\n"
     ]
    }
   ],
   "source": [
    "print(len(zeros.loc[zeros['BinaryType'] == 'Detached']))\n",
    "print(len(zeros.loc[zeros['BinaryType'] == 'SemiDetached']))\n",
    "print(len(zeros.loc[zeros['BinaryType'] == 'OverContact']))\n",
    "print(len(zeros.loc[zeros['BinaryType'] == 'Ellipsoidal']))\n",
    "# demekki 0 kümesi Detached"
   ]
  },
  {
   "cell_type": "code",
   "execution_count": 41,
   "id": "c12b7909",
   "metadata": {},
   "outputs": [
    {
     "name": "stdout",
     "output_type": "stream",
     "text": [
      "23\n",
      "363\n",
      "10\n",
      "3\n"
     ]
    }
   ],
   "source": [
    "print(len(ones.loc[ones['BinaryType'] == 'Detached']))\n",
    "print(len(ones.loc[ones['BinaryType'] == 'SemiDetached']))\n",
    "print(len(ones.loc[ones['BinaryType'] == 'OverContact']))\n",
    "print(len(ones.loc[ones['BinaryType'] == 'Ellipsoidal']))\n",
    "# 1 = SemiDetached"
   ]
  },
  {
   "cell_type": "code",
   "execution_count": 42,
   "id": "478dd81e",
   "metadata": {},
   "outputs": [
    {
     "name": "stdout",
     "output_type": "stream",
     "text": [
      "428\n",
      "139\n",
      "4\n",
      "1\n"
     ]
    }
   ],
   "source": [
    "print(len(twos.loc[twos['BinaryType'] == 'Detached']))\n",
    "print(len(twos.loc[twos['BinaryType'] == 'SemiDetached']))\n",
    "print(len(twos.loc[twos['BinaryType'] == 'OverContact']))\n",
    "print(len(twos.loc[twos['BinaryType'] == 'Ellipsoidal']))\n",
    "# 2 = OverContact??"
   ]
  },
  {
   "cell_type": "code",
   "execution_count": 43,
   "id": "088de374",
   "metadata": {},
   "outputs": [
    {
     "name": "stdout",
     "output_type": "stream",
     "text": [
      "96\n",
      "44\n",
      "256\n",
      "586\n"
     ]
    }
   ],
   "source": [
    "print(len(threes.loc[threes['BinaryType'] == 'Detached']))\n",
    "print(len(threes.loc[threes['BinaryType'] == 'SemiDetached']))\n",
    "print(len(threes.loc[threes['BinaryType'] == 'OverContact']))\n",
    "print(len(threes.loc[threes['BinaryType'] == 'Ellipsoidal']))\n",
    "# 3 = Ellipsoidal??"
   ]
  },
  {
   "cell_type": "code",
   "execution_count": 44,
   "id": "11cd751e",
   "metadata": {},
   "outputs": [],
   "source": [
    "image_cluster.to_csv(r'Kmeans.txt', header=True, index=True, sep='\\t', mode='w')"
   ]
  },
  {
   "cell_type": "code",
   "execution_count": null,
   "id": "752e3679",
   "metadata": {},
   "outputs": [],
   "source": []
  }
 ],
 "metadata": {
  "kernelspec": {
   "display_name": "Python 3 (ipykernel)",
   "language": "python",
   "name": "python3"
  },
  "language_info": {
   "codemirror_mode": {
    "name": "ipython",
    "version": 3
   },
   "file_extension": ".py",
   "mimetype": "text/x-python",
   "name": "python",
   "nbconvert_exporter": "python",
   "pygments_lexer": "ipython3",
   "version": "3.10.9"
  }
 },
 "nbformat": 4,
 "nbformat_minor": 5
}
